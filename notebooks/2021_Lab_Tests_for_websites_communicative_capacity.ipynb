{
  "nbformat": 4,
  "nbformat_minor": 0,
  "metadata": {
    "colab": {
      "name": "2021 - Lab - Tests for websites communicative capacity.ipynb",
      "provenance": [],
      "collapsed_sections": []
    },
    "kernelspec": {
      "display_name": "Python 3",
      "name": "python3"
    },
    "language_info": {
      "name": "python"
    }
  },
  "cells": [
    {
      "cell_type": "markdown",
      "source": [
        "**This notebook is a journal for different tests in the Teplitsa project CSRLab. The scripts in this notebooks were created clean the initial dataset and to collect the following data:**\n",
        "\n",
        "* **Robots.txt, sitemap check**\n",
        "* **Mobile friendliness test**\n",
        "* **Social networks on the index page**\n",
        "* **Looking up donation/help/bank account details on the index page**\n",
        "* **Looking up the SSL-certificate of the website**\n",
        "* **WCAG audit with `wcag-zoo`**"
      ],
      "metadata": {
        "id": "YU3SIk-kY_eW"
      }
    },
    {
      "cell_type": "code",
      "metadata": {
        "id": "7QFPJeDEj0zK"
      },
      "source": [
        "import requests, json, os \n",
        "from requests.exceptions import TooManyRedirects, ConnectionError, InvalidURL, ContentDecodingError, ReadTimeout, ChunkedEncodingError\n",
        "headers = {\"User-Agent\":\"Mozilla/5.0 (X11; Linux x86_64; rv:60.0) Gecko/20100101 Firefox/60.0\",\"Accept\":\"text/html,application/xhtml+xml,application/xml;q=0.9,*/*;q=0.8\"}\n",
        "\n",
        "from bs4 import BeautifulSoup\n",
        "\n",
        "import urllib3\n",
        "urllib3.disable_warnings(urllib3.exceptions.InsecureRequestWarning)\n",
        "\n",
        "def strip_url(url):\n",
        "  return url.replace('%20', '')"
      ],
      "execution_count": null,
      "outputs": []
    },
    {
      "cell_type": "code",
      "metadata": {
        "colab": {
          "base_uri": "https://localhost:8080/"
        },
        "id": "cg-ZxwCNujin",
        "outputId": "bef66210-e3a4-4c0e-8577-72ef1c7942c4"
      },
      "source": [
        "from google.colab import auth\n",
        "auth.authenticate_user()\n",
        "\n",
        "from google.colab import drive, files\n",
        "drive.mount('/content/drive')\n",
        "\n",
        "import pandas as pd\n",
        "\n",
        "file = '/content/drive/My Drive/gryadka/gryadka_v1.csv'"
      ],
      "execution_count": null,
      "outputs": [
        {
          "output_type": "stream",
          "name": "stdout",
          "text": [
            "Mounted at /content/drive\n"
          ]
        }
      ]
    },
    {
      "cell_type": "markdown",
      "metadata": {
        "id": "7wHeZygWODkI"
      },
      "source": [
        "# Correcting websites' urls\n",
        "\n",
        "`gryadka_v1.csv` - first version of the database of NGO's websites with NGO's names, unique identificators (`ogrn`), organisation forms, etc. Collected from [OpenNGO](https://openngo.ru/) database, [\"Если быть точным\" project](https://tochno.st/nko?check_params=is_verify#), [SPARK Interfax database](spark-interfax.ru), [Teplitsa data](https://te-st.ru/).\n",
        "\n",
        "Since `gryadka_v1.csv` contains lots of company and personal data (see below), it is not made public but can be available on demand."
      ]
    },
    {
      "cell_type": "code",
      "metadata": {
        "colab": {
          "base_uri": "https://localhost:8080/"
        },
        "id": "Zz94DXOKtbdy",
        "outputId": "b821800a-894f-4bac-f059-b7826c134f34"
      },
      "source": [
        "df = pd.read_csv(file)\n",
        "df.info()"
      ],
      "execution_count": null,
      "outputs": [
        {
          "name": "stdout",
          "output_type": "stream",
          "text": [
            "<class 'pandas.core.frame.DataFrame'>\n",
            "RangeIndex: 22569 entries, 0 to 22568\n",
            "Data columns (total 39 columns):\n",
            " #   Column              Non-Null Count  Dtype  \n",
            "---  ------              --------------  -----  \n",
            " 0   ogrn                22569 non-null  int64  \n",
            " 1   minjustRegNum       22266 non-null  object \n",
            " 2   regionName          22569 non-null  object \n",
            " 3   logo                0 non-null      float64\n",
            " 4   statusDetail        22551 non-null  object \n",
            " 5   fullName            22569 non-null  object \n",
            " 6   dateReg             6191 non-null   object \n",
            " 7   minjustForm         21670 non-null  object \n",
            " 8   charter             0 non-null      float64\n",
            " 9   minjustStatus       22311 non-null  object \n",
            " 10  opf                 22569 non-null  object \n",
            " 11  oktmo               22551 non-null  object \n",
            " 12  egrulStatus         22551 non-null  object \n",
            " 13  mainOkved           22566 non-null  object \n",
            " 14  regionCode          22551 non-null  float64\n",
            " 15  incomeTotal         22551 non-null  float64\n",
            " 16  email               7219 non-null   object \n",
            " 17  incomeDetail        22551 non-null  object \n",
            " 18  administrators      22551 non-null  object \n",
            " 19  inn                 22568 non-null  float64\n",
            " 20  okpo                21657 non-null  float64\n",
            " 21  originDate          22569 non-null  object \n",
            " 22  website             22569 non-null  object \n",
            " 23  dateLiquid          0 non-null      float64\n",
            " 24  address             22569 non-null  object \n",
            " 25  successors          22551 non-null  object \n",
            " 26  okogu               22551 non-null  object \n",
            " 27  kpp                 22550 non-null  float64\n",
            " 28  hasRegionalSupport  22551 non-null  object \n",
            " 29  addOkved            22551 non-null  object \n",
            " 30  okato               22551 non-null  object \n",
            " 31  okfs                22551 non-null  object \n",
            " 32  website_punycode    5042 non-null   object \n",
            " 33  shortName           20261 non-null  object \n",
            " 34  dateOgrn            22551 non-null  object \n",
            " 35  predecessors        22551 non-null  object \n",
            " 36  socialMedia         22551 non-null  object \n",
            " 37  reports             22551 non-null  object \n",
            " 38  phone               17414 non-null  object \n",
            "dtypes: float64(8), int64(1), object(30)\n",
            "memory usage: 6.7+ MB\n"
          ]
        },
        {
          "name": "stderr",
          "output_type": "stream",
          "text": [
            "/usr/local/lib/python3.7/dist-packages/IPython/core/interactiveshell.py:2718: DtypeWarning: Columns (1,28) have mixed types.Specify dtype option on import or set low_memory=False.\n",
            "  interactivity=interactivity, compiler=compiler, result=result)\n"
          ]
        }
      ]
    },
    {
      "cell_type": "code",
      "metadata": {
        "colab": {
          "base_uri": "https://localhost:8080/"
        },
        "id": "7goMY-uwtbhY",
        "outputId": "2c3bdd70-9f19-498b-fd2b-2dac57e38880"
      },
      "source": [
        "list(zip(df.ogrn.tolist(), df.website.tolist()))[:40]"
      ],
      "execution_count": null,
      "outputs": [
        {
          "data": {
            "text/plain": [
              "[(1207700237084, 'burningheart-charity.ru'),\n",
              " (1203400008460, 'nkosocium.ru'),\n",
              " (1203400005390, 'rck-vlg.ru, rtsk-vlg.ru'),\n",
              " (1207700444764, 'intellect-foundation.ru, фонд-интеллект.рф'),\n",
              " (1207700136852, 'sabf.ru'),\n",
              " (1207800101530, 'asp-rpo.ru, sro-rpo.ru'),\n",
              " (1206100024019, 'msprnd.ru'),\n",
              " (1207700234268, 'ano-consensus.ru'),\n",
              " (1207800033737, ' https://cardiomama-ano.ru/'),\n",
              " (1202600014990, 'specprofi26.ru'),\n",
              " (1202300041624, 'dorogisochi.ru'),\n",
              " (1207700228560, 'https://xn--90aiaudcsdq4i.xn--d1acj3b/'),\n",
              " (1207700220221, 'fondserdcarodiny.com'),\n",
              " (1203400007183, 'poelizdorovo.ru'),\n",
              " (1204700005971, 'рбоонадежда47регион.рф'),\n",
              " (1207400039703, 'fpscho.ru'),\n",
              " (1207700162713, 'securitymedia.ru'),\n",
              " (1207800044385, 'anornim.ru, rnim.ru'),\n",
              " (1200200004520, '0312gov.ru, atpprf.ru, nkoapo.ru'),\n",
              " (1201600046482, 'ecology-tatarstan.ru'),\n",
              " (1207700479106, 'sistema-university.ru'),\n",
              " (1206700011891, 'rosekzamen.ru'),\n",
              " (1206100022810, 'http://rak-pobedim.com'),\n",
              " (1205000052245, 'dvbfond.ru'),\n",
              " (1205000028287, 'mouc.ru, адвокат-юрист-красногорск.рф'),\n",
              " (1204900001646, 'professional49.ru'),\n",
              " (1207400023522, 'гордость-урала.рф'),\n",
              " (1203700011459, 'mfc-gosuslugi.ru'),\n",
              " (1205000028254, 'boicoslov.ru'),\n",
              " (1206800000868, 'союз-тамбов.рф'),\n",
              " (1207800041745, 'vbdavangard.ru'),\n",
              " (1205000028265, 'stalexandrachurch.ru'),\n",
              " (1205000028298, 'nf2217.ru'),\n",
              " (1202400007303, 'http://svobodanko.ru'),\n",
              " (1207700120594, 'animalsupport.ru, mypetsvillage.ru'),\n",
              " (1202300000242, ' http://юид-кубань.рф'),\n",
              " (1206400007032, 'nko-pazvitiye.ru'),\n",
              " (1207200000149, 'polzamarket.ru'),\n",
              " (1207200003361, 'romanvollert.ru, добрубыть.рф, романволлерт.рф'),\n",
              " (1202200000606, 'https://nko-new.ru')]"
            ]
          },
          "execution_count": 4,
          "metadata": {},
          "output_type": "execute_result"
        }
      ]
    },
    {
      "cell_type": "markdown",
      "metadata": {
        "id": "PJ8evs5CPpB6"
      },
      "source": [
        "Websites are presented in different forms, some cases of multiple websites per index. \n",
        "\n",
        "Also there're examples of third-party website pages. Examples:\n",
        "- https://dobro.ru/organizations/1565552/info\n",
        "- http://admtmo.ru/sfery-deyatelnosti/malyy-biznes/obshchestvennye-organizatsii/topkinskoe-gorodskoe-otdelenie-vserossiyskoy-obshchestvennoy-organizatsii-veteranov-pensionerov-voyn/\n",
        "- http://sonko.samregion.ru/node/49\n",
        "\n",
        "These are expluded from the analysis."
      ]
    },
    {
      "cell_type": "code",
      "metadata": {
        "id": "1XfGsy6gPop9"
      },
      "source": [
        "def check_http(website):\n",
        "  if 'http' in website:\n",
        "    return website.strip() # some urls have spaces in them\n",
        "  else:\n",
        "    return 'http://%s' % website.strip() # requests lib will be used later, if website uses 'https' protocol, will redirect\n",
        "\n",
        "def check_multiple(website):\n",
        "  if ',' in website:\n",
        "    urls = website.split(',')\n",
        "    return [check_http(u) for u in urls]\n",
        "  else:\n",
        "    return [check_http(website)]\n",
        "\n",
        "def third_party_page(website):\n",
        "  if len(website.split('//')) > 1:\n",
        "    if len(website.split('//')[1].split('/')) > 1: # has subpages\n",
        "      return False\n",
        "    else:\n",
        "      return True\n",
        "  else:\n",
        "    return True"
      ],
      "execution_count": null,
      "outputs": []
    },
    {
      "cell_type": "markdown",
      "metadata": {
        "id": "swdHwhbpUDwz"
      },
      "source": [
        "Collecting corrected websites df"
      ]
    },
    {
      "cell_type": "code",
      "metadata": {
        "id": "huMVTa1VPmtp"
      },
      "source": [
        "websites = []\n",
        "for ogrn, website in list(zip(df.ogrn.tolist(), df.website.tolist())):\n",
        "  if third_party_page(website):\n",
        "    urls = check_multiple(website)\n",
        "    for u in urls:\n",
        "      websites.append({'ogrn' : ogrn, 'website' : u})"
      ],
      "execution_count": null,
      "outputs": []
    },
    {
      "cell_type": "markdown",
      "metadata": {
        "id": "BIxhh3l4Uy1Y"
      },
      "source": [
        "Total number of correct website addresses:"
      ]
    },
    {
      "cell_type": "code",
      "metadata": {
        "colab": {
          "base_uri": "https://localhost:8080/"
        },
        "id": "wxyJt6BsPm5w",
        "outputId": "2b915d6d-e5c7-49e1-c3bd-b4e585e071b4"
      },
      "source": [
        "len(websites) "
      ],
      "execution_count": null,
      "outputs": [
        {
          "data": {
            "text/plain": [
              "22298"
            ]
          },
          "execution_count": 8,
          "metadata": {},
          "output_type": "execute_result"
        }
      ]
    },
    {
      "cell_type": "code",
      "metadata": {
        "colab": {
          "base_uri": "https://localhost:8080/"
        },
        "id": "HF-4ET_XTC_k",
        "outputId": "d89f0aa6-a7ce-49ba-aebc-ada1865a0e85"
      },
      "source": [
        "websites[:10]"
      ],
      "execution_count": null,
      "outputs": [
        {
          "data": {
            "text/plain": [
              "[{'ogrn': 1207700237084, 'website': 'http://burningheart-charity.ru'},\n",
              " {'ogrn': 1203400008460, 'website': 'http://nkosocium.ru'},\n",
              " {'ogrn': 1203400005390, 'website': 'http://rck-vlg.ru'},\n",
              " {'ogrn': 1203400005390, 'website': 'http://rtsk-vlg.ru'},\n",
              " {'ogrn': 1207700444764, 'website': 'http://intellect-foundation.ru'},\n",
              " {'ogrn': 1207700444764, 'website': 'http://фонд-интеллект.рф'},\n",
              " {'ogrn': 1207700136852, 'website': 'http://sabf.ru'},\n",
              " {'ogrn': 1207800101530, 'website': 'http://asp-rpo.ru'},\n",
              " {'ogrn': 1207800101530, 'website': 'http://sro-rpo.ru'},\n",
              " {'ogrn': 1206100024019, 'website': 'http://msprnd.ru'}]"
            ]
          },
          "execution_count": 9,
          "metadata": {},
          "output_type": "execute_result"
        }
      ]
    },
    {
      "cell_type": "markdown",
      "metadata": {
        "id": "8SlNYjwYWL4k"
      },
      "source": [
        "Checking whether website still exists (takes long time):\n",
        "\n",
        "**addition 1:**\n",
        "\n",
        "`UnicodeError` raised with `http://moo-spzh.ru` - it redirects to `союзправославныхженщин.рф`. Not obvious why exception is raised. Added to exception log for such errors.\n",
        "\n",
        "**addition 2:**\n",
        "\n",
        "`ContentDecodingError` raised while testing - added to exceptions\n",
        "\n",
        "`{'ogrn': 1191513000568, 'website': 'http://komsomolosetii.ru'}`\n",
        "\n",
        "`{'ogrn': 1191513000568, 'website': 'http://nasledie-osetii.ru'}`\n",
        "\n",
        "`{'ogrn': 1037739764094, 'website': 'http://www.rfcda.ru'}`\n",
        "\n",
        "`{'ogrn': 1025700787210, 'website': 'http://hospisorel.ru'}`\n",
        "\n",
        "`{'ogrn': 1155200002011, 'website': 'http://vektor-kstovo.ru'}`\n",
        "\n",
        "`{'ogrn': 1167700060990, 'website': 'http://www.kursydipacademy.ru'}`\n",
        "\n",
        "**addition 3:**\n",
        "\n",
        "`http://www.vog.su` processed very long. `timeout = 10` parameter added to timeout after 10 seconds so the loop doesn't get stuck, `ReadTimeout` exception."
      ]
    },
    {
      "cell_type": "code",
      "metadata": {
        "colab": {
          "base_uri": "https://localhost:8080/"
        },
        "id": "zrCX6yw5TDCJ",
        "outputId": "791b537b-58c5-4124-a522-9fda2fb4ca94"
      },
      "source": [
        "websites_checked, unicode_error_log = [], []\n",
        "\n",
        "for i, u in enumerate(websites):\n",
        "  try:\n",
        "    if requests.get(u['website'], verify = False, timeout = 10).status_code == 200:\n",
        "      u['i'] = i  # for log purposes\n",
        "      websites_checked.append(u)\n",
        "  except (ConnectionError, InvalidURL, TooManyRedirects, ReadTimeout):\n",
        "    pass\n",
        "  except ContentDecodingError:\n",
        "    print(u)\n",
        "  except UnicodeError:\n",
        "    unicode_error_log.append(u)"
      ],
      "execution_count": null,
      "outputs": [
        {
          "name": "stdout",
          "output_type": "stream",
          "text": [
            "{'ogrn': 1025700787210, 'website': 'http://hospisorel.ru'}\n",
            "{'ogrn': 1155200002011, 'website': 'http://vektor-kstovo.ru'}\n",
            "{'ogrn': 1167700060990, 'website': 'http://www.kursydipacademy.ru'}\n"
          ]
        }
      ]
    },
    {
      "cell_type": "markdown",
      "metadata": {
        "id": "UYeTfy8qTd-i"
      },
      "source": [
        "Saving results"
      ]
    },
    {
      "cell_type": "code",
      "metadata": {
        "id": "5dPebI7eRvKT"
      },
      "source": [
        "pd.DataFrame(websites_checked)[['ogrn', 'website']].to_csv('websites_checked.csv', index = False)\n",
        "!cp websites_checked.csv \"/content/drive/My Drive/gryadka/\""
      ],
      "execution_count": null,
      "outputs": []
    },
    {
      "cell_type": "markdown",
      "metadata": {
        "id": "8QCiy9dIThFI"
      },
      "source": [
        "Reading from file"
      ]
    },
    {
      "cell_type": "code",
      "metadata": {
        "colab": {
          "base_uri": "https://localhost:8080/"
        },
        "id": "IdXLH4jhTc6D",
        "outputId": "e4ef54c3-ca52-4cff-9d1c-05f6e2d81f5c"
      },
      "source": [
        "websites_checked_df = pd.read_csv(\"/content/drive/My Drive/gryadka/websites_checked.csv\")\n",
        "websites_checked_df.info()"
      ],
      "execution_count": null,
      "outputs": [
        {
          "output_type": "stream",
          "name": "stdout",
          "text": [
            "<class 'pandas.core.frame.DataFrame'>\n",
            "RangeIndex: 16494 entries, 0 to 16493\n",
            "Data columns (total 2 columns):\n",
            " #   Column   Non-Null Count  Dtype \n",
            "---  ------   --------------  ----- \n",
            " 0   ogrn     16494 non-null  int64 \n",
            " 1   website  16494 non-null  object\n",
            "dtypes: int64(1), object(1)\n",
            "memory usage: 257.8+ KB\n"
          ]
        }
      ]
    },
    {
      "cell_type": "markdown",
      "source": [
        "Last version"
      ],
      "metadata": {
        "id": "LAD12djzuNjq"
      }
    },
    {
      "cell_type": "code",
      "source": [
        "websites_checked_df = pd.read_csv(\"/content/drive/My Drive/gryadka/2021_lab_websites_checked_v3.csv\")\n",
        "websites_checked_df.info()"
      ],
      "metadata": {
        "colab": {
          "base_uri": "https://localhost:8080/"
        },
        "id": "79K7lA-BuMNe",
        "outputId": "7723ad7d-cea4-4564-eaad-484212870520"
      },
      "execution_count": null,
      "outputs": [
        {
          "output_type": "stream",
          "name": "stdout",
          "text": [
            "<class 'pandas.core.frame.DataFrame'>\n",
            "RangeIndex: 15386 entries, 0 to 15385\n",
            "Data columns (total 2 columns):\n",
            " #   Column   Non-Null Count  Dtype \n",
            "---  ------   --------------  ----- \n",
            " 0   ogrn     15386 non-null  int64 \n",
            " 1   website  15386 non-null  object\n",
            "dtypes: int64(1), object(1)\n",
            "memory usage: 240.5+ KB\n"
          ]
        }
      ]
    },
    {
      "cell_type": "code",
      "source": [
        ""
      ],
      "metadata": {
        "id": "UmcQyWyNuMQ5"
      },
      "execution_count": null,
      "outputs": []
    },
    {
      "cell_type": "markdown",
      "metadata": {
        "id": "AqYmd3o0UJCD"
      },
      "source": [
        "Check how many left from the inicial set"
      ]
    },
    {
      "cell_type": "code",
      "metadata": {
        "colab": {
          "base_uri": "https://localhost:8080/"
        },
        "id": "HA2CJR4QTDE2",
        "outputId": "6392c3d1-6c2b-4e30-e1db-3a13ce8425be"
      },
      "source": [
        "len(websites_checked_df) / len(websites)"
      ],
      "execution_count": null,
      "outputs": [
        {
          "data": {
            "text/plain": [
              "0.7397075970939098"
            ]
          },
          "execution_count": 34,
          "metadata": {},
          "output_type": "execute_result"
        }
      ]
    },
    {
      "cell_type": "markdown",
      "metadata": {
        "id": "rRtEmTwlVTix"
      },
      "source": [
        "Select 10 random websites from list for tests"
      ]
    },
    {
      "cell_type": "code",
      "metadata": {
        "id": "VRZI18vWU4NC"
      },
      "source": [
        "from random import randrange\n",
        "websites_random = []\n",
        "\n",
        "for i in range(10):\n",
        "  websites_random.append(websites_checked_df.website.tolist()[randrange(len(websites_checked_df))])"
      ],
      "execution_count": null,
      "outputs": []
    },
    {
      "cell_type": "code",
      "metadata": {
        "colab": {
          "base_uri": "https://localhost:8080/"
        },
        "id": "30zi_-mTqOVl",
        "outputId": "5abd2f14-f8fa-4565-ad44-72239e056f94"
      },
      "source": [
        "websites_random"
      ],
      "execution_count": null,
      "outputs": [
        {
          "output_type": "execute_result",
          "data": {
            "text/plain": [
              "['http://avto-viraj.ru',\n",
              " 'http://казанский-собор.рф',\n",
              " 'http://ruszhuravka.ru',\n",
              " 'http://trinity-averkievo.ru',\n",
              " 'http://radchenko-ballet.com',\n",
              " 'http://redcross-mosuvao.ru',\n",
              " 'http://oppo-rnt.ru',\n",
              " 'http://redcross.tomsk.ru',\n",
              " 'http://hrhi.ru',\n",
              " 'http://fondbezgranits.ru']"
            ]
          },
          "metadata": {},
          "execution_count": 59
        }
      ]
    },
    {
      "cell_type": "markdown",
      "metadata": {
        "id": "346LlyOMBc00"
      },
      "source": [
        "# Robots.txt, sitemap check\n",
        "\n",
        "FAQ on [sitemap.org](https://www.sitemaps.org/faq.html#faq_compression)\n",
        "\n",
        "For more details on the structure of `robots.txt` files, see http://www.robotstxt.org/orig.html.\n",
        "\n",
        "`reppy` for parsing robots.txt file https://github.com/seomoz/reppy"
      ]
    },
    {
      "cell_type": "code",
      "metadata": {
        "colab": {
          "base_uri": "https://localhost:8080/"
        },
        "id": "Sjg--t-Bou00",
        "outputId": "ef247ce6-f1a1-41a5-db13-3943501a0714"
      },
      "source": [
        "! pip install reppy\n",
        "\n",
        "from reppy.robots import Robots\n",
        "from reppy.exceptions import BadStatusCode, ExcessiveRedirects, ConnectionException"
      ],
      "execution_count": null,
      "outputs": [
        {
          "name": "stdout",
          "output_type": "stream",
          "text": [
            "Collecting reppy\n",
            "  Downloading reppy-0.4.14.tar.gz (93 kB)\n",
            "\u001b[?25l\r\u001b[K     |███▌                            | 10 kB 27.0 MB/s eta 0:00:01\r\u001b[K     |███████                         | 20 kB 24.1 MB/s eta 0:00:01\r\u001b[K     |██████████▌                     | 30 kB 11.3 MB/s eta 0:00:01\r\u001b[K     |██████████████                  | 40 kB 9.0 MB/s eta 0:00:01\r\u001b[K     |█████████████████▌              | 51 kB 5.2 MB/s eta 0:00:01\r\u001b[K     |█████████████████████           | 61 kB 5.7 MB/s eta 0:00:01\r\u001b[K     |████████████████████████▌       | 71 kB 5.5 MB/s eta 0:00:01\r\u001b[K     |████████████████████████████    | 81 kB 6.1 MB/s eta 0:00:01\r\u001b[K     |███████████████████████████████▌| 92 kB 4.7 MB/s eta 0:00:01\r\u001b[K     |████████████████████████████████| 93 kB 1.4 MB/s \n",
            "\u001b[?25hRequirement already satisfied: cachetools in /usr/local/lib/python3.7/dist-packages (from reppy) (4.2.4)\n",
            "Requirement already satisfied: python-dateutil!=2.0,>=1.5 in /usr/local/lib/python3.7/dist-packages (from reppy) (2.8.2)\n",
            "Requirement already satisfied: requests in /usr/local/lib/python3.7/dist-packages (from reppy) (2.23.0)\n",
            "Requirement already satisfied: six in /usr/local/lib/python3.7/dist-packages (from reppy) (1.15.0)\n",
            "Requirement already satisfied: chardet<4,>=3.0.2 in /usr/local/lib/python3.7/dist-packages (from requests->reppy) (3.0.4)\n",
            "Requirement already satisfied: urllib3!=1.25.0,!=1.25.1,<1.26,>=1.21.1 in /usr/local/lib/python3.7/dist-packages (from requests->reppy) (1.24.3)\n",
            "Requirement already satisfied: certifi>=2017.4.17 in /usr/local/lib/python3.7/dist-packages (from requests->reppy) (2021.10.8)\n",
            "Requirement already satisfied: idna<3,>=2.5 in /usr/local/lib/python3.7/dist-packages (from requests->reppy) (2.10)\n",
            "Building wheels for collected packages: reppy\n",
            "  Building wheel for reppy (setup.py) ... \u001b[?25l\u001b[?25hdone\n",
            "  Created wheel for reppy: filename=reppy-0.4.14-cp37-cp37m-linux_x86_64.whl size=794710 sha256=561f315edd2b0ae865b459422053f8e58027cc69c1233321ed95a55f8baa864b\n",
            "  Stored in directory: /root/.cache/pip/wheels/fc/ff/64/a2cedf046d5076cee64304c468b53c1b9c56ce09e7df797f8a\n",
            "Successfully built reppy\n",
            "Installing collected packages: reppy\n",
            "Successfully installed reppy-0.4.14\n"
          ]
        }
      ]
    },
    {
      "cell_type": "code",
      "metadata": {
        "id": "a9sk8_77kdig"
      },
      "source": [
        "sitemap_files = ['sitemap.xml', 'sitemap.xml.gz', 'sitemap', 'xmlsitemap', \n",
        "                 'sitemap_index.xml', 'sitemap_index.xml.gz', '.sitemap.xml', 'sitemap-index.xml',\n",
        "                 'sitemap-index.xml.gz', 'sitemap/sitemap-index.xml'] # possible names of the sitemap page\n",
        "\n",
        "def check_status_code(url):\n",
        "  if requests.get(url, verify = False, headers = headers).status_code > 200:\n",
        "    return False\n",
        "  else:\n",
        "    return True\n",
        "\n",
        "def sitemap_in_robots(website):\n",
        "  robots = Robots.fetch('%s/robots.txt' % website, verify = False, headers = headers)\n",
        "  return robots.sitemaps\n",
        "\n",
        "def collect_bots(website):\n",
        "  robots_txt = check_status_code('%s/robots.txt' % website)\n",
        "  if robots_txt: # checking sitemap path in robots.txt\n",
        "    if len(sitemap_in_robots(website)) > 0:\n",
        "      sitemap = True\n",
        "      is_sitemap_in_robots = True\n",
        "      return {'url': website, 'robots_txt': robots_txt, 'sitemap_page': sitemap, 'is_sitemap_in_robots' : is_sitemap_in_robots}\n",
        "    else:\n",
        "      sitemap = False\n",
        "      is_sitemap_in_robots = False\n",
        "  else:\n",
        "    robots_txt = False\n",
        "    sitemap = False\n",
        "    is_sitemap_in_robots = False\n",
        "  # trying to find sitemap file not in robots.txt\n",
        "  for i in sitemap_files:\n",
        "    try:\n",
        "      if check_status_code('%s/%s' % (website, i)):\n",
        "        sitemap = True\n",
        "    except TooManyRedirects:\n",
        "      pass\n",
        "  return {'url': website, 'robots_txt': robots_txt, 'sitemap_page': sitemap, 'is_sitemap_in_robots' : is_sitemap_in_robots}"
      ],
      "execution_count": null,
      "outputs": []
    },
    {
      "cell_type": "code",
      "metadata": {
        "colab": {
          "base_uri": "https://localhost:8080/"
        },
        "id": "RxwSNZ9qBj_F",
        "outputId": "d34cb761-a6cd-4a50-b6f5-d1d6709bc793"
      },
      "source": [
        "collect_bots(websites_random[5]['website'])"
      ],
      "execution_count": null,
      "outputs": [
        {
          "data": {
            "text/plain": [
              "{'is_sitemap_in_robots': False,\n",
              " 'robots_txt': True,\n",
              " 'sitemap_page': True,\n",
              " 'url': 'http://rejdu.ru'}"
            ]
          },
          "execution_count": 46,
          "metadata": {},
          "output_type": "execute_result"
        }
      ]
    },
    {
      "cell_type": "code",
      "source": [
        "os.listdir(\"/content/drive/My Drive/gryadka/\")"
      ],
      "metadata": {
        "colab": {
          "base_uri": "https://localhost:8080/"
        },
        "id": "psAxy5qDsrv8",
        "outputId": "d6157d21-e93b-4238-daa7-1fc1e3dee1e8"
      },
      "execution_count": null,
      "outputs": [
        {
          "output_type": "execute_result",
          "data": {
            "text/plain": [
              "['gryadka_v1.csv',\n",
              " 'websites_checked.csv',\n",
              " 'mobile_friendly_1.json',\n",
              " 'mobile_friendly_log.json',\n",
              " 'social_1.csv',\n",
              " 'social_log_1.json',\n",
              " 'social_1.gsheet',\n",
              " '2021_lab_websites_checked_v2.csv',\n",
              " '2021_lab_websites_checked_error_log.csv',\n",
              " '2021_lab_websites_checked_v3.csv',\n",
              " 'robots',\n",
              " '2021_lab_sitemap_robots_txt_check.csv']"
            ]
          },
          "metadata": {},
          "execution_count": 25
        }
      ]
    },
    {
      "cell_type": "code",
      "source": [
        "frames_df = []\n",
        "for f in ['collect_bots.csv', 'collect_bots_3.csv', 'collect_bots_2.csv', 'collect_bots_3_2.csv',\n",
        "          'collect_bots_3_3.csv', 'collect_bots_3_4.csv']:\n",
        "          frames_df.append(pd.read_csv(\"/content/drive/My Drive/gryadka/\"+f))"
      ],
      "metadata": {
        "id": "yBi-BDtrtbWZ"
      },
      "execution_count": null,
      "outputs": []
    },
    {
      "cell_type": "code",
      "source": [
        "bots = pd.concat(frames_df)\n",
        "bots.columns = ['website', 'robots_txt',\t'sitemap_page',\t'is_sitemap_in_robots']\n",
        "bots.info()"
      ],
      "metadata": {
        "colab": {
          "base_uri": "https://localhost:8080/"
        },
        "id": "ugWccVEFtbZh",
        "outputId": "d5d1c2c1-38a1-4695-ffdf-6f1647a957fe"
      },
      "execution_count": null,
      "outputs": [
        {
          "output_type": "stream",
          "name": "stdout",
          "text": [
            "<class 'pandas.core.frame.DataFrame'>\n",
            "Int64Index: 20650 entries, 0 to 2317\n",
            "Data columns (total 4 columns):\n",
            " #   Column                Non-Null Count  Dtype \n",
            "---  ------                --------------  ----- \n",
            " 0   website               20650 non-null  object\n",
            " 1   robots_txt            20650 non-null  bool  \n",
            " 2   sitemap_page          20650 non-null  bool  \n",
            " 3   is_sitemap_in_robots  20650 non-null  bool  \n",
            "dtypes: bool(3), object(1)\n",
            "memory usage: 383.2+ KB\n"
          ]
        }
      ]
    },
    {
      "cell_type": "code",
      "source": [
        "bots.merge(websites_checked_df, on = 'website').drop_duplicates(subset = ['website']).to_csv(\"/content/drive/My Drive/gryadka/\" + '2021_lab_sitemap_robots_txt_check.csv', index = False)"
      ],
      "metadata": {
        "id": "-NReZRGkt9pF"
      },
      "execution_count": null,
      "outputs": []
    },
    {
      "cell_type": "code",
      "source": [
        "bots.merge(websites_checked_df, on = 'website').drop_duplicates(subset = ['website']).info()"
      ],
      "metadata": {
        "colab": {
          "base_uri": "https://localhost:8080/"
        },
        "id": "6KCnHGjPt9sZ",
        "outputId": "a7a5e1bb-4089-4de5-e7ce-5cf44857966f"
      },
      "execution_count": null,
      "outputs": [
        {
          "output_type": "stream",
          "name": "stdout",
          "text": [
            "<class 'pandas.core.frame.DataFrame'>\n",
            "Int64Index: 14953 entries, 0 to 18956\n",
            "Data columns (total 5 columns):\n",
            " #   Column                Non-Null Count  Dtype \n",
            "---  ------                --------------  ----- \n",
            " 0   website               14953 non-null  object\n",
            " 1   robots_txt            14953 non-null  bool  \n",
            " 2   sitemap_page          14953 non-null  bool  \n",
            " 3   is_sitemap_in_robots  14953 non-null  bool  \n",
            " 4   ogrn                  14953 non-null  int64 \n",
            "dtypes: bool(3), int64(1), object(1)\n",
            "memory usage: 394.3+ KB\n"
          ]
        }
      ]
    },
    {
      "cell_type": "code",
      "source": [
        "soc = pd.concat([pd.read_csv(\"/content/drive/My Drive/gryadka/\" + 'social_1.csv'), pd.read_csv(\"/content/drive/My Drive/gryadka/\" + 'social_2.csv')]).drop_duplicates(subset= 'url')\n",
        "soc.columns = ['website', 'fb', 'vk', 'ig', 'ok', 'youtube', 'tiktok']\n",
        "soc.info()"
      ],
      "metadata": {
        "colab": {
          "base_uri": "https://localhost:8080/"
        },
        "id": "m03AfM5ZxePs",
        "outputId": "c2e17bc3-4b15-4a13-ffdf-d1f9b572d8a9"
      },
      "execution_count": null,
      "outputs": [
        {
          "output_type": "stream",
          "name": "stdout",
          "text": [
            "<class 'pandas.core.frame.DataFrame'>\n",
            "Int64Index: 6000 entries, 0 to 2409\n",
            "Data columns (total 7 columns):\n",
            " #   Column   Non-Null Count  Dtype \n",
            "---  ------   --------------  ----- \n",
            " 0   website  6000 non-null   object\n",
            " 1   fb       1649 non-null   object\n",
            " 2   vk       2108 non-null   object\n",
            " 3   ig       1667 non-null   object\n",
            " 4   ok       499 non-null    object\n",
            " 5   youtube  756 non-null    object\n",
            " 6   tiktok   30 non-null     object\n",
            "dtypes: object(7)\n",
            "memory usage: 375.0+ KB\n"
          ]
        }
      ]
    },
    {
      "cell_type": "code",
      "source": [
        "soc.merge(websites_checked_df, on = 'website').drop_duplicates(subset = ['website']).to_csv(\"/content/drive/My Drive/gryadka/\" + '2021_lab_social_networks_check.csv', index = False)"
      ],
      "metadata": {
        "id": "Dfq2LDyUxeTH"
      },
      "execution_count": null,
      "outputs": []
    },
    {
      "cell_type": "code",
      "source": [
        "def select(js_line):\n",
        "  return {k: v for k, v in js_line.items() if k in ['mobileFriendliness', 'website']}\n",
        "\n",
        "frames = []\n",
        "with open(\"/content/drive/My Drive/gryadka/\"+'mobile_friendly_1.json') as f:\n",
        "    data = json.load(f)\n",
        "for l in data:\n",
        "  frames.append(select(l))\n",
        "\n",
        "with open(\"/content/drive/My Drive/gryadka/\"+'mobile_friendly.json') as f:\n",
        "    data = json.load(f)\n",
        "for l in data:\n",
        "  frames.append(select(l))"
      ],
      "metadata": {
        "id": "cto1dmv1xeVx"
      },
      "execution_count": null,
      "outputs": []
    },
    {
      "cell_type": "code",
      "source": [
        "pd.DataFrame(frames).drop_duplicates(subset = ['website']).merge(websites_checked_df, on = 'website').to_csv(\"/content/drive/My Drive/gryadka/\" + '2021_lab_mobile_friendliness_check.csv', \n",
        "                                                                                                             index = False)"
      ],
      "metadata": {
        "id": "bbFSMsKtxeYC"
      },
      "execution_count": null,
      "outputs": []
    },
    {
      "cell_type": "code",
      "source": [
        "don = pd.read_csv(\"/content/drive/My Drive/gryadka/\"+'donations.csv')\n",
        "don.columns = ['website', 'account',\t'donation',\t'help_page']\n",
        "don.drop_duplicates(subset=['website']).merge(websites_checked_df, on = 'website').to_csv(\"/content/drive/My Drive/gryadka/\" + '2021_lab_donations_check.csv', \n",
        "                                                                                                             index = False)"
      ],
      "metadata": {
        "id": "G_9ZQw310Jnv"
      },
      "execution_count": null,
      "outputs": []
    },
    {
      "cell_type": "markdown",
      "metadata": {
        "id": "i-ZAuU2tN-yd"
      },
      "source": [
        "**Collecting data**\n",
        "\n",
        "**add 1**: `ConnectionError: ('Connection aborted.'` for `http://bashterra.ru`. Exception added to log\n",
        "\n",
        "**add 2**: `BadStatusCode: ('Got 502 for http://prtk.ru/robots.txt', 502)`. Exception added to log, import from `reppy`\n",
        "\n",
        "**add 3**: `ExcessiveRedirects: Exceeded 30 redirects.` Exception added to log, import from `reppy`\n",
        "\n",
        "**add 4**: `ConnectionException.` Exception added to log, import from `reppy`"
      ]
    },
    {
      "cell_type": "code",
      "metadata": {
        "colab": {
          "background_save": true
        },
        "id": "2rR2p1MdC6ZT"
      },
      "source": [
        "#frames, log = [], []\n",
        "\n",
        "for u in websites_checked_df.website.tolist()[10000 +759+74+ 3200 + 99+13 +499  :]:\n",
        "    if len(frames) > 50:\n",
        "        pd.DataFrame(frames).to_csv('collect_bots_3_4.csv', index = False)\n",
        "        !cp collect_bots_3_4.csv \"/content/drive/My Drive/gryadka/\"\n",
        "        with open(\"/content/drive/My Drive/gryadka/robots_log_3_4.json\", 'w') as f:\n",
        "            json.dump({'log': log}, f)\n",
        "    try:\n",
        "        frames.append(collect_bots(u))\n",
        "    except (ConnectionError, UnicodeError, TooManyRedirects, BadStatusCode, ExcessiveRedirects, ConnectionException, ReadTimeout, ChunkedEncodingError):\n",
        "        log.append(u)"
      ],
      "execution_count": null,
      "outputs": []
    },
    {
      "cell_type": "code",
      "metadata": {
        "id": "yld8b0lM2Az8"
      },
      "source": [
        "pd.DataFrame(frames).to_csv('collect_bots_4.csv', index = False)\n",
        "!cp collect_bots_4.csv \"/content/drive/My Drive/gryadka/\""
      ],
      "execution_count": null,
      "outputs": []
    },
    {
      "cell_type": "code",
      "metadata": {
        "colab": {
          "base_uri": "https://localhost:8080/",
          "height": 419
        },
        "id": "VWeUwvO9DIIy",
        "outputId": "1aa1d422-541a-4245-c528-79538743fd2c"
      },
      "source": [
        "pd.read_csv('/content/drive/My Drive/gryadka/collect_bots_3_3.csv')"
      ],
      "execution_count": null,
      "outputs": [
        {
          "data": {
            "text/html": [
              "<div>\n",
              "<style scoped>\n",
              "    .dataframe tbody tr th:only-of-type {\n",
              "        vertical-align: middle;\n",
              "    }\n",
              "\n",
              "    .dataframe tbody tr th {\n",
              "        vertical-align: top;\n",
              "    }\n",
              "\n",
              "    .dataframe thead th {\n",
              "        text-align: right;\n",
              "    }\n",
              "</style>\n",
              "<table border=\"1\" class=\"dataframe\">\n",
              "  <thead>\n",
              "    <tr style=\"text-align: right;\">\n",
              "      <th></th>\n",
              "      <th>url</th>\n",
              "      <th>robots_txt</th>\n",
              "      <th>sitemap_page</th>\n",
              "      <th>is_sitemap_in_robots</th>\n",
              "    </tr>\n",
              "  </thead>\n",
              "  <tbody>\n",
              "    <tr>\n",
              "      <th>0</th>\n",
              "      <td>http://academy-communication.ru</td>\n",
              "      <td>True</td>\n",
              "      <td>True</td>\n",
              "      <td>True</td>\n",
              "    </tr>\n",
              "    <tr>\n",
              "      <th>1</th>\n",
              "      <td>http://fond-dt.ru</td>\n",
              "      <td>True</td>\n",
              "      <td>True</td>\n",
              "      <td>False</td>\n",
              "    </tr>\n",
              "    <tr>\n",
              "      <th>2</th>\n",
              "      <td>http://socinnovations.ru</td>\n",
              "      <td>True</td>\n",
              "      <td>True</td>\n",
              "      <td>True</td>\n",
              "    </tr>\n",
              "    <tr>\n",
              "      <th>3</th>\n",
              "      <td>http://grand-e.ru</td>\n",
              "      <td>True</td>\n",
              "      <td>False</td>\n",
              "      <td>False</td>\n",
              "    </tr>\n",
              "    <tr>\n",
              "      <th>4</th>\n",
              "      <td>http://sports-trio.ru</td>\n",
              "      <td>True</td>\n",
              "      <td>True</td>\n",
              "      <td>True</td>\n",
              "    </tr>\n",
              "    <tr>\n",
              "      <th>...</th>\n",
              "      <td>...</td>\n",
              "      <td>...</td>\n",
              "      <td>...</td>\n",
              "      <td>...</td>\n",
              "    </tr>\n",
              "    <tr>\n",
              "      <th>594</th>\n",
              "      <td>http://musicpremia.ru</td>\n",
              "      <td>True</td>\n",
              "      <td>False</td>\n",
              "      <td>False</td>\n",
              "    </tr>\n",
              "    <tr>\n",
              "      <th>595</th>\n",
              "      <td>http://bfr-mdhsh.ru</td>\n",
              "      <td>True</td>\n",
              "      <td>True</td>\n",
              "      <td>True</td>\n",
              "    </tr>\n",
              "    <tr>\n",
              "      <th>596</th>\n",
              "      <td>http://бфр-мдхш.рф</td>\n",
              "      <td>True</td>\n",
              "      <td>True</td>\n",
              "      <td>True</td>\n",
              "    </tr>\n",
              "    <tr>\n",
              "      <th>597</th>\n",
              "      <td>http://восхождение.рус</td>\n",
              "      <td>True</td>\n",
              "      <td>True</td>\n",
              "      <td>True</td>\n",
              "    </tr>\n",
              "    <tr>\n",
              "      <th>598</th>\n",
              "      <td>http://elsv24.ru</td>\n",
              "      <td>True</td>\n",
              "      <td>True</td>\n",
              "      <td>True</td>\n",
              "    </tr>\n",
              "  </tbody>\n",
              "</table>\n",
              "<p>599 rows × 4 columns</p>\n",
              "</div>"
            ],
            "text/plain": [
              "                                 url  ...  is_sitemap_in_robots\n",
              "0    http://academy-communication.ru  ...                  True\n",
              "1                  http://fond-dt.ru  ...                 False\n",
              "2           http://socinnovations.ru  ...                  True\n",
              "3                  http://grand-e.ru  ...                 False\n",
              "4              http://sports-trio.ru  ...                  True\n",
              "..                               ...  ...                   ...\n",
              "594            http://musicpremia.ru  ...                 False\n",
              "595              http://bfr-mdhsh.ru  ...                  True\n",
              "596               http://бфр-мдхш.рф  ...                  True\n",
              "597           http://восхождение.рус  ...                  True\n",
              "598                 http://elsv24.ru  ...                  True\n",
              "\n",
              "[599 rows x 4 columns]"
            ]
          },
          "execution_count": 6,
          "metadata": {},
          "output_type": "execute_result"
        }
      ]
    },
    {
      "cell_type": "markdown",
      "metadata": {
        "id": "ywcN5EOIkUfr"
      },
      "source": [
        "# Mobile friendly test\n",
        "\n",
        "Google Search Console APIs > URL Testing Tools API (Beta) > [Runs Mobile-Friendly Test for a given URL](https://developers.google.com/webmaster-tools/search-console-api/reference/rest/v1/urlTestingTools.mobileFriendlyTest/run)\n",
        "\n",
        "**Demands Google Developer API key.**"
      ]
    },
    {
      "cell_type": "code",
      "metadata": {
        "id": "JQO7-gTIm7Ob"
      },
      "source": [
        "url = 'https://searchconsole.googleapis.com/v1/urlTestingTools/mobileFriendlyTest:run'\n",
        "api_key = API_KEY # the key deleted for security purposes"
      ],
      "execution_count": null,
      "outputs": []
    },
    {
      "cell_type": "code",
      "metadata": {
        "id": "I0wCpZRBBj2z"
      },
      "source": [
        "def check_mobile_friendly(website):\n",
        "  params = {'url': website,\n",
        "          'requestScreenshot': 'false',\n",
        "          'key': api_key}\n",
        "  x = requests.post(url, data = params)\n",
        "  data = json.loads(x.text)\n",
        "  data['website'] = website\n",
        "  return data"
      ],
      "execution_count": null,
      "outputs": []
    },
    {
      "cell_type": "code",
      "metadata": {
        "colab": {
          "base_uri": "https://localhost:8080/"
        },
        "id": "get0-I_JkYhS",
        "outputId": "182c9022-50bf-46f6-a46f-34be1ff188c8"
      },
      "source": [
        "check_mobile_friendly(websites_random[8]['website'])"
      ],
      "execution_count": null,
      "outputs": [
        {
          "data": {
            "text/plain": [
              "{'mobileFriendliness': 'MOBILE_FRIENDLY',\n",
              " 'resourceIssues': [{'blockedResource': {'url': 'https://connect.ok.ru/connect.js'}},\n",
              "  {'blockedResource': {'url': 'https://mc.yandex.ru/metrika/advert.gif?t=ti(4)'}},\n",
              "  {'blockedResource': {'url': 'https://mc.yandex.ru/watch/57548695?callback=_ymjsp794643707&page-url=https%3A%2F%2Fpomozhem-detyam.ru%2F&charset=utf-8&browser-info=pv%3A1%3Agdpr%3A14%3Avf%3A25rt5q1nhcb5k4y7at%3Afu%3A0%3Aen%3Autf-8%3Ala%3Aen-US%3Av%3A675%3Acn%3A1%3Adp%3A0%3Als%3A1339183188023%3Ahid%3A444351026%3Az%3A-420%3Ai%3A202101022071615%3Aet%3A1634912175%3Ac%3A1%3Arn%3A122965040%3Arqn%3A1%3Au%3A16349121751044682726%3Aw%3A412x732%3As%3A412x732x24%3Ask%3A2.625%3Antf%3A1%3Ans%3A1634912175000%3Ads%3A0%2C0%2C2%2C0%2C9%2C0%2C%2C40%2C0%2C%2C%2C%2C40%3Adsn%3A0%2C0%2C%2C0%2C10%2C0%2C%2C28%2C0%2C%2C%2C%2C40%3Awv%3A2%3Arqnl%3A1%3Ast%3A1634912175%3At%3A%D0%91%D0%BB%D0%B0%D0%B3%D0%BE%D1%82%D0%B2%D0%BE%D1%80%D0%B8%D1%82%D0%B5%D0%BB%D1%8C%D0%BD%D1%8B%D0%B9%20%D1%84%D0%BE%D0%BD%D0%B4%20%27%D0%9F%D0%BE%D0%BC%D0%BE%D0%B6%D0%B5%D0%BC%20%D0%B4%D0%B5%D1%82%D1%8F%D0%BC%20%D0%B2%D0%BC%D0%B5%D1%81%D1%82%D0%B5.%20%D0%9A%D0%B8%D1%80%D0%BE%D0%B2%27%20-%20%D0%BE%D1%84%D0%B8%D1%86%D0%B8%D0%B0%D0%BB%D1%8C%D0%BD%D1%8B%D0%B9%20%D1%81%D0%B0%D0%B9%D1%82&t=gdpr(14)ti(3)&wmode=5'}},\n",
              "  {'blockedResource': {'url': 'https://mc.yandex.ru/watch/57548695?wmode=7&page-url=https%3A%2F%2Fpomozhem-detyam.ru%2F&charset=utf-8&browser-info=pv%3A1%3Agdpr%3A14%3Avf%3A25rt5q1nhcb5k4y7at%3Afu%3A0%3Aen%3Autf-8%3Ala%3Aen-US%3Av%3A675%3Acn%3A1%3Adp%3A0%3Als%3A1339183188023%3Ahid%3A444351026%3Az%3A-420%3Ai%3A202101022071615%3Aet%3A1634912175%3Ac%3A1%3Arn%3A122965040%3Arqn%3A1%3Au%3A16349121751044682726%3Aw%3A412x732%3As%3A412x732x24%3Ask%3A2.625%3Antf%3A1%3Ans%3A1634912175000%3Ads%3A0%2C0%2C2%2C0%2C9%2C0%2C%2C40%2C0%2C%2C%2C%2C40%3Adsn%3A0%2C0%2C%2C0%2C10%2C0%2C%2C28%2C0%2C%2C%2C%2C40%3Awv%3A2%3Arqnl%3A1%3Ast%3A1634912175%3At%3A%D0%91%D0%BB%D0%B0%D0%B3%D0%BE%D1%82%D0%B2%D0%BE%D1%80%D0%B8%D1%82%D0%B5%D0%BB%D1%8C%D0%BD%D1%8B%D0%B9%20%D1%84%D0%BE%D0%BD%D0%B4%20%27%D0%9F%D0%BE%D0%BC%D0%BE%D0%B6%D0%B5%D0%BC%20%D0%B4%D0%B5%D1%82%D1%8F%D0%BC%20%D0%B2%D0%BC%D0%B5%D1%81%D1%82%D0%B5.%20%D0%9A%D0%B8%D1%80%D0%BE%D0%B2%27%20-%20%D0%BE%D1%84%D0%B8%D1%86%D0%B8%D0%B0%D0%BB%D1%8C%D0%BD%D1%8B%D0%B9%20%D1%81%D0%B0%D0%B9%D1%82&t=gdpr(14)ti(2)'}},\n",
              "  {'blockedResource': {'url': 'https://pomozhem-detyam.ru/modules/mod_djimageslider/assets/js/slider.js?v=4.1.1'}},\n",
              "  {'blockedResource': {'url': 'https://pomozhem-detyam.ru/modules/mod_djimageslider/themes/default/css/djimageslider.css'}},\n",
              "  {'blockedResource': {'url': 'https://pomozhem-detyam.ru/modules/mod_jlgrouppro/css/jlgroupetabs.css'}},\n",
              "  {'blockedResource': {'url': 'https://www.goody.im/widget/d737fd7e271b3ceb862eebec.js'}}],\n",
              " 'testStatus': {'status': 'COMPLETE'},\n",
              " 'website': 'http://pomozhem-detyam.ru'}"
            ]
          },
          "execution_count": 49,
          "metadata": {},
          "output_type": "execute_result"
        }
      ]
    },
    {
      "cell_type": "code",
      "metadata": {
        "colab": {
          "base_uri": "https://localhost:8080/"
        },
        "id": "93mh5y_LkYkD",
        "outputId": "44c94f2f-7c8d-4ca3-ffa6-cbbc39eb60a7"
      },
      "source": [
        "check_mobile_friendly(websites_random[2]['website'])"
      ],
      "execution_count": null,
      "outputs": [
        {
          "data": {
            "text/plain": [
              "{'mobileFriendliness': 'MOBILE_FRIENDLY',\n",
              " 'testStatus': {'status': 'COMPLETE'},\n",
              " 'website': 'http://art-nevagrad.ru'}"
            ]
          },
          "execution_count": 50,
          "metadata": {},
          "output_type": "execute_result"
        }
      ]
    },
    {
      "cell_type": "markdown",
      "metadata": {
        "id": "s1FqVv4CjwUa"
      },
      "source": [
        "# Social networks on the index page\n",
        "\n",
        "Looking up links to social networks on the home page."
      ]
    },
    {
      "cell_type": "code",
      "metadata": {
        "id": "jP5RPx6Tj-xP"
      },
      "source": [
        "def get_social_networks(website):\n",
        "  page = BeautifulSoup(requests.get(website, verify = False).text)\n",
        "  fb, vk, ig, ok, youtube = '', '', '', '', ''\n",
        "  for a in page.find_all('a'):\n",
        "    try:\n",
        "      href = a['href']\n",
        "      if 'facebook.com/' in href:\n",
        "        fb = strip_url(href)\n",
        "      if 'vk.com/' in href:\n",
        "        vk = strip_url(href)\n",
        "      if 'instagram.com/' in href:\n",
        "        ig = strip_url(href)\n",
        "      if 'ok.ru/' in href:\n",
        "        ok = strip_url(href)\n",
        "      if 'youtube.com/channel/' in href:\n",
        "        youtube = strip_url(href)\n",
        "      if 'tiktok' in href:\n",
        "        tiktok = strip_url(href)\n",
        "    except KeyError:\n",
        "      pass\n",
        "  return {'url': website, 'fb': fb, 'vk': vk, 'ig': ig, 'ok': ok, 'youtube': youtube, 'tiktok': tiktok}"
      ],
      "execution_count": null,
      "outputs": []
    },
    {
      "cell_type": "code",
      "metadata": {
        "colab": {
          "base_uri": "https://localhost:8080/"
        },
        "id": "JiJXiuJnmUuY",
        "outputId": "0141fc6a-d40e-41d3-b86a-c1baab5e803e"
      },
      "source": [
        "get_social_networks(websites_random[9]['website'])"
      ],
      "execution_count": null,
      "outputs": [
        {
          "data": {
            "text/plain": [
              "{'fb': '',\n",
              " 'ig': '',\n",
              " 'ok': '',\n",
              " 'url': 'http://окп-123.рф',\n",
              " 'vk': '',\n",
              " 'youtube': ''}"
            ]
          },
          "execution_count": 54,
          "metadata": {},
          "output_type": "execute_result"
        }
      ]
    },
    {
      "cell_type": "code",
      "metadata": {
        "colab": {
          "base_uri": "https://localhost:8080/"
        },
        "id": "S4aOyEM4XhVr",
        "outputId": "1714fddf-aea9-4503-bf3f-31686c09c36d"
      },
      "source": [
        "get_social_networks(websites_random[2]['website'])"
      ],
      "execution_count": null,
      "outputs": [
        {
          "data": {
            "text/plain": [
              "{'fb': 'https://www.facebook.com/artnevagradspb/',\n",
              " 'ig': 'https://www.instagram.com/artnevagrad/',\n",
              " 'ok': '',\n",
              " 'url': 'http://art-nevagrad.ru',\n",
              " 'vk': '',\n",
              " 'youtube': ''}"
            ]
          },
          "execution_count": 57,
          "metadata": {},
          "output_type": "execute_result"
        }
      ]
    },
    {
      "cell_type": "code",
      "metadata": {
        "colab": {
          "base_uri": "https://localhost:8080/"
        },
        "id": "iZK3BF2pXnLX",
        "outputId": "6c33792a-6498-4bc5-dec5-6d6ccacd7b54"
      },
      "source": [
        "get_social_networks(websites_random[3]['website'])"
      ],
      "execution_count": null,
      "outputs": [
        {
          "data": {
            "text/plain": [
              "{'fb': 'https://facebook.com/ourfutureru',\n",
              " 'ig': 'https://www.instagram.com/ourslon',\n",
              " 'ok': '',\n",
              " 'url': 'http://ourfuture.ru',\n",
              " 'vk': 'https://vk.com/ourfutureru',\n",
              " 'youtube': ''}"
            ]
          },
          "execution_count": 58,
          "metadata": {},
          "output_type": "execute_result"
        }
      ]
    },
    {
      "cell_type": "markdown",
      "metadata": {
        "id": "QxEVE93mw_dl"
      },
      "source": [
        "# Looking up donation/help/bank account details on the index page"
      ]
    },
    {
      "cell_type": "code",
      "metadata": {
        "id": "k98SjQGTJSd-"
      },
      "source": [
        "def donations_first_page(website):\n",
        "  page = BeautifulSoup(requests.get(website, verify = False).text)\n",
        "  donation, account, help = False, False, False\n",
        "  if 'реквизиты' in page.text.lower():\n",
        "    account = True\n",
        "  if 'пожертво' in page.text.lower():\n",
        "    donation = True\n",
        "  if 'помочь' in page.text.lower():\n",
        "    help = True\n",
        "  return {'url': website, 'account': account, 'donation': donation, 'help_page' : help}"
      ],
      "execution_count": null,
      "outputs": []
    },
    {
      "cell_type": "code",
      "metadata": {
        "colab": {
          "base_uri": "https://localhost:8080/"
        },
        "id": "gBsOx3ZKsIm1",
        "outputId": "64fa7803-42e0-4a60-b4d9-e973f1466f90"
      },
      "source": [
        "donations_first_page(websites_random[3]['website'])"
      ],
      "execution_count": null,
      "outputs": [
        {
          "data": {
            "text/plain": [
              "{'account': False,\n",
              " 'donation': False,\n",
              " 'help_page': False,\n",
              " 'url': 'http://ourfuture.ru'}"
            ]
          },
          "execution_count": 60,
          "metadata": {},
          "output_type": "execute_result"
        }
      ]
    },
    {
      "cell_type": "code",
      "metadata": {
        "colab": {
          "base_uri": "https://localhost:8080/"
        },
        "id": "coiDxA8aL94i",
        "outputId": "dda77be1-6970-445b-e3e9-b4051799b6b1"
      },
      "source": [
        "donations_first_page(websites_random[5]['website'])"
      ],
      "execution_count": null,
      "outputs": [
        {
          "data": {
            "text/plain": [
              "{'account': False,\n",
              " 'donation': True,\n",
              " 'help_page': True,\n",
              " 'url': 'http://rejdu.ru'}"
            ]
          },
          "execution_count": 63,
          "metadata": {},
          "output_type": "execute_result"
        }
      ]
    },
    {
      "cell_type": "markdown",
      "metadata": {
        "id": "5gB2B_fsIYjp"
      },
      "source": [
        "# SSL-certificate\n",
        "\n",
        "Requirements:\n",
        "- valid\n",
        "- self-subscribed\n",
        "\n",
        "Common errors found upon testing: \n",
        "\n",
        "- `ConnectionRefusedError / SSLError: [SSL: WRONG_VERSION_NUMBER]` - error occurs if port 443 not opened on server\n",
        "- `SSLCertVerificationError: [SSL: CERTIFICATE_VERIFY_FAILED] certificate verify failed: self signed certificate`\n",
        "- `SSLCertVerificationError: [SSL: CERTIFICATE_VERIFY_FAILED] certificate verify failed: Hostname mismatch, certificate is not valid for %website%`\n",
        "- `SSLCertVerificationError: [SSL: CERTIFICATE_VERIFY_FAILED] certificate verify failed: unable to get local issuer certificate`\n",
        "- `SSLCertVerificationError: [SSL: CERTIFICATE_VERIFY_FAILED] certificate verify failed: certificate has expired`"
      ]
    },
    {
      "cell_type": "code",
      "metadata": {
        "id": "DR-LH7NBXulq"
      },
      "source": [
        "import ssl, socket, datetime, sys\n",
        "from ssl import SSLCertVerificationError"
      ],
      "execution_count": null,
      "outputs": []
    },
    {
      "cell_type": "code",
      "metadata": {
        "id": "3I9kF9JSEt38"
      },
      "source": [
        "def ssl_expiry_datetime(website, port = 443): # port for https / http connection\n",
        "    host = website.replace('http://', '')\n",
        "    context = ssl.create_default_context()\n",
        "    conn = context.wrap_socket(\n",
        "        socket.socket(socket.AF_INET),\n",
        "        server_hostname = host,\n",
        "    )\n",
        "    # 10 second timeout because Lambda has runtime limitations\n",
        "    conn.settimeout(10)\n",
        "    try:\n",
        "      conn.connect((host, port))\n",
        "      ssl_info = conn.getpeercert()\n",
        "      ssl_info = {new : ssl_info[new] for new in ['issuer', 'notAfter', 'notBefore']} # only select relevant keys\n",
        "      ssl_info['website'] = website\n",
        "      ssl_info['error'] = 'No error'\n",
        "      return ssl_info\n",
        "    except (SSLCertVerificationError, ConnectionRefusedError) as e:\n",
        "      exc_type, value, traceback = sys.exc_info()\n",
        "      return {'website' : website, 'error' : '%s : %s' % (exc_type.__name__, value)}\n"
      ],
      "execution_count": null,
      "outputs": []
    },
    {
      "cell_type": "code",
      "metadata": {
        "colab": {
          "base_uri": "https://localhost:8080/"
        },
        "id": "iE9c9qKAqSBi",
        "outputId": "0c5c8dfd-4250-44d7-d7ab-442ada2545fc"
      },
      "source": [
        "ssl_expiry_datetime(websites_random[0])"
      ],
      "execution_count": null,
      "outputs": [
        {
          "output_type": "execute_result",
          "data": {
            "text/plain": [
              "{'error': 'No error',\n",
              " 'issuer': ((('countryName', 'US'),),\n",
              "  (('organizationName', \"Let's Encrypt\"),),\n",
              "  (('commonName', 'R3'),)),\n",
              " 'notAfter': 'Feb  7 00:00:22 2022 GMT',\n",
              " 'notBefore': 'Nov  9 00:00:23 2021 GMT',\n",
              " 'website': 'http://avto-viraj.ru'}"
            ]
          },
          "metadata": {},
          "execution_count": 212
        }
      ]
    },
    {
      "cell_type": "code",
      "metadata": {
        "colab": {
          "base_uri": "https://localhost:8080/"
        },
        "id": "_izX6BXPIxYJ",
        "outputId": "6a3f0e75-74b1-4cfc-d871-9624ae67f2b7"
      },
      "source": [
        "ssl_expiry_datetime(websites_random[4])"
      ],
      "execution_count": null,
      "outputs": [
        {
          "output_type": "execute_result",
          "data": {
            "text/plain": [
              "{'error': 'SSLCertVerificationError : [SSL: CERTIFICATE_VERIFY_FAILED] certificate verify failed: certificate has expired (_ssl.c:1091)',\n",
              " 'website': 'http://radchenko-ballet.com'}"
            ]
          },
          "metadata": {},
          "execution_count": 210
        }
      ]
    },
    {
      "cell_type": "code",
      "metadata": {
        "id": "-h2saWhuLhhx",
        "colab": {
          "base_uri": "https://localhost:8080/"
        },
        "outputId": "d583a10d-6dea-4a33-d334-6a9f6ee8c8f7"
      },
      "source": [
        "ssl_expiry_datetime(websites_random[2])"
      ],
      "execution_count": null,
      "outputs": [
        {
          "output_type": "execute_result",
          "data": {
            "text/plain": [
              "{'error': 'ConnectionRefusedError : [Errno 111] Connection refused',\n",
              " 'website': 'http://ruszhuravka.ru'}"
            ]
          },
          "metadata": {},
          "execution_count": 213
        }
      ]
    },
    {
      "cell_type": "code",
      "metadata": {
        "colab": {
          "base_uri": "https://localhost:8080/"
        },
        "id": "18ZhLF76I2Q_",
        "outputId": "f29e30a0-9b8f-4ca2-8db1-42d598ba194c"
      },
      "source": [
        "ssl_expiry_datetime(websites_random[6])"
      ],
      "execution_count": null,
      "outputs": [
        {
          "output_type": "execute_result",
          "data": {
            "text/plain": [
              "{'error': \"SSLCertVerificationError : [SSL: CERTIFICATE_VERIFY_FAILED] certificate verify failed: Hostname mismatch, certificate is not valid for 'oppo-rnt.ru'. (_ssl.c:1091)\",\n",
              " 'website': 'http://oppo-rnt.ru'}"
            ]
          },
          "metadata": {},
          "execution_count": 215
        }
      ]
    },
    {
      "cell_type": "code",
      "metadata": {
        "colab": {
          "base_uri": "https://localhost:8080/"
        },
        "id": "fxmvMuBm2OTK",
        "outputId": "b666a3fa-8abb-446c-a857-3d4b0bdfe94c"
      },
      "source": [
        "ssl_expiry_datetime(websites_random[8])"
      ],
      "execution_count": null,
      "outputs": [
        {
          "output_type": "execute_result",
          "data": {
            "text/plain": [
              "{'error': 'SSLCertVerificationError : [SSL: CERTIFICATE_VERIFY_FAILED] certificate verify failed: unable to get local issuer certificate (_ssl.c:1091)',\n",
              " 'website': 'http://hrhi.ru'}"
            ]
          },
          "metadata": {},
          "execution_count": 217
        }
      ]
    },
    {
      "cell_type": "markdown",
      "metadata": {
        "id": "iN3VSMIgMG5W"
      },
      "source": [
        "# Web Accessibility Evaluation\n",
        "\n",
        "[Web Accessibility Evaluation Tools List](https://www.w3.org/WAI/ER/tools/)\n",
        "\n",
        "[Techniques for WCAG 2.0](https://www.w3.org/TR/WCAG20-TECHS/general.html)\n",
        "\n",
        "[`pa11y`](https://bitsofco.de/pa11y/), pronounced pally, is a set of free and open source tools that aims to make designing and developing accessibility easier. \n",
        "\n",
        "[WCAG Zoo](https://wcag-zoo.readthedocs.io/_/downloads/en/latest/pdf/) - Scripts for automated accessiblity validation\n",
        "- WCAG guideline index and validator [reference](https://wcag-zoo.readthedocs.io/en/latest/wcag.html)\n",
        "\n",
        "- Достаточно ли нам показателей?\n",
        "- Проверяем ли мы только одну (домашнюю) страницу?"
      ]
    },
    {
      "cell_type": "code",
      "metadata": {
        "colab": {
          "base_uri": "https://localhost:8080/"
        },
        "id": "1eaPcat2NHxE",
        "outputId": "d1f73d36-b998-4aac-a2f4-f275521b2588"
      },
      "source": [
        "!pip install wcag-zoo"
      ],
      "execution_count": null,
      "outputs": [
        {
          "output_type": "stream",
          "name": "stdout",
          "text": [
            "Collecting wcag-zoo\n",
            "  Downloading wcag-zoo-0.2.6.tar.gz (20 kB)\n",
            "Requirement already satisfied: lxml in /usr/local/lib/python3.7/dist-packages (from wcag-zoo) (4.2.6)\n",
            "Collecting premailer\n",
            "  Downloading premailer-3.10.0-py2.py3-none-any.whl (19 kB)\n",
            "Collecting webcolors\n",
            "  Downloading webcolors-1.11.1-py3-none-any.whl (9.9 kB)\n",
            "Requirement already satisfied: click in /usr/local/lib/python3.7/dist-packages (from wcag-zoo) (7.1.2)\n",
            "Collecting xtermcolor\n",
            "  Downloading xtermcolor-1.3.tar.gz (3.8 kB)\n",
            "Requirement already satisfied: cachetools in /usr/local/lib/python3.7/dist-packages (from premailer->wcag-zoo) (4.2.4)\n",
            "Collecting cssselect\n",
            "  Downloading cssselect-1.1.0-py2.py3-none-any.whl (16 kB)\n",
            "Requirement already satisfied: requests in /usr/local/lib/python3.7/dist-packages (from premailer->wcag-zoo) (2.23.0)\n",
            "Collecting cssutils\n",
            "  Downloading cssutils-2.3.0-py3-none-any.whl (404 kB)\n",
            "\u001b[K     |████████████████████████████████| 404 kB 6.5 MB/s \n",
            "\u001b[?25hRequirement already satisfied: importlib-metadata in /usr/local/lib/python3.7/dist-packages (from cssutils->premailer->wcag-zoo) (4.8.2)\n",
            "Requirement already satisfied: zipp>=0.5 in /usr/local/lib/python3.7/dist-packages (from importlib-metadata->cssutils->premailer->wcag-zoo) (3.6.0)\n",
            "Requirement already satisfied: typing-extensions>=3.6.4 in /usr/local/lib/python3.7/dist-packages (from importlib-metadata->cssutils->premailer->wcag-zoo) (3.10.0.2)\n",
            "Requirement already satisfied: chardet<4,>=3.0.2 in /usr/local/lib/python3.7/dist-packages (from requests->premailer->wcag-zoo) (3.0.4)\n",
            "Requirement already satisfied: urllib3!=1.25.0,!=1.25.1,<1.26,>=1.21.1 in /usr/local/lib/python3.7/dist-packages (from requests->premailer->wcag-zoo) (1.23)\n",
            "Requirement already satisfied: idna<3,>=2.5 in /usr/local/lib/python3.7/dist-packages (from requests->premailer->wcag-zoo) (2.10)\n",
            "Requirement already satisfied: certifi>=2017.4.17 in /usr/local/lib/python3.7/dist-packages (from requests->premailer->wcag-zoo) (2021.10.8)\n",
            "Building wheels for collected packages: wcag-zoo, xtermcolor\n",
            "  Building wheel for wcag-zoo (setup.py) ... \u001b[?25l\u001b[?25hdone\n",
            "  Created wheel for wcag-zoo: filename=wcag_zoo-0.2.6-py2.py3-none-any.whl size=21405 sha256=30f27595f7d57831d510cc52e6e5dc501ec9bf0af594005585bea7469f11178a\n",
            "  Stored in directory: /root/.cache/pip/wheels/c3/df/05/71dd1ba2a7ac600838e75d70a0ac07ec273f0954e5abfa0277\n",
            "  Building wheel for xtermcolor (setup.py) ... \u001b[?25l\u001b[?25hdone\n",
            "  Created wheel for xtermcolor: filename=xtermcolor-1.3-py3-none-any.whl size=5059 sha256=d71985c7d954fd9ee41e43beaba6490650a75fde351246200ca61f35b039e1e3\n",
            "  Stored in directory: /root/.cache/pip/wheels/b5/6c/b1/eea348fc6f213279c55eaa99ba9122c8a6697b9efda1e50315\n",
            "Successfully built wcag-zoo xtermcolor\n",
            "Installing collected packages: cssutils, cssselect, xtermcolor, webcolors, premailer, wcag-zoo\n",
            "Successfully installed cssselect-1.1.0 cssutils-2.3.0 premailer-3.10.0 wcag-zoo-0.2.6 webcolors-1.11.1 xtermcolor-1.3\n"
          ]
        }
      ]
    },
    {
      "cell_type": "code",
      "metadata": {
        "id": "J3pPqEkCNktD"
      },
      "source": [
        "import wcag_zoo\n",
        "from wcag_zoo.validators.molerat import Molerat\n",
        "from wcag_zoo.validators.tarsier import Tarsier\n",
        "from wcag_zoo.validators.ayeaye import Ayeaye"
      ],
      "execution_count": null,
      "outputs": []
    },
    {
      "cell_type": "code",
      "metadata": {
        "id": "uoccPMTBO9ii"
      },
      "source": [
        "html = BeautifulSoup(requests.get(websites_random[0]).text, 'lxml')"
      ],
      "execution_count": null,
      "outputs": []
    },
    {
      "cell_type": "code",
      "metadata": {
        "colab": {
          "base_uri": "https://localhost:8080/",
          "height": 120
        },
        "id": "nxwZJ6RlSMOn",
        "outputId": "1faeb8a0-c94d-4ea3-e694-0527e26c7b9c"
      },
      "source": [
        "html.prettify()"
      ],
      "execution_count": null,
      "outputs": [
        {
          "output_type": "execute_result",
          "data": {
            "application/vnd.google.colaboratory.intrinsic+json": {
              "type": "string"
            },
            "text/plain": [
              "'<!DOCTYPE html>\\n<html lang=\"ru-RU\">\\n <head>\\n  <meta charset=\"utf-8\"/>\\n  <meta content=\"width=device-width, initial-scale=1\" name=\"viewport\"/>\\n  <link href=\"https://gmpg.org/xfn/11\" rel=\"profile\"/>\\n  <input id=\"_wpnonce\" name=\"_wpnonce\" type=\"hidden\" value=\"f80f8a8ba7\"/>\\n  <input name=\"_wp_http_referer\" type=\"hidden\" value=\"/\"/>\\n  <meta content=\"index, follow, max-image-preview:large, max-snippet:-1, max-video-preview:-1\" name=\"robots\"/>\\n  <!-- This site is optimized with the Yoast SEO plugin v16.1.1 - https://yoast.com/wordpress/plugins/seo/ -->\\n  <title>\\n   Главная - Автошкола \"Вираж\"\\n  </title>\\n  <meta content=\\'Автошкола \"Вираж\" ПОЛУЧИТЕ ПРАВА ЗА 2.5 МЕСЯЦАБЕЗ ЛИШНИХ РАСХОДОВ И ПЕРЕПЛАТ Записаться в автошколу О нас Наша автошкола успешно работает уже 10 лет. За\\' name=\"description\"/>\\n  <link href=\"https://avto-viraj.ru/\" rel=\"canonical\"/>\\n  <meta content=\"ru_RU\" property=\"og:locale\"/>\\n  <meta content=\"website\" property=\"og:type\"/>\\n  <meta content=\\'Главная - Автошкола \"Вираж\"\\' property=\"og:title\"/>\\n  <meta content=\\'Автошкола \"Вираж\" ПОЛУЧИТЕ ПРАВА ЗА 2.5 МЕСЯЦАБЕЗ ЛИШНИХ РАСХОДОВ И ПЕРЕПЛАТ Записаться в автошколу О нас Наша автошкола успешно работает уже 10 лет. За\\' property=\"og:description\"/>\\n  <meta content=\"https://avto-viraj.ru/\" property=\"og:url\"/>\\n  <meta content=\\'Автошкола \"Вираж\"\\' property=\"og:site_name\"/>\\n  <meta content=\"2021-10-11T06:10:45+00:00\" property=\"article:modified_time\"/>\\n  <meta content=\"https://avto-viraj.ru/wp-content/uploads/2021/04/message.png\" property=\"og:image\"/>\\n  <meta content=\"summary_large_image\" name=\"twitter:card\"/>\\n  <meta content=\"Примерное время для чтения\" name=\"twitter:label1\"/>\\n  <meta content=\"17 минут\" name=\"twitter:data1\"/>\\n  <script class=\"yoast-schema-graph\" type=\"application/ld+json\">\\n   {\"@context\":\"https://schema.org\",\"@graph\":[{\"@type\":\"WebSite\",\"@id\":\"https://avto-viraj.ru/#website\",\"url\":\"https://avto-viraj.ru/\",\"name\":\"\\\\u0410\\\\u0432\\\\u0442\\\\u043e\\\\u0448\\\\u043a\\\\u043e\\\\u043b\\\\u0430 &quot;\\\\u0412\\\\u0438\\\\u0440\\\\u0430\\\\u0436&quot;\",\"description\":\"\",\"potentialAction\":[{\"@type\":\"SearchAction\",\"target\":\"https://avto-viraj.ru/?s={search_term_string}\",\"query-input\":\"required name=search_term_string\"}],\"inLanguage\":\"ru-RU\"},{\"@type\":\"ImageObject\",\"@id\":\"https://avto-viraj.ru/#primaryimage\",\"inLanguage\":\"ru-RU\",\"url\":\"https://avto-viraj.ru/wp-content/uploads/2021/04/message.png\",\"contentUrl\":\"https://avto-viraj.ru/wp-content/uploads/2021/04/message.png\",\"width\":90,\"height\":90},{\"@type\":\"WebPage\",\"@id\":\"https://avto-viraj.ru/#webpage\",\"url\":\"https://avto-viraj.ru/\",\"name\":\"\\\\u0413\\\\u043b\\\\u0430\\\\u0432\\\\u043d\\\\u0430\\\\u044f - \\\\u0410\\\\u0432\\\\u0442\\\\u043e\\\\u0448\\\\u043a\\\\u043e\\\\u043b\\\\u0430 &quot;\\\\u0412\\\\u0438\\\\u0440\\\\u0430\\\\u0436&quot;\",\"isPartOf\":{\"@id\":\"https://avto-viraj.ru/#website\"},\"primaryImageOfPage\":{\"@id\":\"https://avto-viraj.ru/#primaryimage\"},\"datePublished\":\"2017-09-14T10:39:55+00:00\",\"dateModified\":\"2021-10-11T06:10:45+00:00\",\"description\":\"\\\\u0410\\\\u0432\\\\u0442\\\\u043e\\\\u0448\\\\u043a\\\\u043e\\\\u043b\\\\u0430 \\\\\"\\\\u0412\\\\u0438\\\\u0440\\\\u0430\\\\u0436\\\\\" \\\\u041f\\\\u041e\\\\u041b\\\\u0423\\\\u0427\\\\u0418\\\\u0422\\\\u0415 \\\\u041f\\\\u0420\\\\u0410\\\\u0412\\\\u0410 \\\\u0417\\\\u0410 2.5 \\\\u041c\\\\u0415\\\\u0421\\\\u042f\\\\u0426\\\\u0410\\\\u0411\\\\u0415\\\\u0417 \\\\u041b\\\\u0418\\\\u0428\\\\u041d\\\\u0418\\\\u0425 \\\\u0420\\\\u0410\\\\u0421\\\\u0425\\\\u041e\\\\u0414\\\\u041e\\\\u0412 \\\\u0418 \\\\u041f\\\\u0415\\\\u0420\\\\u0415\\\\u041f\\\\u041b\\\\u0410\\\\u0422 \\\\u0417\\\\u0430\\\\u043f\\\\u0438\\\\u0441\\\\u0430\\\\u0442\\\\u044c\\\\u0441\\\\u044f \\\\u0432 \\\\u0430\\\\u0432\\\\u0442\\\\u043e\\\\u0448\\\\u043a\\\\u043e\\\\u043b\\\\u0443 \\\\u041e \\\\u043d\\\\u0430\\\\u0441 \\\\u041d\\\\u0430\\\\u0448\\\\u0430 \\\\u0430\\\\u0432\\\\u0442\\\\u043e\\\\u0448\\\\u043a\\\\u043e\\\\u043b\\\\u0430 \\\\u0443\\\\u0441\\\\u043f\\\\u0435\\\\u0448\\\\u043d\\\\u043e \\\\u0440\\\\u0430\\\\u0431\\\\u043e\\\\u0442\\\\u0430\\\\u0435\\\\u0442 \\\\u0443\\\\u0436\\\\u0435 10 \\\\u043b\\\\u0435\\\\u0442. \\\\u0417\\\\u0430\",\"breadcrumb\":{\"@id\":\"https://avto-viraj.ru/#breadcrumb\"},\"inLanguage\":\"ru-RU\",\"potentialAction\":[{\"@type\":\"ReadAction\",\"target\":[\"https://avto-viraj.ru/\"]}]},{\"@type\":\"BreadcrumbList\",\"@id\":\"https://avto-viraj.ru/#breadcrumb\",\"itemListElement\":[{\"@type\":\"ListItem\",\"position\":1,\"item\":{\"@type\":\"WebPage\",\"@id\":\"https://avto-viraj.ru/\",\"url\":\"https://avto-viraj.ru/\",\"name\":\"\\\\u0413\\\\u043b\\\\u0430\\\\u0432\\\\u043d\\\\u0430\\\\u044f \\\\u0441\\\\u0442\\\\u0440\\\\u0430\\\\u043d\\\\u0438\\\\u0446\\\\u0430\"}}]}]}\\n  </script>\\n  <!-- / Yoast SEO plugin. -->\\n  <link href=\"//fonts.googleapis.com\" rel=\"dns-prefetch\"/>\\n  <link href=\"//use.fontawesome.com\" rel=\"dns-prefetch\"/>\\n  <link href=\"//s.w.org\" rel=\"dns-prefetch\"/>\\n  <link href=\"https://avto-viraj.ru/feed/\" rel=\"alternate\" title=\\'Автошкола \"Вираж\" » Лента\\' type=\"application/rss+xml\"/>\\n  <link href=\"https://avto-viraj.ru/comments/feed/\" rel=\"alternate\" title=\\'Автошкола \"Вираж\" » Лента комментариев\\' type=\"application/rss+xml\"/>\\n  <link href=\"https://avto-viraj.ru/home/feed/\" rel=\"alternate\" title=\\'Автошкола \"Вираж\" » Лента комментариев к «Главная»\\' type=\"application/rss+xml\"/>\\n  <script>\\n   window._wpemojiSettings = {\"baseUrl\":\"https:\\\\/\\\\/s.w.org\\\\/images\\\\/core\\\\/emoji\\\\/13.1.0\\\\/72x72\\\\/\",\"ext\":\".png\",\"svgUrl\":\"https:\\\\/\\\\/s.w.org\\\\/images\\\\/core\\\\/emoji\\\\/13.1.0\\\\/svg\\\\/\",\"svgExt\":\".svg\",\"source\":{\"concatemoji\":\"https:\\\\/\\\\/avto-viraj.ru\\\\/wp-includes\\\\/js\\\\/wp-emoji-release.min.js?ver=5.8.2\"}};\\n\\t\\t\\t!function(e,a,t){var n,r,o,i=a.createElement(\"canvas\"),p=i.getContext&&i.getContext(\"2d\");function s(e,t){var a=String.fromCharCode;p.clearRect(0,0,i.width,i.height),p.fillText(a.apply(this,e),0,0);e=i.toDataURL();return p.clearRect(0,0,i.width,i.height),p.fillText(a.apply(this,t),0,0),e===i.toDataURL()}function c(e){var t=a.createElement(\"script\");t.src=e,t.defer=t.type=\"text/javascript\",a.getElementsByTagName(\"head\")[0].appendChild(t)}for(o=Array(\"flag\",\"emoji\"),t.supports={everything:!0,everythingExceptFlag:!0},r=0;r<o.length;r++)t.supports[o[r]]=function(e){if(!p||!p.fillText)return!1;switch(p.textBaseline=\"top\",p.font=\"600 32px Arial\",e){case\"flag\":return s([127987,65039,8205,9895,65039],[127987,65039,8203,9895,65039])?!1:!s([55356,56826,55356,56819],[55356,56826,8203,55356,56819])&&!s([55356,57332,56128,56423,56128,56418,56128,56421,56128,56430,56128,56423,56128,56447],[55356,57332,8203,56128,56423,8203,56128,56418,8203,56128,56421,8203,56128,56430,8203,56128,56423,8203,56128,56447]);case\"emoji\":return!s([10084,65039,8205,55357,56613],[10084,65039,8203,55357,56613])}return!1}(o[r]),t.supports.everything=t.supports.everything&&t.supports[o[r]],\"flag\"!==o[r]&&(t.supports.everythingExceptFlag=t.supports.everythingExceptFlag&&t.supports[o[r]]);t.supports.everythingExceptFlag=t.supports.everythingExceptFlag&&!t.supports.flag,t.DOMReady=!1,t.readyCallback=function(){t.DOMReady=!0},t.supports.everything||(n=function(){t.readyCallback()},a.addEventListener?(a.addEventListener(\"DOMContentLoaded\",n,!1),e.addEventListener(\"load\",n,!1)):(e.attachEvent(\"onload\",n),a.attachEvent(\"onreadystatechange\",function(){\"complete\"===a.readyState&&t.readyCallback()})),(n=t.source||{}).concatemoji?c(n.concatemoji):n.wpemoji&&n.twemoji&&(c(n.twemoji),c(n.wpemoji)))}(window,document,window._wpemojiSettings);\\n  </script>\\n  <style>\\n   img.wp-smiley,\\nimg.emoji {\\n\\tdisplay: inline !important;\\n\\tborder: none !important;\\n\\tbox-shadow: none !important;\\n\\theight: 1em !important;\\n\\twidth: 1em !important;\\n\\tmargin: 0 .07em !important;\\n\\tvertical-align: -0.1em !important;\\n\\tbackground: none !important;\\n\\tpadding: 0 !important;\\n}\\n  </style>\\n  <link href=\"https://avto-viraj.ru/wp-content/themes/astra/assets/css/minified/frontend.min.css?ver=3.2.0\" id=\"astra-theme-css-css\" media=\"all\" rel=\"stylesheet\"/>\\n  <style id=\"astra-theme-css-inline-css\">\\n   html{font-size:112.5%;}a,.page-title{color:#d42526;}a:hover,a:focus{color:#1a1a1a;}body,button,input,select,textarea,.ast-button,.ast-custom-button{font-family:\\'Arimo\\',sans-serif;font-weight:400;font-size:18px;font-size:1rem;text-transform:none;}blockquote{color:#232635;}p,.entry-content p{margin-bottom:1em;}h1,.entry-content h1,.entry-content h1 a,h2,.entry-content h2,.entry-content h2 a,h3,.entry-content h3,.entry-content h3 a,h4,.entry-content h4,.entry-content h4 a,h5,.entry-content h5,.entry-content h5 a,h6,.entry-content h6,.entry-content h6 a,.site-title,.site-title a{font-family:\\'Arimo\\',sans-serif;font-weight:400;text-transform:none;}.site-title{font-size:35px;font-size:1.9444444444444rem;}header .custom-logo-link img{max-width:237px;}.astra-logo-svg{width:237px;}.ast-archive-description .ast-archive-title{font-size:40px;font-size:2.2222222222222rem;}.site-header .site-description{font-size:15px;font-size:0.83333333333333rem;}.entry-title{font-size:30px;font-size:1.6666666666667rem;}h1,.entry-content h1,.entry-content h1 a{font-size:64px;font-size:3.5555555555556rem;font-weight:400;font-family:\\'Arimo\\',sans-serif;line-height:1.2;text-transform:none;}h2,.entry-content h2,.entry-content h2 a{font-size:40px;font-size:2.2222222222222rem;font-weight:400;font-family:\\'Arimo\\',sans-serif;line-height:1.2;text-transform:none;}h3,.entry-content h3,.entry-content h3 a{font-size:32px;font-size:1.7777777777778rem;font-weight:400;font-family:\\'Arimo\\',sans-serif;line-height:1.2;text-transform:none;}h4,.entry-content h4,.entry-content h4 a{font-size:24px;font-size:1.3333333333333rem;line-height:1.2;}h5,.entry-content h5,.entry-content h5 a{font-size:20px;font-size:1.1111111111111rem;line-height:1.2;}h6,.entry-content h6,.entry-content h6 a{font-size:16px;font-size:0.88888888888889rem;line-height:1.2;}.ast-single-post .entry-title,.page-title{font-size:30px;font-size:1.6666666666667rem;}::selection{background-color:#d42526;color:#ffffff;}body,h1,.entry-title a,.entry-content h1,.entry-content h1 a,h2,.entry-content h2,.entry-content h2 a,h3,.entry-content h3,.entry-content h3 a,h4,.entry-content h4,.entry-content h4 a,h5,.entry-content h5,.entry-content h5 a,h6,.entry-content h6,.entry-content h6 a{color:#6e7180;}.tagcloud a:hover,.tagcloud a:focus,.tagcloud a.current-item{color:#ffffff;border-color:#d42526;background-color:#d42526;}input:focus,input[type=\"text\"]:focus,input[type=\"email\"]:focus,input[type=\"url\"]:focus,input[type=\"password\"]:focus,input[type=\"reset\"]:focus,input[type=\"search\"]:focus,textarea:focus{border-color:#d42526;}input[type=\"radio\"]:checked,input[type=reset],input[type=\"checkbox\"]:checked,input[type=\"checkbox\"]:hover:checked,input[type=\"checkbox\"]:focus:checked,input[type=range]::-webkit-slider-thumb{border-color:#d42526;background-color:#d42526;box-shadow:none;}.site-footer a:hover + .post-count,.site-footer a:focus + .post-count{background:#d42526;border-color:#d42526;}.single .nav-links .nav-previous,.single .nav-links .nav-next{color:#d42526;}.entry-meta,.entry-meta *{line-height:1.45;color:#d42526;}.entry-meta a:hover,.entry-meta a:hover *,.entry-meta a:focus,.entry-meta a:focus *,.page-links > .page-link,.page-links .page-link:hover,.post-navigation a:hover{color:#1a1a1a;}.widget-title{font-size:25px;font-size:1.3888888888889rem;color:#6e7180;}#cat option,.secondary .calendar_wrap thead a,.secondary .calendar_wrap thead a:visited{color:#d42526;}.secondary .calendar_wrap #today,.ast-progress-val span{background:#d42526;}.secondary a:hover + .post-count,.secondary a:focus + .post-count{background:#d42526;border-color:#d42526;}.calendar_wrap #today > a{color:#ffffff;}.page-links .page-link,.single .post-navigation a{color:#d42526;}.single .ast-author-details .author-title{color:#1a1a1a;}.wp-block-buttons.aligncenter{justify-content:center;}@media (max-width:782px){.entry-content .wp-block-columns .wp-block-column{margin-left:0px;}}@media (max-width:768px){.ast-separate-container .ast-article-post,.ast-separate-container .ast-article-single{padding:1.5em 2.14em;}.ast-separate-container #primary,.ast-separate-container #secondary{padding:1.5em 0;}#primary,#secondary{padding:1.5em 0;margin:0;}.ast-left-sidebar #content > .ast-container{display:flex;flex-direction:column-reverse;width:100%;}.ast-author-box img.avatar{margin:20px 0 0 0;}}@media (max-width:768px){.ast-right-sidebar #primary{padding-right:0;}}@media (min-width:769px){.ast-separate-container.ast-right-sidebar #primary,.ast-separate-container.ast-left-sidebar #primary{border:0;}.search-no-results.ast-separate-container #primary{margin-bottom:4em;}}@media (min-width:769px){.ast-right-sidebar #primary{border-right:1px solid #eee;}.ast-left-sidebar #primary{border-left:1px solid #eee;}}.elementor-button-wrapper .elementor-button{border-style:solid;border-top-width:0px;border-right-width:0px;border-left-width:0px;border-bottom-width:0px;}body .elementor-button.elementor-size-sm,body .elementor-button.elementor-size-xs,body .elementor-button.elementor-size-md,body .elementor-button.elementor-size-lg,body .elementor-button.elementor-size-xl,body .elementor-button{border-radius:6px;padding-top:18px;padding-right:22px;padding-bottom:18px;padding-left:22px;}.elementor-button-wrapper .elementor-button{border-color:#d42526;background-color:#d42526;}.elementor-button-wrapper .elementor-button:hover,.elementor-button-wrapper .elementor-button:focus{color:#ffffff;background-color:#be2121;border-color:#be2121;}.wp-block-button .wp-block-button__link,.elementor-button-wrapper .elementor-button,.elementor-button-wrapper .elementor-button:visited{color:#ffffff;}.elementor-button-wrapper .elementor-button{font-family:\\'Poppins\\',sans-serif;font-weight:500;line-height:1;text-transform:capitalize;letter-spacing:0.5px;}body .elementor-button.elementor-size-sm,body .elementor-button.elementor-size-xs,body .elementor-button.elementor-size-md,body .elementor-button.elementor-size-lg,body .elementor-button.elementor-size-xl,body .elementor-button{font-size:14px;font-size:0.77777777777778rem;}.wp-block-button .wp-block-button__link{border-style:solid;border-top-width:0px;border-right-width:0px;border-left-width:0px;border-bottom-width:0px;border-color:#d42526;background-color:#d42526;color:#ffffff;font-family:\\'Poppins\\',sans-serif;font-weight:500;line-height:1;text-transform:capitalize;letter-spacing:0.5px;font-size:14px;font-size:0.77777777777778rem;border-radius:6px;padding-top:18px;padding-right:22px;padding-bottom:18px;padding-left:22px;}.wp-block-button .wp-block-button__link:hover,.wp-block-button .wp-block-button__link:focus{color:#ffffff;background-color:#be2121;border-color:#be2121;}.elementor-widget-heading h1.elementor-heading-title{line-height:1.2;}.elementor-widget-heading h2.elementor-heading-title{line-height:1.2;}.elementor-widget-heading h3.elementor-heading-title{line-height:1.2;}.elementor-widget-heading h4.elementor-heading-title{line-height:1.2;}.elementor-widget-heading h5.elementor-heading-title{line-height:1.2;}.elementor-widget-heading h6.elementor-heading-title{line-height:1.2;}.menu-toggle,button,.ast-button,.ast-custom-button,.button,input#submit,input[type=\"button\"],input[type=\"submit\"],input[type=\"reset\"]{border-style:solid;border-top-width:0px;border-right-width:0px;border-left-width:0px;border-bottom-width:0px;color:#ffffff;border-color:#d42526;background-color:#d42526;border-radius:6px;padding-top:18px;padding-right:22px;padding-bottom:18px;padding-left:22px;font-family:\\'Poppins\\',sans-serif;font-weight:500;font-size:14px;font-size:0.77777777777778rem;line-height:1;text-transform:capitalize;letter-spacing:0.5px;}button:focus,.menu-toggle:hover,button:hover,.ast-button:hover,.ast-custom-button:hover .button:hover,.ast-custom-button:hover ,input[type=reset]:hover,input[type=reset]:focus,input#submit:hover,input#submit:focus,input[type=\"button\"]:hover,input[type=\"button\"]:focus,input[type=\"submit\"]:hover,input[type=\"submit\"]:focus{color:#ffffff;background-color:#be2121;border-color:#be2121;}@media (min-width:768px){.ast-container{max-width:100%;}}@media (min-width:544px){.ast-container{max-width:100%;}}@media (max-width:544px){.ast-separate-container .ast-article-post,.ast-separate-container .ast-article-single{padding:1.5em 1em;}.ast-separate-container #content .ast-container{padding-left:0.54em;padding-right:0.54em;}.ast-separate-container .ast-archive-description{padding:1.5em 1em;}.ast-search-menu-icon.ast-dropdown-active .search-field{width:170px;}}@media (max-width:768px){.ast-mobile-header-stack .main-header-bar .ast-search-menu-icon{display:inline-block;}.ast-header-break-point.ast-header-custom-item-outside .ast-mobile-header-stack .main-header-bar .ast-search-icon{margin:0;}}@media (max-width:768px){.ast-archive-description .ast-archive-title{font-size:40px;}.entry-title{font-size:30px;}h1,.entry-content h1,.entry-content h1 a{font-size:56px;}h2,.entry-content h2,.entry-content h2 a{font-size:32px;}h3,.entry-content h3,.entry-content h3 a{font-size:28px;}h4,.entry-content h4,.entry-content h4 a{font-size:24px;font-size:1.3333333333333rem;}h5,.entry-content h5,.entry-content h5 a{font-size:20px;font-size:1.1111111111111rem;}h6,.entry-content h6,.entry-content h6 a{font-size:16px;font-size:0.88888888888889rem;}.ast-single-post .entry-title,.page-title{font-size:30px;}}@media (max-width:544px){.ast-archive-description .ast-archive-title{font-size:40px;}.entry-title{font-size:30px;}h1,.entry-content h1,.entry-content h1 a{font-size:32px;}h2,.entry-content h2,.entry-content h2 a{font-size:24px;}h3,.entry-content h3,.entry-content h3 a{font-size:22px;}h4,.entry-content h4,.entry-content h4 a{font-size:20px;font-size:1.1111111111111rem;}h5,.entry-content h5,.entry-content h5 a{font-size:18px;font-size:1rem;}h6,.entry-content h6,.entry-content h6 a{font-size:15px;font-size:0.83333333333333rem;}.ast-single-post .entry-title,.page-title{font-size:30px;}}@media (max-width:768px){html{font-size:102.6%;}}@media (max-width:544px){html{font-size:102.6%;}}@media (min-width:769px){.ast-container{max-width:1240px;}}@font-face {font-family: \"Astra\";src: url(https://avto-viraj.ru/wp-content/themes/astra/assets/fonts/astra.woff) format(\"woff\"),url(https://avto-viraj.ru/wp-content/themes/astra/assets/fonts/astra.ttf) format(\"truetype\"),url(https://avto-viraj.ru/wp-content/themes/astra/assets/fonts/astra.svg#astra) format(\"svg\");font-weight: normal;font-style: normal;font-display: fallback;}@media (min-width:769px){.main-header-menu .sub-menu .menu-item.ast-left-align-sub-menu:hover > .sub-menu,.main-header-menu .sub-menu .menu-item.ast-left-align-sub-menu.focus > .sub-menu{margin-left:-2px;}}.ast-theme-transparent-header .ast-header-social-wrap .ast-social-color-type-custom .ast-builder-social-element{background:rgba(22,22,39,0.8);}.ast-theme-transparent-header [data-section=\"section-header-mobile-trigger\"] .ast-button-wrap .mobile-menu-toggle-icon .ast-mobile-svg{fill:#ffffff;}.ast-theme-transparent-header [data-section=\"section-header-mobile-trigger\"] .ast-button-wrap .mobile-menu-wrap .mobile-menu{color:#ffffff;}.ast-theme-transparent-header [data-section=\"section-header-mobile-trigger\"] .ast-button-wrap .ast-mobile-menu-trigger-fill{background:#d42526;}.ast-theme-transparent-header [data-section=\"section-header-mobile-trigger\"] .ast-button-wrap .ast-mobile-menu-trigger-fill,.ast-theme-transparent-header [data-section=\"section-header-mobile-trigger\"] .ast-button-wrap .ast-mobile-menu-trigger-minimal{color:#ffffff;border:none;}.ast-theme-transparent-header #masthead .site-logo-img .transparent-custom-logo .astra-logo-svg{width:180px;}.ast-theme-transparent-header #masthead .site-logo-img .transparent-custom-logo img{ max-width:180px;}@media (min-width:768px){.ast-theme-transparent-header #masthead{position:absolute;left:0;right:0;}.ast-theme-transparent-header .main-header-bar,.ast-theme-transparent-header.ast-header-break-point .main-header-bar{background:none;}body.elementor-editor-active.ast-theme-transparent-header #masthead,.fl-builder-edit .ast-theme-transparent-header #masthead,body.vc_editor.ast-theme-transparent-header #masthead,body.brz-ed.ast-theme-transparent-header #masthead{z-index:0;}.ast-header-break-point.ast-replace-site-logo-transparent.ast-theme-transparent-header .custom-mobile-logo-link{display:none;}.ast-header-break-point.ast-replace-site-logo-transparent.ast-theme-transparent-header .transparent-custom-logo{display:inline-block;}.ast-theme-transparent-header .ast-above-header,.ast-theme-transparent-header .ast-above-header.ast-above-header-bar{background-image:none;background-color:transparent;}.ast-theme-transparent-header .ast-below-header{background-image:none;background-color:transparent;}}.ast-theme-transparent-header .main-header-bar,.ast-theme-transparent-header.ast-header-break-point .main-header-bar-wrap .main-header-menu,.ast-theme-transparent-header.ast-header-break-point .main-header-bar-wrap .main-header-bar,.ast-theme-transparent-header.ast-header-break-point .ast-mobile-header-wrap .main-header-bar{background-color:rgba(22,22,39,0.8);}.ast-theme-transparent-header .main-header-bar .ast-search-menu-icon form{background-color:rgba(22,22,39,0.8);}.ast-theme-transparent-header .ast-above-header,.ast-theme-transparent-header .ast-above-header.ast-above-header-bar,.ast-theme-transparent-header .ast-below-header,.ast-header-break-point.ast-theme-transparent-header .ast-above-header,.ast-header-break-point.ast-theme-transparent-header .ast-below-header{background-color:rgba(22,22,39,0.8);}.ast-theme-transparent-header .ast-builder-menu .main-header-menu .menu-item .sub-menu,.ast-header-break-point.ast-flyout-menu-enable.ast-header-break-point .ast-builder-menu .main-header-bar-navigation .main-header-menu .menu-item .sub-menu,.ast-header-break-point.ast-flyout-menu-enable.ast-header-break-point .ast-builder-menu .main-header-bar-navigation [CLASS*=\"ast-builder-menu-\"] .main-header-menu .menu-item .sub-menu,.ast-theme-transparent-header .ast-builder-menu .main-header-menu .menu-item .sub-menu .menu-link,.ast-header-break-point.ast-flyout-menu-enable.ast-header-break-point .ast-builder-menu .main-header-bar-navigation .main-header-menu .menu-item .sub-menu .menu-link,.ast-header-break-point.ast-flyout-menu-enable.ast-header-break-point .ast-builder-menu .main-header-bar-navigation [CLASS*=\"ast-builder-menu-\"] .main-header-menu .menu-item .sub-menu .menu-link,.ast-theme-transparent-header .main-header-menu .menu-item .sub-menu .menu-link,.ast-header-break-point.ast-flyout-menu-enable.ast-header-break-point .main-header-bar-navigation .main-header-menu .menu-item .sub-menu .menu-link,.ast-theme-transparent-header .main-header-menu .menu-item .sub-menu,.ast-header-break-point.ast-flyout-menu-enable.ast-header-break-point .main-header-bar-navigation .main-header-menu .menu-item .sub-menu{background-color:rgba(22,22,39,0.8);}.ast-theme-transparent-header .ast-builder-menu .main-header-menu,.ast-theme-transparent-header .ast-builder-menu .main-header-menu .menu-link,.ast-theme-transparent-header [CLASS*=\"ast-builder-menu-\"] .main-header-menu .menu-item > .menu-link,.ast-theme-transparent-header .ast-masthead-custom-menu-items,.ast-theme-transparent-header .ast-masthead-custom-menu-items a,.ast-theme-transparent-header .ast-builder-menu .main-header-menu .menu-item > .ast-menu-toggle,.ast-theme-transparent-header .ast-builder-menu .main-header-menu .menu-item > .ast-menu-toggle,.ast-theme-transparent-header .ast-above-header-navigation a,.ast-header-break-point.ast-theme-transparent-header .ast-above-header-navigation a,.ast-header-break-point.ast-theme-transparent-header .ast-above-header-navigation > ul.ast-above-header-menu > .menu-item-has-children:not(.current-menu-item) > .ast-menu-toggle,.ast-theme-transparent-header .ast-below-header-menu,.ast-theme-transparent-header .ast-below-header-menu a,.ast-header-break-point.ast-theme-transparent-header .ast-below-header-menu a,.ast-header-break-point.ast-theme-transparent-header .ast-below-header-menu,.ast-theme-transparent-header .main-header-menu .menu-link{color:rgba(255,255,255,0.72);}.ast-theme-transparent-header .ast-builder-menu .main-header-menu .menu-item:hover > .menu-link,.ast-theme-transparent-header .ast-builder-menu .main-header-menu .menu-item:hover > .ast-menu-toggle,.ast-theme-transparent-header .ast-builder-menu .main-header-menu .ast-masthead-custom-menu-items a:hover,.ast-theme-transparent-header .ast-builder-menu .main-header-menu .focus > .menu-link,.ast-theme-transparent-header .ast-builder-menu .main-header-menu .focus > .ast-menu-toggle,.ast-theme-transparent-header .ast-builder-menu .main-header-menu .current-menu-item > .menu-link,.ast-theme-transparent-header .ast-builder-menu .main-header-menu .current-menu-ancestor > .menu-link,.ast-theme-transparent-header .ast-builder-menu .main-header-menu .current-menu-item > .ast-menu-toggle,.ast-theme-transparent-header .ast-builder-menu .main-header-menu .current-menu-ancestor > .ast-menu-toggle,.ast-theme-transparent-header [CLASS*=\"ast-builder-menu-\"] .main-header-menu .current-menu-item > .menu-link,.ast-theme-transparent-header [CLASS*=\"ast-builder-menu-\"] .main-header-menu .current-menu-ancestor > .menu-link,.ast-theme-transparent-header [CLASS*=\"ast-builder-menu-\"] .main-header-menu .current-menu-item > .ast-menu-toggle,.ast-theme-transparent-header [CLASS*=\"ast-builder-menu-\"] .main-header-menu .current-menu-ancestor > .ast-menu-toggle,.ast-theme-transparent-header .main-header-menu .menu-item:hover > .menu-link,.ast-theme-transparent-header .main-header-menu .current-menu-item > .menu-link,.ast-theme-transparent-header .main-header-menu .current-menu-ancestor > .menu-link{color:#ffffff;}@media (max-width:768px){.ast-theme-transparent-header #masthead{position:absolute;left:0;right:0;}.ast-theme-transparent-header .main-header-bar,.ast-theme-transparent-header.ast-header-break-point .main-header-bar{background:none;}body.elementor-editor-active.ast-theme-transparent-header #masthead,.fl-builder-edit .ast-theme-transparent-header #masthead,body.vc_editor.ast-theme-transparent-header #masthead,body.brz-ed.ast-theme-transparent-header #masthead{z-index:0;}.ast-header-break-point.ast-replace-site-logo-transparent.ast-theme-transparent-header .custom-mobile-logo-link{display:none;}.ast-header-break-point.ast-replace-site-logo-transparent.ast-theme-transparent-header .transparent-custom-logo{display:inline-block;}.ast-theme-transparent-header .ast-above-header,.ast-theme-transparent-header .ast-above-header.ast-above-header-bar{background-image:none;background-color:transparent;}.ast-theme-transparent-header .ast-below-header{background-image:none;background-color:transparent;}}@media (max-width:768px){.ast-theme-transparent-header .main-header-bar,.ast-theme-transparent-header.ast-header-break-point .main-header-bar-wrap .main-header-menu,.ast-theme-transparent-header.ast-header-break-point .main-header-bar-wrap .main-header-bar,.ast-theme-transparent-header.ast-header-break-point .ast-mobile-header-wrap .main-header-bar{background-color:rgba(22,22,39,0.8);}.ast-theme-transparent-header .main-header-bar .ast-search-menu-icon form{background-color:rgba(22,22,39,0.8);}.ast-theme-transparent-header .ast-above-header,.ast-theme-transparent-header .ast-above-header.ast-above-header-bar,.ast-theme-transparent-header .ast-below-header,.ast-header-break-point.ast-theme-transparent-header .ast-above-header,.ast-header-break-point.ast-theme-transparent-header .ast-below-header{background-color:rgba(22,22,39,0.8);}.ast-theme-transparent-header .ast-builder-menu .main-header-menu,.ast-theme-transparent-header .ast-builder-menu .main-header-menu .menu-link,.ast-theme-transparent-header [CLASS*=\"ast-builder-menu-\"] .main-header-menu .menu-item > .menu-link,.ast-theme-transparent-header .ast-masthead-custom-menu-items,.ast-theme-transparent-header .ast-masthead-custom-menu-items a,.ast-theme-transparent-header .ast-builder-menu .main-header-menu .menu-item > .ast-menu-toggle,.ast-theme-transparent-header .ast-builder-menu .main-header-menu .menu-item > .ast-menu-toggle,.ast-theme-transparent-header .main-header-menu .menu-link{color:#1a1a1a;}.ast-theme-transparent-header .ast-builder-menu .main-header-menu .menu-item:hover > .menu-link,.ast-theme-transparent-header .ast-builder-menu .main-header-menu .menu-item:hover > .ast-menu-toggle,.ast-theme-transparent-header .ast-builder-menu .main-header-menu .ast-masthead-custom-menu-items a:hover,.ast-theme-transparent-header .ast-builder-menu .main-header-menu .focus > .menu-link,.ast-theme-transparent-header .ast-builder-menu .main-header-menu .focus > .ast-menu-toggle,.ast-theme-transparent-header .ast-builder-menu .main-header-menu .current-menu-item > .menu-link,.ast-theme-transparent-header .ast-builder-menu .main-header-menu .current-menu-ancestor > .menu-link,.ast-theme-transparent-header .ast-builder-menu .main-header-menu .current-menu-item > .ast-menu-toggle,.ast-theme-transparent-header .ast-builder-menu .main-header-menu .current-menu-ancestor > .ast-menu-toggle,.ast-theme-transparent-header [CLASS*=\"ast-builder-menu-\"] .main-header-menu .current-menu-item > .menu-link,.ast-theme-transparent-header [CLASS*=\"ast-builder-menu-\"] .main-header-menu .current-menu-ancestor > .menu-link,.ast-theme-transparent-header [CLASS*=\"ast-builder-menu-\"] .main-header-menu .current-menu-item > .ast-menu-toggle,.ast-theme-transparent-header [CLASS*=\"ast-builder-menu-\"] .main-header-menu .current-menu-ancestor > .ast-menu-toggle,.ast-theme-transparent-header .main-header-menu .menu-item:hover > .menu-link,.ast-theme-transparent-header .main-header-menu .current-menu-item > .menu-link,.ast-theme-transparent-header .main-header-menu .current-menu-ancestor > .menu-link{color:#3b4fe4;}}@media (max-width:544px){.ast-theme-transparent-header .main-header-bar,.ast-theme-transparent-header.ast-header-break-point .main-header-bar-wrap .main-header-menu,.ast-theme-transparent-header.ast-header-break-point .main-header-bar-wrap .main-header-bar,.ast-theme-transparent-header.ast-header-break-point .ast-mobile-header-wrap .main-header-bar{background-color:rgba(22,22,39,0.8);}.ast-theme-transparent-header .main-header-bar .ast-search-menu-icon form{background-color:rgba(22,22,39,0.8);}.ast-theme-transparent-header .ast-above-header,.ast-theme-transparent-header .ast-above-header.ast-above-header-bar,.ast-theme-transparent-header .ast-below-header,.ast-header-break-point.ast-theme-transparent-header .ast-above-header,.ast-header-break-point.ast-theme-transparent-header .ast-below-header{background-color:rgba(22,22,39,0.8);}}.ast-theme-transparent-header #ast-desktop-header > [CLASS*=\"-header-wrap\"]:last-child > [CLASS*=\"-header-bar\"],.ast-theme-transparent-header.ast-header-break-point #ast-mobile-header > [CLASS*=\"-header-wrap\"]:nth-last-child(2) > [CLASS*=\"-header-bar\"]{border-bottom-width:0;border-bottom-style:solid;}.ast-breadcrumbs .trail-browse,.ast-breadcrumbs .trail-items,.ast-breadcrumbs .trail-items li{display:inline-block;margin:0;padding:0;border:none;background:inherit;text-indent:0;}.ast-breadcrumbs .trail-browse{font-size:inherit;font-style:inherit;font-weight:inherit;color:inherit;}.ast-breadcrumbs .trail-items{list-style:none;}.trail-items li::after{padding:0 0.3em;content:\"\\\\00bb\";}.trail-items li:last-of-type::after{display:none;}.trail-items li::after{content:\"\\\\00bb\";}.ast-breadcrumbs-wrapper,.ast-breadcrumbs-wrapper a{font-family:inherit;font-weight:inherit;}.ast-default-menu-enable.ast-main-header-nav-open.ast-header-break-point .main-header-bar.ast-header-breadcrumb,.ast-main-header-nav-open .main-header-bar.ast-header-breadcrumb{padding-top:1em;padding-bottom:1em;}.ast-header-break-point .main-header-bar.ast-header-breadcrumb{border-bottom-width:1px;border-bottom-color:#eaeaea;border-bottom-style:solid;}.ast-breadcrumbs-wrapper{line-height:1.4;}.ast-breadcrumbs-wrapper .rank-math-breadcrumb p{margin-bottom:0px;}.ast-breadcrumbs-wrapper{display:block;width:100%;}h1,.entry-content h1,h2,.entry-content h2,h3,.entry-content h3,h4,.entry-content h4,h5,.entry-content h5,h6,.entry-content h6{color:#1a1a1a;}@media (max-width:768px){.ast-builder-grid-row-container.ast-builder-grid-row-tablet-6-equal .ast-builder-grid-row{grid-template-columns:repeat( 6,1fr );}.ast-builder-grid-row-container.ast-builder-grid-row-tablet-5-equal .ast-builder-grid-row{grid-template-columns:repeat( 5,1fr );}.ast-builder-grid-row-container.ast-builder-grid-row-tablet-4-equal .ast-builder-grid-row{grid-template-columns:repeat( 4,1fr );}.ast-builder-grid-row-container.ast-builder-grid-row-tablet-4-lheavy .ast-builder-grid-row{grid-template-columns:2fr 1fr 1fr 1fr;}.ast-builder-grid-row-container.ast-builder-grid-row-tablet-4-rheavy .ast-builder-grid-row{grid-template-columns:1fr 1fr 1fr 2fr;}.ast-builder-grid-row-container.ast-builder-grid-row-tablet-3-equal .ast-builder-grid-row{grid-template-columns:repeat( 3,1fr );}.ast-builder-grid-row-container.ast-builder-grid-row-tablet-3-lheavy .ast-builder-grid-row{grid-template-columns:2fr 1fr 1fr;}.ast-builder-grid-row-container.ast-builder-grid-row-tablet-3-rheavy .ast-builder-grid-row{grid-template-columns:1fr 1fr 2fr;}.ast-builder-grid-row-container.ast-builder-grid-row-tablet-3-cheavy .ast-builder-grid-row{grid-template-columns:1fr 2fr 1fr;}.ast-builder-grid-row-container.ast-builder-grid-row-tablet-3-cwide .ast-builder-grid-row{grid-template-columns:1fr 3fr 1fr;}.ast-builder-grid-row-container.ast-builder-grid-row-tablet-3-firstrow .ast-builder-grid-row{grid-template-columns:1fr 1fr;}.ast-builder-grid-row-container.ast-builder-grid-row-tablet-3-firstrow .ast-builder-grid-row > *:first-child{grid-column:1 / -1;}.ast-builder-grid-row-container.ast-builder-grid-row-tablet-3-lastrow .ast-builder-grid-row{grid-template-columns:1fr 1fr;}.ast-builder-grid-row-container.ast-builder-grid-row-tablet-3-lastrow .ast-builder-grid-row > *:last-child{grid-column:1 / -1;}.ast-builder-grid-row-container.ast-builder-grid-row-tablet-2-equal .ast-builder-grid-row{grid-template-columns:repeat( 2,1fr );}.ast-builder-grid-row-container.ast-builder-grid-row-tablet-2-lheavy .ast-builder-grid-row{grid-template-columns:2fr 1fr;}.ast-builder-grid-row-container.ast-builder-grid-row-tablet-2-rheavy .ast-builder-grid-row{grid-template-columns:1fr 2fr;}.ast-builder-grid-row-container.ast-builder-grid-row-tablet-full .ast-builder-grid-row{grid-template-columns:1fr;}}@media (max-width:544px){.ast-builder-grid-row-container.ast-builder-grid-row-mobile-6-equal .ast-builder-grid-row{grid-template-columns:repeat( 6,1fr );}.ast-builder-grid-row-container.ast-builder-grid-row-mobile-5-equal .ast-builder-grid-row{grid-template-columns:repeat( 5,1fr );}.ast-builder-grid-row-container.ast-builder-grid-row-mobile-4-equal .ast-builder-grid-row{grid-template-columns:repeat( 4,1fr );}.ast-builder-grid-row-container.ast-builder-grid-row-mobile-4-lheavy .ast-builder-grid-row{grid-template-columns:2fr 1fr 1fr 1fr;}.ast-builder-grid-row-container.ast-builder-grid-row-mobile-4-rheavy .ast-builder-grid-row{grid-template-columns:1fr 1fr 1fr 2fr;}.ast-builder-grid-row-container.ast-builder-grid-row-mobile-3-equal .ast-builder-grid-row{grid-template-columns:repeat( 3,1fr );}.ast-builder-grid-row-container.ast-builder-grid-row-mobile-3-lheavy .ast-builder-grid-row{grid-template-columns:2fr 1fr 1fr;}.ast-builder-grid-row-container.ast-builder-grid-row-mobile-3-rheavy .ast-builder-grid-row{grid-template-columns:1fr 1fr 2fr;}.ast-builder-grid-row-container.ast-builder-grid-row-mobile-3-cheavy .ast-builder-grid-row{grid-template-columns:1fr 2fr 1fr;}.ast-builder-grid-row-container.ast-builder-grid-row-mobile-3-cwide .ast-builder-grid-row{grid-template-columns:1fr 3fr 1fr;}.ast-builder-grid-row-container.ast-builder-grid-row-mobile-3-firstrow .ast-builder-grid-row{grid-template-columns:1fr 1fr;}.ast-builder-grid-row-container.ast-builder-grid-row-mobile-3-firstrow .ast-builder-grid-row > *:first-child{grid-column:1 / -1;}.ast-builder-grid-row-container.ast-builder-grid-row-mobile-3-lastrow .ast-builder-grid-row{grid-template-columns:1fr 1fr;}.ast-builder-grid-row-container.ast-builder-grid-row-mobile-3-lastrow .ast-builder-grid-row > *:last-child{grid-column:1 / -1;}.ast-builder-grid-row-container.ast-builder-grid-row-mobile-2-equal .ast-builder-grid-row{grid-template-columns:repeat( 2,1fr );}.ast-builder-grid-row-container.ast-builder-grid-row-mobile-2-lheavy .ast-builder-grid-row{grid-template-columns:2fr 1fr;}.ast-builder-grid-row-container.ast-builder-grid-row-mobile-2-rheavy .ast-builder-grid-row{grid-template-columns:1fr 2fr;}.ast-builder-grid-row-container.ast-builder-grid-row-mobile-full .ast-builder-grid-row{grid-template-columns:1fr;}}.ast-builder-layout-element[data-section=\"title_tagline\"]{display:flex;}@media (max-width:768px){.ast-header-break-point .ast-builder-layout-element[data-section=\"title_tagline\"]{display:flex;}}@media (max-width:544px){.ast-header-break-point .ast-builder-layout-element[data-section=\"title_tagline\"]{display:flex;}}.ast-builder-menu-1{font-family:inherit;font-weight:inherit;}.ast-builder-menu-1 .menu-item > .menu-link{font-size:20px;font-size:1.1111111111111rem;padding-top:10px;padding-bottom:10px;padding-left:10px;padding-right:10px;}.ast-builder-menu-1 .sub-menu,.ast-builder-menu-1 .inline-on-mobile .sub-menu{border-top-width:1px;border-bottom-width:1px;border-right-width:1px;border-left-width:1px;border-color:#ffffff;border-style:solid;width:200px;border-radius:0;}.ast-builder-menu-1 .main-header-menu > .menu-item > .sub-menu,.ast-builder-menu-1 .main-header-menu > .menu-item > .astra-full-megamenu-wrapper{margin-top:0;}.ast-desktop .ast-builder-menu-1 .main-header-menu > .menu-item > .sub-menu:before,.ast-desktop .ast-builder-menu-1 .main-header-menu > .menu-item > .astra-full-megamenu-wrapper:before{height:calc( 0px + 5px );}.ast-builder-menu-1 .menu-item.menu-item-has-children > .ast-menu-toggle{top:10px;right:calc( 10px - 0.907em );}.ast-builder-menu-1 .main-header-menu,.ast-builder-menu-1 .main-header-menu .sub-menu{background-color:rgba(0,0,0,0);;background-image:none;;}.ast-desktop .ast-builder-menu-1 .menu-item .sub-menu .menu-link{border-style:none;}@media (max-width:768px){.ast-header-break-point .ast-builder-menu-1 .menu-item.menu-item-has-children > .ast-menu-toggle{top:0;}.ast-builder-menu-1 .menu-item-has-children > .menu-link:after{content:unset;}}@media (max-width:544px){.ast-header-break-point .ast-builder-menu-1 .menu-item.menu-item-has-children > .ast-menu-toggle{top:0;}}.ast-builder-menu-1{display:flex;}@media (max-width:768px){.ast-header-break-point .ast-builder-menu-1{display:flex;}}@media (max-width:544px){.ast-header-break-point .ast-builder-menu-1{display:flex;}}.header-widget-area[data-section=\"sidebar-widgets-header-widget-1\"]{display:block;}@media (max-width:768px){.ast-header-break-point .header-widget-area[data-section=\"sidebar-widgets-header-widget-1\"]{display:block;}}@media (max-width:544px){.ast-header-break-point .header-widget-area[data-section=\"sidebar-widgets-header-widget-1\"]{display:block;}}.site-below-footer-wrap[data-section=\"section-below-footer-builder\"]{background-color:#222222;;background-image:none;;min-height:80px;border-style:solid;border-width:0px;border-top-width:1px;border-top-color:#555555;}.site-below-footer-wrap[data-section=\"section-below-footer-builder\"] .ast-builder-grid-row{max-width:1200px;margin-left:auto;margin-right:auto;}.site-below-footer-wrap[data-section=\"section-below-footer-builder\"] .ast-builder-grid-row,.site-below-footer-wrap[data-section=\"section-below-footer-builder\"] .site-footer-section{align-items:flex-start;}.site-below-footer-wrap[data-section=\"section-below-footer-builder\"].ast-footer-row-inline .site-footer-section{display:flex;margin-bottom:0;}@media (max-width:768px){.site-below-footer-wrap[data-section=\"section-below-footer-builder\"].ast-footer-row-tablet-inline .site-footer-section{display:flex;margin-bottom:0;}.site-below-footer-wrap[data-section=\"section-below-footer-builder\"].ast-footer-row-tablet-stack .site-footer-section{display:block;margin-bottom:10px;}}@media (max-width:544px){.site-below-footer-wrap[data-section=\"section-below-footer-builder\"].ast-footer-row-mobile-inline .site-footer-section{display:flex;margin-bottom:0;}.site-below-footer-wrap[data-section=\"section-below-footer-builder\"].ast-footer-row-mobile-stack .site-footer-section{display:block;margin-bottom:10px;}}.site-below-footer-wrap[data-section=\"section-below-footer-builder\"]{padding-top:30px;padding-bottom:30px;}@media (max-width:768px){.site-below-footer-wrap[data-section=\"section-below-footer-builder\"]{padding-left:30px;padding-right:30px;}}.site-below-footer-wrap[data-section=\"section-below-footer-builder\"]{display:grid;}@media (max-width:768px){.ast-header-break-point .site-below-footer-wrap[data-section=\"section-below-footer-builder\"]{display:grid;}}@media (max-width:544px){.ast-header-break-point .site-below-footer-wrap[data-section=\"section-below-footer-builder\"]{display:grid;}}.footer-widget-area[data-section=\"section-fb-html-1\"] .ast-builder-html-element{color:#ffffff;font-size:14px;font-size:0.77777777777778rem;}.footer-widget-area[data-section=\"section-fb-html-1\"] a{color:#d42526;}.footer-widget-area[data-section=\"section-fb-html-1\"] a:hover{color:#ffffff;}.footer-widget-area[data-section=\"section-fb-html-1\"]{font-size:14px;font-size:0.77777777777778rem;}.footer-widget-area[data-section=\"section-fb-html-1\"]{display:block;}@media (max-width:768px){.ast-header-break-point .footer-widget-area[data-section=\"section-fb-html-1\"]{display:block;}}@media (max-width:544px){.ast-header-break-point .footer-widget-area[data-section=\"section-fb-html-1\"]{display:block;}}.footer-widget-area[data-section=\"section-fb-html-1\"] .ast-builder-html-element{text-align:right;}@media (max-width:768px){.footer-widget-area[data-section=\"section-fb-html-1\"] .ast-builder-html-element{text-align:right;}}@media (max-width:544px){.footer-widget-area[data-section=\"section-fb-html-1\"] .ast-builder-html-element{text-align:center;}}.ast-footer-copyright{text-align:left;}.ast-footer-copyright {color:#ffffff;}@media (max-width:768px){.ast-footer-copyright{text-align:left;}}@media (max-width:544px){.ast-footer-copyright{text-align:center;}}.ast-footer-copyright {font-size:14px;font-size:0.77777777777778rem;}.ast-footer-copyright.ast-builder-layout-element{display:flex;}@media (max-width:768px){.ast-header-break-point .ast-footer-copyright.ast-builder-layout-element{display:flex;}}@media (max-width:544px){.ast-header-break-point .ast-footer-copyright.ast-builder-layout-element{display:flex;}}.ast-footer-social-1-wrap .ast-builder-social-element{margin-left:7px;margin-right:7px;padding:8px;border-radius:50px;background:#d42526;}.ast-footer-social-1-wrap .ast-builder-social-element svg{width:18px;height:18px;}.ast-footer-social-1-wrap .ast-social-icon-image-wrap{margin:8px;}.ast-footer-social-1-wrap .ast-social-color-type-custom svg{fill:#ffffff;}.ast-footer-social-1-wrap .ast-social-color-type-custom .social-item-label{color:#ffffff;}[data-section=\"section-fb-social-icons-1\"] .footer-social-inner-wrap{text-align:left;}@media (max-width:768px){.ast-footer-social-1-wrap{margin-left:67px;}[data-section=\"section-fb-social-icons-1\"] .footer-social-inner-wrap{text-align:left;}}@media (max-width:544px){.ast-footer-social-1-wrap{margin-left:0px;}[data-section=\"section-fb-social-icons-1\"] .footer-social-inner-wrap{text-align:left;}}.ast-builder-layout-element[data-section=\"section-fb-social-icons-1\"]{display:flex;}@media (max-width:768px){.ast-header-break-point .ast-builder-layout-element[data-section=\"section-fb-social-icons-1\"]{display:flex;}}@media (max-width:544px){.ast-header-break-point .ast-builder-layout-element[data-section=\"section-fb-social-icons-1\"]{display:flex;}}.ast-social-color-type-official .ast-builder-social-element,.ast-social-color-type-official .social-item-label {color: var(--color);background-color: var(--background-color);}.header-social-inner-wrap.ast-social-color-type-official .ast-builder-social-element svg,.footer-social-inner-wrap.ast-social-color-type-official .ast-builder-social-element svg {fill: currentColor;}.site-footer{background-color:#4f96ce;;background-image:none;;}.site-primary-footer-wrap[data-section=\"section-primary-footer-builder\"]{background-color:#222222;;background-image:none;;border-style:solid;border-width:0px;border-top-width:1px;border-top-color:#e6e6e6;}.site-primary-footer-wrap[data-section=\"section-primary-footer-builder\"] .ast-builder-grid-row{max-width:1200px;margin-left:auto;margin-right:auto;}.site-primary-footer-wrap[data-section=\"section-primary-footer-builder\"] .ast-builder-grid-row,.site-primary-footer-wrap[data-section=\"section-primary-footer-builder\"] .site-footer-section{align-items:flex-start;}.site-primary-footer-wrap[data-section=\"section-primary-footer-builder\"].ast-footer-row-inline .site-footer-section{display:flex;margin-bottom:0;}@media (max-width:768px){.site-primary-footer-wrap[data-section=\"section-primary-footer-builder\"].ast-footer-row-tablet-inline .site-footer-section{display:flex;margin-bottom:0;}.site-primary-footer-wrap[data-section=\"section-primary-footer-builder\"].ast-footer-row-tablet-stack .site-footer-section{display:block;margin-bottom:10px;}}@media (max-width:544px){.site-primary-footer-wrap[data-section=\"section-primary-footer-builder\"].ast-footer-row-mobile-inline .site-footer-section{display:flex;margin-bottom:0;}.site-primary-footer-wrap[data-section=\"section-primary-footer-builder\"].ast-footer-row-mobile-stack .site-footer-section{display:block;margin-bottom:10px;}}.site-primary-footer-wrap[data-section=\"section-primary-footer-builder\"]{padding-top:80px;padding-bottom:80px;}@media (max-width:768px){.site-primary-footer-wrap[data-section=\"section-primary-footer-builder\"]{padding-top:50px;padding-bottom:50px;padding-left:30px;padding-right:60px;}}.site-primary-footer-wrap[data-section=\"section-primary-footer-builder\"]{display:grid;}@media (max-width:768px){.ast-header-break-point .site-primary-footer-wrap[data-section=\"section-primary-footer-builder\"]{display:grid;}}@media (max-width:544px){.ast-header-break-point .site-primary-footer-wrap[data-section=\"section-primary-footer-builder\"]{display:grid;}}.footer-widget-area[data-section=\"sidebar-widgets-footer-widget-1\"] .footer-widget-area-inner{text-align:left;}@media (max-width:768px){.footer-widget-area[data-section=\"sidebar-widgets-footer-widget-1\"] .footer-widget-area-inner{text-align:left;}}@media (max-width:544px){.footer-widget-area[data-section=\"sidebar-widgets-footer-widget-1\"] .footer-widget-area-inner{text-align:left;}}.footer-widget-area[data-section=\"sidebar-widgets-footer-widget-1\"] .footer-widget-area-inner{color:#ffffff;font-size:14px;font-size:0.77777777777778rem;}.footer-widget-area[data-section=\"sidebar-widgets-footer-widget-1\"] .footer-widget-area-inner a:hover{color:#0a0a0a;}.footer-widget-area[data-section=\"sidebar-widgets-footer-widget-1\"]{display:block;}@media (max-width:768px){.ast-header-break-point .footer-widget-area[data-section=\"sidebar-widgets-footer-widget-1\"]{display:block;}}@media (max-width:544px){.ast-header-break-point .footer-widget-area[data-section=\"sidebar-widgets-footer-widget-1\"]{display:block;}}.footer-widget-area[data-section=\"sidebar-widgets-footer-widget-2\"] .footer-widget-area-inner a{color:#dee1f8;}.footer-widget-area[data-section=\"sidebar-widgets-footer-widget-2\"] .footer-widget-area-inner a:hover{color:#ffffff;}.footer-widget-area[data-section=\"sidebar-widgets-footer-widget-2\"] .widget-title{color:#ffffff;}.footer-widget-area[data-section=\"sidebar-widgets-footer-widget-2\"]{margin-left:65px;}@media (max-width:544px){.footer-widget-area[data-section=\"sidebar-widgets-footer-widget-2\"]{margin-top:20px;margin-left:0px;}}.footer-widget-area[data-section=\"sidebar-widgets-footer-widget-2\"]{display:block;}@media (max-width:768px){.ast-header-break-point .footer-widget-area[data-section=\"sidebar-widgets-footer-widget-2\"]{display:block;}}@media (max-width:544px){.ast-header-break-point .footer-widget-area[data-section=\"sidebar-widgets-footer-widget-2\"]{display:block;}}.footer-widget-area[data-section=\"sidebar-widgets-footer-widget-3\"] .footer-widget-area-inner a{color:#dee1f8;}.footer-widget-area[data-section=\"sidebar-widgets-footer-widget-3\"] .footer-widget-area-inner a:hover{color:#ffffff;}.footer-widget-area[data-section=\"sidebar-widgets-footer-widget-3\"] .widget-title{color:#ffffff;}.footer-widget-area[data-section=\"sidebar-widgets-footer-widget-3\"]{margin-left:24px;}@media (max-width:768px){.footer-widget-area[data-section=\"sidebar-widgets-footer-widget-3\"]{margin-left:0px;}}.footer-widget-area[data-section=\"sidebar-widgets-footer-widget-3\"]{display:block;}@media (max-width:768px){.ast-header-break-point .footer-widget-area[data-section=\"sidebar-widgets-footer-widget-3\"]{display:block;}}@media (max-width:544px){.ast-header-break-point .footer-widget-area[data-section=\"sidebar-widgets-footer-widget-3\"]{display:block;}}.footer-widget-area[data-section=\"sidebar-widgets-footer-widget-4\"] .footer-widget-area-inner{color:#ffffff;font-size:14px;font-size:0.77777777777778rem;}.footer-widget-area[data-section=\"sidebar-widgets-footer-widget-4\"] .footer-widget-area-inner a{color:#d42526;}.footer-widget-area[data-section=\"sidebar-widgets-footer-widget-4\"] .footer-widget-area-inner a:hover{color:#ffffff;}.footer-widget-area[data-section=\"sidebar-widgets-footer-widget-4\"] .widget-title{color:#ffffff;}@media (max-width:768px){.footer-widget-area[data-section=\"sidebar-widgets-footer-widget-4\"]{margin-top:30px;margin-left:67px;}}@media (max-width:544px){.footer-widget-area[data-section=\"sidebar-widgets-footer-widget-4\"]{margin-left:0px;}}.footer-widget-area[data-section=\"sidebar-widgets-footer-widget-4\"]{display:block;}@media (max-width:768px){.ast-header-break-point .footer-widget-area[data-section=\"sidebar-widgets-footer-widget-4\"]{display:block;}}@media (max-width:544px){.ast-header-break-point .footer-widget-area[data-section=\"sidebar-widgets-footer-widget-4\"]{display:block;}}.footer-widget-area[data-section=\"sidebar-widgets-footer-widget-2\"] .footer-widget-area-inner{text-align:left;}@media (max-width:768px){.footer-widget-area[data-section=\"sidebar-widgets-footer-widget-2\"] .footer-widget-area-inner{text-align:left;}}@media (max-width:544px){.footer-widget-area[data-section=\"sidebar-widgets-footer-widget-2\"] .footer-widget-area-inner{text-align:left;}}.footer-widget-area[data-section=\"sidebar-widgets-footer-widget-1\"] .footer-widget-area-inner{color:#ffffff;font-size:14px;font-size:0.77777777777778rem;}.footer-widget-area[data-section=\"sidebar-widgets-footer-widget-1\"] .footer-widget-area-inner a:hover{color:#0a0a0a;}.footer-widget-area[data-section=\"sidebar-widgets-footer-widget-1\"]{display:block;}@media (max-width:768px){.ast-header-break-point .footer-widget-area[data-section=\"sidebar-widgets-footer-widget-1\"]{display:block;}}@media (max-width:544px){.ast-header-break-point .footer-widget-area[data-section=\"sidebar-widgets-footer-widget-1\"]{display:block;}}.footer-widget-area[data-section=\"sidebar-widgets-footer-widget-2\"] .footer-widget-area-inner a{color:#dee1f8;}.footer-widget-area[data-section=\"sidebar-widgets-footer-widget-2\"] .footer-widget-area-inner a:hover{color:#ffffff;}.footer-widget-area[data-section=\"sidebar-widgets-footer-widget-2\"] .widget-title{color:#ffffff;}.footer-widget-area[data-section=\"sidebar-widgets-footer-widget-2\"]{margin-left:65px;}@media (max-width:544px){.footer-widget-area[data-section=\"sidebar-widgets-footer-widget-2\"]{margin-top:20px;margin-left:0px;}}.footer-widget-area[data-section=\"sidebar-widgets-footer-widget-2\"]{display:block;}@media (max-width:768px){.ast-header-break-point .footer-widget-area[data-section=\"sidebar-widgets-footer-widget-2\"]{display:block;}}@media (max-width:544px){.ast-header-break-point .footer-widget-area[data-section=\"sidebar-widgets-footer-widget-2\"]{display:block;}}.footer-widget-area[data-section=\"sidebar-widgets-footer-widget-3\"] .footer-widget-area-inner a{color:#dee1f8;}.footer-widget-area[data-section=\"sidebar-widgets-footer-widget-3\"] .footer-widget-area-inner a:hover{color:#ffffff;}.footer-widget-area[data-section=\"sidebar-widgets-footer-widget-3\"] .widget-title{color:#ffffff;}.footer-widget-area[data-section=\"sidebar-widgets-footer-widget-3\"]{margin-left:24px;}@media (max-width:768px){.footer-widget-area[data-section=\"sidebar-widgets-footer-widget-3\"]{margin-left:0px;}}.footer-widget-area[data-section=\"sidebar-widgets-footer-widget-3\"]{display:block;}@media (max-width:768px){.ast-header-break-point .footer-widget-area[data-section=\"sidebar-widgets-footer-widget-3\"]{display:block;}}@media (max-width:544px){.ast-header-break-point .footer-widget-area[data-section=\"sidebar-widgets-footer-widget-3\"]{display:block;}}.footer-widget-area[data-section=\"sidebar-widgets-footer-widget-4\"] .footer-widget-area-inner{color:#ffffff;font-size:14px;font-size:0.77777777777778rem;}.footer-widget-area[data-section=\"sidebar-widgets-footer-widget-4\"] .footer-widget-area-inner a{color:#d42526;}.footer-widget-area[data-section=\"sidebar-widgets-footer-widget-4\"] .footer-widget-area-inner a:hover{color:#ffffff;}.footer-widget-area[data-section=\"sidebar-widgets-footer-widget-4\"] .widget-title{color:#ffffff;}@media (max-width:768px){.footer-widget-area[data-section=\"sidebar-widgets-footer-widget-4\"]{margin-top:30px;margin-left:67px;}}@media (max-width:544px){.footer-widget-area[data-section=\"sidebar-widgets-footer-widget-4\"]{margin-left:0px;}}.footer-widget-area[data-section=\"sidebar-widgets-footer-widget-4\"]{display:block;}@media (max-width:768px){.ast-header-break-point .footer-widget-area[data-section=\"sidebar-widgets-footer-widget-4\"]{display:block;}}@media (max-width:544px){.ast-header-break-point .footer-widget-area[data-section=\"sidebar-widgets-footer-widget-4\"]{display:block;}}.footer-widget-area[data-section=\"sidebar-widgets-footer-widget-3\"] .footer-widget-area-inner{text-align:left;}@media (max-width:768px){.footer-widget-area[data-section=\"sidebar-widgets-footer-widget-3\"] .footer-widget-area-inner{text-align:left;}}@media (max-width:544px){.footer-widget-area[data-section=\"sidebar-widgets-footer-widget-3\"] .footer-widget-area-inner{text-align:left;}}.footer-widget-area[data-section=\"sidebar-widgets-footer-widget-1\"] .footer-widget-area-inner{color:#ffffff;font-size:14px;font-size:0.77777777777778rem;}.footer-widget-area[data-section=\"sidebar-widgets-footer-widget-1\"] .footer-widget-area-inner a:hover{color:#0a0a0a;}.footer-widget-area[data-section=\"sidebar-widgets-footer-widget-1\"]{display:block;}@media (max-width:768px){.ast-header-break-point .footer-widget-area[data-section=\"sidebar-widgets-footer-widget-1\"]{display:block;}}@media (max-width:544px){.ast-header-break-point .footer-widget-area[data-section=\"sidebar-widgets-footer-widget-1\"]{display:block;}}.footer-widget-area[data-section=\"sidebar-widgets-footer-widget-2\"] .footer-widget-area-inner a{color:#dee1f8;}.footer-widget-area[data-section=\"sidebar-widgets-footer-widget-2\"] .footer-widget-area-inner a:hover{color:#ffffff;}.footer-widget-area[data-section=\"sidebar-widgets-footer-widget-2\"] .widget-title{color:#ffffff;}.footer-widget-area[data-section=\"sidebar-widgets-footer-widget-2\"]{margin-left:65px;}@media (max-width:544px){.footer-widget-area[data-section=\"sidebar-widgets-footer-widget-2\"]{margin-top:20px;margin-left:0px;}}.footer-widget-area[data-section=\"sidebar-widgets-footer-widget-2\"]{display:block;}@media (max-width:768px){.ast-header-break-point .footer-widget-area[data-section=\"sidebar-widgets-footer-widget-2\"]{display:block;}}@media (max-width:544px){.ast-header-break-point .footer-widget-area[data-section=\"sidebar-widgets-footer-widget-2\"]{display:block;}}.footer-widget-area[data-section=\"sidebar-widgets-footer-widget-3\"] .footer-widget-area-inner a{color:#dee1f8;}.footer-widget-area[data-section=\"sidebar-widgets-footer-widget-3\"] .footer-widget-area-inner a:hover{color:#ffffff;}.footer-widget-area[data-section=\"sidebar-widgets-footer-widget-3\"] .widget-title{color:#ffffff;}.footer-widget-area[data-section=\"sidebar-widgets-footer-widget-3\"]{margin-left:24px;}@media (max-width:768px){.footer-widget-area[data-section=\"sidebar-widgets-footer-widget-3\"]{margin-left:0px;}}.footer-widget-area[data-section=\"sidebar-widgets-footer-widget-3\"]{display:block;}@media (max-width:768px){.ast-header-break-point .footer-widget-area[data-section=\"sidebar-widgets-footer-widget-3\"]{display:block;}}@media (max-width:544px){.ast-header-break-point .footer-widget-area[data-section=\"sidebar-widgets-footer-widget-3\"]{display:block;}}.footer-widget-area[data-section=\"sidebar-widgets-footer-widget-4\"] .footer-widget-area-inner{color:#ffffff;font-size:14px;font-size:0.77777777777778rem;}.footer-widget-area[data-section=\"sidebar-widgets-footer-widget-4\"] .footer-widget-area-inner a{color:#d42526;}.footer-widget-area[data-section=\"sidebar-widgets-footer-widget-4\"] .footer-widget-area-inner a:hover{color:#ffffff;}.footer-widget-area[data-section=\"sidebar-widgets-footer-widget-4\"] .widget-title{color:#ffffff;}@media (max-width:768px){.footer-widget-area[data-section=\"sidebar-widgets-footer-widget-4\"]{margin-top:30px;margin-left:67px;}}@media (max-width:544px){.footer-widget-area[data-section=\"sidebar-widgets-footer-widget-4\"]{margin-left:0px;}}.footer-widget-area[data-section=\"sidebar-widgets-footer-widget-4\"]{display:block;}@media (max-width:768px){.ast-header-break-point .footer-widget-area[data-section=\"sidebar-widgets-footer-widget-4\"]{display:block;}}@media (max-width:544px){.ast-header-break-point .footer-widget-area[data-section=\"sidebar-widgets-footer-widget-4\"]{display:block;}}.footer-widget-area[data-section=\"sidebar-widgets-footer-widget-4\"] .footer-widget-area-inner{text-align:left;}@media (max-width:768px){.footer-widget-area[data-section=\"sidebar-widgets-footer-widget-4\"] .footer-widget-area-inner{text-align:left;}}@media (max-width:544px){.footer-widget-area[data-section=\"sidebar-widgets-footer-widget-4\"] .footer-widget-area-inner{text-align:left;}}.footer-widget-area[data-section=\"sidebar-widgets-footer-widget-1\"] .footer-widget-area-inner{color:#ffffff;font-size:14px;font-size:0.77777777777778rem;}.footer-widget-area[data-section=\"sidebar-widgets-footer-widget-1\"] .footer-widget-area-inner a:hover{color:#0a0a0a;}.footer-widget-area[data-section=\"sidebar-widgets-footer-widget-1\"]{display:block;}@media (max-width:768px){.ast-header-break-point .footer-widget-area[data-section=\"sidebar-widgets-footer-widget-1\"]{display:block;}}@media (max-width:544px){.ast-header-break-point .footer-widget-area[data-section=\"sidebar-widgets-footer-widget-1\"]{display:block;}}.footer-widget-area[data-section=\"sidebar-widgets-footer-widget-2\"] .footer-widget-area-inner a{color:#dee1f8;}.footer-widget-area[data-section=\"sidebar-widgets-footer-widget-2\"] .footer-widget-area-inner a:hover{color:#ffffff;}.footer-widget-area[data-section=\"sidebar-widgets-footer-widget-2\"] .widget-title{color:#ffffff;}.footer-widget-area[data-section=\"sidebar-widgets-footer-widget-2\"]{margin-left:65px;}@media (max-width:544px){.footer-widget-area[data-section=\"sidebar-widgets-footer-widget-2\"]{margin-top:20px;margin-left:0px;}}.footer-widget-area[data-section=\"sidebar-widgets-footer-widget-2\"]{display:block;}@media (max-width:768px){.ast-header-break-point .footer-widget-area[data-section=\"sidebar-widgets-footer-widget-2\"]{display:block;}}@media (max-width:544px){.ast-header-break-point .footer-widget-area[data-section=\"sidebar-widgets-footer-widget-2\"]{display:block;}}.footer-widget-area[data-section=\"sidebar-widgets-footer-widget-3\"] .footer-widget-area-inner a{color:#dee1f8;}.footer-widget-area[data-section=\"sidebar-widgets-footer-widget-3\"] .footer-widget-area-inner a:hover{color:#ffffff;}.footer-widget-area[data-section=\"sidebar-widgets-footer-widget-3\"] .widget-title{color:#ffffff;}.footer-widget-area[data-section=\"sidebar-widgets-footer-widget-3\"]{margin-left:24px;}@media (max-width:768px){.footer-widget-area[data-section=\"sidebar-widgets-footer-widget-3\"]{margin-left:0px;}}.footer-widget-area[data-section=\"sidebar-widgets-footer-widget-3\"]{display:block;}@media (max-width:768px){.ast-header-break-point .footer-widget-area[data-section=\"sidebar-widgets-footer-widget-3\"]{display:block;}}@media (max-width:544px){.ast-header-break-point .footer-widget-area[data-section=\"sidebar-widgets-footer-widget-3\"]{display:block;}}.footer-widget-area[data-section=\"sidebar-widgets-footer-widget-4\"] .footer-widget-area-inner{color:#ffffff;font-size:14px;font-size:0.77777777777778rem;}.footer-widget-area[data-section=\"sidebar-widgets-footer-widget-4\"] .footer-widget-area-inner a{color:#d42526;}.footer-widget-area[data-section=\"sidebar-widgets-footer-widget-4\"] .footer-widget-area-inner a:hover{color:#ffffff;}.footer-widget-area[data-section=\"sidebar-widgets-footer-widget-4\"] .widget-title{color:#ffffff;}@media (max-width:768px){.footer-widget-area[data-section=\"sidebar-widgets-footer-widget-4\"]{margin-top:30px;margin-left:67px;}}@media (max-width:544px){.footer-widget-area[data-section=\"sidebar-widgets-footer-widget-4\"]{margin-left:0px;}}.footer-widget-area[data-section=\"sidebar-widgets-footer-widget-4\"]{display:block;}@media (max-width:768px){.ast-header-break-point .footer-widget-area[data-section=\"sidebar-widgets-footer-widget-4\"]{display:block;}}@media (max-width:544px){.ast-header-break-point .footer-widget-area[data-section=\"sidebar-widgets-footer-widget-4\"]{display:block;}}.elementor-widget-heading .elementor-heading-title{margin:0;}.elementor-post.elementor-grid-item.hentry{margin-bottom:0;}.woocommerce div.product .elementor-element.elementor-products-grid .related.products ul.products li.product,.elementor-element .elementor-wc-products .woocommerce[class*=\\'columns-\\'] ul.products li.product{width:auto;margin:0;float:none;}.ast-left-sidebar .elementor-section.elementor-section-stretched,.ast-right-sidebar .elementor-section.elementor-section-stretched{max-width:100%;left:0 !important;}.ast-header-break-point .main-header-bar{border-bottom-width:0;}@media (min-width:769px){.main-header-bar{border-bottom-width:0;}}.ast-flex{-webkit-align-content:center;-ms-flex-line-pack:center;align-content:center;-webkit-box-align:center;-webkit-align-items:center;-moz-box-align:center;-ms-flex-align:center;align-items:center;}.main-header-bar{padding:1em 0;}.ast-site-identity{padding:0;}.header-main-layout-1 .ast-flex.main-header-container,.header-main-layout-3 .ast-flex.main-header-container{-webkit-align-content:center;-ms-flex-line-pack:center;align-content:center;-webkit-box-align:center;-webkit-align-items:center;-moz-box-align:center;-ms-flex-align:center;align-items:center;}.header-main-layout-1 .ast-flex.main-header-container,.header-main-layout-3 .ast-flex.main-header-container{-webkit-align-content:center;-ms-flex-line-pack:center;align-content:center;-webkit-box-align:center;-webkit-align-items:center;-moz-box-align:center;-ms-flex-align:center;align-items:center;}.ast-mobile-popup-drawer.active .ast-mobile-popup-inner{background-color:#ffffff;;color:#3a3a3a;}.ast-mobile-header-wrap .ast-mobile-header-content{background-color:#ffffff;;}.ast-mobile-popup-content > *,.ast-mobile-header-content > *{padding-top:0;padding-bottom:0;}@media (max-width:768px){.content-align-flex-start .ast-builder-layout-element{justify-content:flex-start;}.content-align-flex-start .main-header-menu{text-align:left;}}.ast-mobile-header-wrap .ast-primary-header-bar,.ast-primary-header-bar .site-primary-header-wrap{min-height:70px;}.ast-desktop .ast-primary-header-bar .main-header-menu > .menu-item{line-height:70px;}.site-header-focus-item + .ast-breadcrumbs-wrapper{max-width:1240px;margin-left:auto;margin-right:auto;padding-left:20px;padding-right:20px;}@media (max-width:768px){#masthead .ast-mobile-header-wrap .ast-above-header-bar,#masthead .ast-mobile-header-wrap .ast-primary-header-bar,#masthead .ast-mobile-header-wrap .ast-below-header-bar{padding-left:20px;padding-right:20px;}}.ast-header-break-point .ast-primary-header-bar{border-bottom-width:0;border-bottom-style:solid;}@media (min-width:769px){.ast-primary-header-bar{border-bottom-width:0;border-bottom-style:solid;}}.ast-primary-header-bar{background-color:#ffffff;;background-image:none;;}.ast-primary-header-bar{display:block;}@media (max-width:768px){.ast-header-break-point .ast-primary-header-bar{display:grid;}}@media (max-width:544px){.ast-header-break-point .ast-primary-header-bar{display:grid;}}[data-section=\"section-header-mobile-trigger\"] .ast-button-wrap .ast-mobile-menu-trigger-fill{color:#ffffff;border:none;background:#d42526;border-radius:2px;}[data-section=\"section-header-mobile-trigger\"] .ast-button-wrap .mobile-menu-toggle-icon .ast-mobile-svg{width:20px;height:20px;fill:#ffffff;}[data-section=\"section-header-mobile-trigger\"] .ast-button-wrap .mobile-menu-wrap .mobile-menu{color:#ffffff;}\\n  </style>\\n  <link href=\"//fonts.googleapis.com/css?family=Arimo%3A400%2C%7CPoppins%3A500&amp;display=fallback&amp;ver=3.2.0\" id=\"astra-google-fonts-css\" media=\"all\" rel=\"stylesheet\"/>\\n  <link href=\"https://avto-viraj.ru/wp-includes/css/dist/block-library/style.min.css?ver=5.8.2\" id=\"wp-block-library-css\" media=\"all\" rel=\"stylesheet\"/>\\n  <link href=\"https://avto-viraj.ru/wp-content/plugins/ar-contactus/res/css/jquery.contactus.min.css?ver=1.9.9\" id=\"jquery.contactus.css-css\" media=\"all\" rel=\"stylesheet\"/>\\n  <link href=\"https://avto-viraj.ru/wp-content/plugins/ar-contactus/res/css/generated-desktop.css?ver=1630646405\" id=\"contactus.generated.desktop.css-css\" media=\"all\" rel=\"stylesheet\"/>\\n  <link href=\"https://use.fontawesome.com/releases/v5.8.1/css/all.css?ver=1.9.9\" id=\"contactus.fa.css-css\" media=\"all\" rel=\"stylesheet\"/>\\n  <link href=\"https://avto-viraj.ru/wp-content/plugins/header-footer-elementor/assets/css/header-footer-elementor.css?ver=1.5.8\" id=\"hfe-style-css\" media=\"all\" rel=\"stylesheet\"/>\\n  <link href=\"https://avto-viraj.ru/wp-content/plugins/elementor/assets/lib/eicons/css/elementor-icons.min.css?ver=5.11.0\" id=\"elementor-icons-css\" media=\"all\" rel=\"stylesheet\"/>\\n  <link href=\"https://avto-viraj.ru/wp-content/plugins/elementor/assets/lib/animations/animations.min.css?ver=3.1.4\" id=\"elementor-animations-css\" media=\"all\" rel=\"stylesheet\"/>\\n  <link href=\"https://avto-viraj.ru/wp-content/plugins/elementor/assets/css/frontend.min.css?ver=3.1.4\" id=\"elementor-frontend-css\" media=\"all\" rel=\"stylesheet\"/>\\n  <link href=\"https://avto-viraj.ru/wp-content/uploads/elementor/css/post-532.css?ver=1617258777\" id=\"elementor-post-532-css\" media=\"all\" rel=\"stylesheet\"/>\\n  <link href=\"https://avto-viraj.ru/wp-content/plugins/elementor-pro/assets/css/frontend.min.css?ver=3.1.1\" id=\"elementor-pro-css\" media=\"all\" rel=\"stylesheet\"/>\\n  <link href=\"https://avto-viraj.ru/wp-content/plugins/elementor/assets/lib/font-awesome/css/all.min.css?ver=3.1.4\" id=\"font-awesome-5-all-css\" media=\"all\" rel=\"stylesheet\"/>\\n  <link href=\"https://avto-viraj.ru/wp-content/plugins/elementor/assets/lib/font-awesome/css/v4-shims.min.css?ver=3.1.4\" id=\"font-awesome-4-shim-css\" media=\"all\" rel=\"stylesheet\"/>\\n  <link href=\"https://avto-viraj.ru/wp-content/uploads/elementor/css/post-1183.css?ver=1633932856\" id=\"elementor-post-1183-css\" media=\"all\" rel=\"stylesheet\"/>\\n  <link href=\"https://avto-viraj.ru/wp-content/plugins/header-footer-elementor/inc/widgets-css/frontend.css?ver=1.5.8\" id=\"hfe-widgets-style-css\" media=\"all\" rel=\"stylesheet\"/>\\n  <link href=\"https://avto-viraj.ru/wp-content/uploads/astra-addon/astra-addon-606c0b23a40679-42198161.css?ver=3.1.0\" id=\"astra-addon-css-css\" media=\"all\" rel=\"stylesheet\"/>\\n  <style id=\"astra-addon-css-inline-css\">\\n   #ast-scroll-top{background-color:#d42526;font-size:15px;font-size:0.83333333333333rem;}\\n  </style>\\n  <link href=\"https://avto-viraj.ru/wp-content/plugins/grand-media/assets/gmedia.global.front.css?ver=1.15.0\" id=\"gmedia-global-frontend-css\" media=\"all\" rel=\"stylesheet\"/>\\n  <link href=\"https://avto-viraj.ru/?sccss=1&amp;ver=5.8.2\" id=\"sccss_style-css\" media=\"all\" rel=\"stylesheet\"/>\\n  <link href=\"https://fonts.googleapis.com/css?family=Roboto%3A100%2C100italic%2C200%2C200italic%2C300%2C300italic%2C400%2C400italic%2C500%2C500italic%2C600%2C600italic%2C700%2C700italic%2C800%2C800italic%2C900%2C900italic%7CRoboto+Slab%3A100%2C100italic%2C200%2C200italic%2C300%2C300italic%2C400%2C400italic%2C500%2C500italic%2C600%2C600italic%2C700%2C700italic%2C800%2C800italic%2C900%2C900italic&amp;subset=cyrillic&amp;ver=5.8.2\" id=\"google-fonts-1-css\" media=\"all\" rel=\"stylesheet\"/>\\n  <link href=\"https://avto-viraj.ru/wp-content/plugins/elementor/assets/lib/font-awesome/css/fontawesome.min.css?ver=5.15.1\" id=\"elementor-icons-shared-0-css\" media=\"all\" rel=\"stylesheet\"/>\\n  <link href=\"https://avto-viraj.ru/wp-content/plugins/elementor/assets/lib/font-awesome/css/solid.min.css?ver=5.15.1\" id=\"elementor-icons-fa-solid-css\" media=\"all\" rel=\"stylesheet\"/>\\n  <!--[if IE]>\\n<script src=\\'https://avto-viraj.ru/wp-content/themes/astra/assets/js/minified/flexibility.min.js?ver=3.2.0\\' id=\\'astra-flexibility-js\\'></script>\\n<script id=\\'astra-flexibility-js-after\\'>\\nflexibility(document.documentElement);\\n</script>\\n<![endif]-->\\n  <script id=\"jquery-core-js\" src=\"https://avto-viraj.ru/wp-includes/js/jquery/jquery.min.js?ver=3.6.0\">\\n  </script>\\n  <script id=\"jquery-migrate-js\" src=\"https://avto-viraj.ru/wp-includes/js/jquery/jquery-migrate.min.js?ver=3.3.2\">\\n  </script>\\n  <script id=\"jquery.contactus-js-extra\">\\n   var arCUVars = {\"url\":\"https:\\\\/\\\\/avto-viraj.ru\\\\/wp-admin\\\\/admin-ajax.php\",\"version\":\"1.9.9\",\"_wpnonce\":\"<input type=\\\\\"hidden\\\\\" id=\\\\\"_wpnonce\\\\\" name=\\\\\"_wpnonce\\\\\" value=\\\\\"f80f8a8ba7\\\\\" \\\\/><input type=\\\\\"hidden\\\\\" name=\\\\\"_wp_http_referer\\\\\" value=\\\\\"\\\\/\\\\\" \\\\/>\"};\\n  </script>\\n  <script id=\"jquery.contactus-js\" src=\"https://avto-viraj.ru/wp-content/plugins/ar-contactus/res/js/jquery.contactus.min.js?ver=1.9.9\">\\n  </script>\\n  <script id=\"jquery.contactus.scripts-js\" src=\"https://avto-viraj.ru/wp-content/plugins/ar-contactus/res/js/scripts.js?ver=1.9.9\">\\n  </script>\\n  <script id=\"font-awesome-4-shim-js\" src=\"https://avto-viraj.ru/wp-content/plugins/elementor/assets/lib/font-awesome/js/v4-shims.min.js?ver=3.1.4\">\\n  </script>\\n  <script id=\"gmedia-global-frontend-js-extra\">\\n   var GmediaGallery = {\"ajaxurl\":\"https:\\\\/\\\\/avto-viraj.ru\\\\/wp-admin\\\\/admin-ajax.php\",\"nonce\":\"f58b153094\",\"upload_dirurl\":\"https:\\\\/\\\\/avto-viraj.ru\\\\/wp-content\\\\/grand-media\",\"plugin_dirurl\":\"https:\\\\/\\\\/avto-viraj.ru\\\\/wp-content\\\\/grand-media\",\"license\":\"\",\"license2\":\"\",\"google_api_key\":\"\"};\\n  </script>\\n  <script id=\"gmedia-global-frontend-js\" src=\"https://avto-viraj.ru/wp-content/plugins/grand-media/assets/gmedia.global.front.js?ver=1.13.0\">\\n  </script>\\n  <link href=\"https://avto-viraj.ru/wp-json/\" rel=\"https://api.w.org/\"/>\\n  <link href=\"https://avto-viraj.ru/wp-json/wp/v2/pages/1183\" rel=\"alternate\" type=\"application/json\"/>\\n  <link href=\"https://avto-viraj.ru/xmlrpc.php?rsd\" rel=\"EditURI\" title=\"RSD\" type=\"application/rsd+xml\"/>\\n  <link href=\"https://avto-viraj.ru/wp-includes/wlwmanifest.xml\" rel=\"wlwmanifest\" type=\"application/wlwmanifest+xml\"/>\\n  <meta content=\"WordPress 5.8.2\" name=\"generator\"/>\\n  <link href=\"https://avto-viraj.ru/\" rel=\"shortlink\"/>\\n  <link href=\"https://avto-viraj.ru/wp-json/oembed/1.0/embed?url=https%3A%2F%2Favto-viraj.ru%2F\" rel=\"alternate\" type=\"application/json+oembed\"/>\\n  <link href=\"https://avto-viraj.ru/wp-json/oembed/1.0/embed?url=https%3A%2F%2Favto-viraj.ru%2F&amp;format=xml\" rel=\"alternate\" type=\"text/xml+oembed\"/>\\n  <!-- <meta name=\\'GmediaGallery\\' version=\\'1.19.6/1.8.0\\' license=\\'\\' /> -->\\n  <link href=\"https://avto-viraj.ru/xmlrpc.php\" rel=\"pingback\"/>\\n  <style>\\n   .recentcomments a{display:inline !important;padding:0 !important;margin:0 !important;}\\n  </style>\\n  <link href=\"https://avto-viraj.ru/wp-content/uploads/2021/04/cropped-favik-32x32.png\" rel=\"icon\" sizes=\"32x32\"/>\\n  <link href=\"https://avto-viraj.ru/wp-content/uploads/2021/04/cropped-favik-192x192.png\" rel=\"icon\" sizes=\"192x192\"/>\\n  <link href=\"https://avto-viraj.ru/wp-content/uploads/2021/04/cropped-favik-180x180.png\" rel=\"apple-touch-icon\"/>\\n  <meta content=\"https://avto-viraj.ru/wp-content/uploads/2021/04/cropped-favik-270x270.png\" name=\"msapplication-TileImage\"/>\\n </head>\\n <body class=\"home page-template-default page page-id-1183 wp-custom-logo ehf-template-astra ehf-stylesheet-astra ast-single-post ast-inherit-site-logo-transparent ast-theme-transparent-header astra-hfb-header ast-desktop ast-page-builder-template ast-no-sidebar astra-3.2.0 elementor-default elementor-kit-532 elementor-page elementor-page-1183 astra-addon-3.1.0\" itemscope=\"itemscope\" itemtype=\"https://schema.org/WebPage\">\\n  <div class=\"hfeed site\" id=\"page\">\\n   <a class=\"skip-link screen-reader-text\" href=\"#content\">\\n    Перейти к содержимому\\n   </a>\\n   <header class=\"site-header header-main-layout-1 ast-primary-menu-enabled ast-hide-custom-menu-mobile ast-builder-menu-toggle-icon ast-mobile-header-inline\" id=\"masthead\" itemid=\"#masthead\" itemscope=\"itemscope\" itemtype=\"https://schema.org/WPHeader\">\\n    <div id=\"ast-desktop-header\">\\n     <div class=\"ast-main-header-wrap main-header-bar-wrap \">\\n      <div class=\"ast-primary-header-bar ast-primary-header main-header-bar ast-builder-grid-row-container site-header-focus-item\" data-section=\"section-primary-header-builder\">\\n       <div class=\"site-primary-header-wrap ast-builder-grid-row-container site-header-focus-item ast-container\" data-section=\"section-primary-header-builder\">\\n        <div class=\"ast-builder-grid-row ast-builder-grid-row-has-sides ast-builder-grid-row-no-center\">\\n         <div class=\"site-header-primary-section-left site-header-section ast-flex site-header-section-left\">\\n          <div class=\"ast-builder-layout-element ast-flex site-header-focus-item\" data-section=\"title_tagline\">\\n           <div class=\"site-branding ast-site-identity\" itemscope=\"itemscope\" itemtype=\"https://schema.org/Organization\">\\n            <span class=\"site-logo-img\">\\n             <a aria-current=\"page\" class=\"custom-logo-link\" href=\"https://avto-viraj.ru/\" rel=\"home\">\\n              <img alt=\\'Автошкола \"Вираж\"\\' class=\"custom-logo\" height=\"39\" src=\"https://avto-viraj.ru/wp-content/uploads/2021/04/cropped-logo.png\" width=\"231\"/>\\n             </a>\\n            </span>\\n           </div>\\n           <!-- .site-branding -->\\n          </div>\\n         </div>\\n         <div class=\"site-header-primary-section-right site-header-section ast-flex ast-grid-right-section\">\\n          <div class=\"ast-builder-menu-1 ast-builder-menu ast-flex ast-builder-menu-1-focus-item ast-builder-layout-element site-header-focus-item\" data-section=\"section-hb-menu-1\">\\n           <div class=\"ast-main-header-bar-alignment\">\\n            <div class=\"main-header-bar-navigation\">\\n             <nav aria-label=\"Навигация по сайту\" class=\"ast-flex-grow-1 navigation-accessibility site-header-focus-item\" id=\"site-navigation\" itemscope=\"itemscope\" itemtype=\"https://schema.org/SiteNavigationElement\">\\n              <div class=\"main-navigation ast-inline-flex\">\\n               <ul class=\"main-header-menu ast-nav-menu ast-flex submenu-with-border ast-menu-hover-style-underline stack-on-mobile\" id=\"ast-hf-menu-1\">\\n                <li class=\"menu-item menu-item-type-post_type menu-item-object-page menu-item-home current-menu-item page_item page-item-1183 current_page_item menu-item-16\" id=\"menu-item-16\">\\n                 <a aria-current=\"page\" class=\"menu-link\" href=\"https://avto-viraj.ru/\">\\n                  Главная\\n                 </a>\\n                </li>\\n                <li class=\"menu-item menu-item-type-post_type menu-item-object-page menu-item-1438\" id=\"menu-item-1438\">\\n                 <a class=\"menu-link\" href=\"https://avto-viraj.ru/kategoriya-a/\">\\n                  Категория A\\n                 </a>\\n                </li>\\n                <li class=\"menu-item menu-item-type-post_type menu-item-object-page menu-item-has-children menu-item-1437\" id=\"menu-item-1437\">\\n                 <a class=\"menu-link\" href=\"https://avto-viraj.ru/kategoriya-b/\">\\n                  Категория B\\n                 </a>\\n                 <button aria-expanded=\"false\" class=\"ast-menu-toggle\">\\n                  <span class=\"screen-reader-text\">\\n                   Переключатель меню\\n                  </span>\\n                 </button>\\n                 <ul class=\"sub-menu\">\\n                  <li class=\"menu-item menu-item-type-post_type menu-item-object-page menu-item-1453\" id=\"menu-item-1453\">\\n                   <a class=\"menu-link\" href=\"https://avto-viraj.ru/kategoriya-b/akpp/\">\\n                    Обучение вождению на АКПП\\n                   </a>\\n                  </li>\\n                  <li class=\"menu-item menu-item-type-post_type menu-item-object-page menu-item-1454\" id=\"menu-item-1454\">\\n                   <a class=\"menu-link\" href=\"https://avto-viraj.ru/kategoriya-b/voditelskoe-remeslo/\">\\n                    Водительское ремесло\\n                   </a>\\n                  </li>\\n                  <li class=\"menu-item menu-item-type-post_type menu-item-object-page menu-item-1455\" id=\"menu-item-1455\">\\n                   <a class=\"menu-link\" href=\"https://avto-viraj.ru/kategoriya-b/obuchenie-kategorii-b/\">\\n                    Обучение вождению категории B\\n                   </a>\\n                  </li>\\n                  <li class=\"menu-item menu-item-type-post_type menu-item-object-page menu-item-1456\" id=\"menu-item-1456\">\\n                   <a class=\"menu-link\" href=\"https://avto-viraj.ru/kategoriya-b/avtotrenazhyor-avtoshkoly/\">\\n                    Автотренажёр автошколы — современные технологии\\n                   </a>\\n                  </li>\\n                 </ul>\\n                </li>\\n                <li class=\"menu-item menu-item-type-post_type menu-item-object-page menu-item-has-children menu-item-17\" id=\"menu-item-17\">\\n                 <a class=\"menu-link\" href=\"https://avto-viraj.ru/svedeniya-ob-organizacii/\">\\n                  Сведения об организации\\n                 </a>\\n                 <button aria-expanded=\"false\" class=\"ast-menu-toggle\">\\n                  <span class=\"screen-reader-text\">\\n                   Переключатель меню\\n                  </span>\\n                 </button>\\n                 <ul class=\"sub-menu\">\\n                  <li class=\"menu-item menu-item-type-post_type menu-item-object-page menu-item-1442\" id=\"menu-item-1442\">\\n                   <a class=\"menu-link\" href=\"https://avto-viraj.ru/svedeniya-ob-organizacii/osnovnye-svedeniya/\">\\n                    Основные сведения\\n                   </a>\\n                  </li>\\n                  <li class=\"menu-item menu-item-type-post_type menu-item-object-page menu-item-1439\" id=\"menu-item-1439\">\\n                   <a class=\"menu-link\" href=\"https://avto-viraj.ru/svedeniya-ob-organizacii/dokumenty/\">\\n                    Документы\\n                   </a>\\n                  </li>\\n                  <li class=\"menu-item menu-item-type-post_type menu-item-object-page menu-item-1441\" id=\"menu-item-1441\">\\n                   <a class=\"menu-link\" href=\"https://avto-viraj.ru/svedeniya-ob-organizacii/obrazovanie/\">\\n                    Образование\\n                   </a>\\n                  </li>\\n                  <li class=\"menu-item menu-item-type-post_type menu-item-object-page menu-item-1440\" id=\"menu-item-1440\">\\n                   <a class=\"menu-link\" href=\"https://avto-viraj.ru/svedeniya-ob-organizacii/materialno-tehnicheskoe-obespechenie/\">\\n                    Материально-техническое обеспечение\\n                   </a>\\n                  </li>\\n                  <li class=\"menu-item menu-item-type-post_type menu-item-object-page menu-item-1443\" id=\"menu-item-1443\">\\n                   <a class=\"menu-link\" href=\"https://avto-viraj.ru/svedeniya-ob-organizacii/platnye-obrazovatelnye-uslugi/\">\\n                    Платные образовательные услуги\\n                   </a>\\n                  </li>\\n                  <li class=\"menu-item menu-item-type-post_type menu-item-object-page menu-item-1444\" id=\"menu-item-1444\">\\n                   <a class=\"menu-link\" href=\"https://avto-viraj.ru/svedeniya-ob-organizacii/finansovo-hozyajstvennaya-deyatelnost/\">\\n                    Финансово хозяйственная деятельность\\n                   </a>\\n                  </li>\\n                 </ul>\\n                </li>\\n                <li class=\"menu-item menu-item-type-post_type menu-item-object-page menu-item-20\" id=\"menu-item-20\">\\n                 <a class=\"menu-link\" href=\"https://avto-viraj.ru/contact/\">\\n                  Контакты\\n                 </a>\\n                </li>\\n               </ul>\\n              </div>\\n             </nav>\\n            </div>\\n           </div>\\n          </div>\\n          <aside class=\"header-widget-area widget-area site-header-focus-item\" data-section=\"sidebar-widgets-header-widget-1\">\\n           <div class=\"header-widget-area-inner site-info-inner\">\\n            <section class=\"widget astra-widget-social-profiles\" id=\"astra-widget-social-profiles-2\">\\n             <div class=\"astra-widget-social-profiles-inner clearfix inline simple icon-custom-color\">\\n              <ul>\\n               <li>\\n                <a aria-label=\"facebook-f\" href=\"https://www.facebook.com/%D0%90%D0%B2%D1%82%D0%BE%D1%88%D0%BA%D0%BE%D0%BB%D0%B0-%D0%92%D0%B8%D1%80%D0%B0%D0%B6-%D0%9A%D0%BE%D0%BB%D0%BE%D0%BC%D0%BD%D0%B0-274819802988986\" rel=\"noopener nofollow\" target=\"_self\">\\n                 <span class=\"ast-widget-icon facebook-f\">\\n                  <svg height=\"16\" viewbox=\"0 0 264 512\" width=\"16\" xmlns=\"http://www.w3.org/2000/svg\">\\n                   <path d=\"M76.7 512V283H0v-91h76.7v-71.7C76.7 42.4 124.3 0 193.8 0c33.3 0 61.9 2.5 70.2 3.6V85h-48.2c-37.8 0-45.1 18-45.1 44.3V192H256l-11.7 91h-73.6v229\">\\n                   </path>\\n                  </svg>\\n                 </span>\\n                </a>\\n               </li>\\n               <li>\\n                <a aria-label=\"instagram\" href=\"https://www.instagram.com/virajavtoshkola\" rel=\"noopener nofollow\" target=\"_self\">\\n                 <span class=\"ast-widget-icon instagram\">\\n                  <svg height=\"16\" viewbox=\"0 0 448 512\" width=\"16\" xmlns=\"http://www.w3.org/2000/svg\">\\n                   <path d=\"M224.1 141c-63.6 0-114.9 51.3-114.9 114.9s51.3 114.9 114.9 114.9S339 319.5 339 255.9 287.7 141 224.1 141zm0 189.6c-41.1 0-74.7-33.5-74.7-74.7s33.5-74.7 74.7-74.7 74.7 33.5 74.7 74.7-33.6 74.7-74.7 74.7zm146.4-194.3c0 14.9-12 26.8-26.8 26.8-14.9 0-26.8-12-26.8-26.8s12-26.8 26.8-26.8 26.8 12 26.8 26.8zm76.1 27.2c-1.7-35.9-9.9-67.7-36.2-93.9-26.2-26.2-58-34.4-93.9-36.2-37-2.1-147.9-2.1-184.9 0-35.8 1.7-67.6 9.9-93.9 36.1s-34.4 58-36.2 93.9c-2.1 37-2.1 147.9 0 184.9 1.7 35.9 9.9 67.7 36.2 93.9s58 34.4 93.9 36.2c37 2.1 147.9 2.1 184.9 0 35.9-1.7 67.7-9.9 93.9-36.2 26.2-26.2 34.4-58 36.2-93.9 2.1-37 2.1-147.8 0-184.8zM398.8 388c-7.8 19.6-22.9 34.7-42.6 42.6-29.5 11.7-99.5 9-132.1 9s-102.7 2.6-132.1-9c-19.6-7.8-34.7-22.9-42.6-42.6-11.7-29.5-9-99.5-9-132.1s-2.6-102.7 9-132.1c7.8-19.6 22.9-34.7 42.6-42.6 29.5-11.7 99.5-9 132.1-9s102.7-2.6 132.1 9c19.6 7.8 34.7 22.9 42.6 42.6 11.7 29.5 9 99.5 9 132.1s2.7 102.7-9 132.1z\">\\n                   </path>\\n                  </svg>\\n                 </span>\\n                </a>\\n               </li>\\n               <li>\\n                <a aria-label=\"vk\" href=\"https://vk.com/club151129758\" rel=\"noopener nofollow\" target=\"_self\">\\n                 <span class=\"ast-widget-icon vk\">\\n                  <svg height=\"16\" viewbox=\"0 0 576 512\" width=\"16\" xmlns=\"http://www.w3.org/2000/svg\">\\n                   <path d=\"M545 117.7c3.7-12.5 0-21.7-17.8-21.7h-58.9c-15 0-21.9 7.9-25.6 16.7 0 0-30 73.1-72.4 120.5-13.7 13.7-20 18.1-27.5 18.1-3.7 0-9.4-4.4-9.4-16.9V117.7c0-15-4.2-21.7-16.6-21.7h-92.6c-9.4 0-15 7-15 13.5 0 14.2 21.2 17.5 23.4 57.5v86.8c0 19-3.4 22.5-10.9 22.5-20 0-68.6-73.4-97.4-157.4-5.8-16.3-11.5-22.9-26.6-22.9H38.8c-16.8 0-20.2 7.9-20.2 16.7 0 15.6 20 93.1 93.1 195.5C160.4 378.1 229 416 291.4 416c37.5 0 42.1-8.4 42.1-22.9 0-66.8-3.4-73.1 15.4-73.1 8.7 0 23.7 4.4 58.7 38.1 40 40 46.6 57.9 69 57.9h58.9c16.8 0 25.3-8.4 20.4-25-11.2-34.9-86.9-106.7-90.3-111.5-8.7-11.2-6.2-16.2 0-26.2.1-.1 72-101.3 79.4-135.6z\">\\n                   </path>\\n                  </svg>\\n                 </span>\\n                </a>\\n               </li>\\n               <li>\\n                <a aria-label=\"odnoklassniki\" href=\"https://www.ok.ru/group/zapisa\" rel=\"noopener nofollow\" target=\"_self\">\\n                 <span class=\"ast-widget-icon odnoklassniki\">\\n                  <svg height=\"16\" viewbox=\"0 0 320 512\" width=\"16\" xmlns=\"http://www.w3.org/2000/svg\">\\n                   <path d=\"M275.1 334c-27.4 17.4-65.1 24.3-90 26.9l20.9 20.6 76.3 76.3c27.9 28.6-17.5 73.3-45.7 45.7-19.1-19.4-47.1-47.4-76.3-76.6L84 503.4c-28.2 27.5-73.6-17.6-45.4-45.7 19.4-19.4 47.1-47.4 76.3-76.3l20.6-20.6c-24.6-2.6-62.9-9.1-90.6-26.9-32.6-21-46.9-33.3-34.3-59 7.4-14.6 27.7-26.9 54.6-5.7 0 0 36.3 28.9 94.9 28.9s94.9-28.9 94.9-28.9c26.9-21.1 47.1-8.9 54.6 5.7 12.4 25.7-1.9 38-34.5 59.1zM30.3 129.7C30.3 58 88.6 0 160 0s129.7 58 129.7 129.7c0 71.4-58.3 129.4-129.7 129.4s-129.7-58-129.7-129.4zm66 0c0 35.1 28.6 63.7 63.7 63.7s63.7-28.6 63.7-63.7c0-35.4-28.6-64-63.7-64s-63.7 28.6-63.7 64z\">\\n                   </path>\\n                  </svg>\\n                 </span>\\n                </a>\\n               </li>\\n              </ul>\\n             </div>\\n            </section>\\n           </div>\\n          </aside>\\n         </div>\\n        </div>\\n       </div>\\n      </div>\\n     </div>\\n    </div>\\n    <!-- Main Header Bar Wrap -->\\n    <div class=\"ast-mobile-header-wrap \" data-type=\"dropdown\" id=\"ast-mobile-header\">\\n     <div class=\"ast-main-header-wrap main-header-bar-wrap\">\\n      <div class=\"ast-primary-header-bar ast-primary-header main-header-bar site-primary-header-wrap site-header-focus-item ast-builder-grid-row-layout-default ast-builder-grid-row-tablet-layout-default ast-builder-grid-row-mobile-layout-default\" data-section=\"section-primary-header-builder\">\\n       <div class=\"ast-builder-grid-row ast-builder-grid-row-has-sides ast-builder-grid-row-no-center\">\\n        <div class=\"site-header-primary-section-left site-header-section ast-flex site-header-section-left\">\\n         <div class=\"ast-builder-layout-element ast-flex site-header-focus-item\" data-section=\"title_tagline\">\\n          <div class=\"site-branding ast-site-identity\" itemscope=\"itemscope\" itemtype=\"https://schema.org/Organization\">\\n           <span class=\"site-logo-img\">\\n            <a aria-current=\"page\" class=\"custom-logo-link\" href=\"https://avto-viraj.ru/\" rel=\"home\">\\n             <img alt=\\'Автошкола \"Вираж\"\\' class=\"custom-logo\" height=\"39\" src=\"https://avto-viraj.ru/wp-content/uploads/2021/04/cropped-logo.png\" width=\"231\"/>\\n            </a>\\n           </span>\\n          </div>\\n          <!-- .site-branding -->\\n         </div>\\n        </div>\\n        <div class=\"site-header-primary-section-right site-header-section ast-flex ast-grid-right-section\">\\n         <div class=\"ast-builder-layout-element ast-flex site-header-focus-item\" data-section=\"section-header-mobile-trigger\">\\n          <div class=\"ast-button-wrap\">\\n           <button aria-expanded=\"false\" class=\"menu-toggle main-header-menu-toggle ast-mobile-menu-trigger-fill\" type=\"button\">\\n            <span class=\"screen-reader-text\">\\n             Main Menu\\n            </span>\\n            <span class=\"mobile-menu-toggle-icon\">\\n             <span class=\"ahfb-svg-iconset ast-inline-flex svg-baseline\">\\n              <svg aria-labelledby=\"menu\" class=\"ast-mobile-svg ast-menu-svg\" fill=\"currentColor\" height=\"24\" version=\"1.1\" viewbox=\"0 0 24 24\" width=\"24\" xmlns=\"http://www.w3.org/2000/svg\">\\n               <path d=\"M3 13h18c0.552 0 1-0.448 1-1s-0.448-1-1-1h-18c-0.552 0-1 0.448-1 1s0.448 1 1 1zM3 7h18c0.552 0 1-0.448 1-1s-0.448-1-1-1h-18c-0.552 0-1 0.448-1 1s0.448 1 1 1zM3 19h18c0.552 0 1-0.448 1-1s-0.448-1-1-1h-18c-0.552 0-1 0.448-1 1s0.448 1 1 1z\">\\n               </path>\\n              </svg>\\n             </span>\\n             <span class=\"ahfb-svg-iconset ast-inline-flex svg-baseline\">\\n              <svg aria-labelledby=\"menu-toggle-close\" class=\"ast-mobile-svg ast-close-svg\" fill=\"currentColor\" height=\"24\" version=\"1.1\" viewbox=\"0 0 24 24\" width=\"24\" xmlns=\"http://www.w3.org/2000/svg\">\\n               <path d=\"M5.293 6.707l5.293 5.293-5.293 5.293c-0.391 0.391-0.391 1.024 0 1.414s1.024 0.391 1.414 0l5.293-5.293 5.293 5.293c0.391 0.391 1.024 0.391 1.414 0s0.391-1.024 0-1.414l-5.293-5.293 5.293-5.293c0.391-0.391 0.391-1.024 0-1.414s-1.024-0.391-1.414 0l-5.293 5.293-5.293-5.293c-0.391-0.391-1.024-0.391-1.414 0s-0.391 1.024 0 1.414z\">\\n               </path>\\n              </svg>\\n             </span>\\n            </span>\\n           </button>\\n          </div>\\n         </div>\\n        </div>\\n       </div>\\n      </div>\\n     </div>\\n     <div class=\"ast-mobile-header-content content-align-flex-start \">\\n      <div class=\"ast-builder-menu-1 ast-builder-menu ast-flex ast-builder-menu-1-focus-item ast-builder-layout-element site-header-focus-item\" data-section=\"section-hb-menu-1\">\\n       <div class=\"ast-main-header-bar-alignment\">\\n        <div class=\"main-header-bar-navigation\">\\n         <nav aria-label=\"Навигация по сайту\" class=\"ast-flex-grow-1 navigation-accessibility site-header-focus-item\" id=\"site-navigation\" itemscope=\"itemscope\" itemtype=\"https://schema.org/SiteNavigationElement\">\\n          <div class=\"main-navigation ast-inline-flex\">\\n           <ul class=\"main-header-menu ast-nav-menu ast-flex submenu-with-border ast-menu-hover-style-underline stack-on-mobile\" id=\"ast-hf-menu-1\">\\n            <li class=\"menu-item menu-item-type-post_type menu-item-object-page menu-item-home current-menu-item page_item page-item-1183 current_page_item menu-item-16\">\\n             <a aria-current=\"page\" class=\"menu-link\" href=\"https://avto-viraj.ru/\">\\n              Главная\\n             </a>\\n            </li>\\n            <li class=\"menu-item menu-item-type-post_type menu-item-object-page menu-item-1438\">\\n             <a class=\"menu-link\" href=\"https://avto-viraj.ru/kategoriya-a/\">\\n              Категория A\\n             </a>\\n            </li>\\n            <li class=\"menu-item menu-item-type-post_type menu-item-object-page menu-item-has-children menu-item-1437\">\\n             <a class=\"menu-link\" href=\"https://avto-viraj.ru/kategoriya-b/\">\\n              Категория B\\n             </a>\\n             <button aria-expanded=\"false\" class=\"ast-menu-toggle\">\\n              <span class=\"screen-reader-text\">\\n               Переключатель меню\\n              </span>\\n             </button>\\n             <ul class=\"sub-menu\">\\n              <li class=\"menu-item menu-item-type-post_type menu-item-object-page menu-item-1453\">\\n               <a class=\"menu-link\" href=\"https://avto-viraj.ru/kategoriya-b/akpp/\">\\n                Обучение вождению на АКПП\\n               </a>\\n              </li>\\n              <li class=\"menu-item menu-item-type-post_type menu-item-object-page menu-item-1454\">\\n               <a class=\"menu-link\" href=\"https://avto-viraj.ru/kategoriya-b/voditelskoe-remeslo/\">\\n                Водительское ремесло\\n               </a>\\n              </li>\\n              <li class=\"menu-item menu-item-type-post_type menu-item-object-page menu-item-1455\">\\n               <a class=\"menu-link\" href=\"https://avto-viraj.ru/kategoriya-b/obuchenie-kategorii-b/\">\\n                Обучение вождению категории B\\n               </a>\\n              </li>\\n              <li class=\"menu-item menu-item-type-post_type menu-item-object-page menu-item-1456\">\\n               <a class=\"menu-link\" href=\"https://avto-viraj.ru/kategoriya-b/avtotrenazhyor-avtoshkoly/\">\\n                Автотренажёр автошколы — современные технологии\\n               </a>\\n              </li>\\n             </ul>\\n            </li>\\n            <li class=\"menu-item menu-item-type-post_type menu-item-object-page menu-item-has-children menu-item-17\">\\n             <a class=\"menu-link\" href=\"https://avto-viraj.ru/svedeniya-ob-organizacii/\">\\n              Сведения об организации\\n             </a>\\n             <button aria-expanded=\"false\" class=\"ast-menu-toggle\">\\n              <span class=\"screen-reader-text\">\\n               Переключатель меню\\n              </span>\\n             </button>\\n             <ul class=\"sub-menu\">\\n              <li class=\"menu-item menu-item-type-post_type menu-item-object-page menu-item-1442\">\\n               <a class=\"menu-link\" href=\"https://avto-viraj.ru/svedeniya-ob-organizacii/osnovnye-svedeniya/\">\\n                Основные сведения\\n               </a>\\n              </li>\\n              <li class=\"menu-item menu-item-type-post_type menu-item-object-page menu-item-1439\">\\n               <a class=\"menu-link\" href=\"https://avto-viraj.ru/svedeniya-ob-organizacii/dokumenty/\">\\n                Документы\\n               </a>\\n              </li>\\n              <li class=\"menu-item menu-item-type-post_type menu-item-object-page menu-item-1441\">\\n               <a class=\"menu-link\" href=\"https://avto-viraj.ru/svedeniya-ob-organizacii/obrazovanie/\">\\n                Образование\\n               </a>\\n              </li>\\n              <li class=\"menu-item menu-item-type-post_type menu-item-object-page menu-item-1440\">\\n               <a class=\"menu-link\" href=\"https://avto-viraj.ru/svedeniya-ob-organizacii/materialno-tehnicheskoe-obespechenie/\">\\n                Материально-техническое обеспечение\\n               </a>\\n              </li>\\n              <li class=\"menu-item menu-item-type-post_type menu-item-object-page menu-item-1443\">\\n               <a class=\"menu-link\" href=\"https://avto-viraj.ru/svedeniya-ob-organizacii/platnye-obrazovatelnye-uslugi/\">\\n                Платные образовательные услуги\\n               </a>\\n              </li>\\n              <li class=\"menu-item menu-item-type-post_type menu-item-object-page menu-item-1444\">\\n               <a class=\"menu-link\" href=\"https://avto-viraj.ru/svedeniya-ob-organizacii/finansovo-hozyajstvennaya-deyatelnost/\">\\n                Финансово хозяйственная деятельность\\n               </a>\\n              </li>\\n             </ul>\\n            </li>\\n            <li class=\"menu-item menu-item-type-post_type menu-item-object-page menu-item-20\">\\n             <a class=\"menu-link\" href=\"https://avto-viraj.ru/contact/\">\\n              Контакты\\n             </a>\\n            </li>\\n           </ul>\\n          </div>\\n         </nav>\\n        </div>\\n       </div>\\n      </div>\\n     </div>\\n    </div>\\n   </header>\\n   <!-- #masthead -->\\n   <div class=\"site-content\" id=\"content\">\\n    <div class=\"ast-container\">\\n     <div class=\"content-area primary\" id=\"primary\">\\n      <main class=\"site-main\" id=\"main\">\\n       <article class=\"post-1183 page type-page status-publish ast-article-single\" id=\"post-1183\" itemscope=\"itemscope\" itemtype=\"https://schema.org/CreativeWork\">\\n        <header class=\"entry-header ast-header-without-markup\">\\n        </header>\\n        <!-- .entry-header -->\\n        <div class=\"entry-content clear\" itemprop=\"text\">\\n         <div class=\"elementor elementor-1183\" data-elementor-id=\"1183\" data-elementor-settings=\"[]\" data-elementor-type=\"wp-page\">\\n          <div class=\"elementor-section-wrap\">\\n           <section class=\"elementor-section elementor-top-section elementor-element elementor-element-28df5a0 elementor-section-height-full elementor-section-boxed elementor-section-height-default elementor-section-items-middle\" data-element_type=\"section\" data-id=\"28df5a0\" data-settings=\\'{\"background_background\":\"classic\"}\\'>\\n            <div class=\"elementor-container elementor-column-gap-no\">\\n             <div class=\"elementor-column elementor-col-100 elementor-top-column elementor-element elementor-element-db24748\" data-element_type=\"column\" data-id=\"db24748\" data-settings=\\'{\"background_background\":\"classic\"}\\'>\\n              <div class=\"elementor-widget-wrap elementor-element-populated\">\\n               <div class=\"elementor-element elementor-element-d65bbe4 elementor-invisible elementor-widget elementor-widget-heading\" data-element_type=\"widget\" data-id=\"d65bbe4\" data-settings=\\'{\"_animation\":\"fadeIn\",\"_animation_delay\":\"200\"}\\' data-widget_type=\"heading.default\">\\n                <div class=\"elementor-widget-container\">\\n                 <h1 class=\"elementor-heading-title elementor-size-default\">\\n                  Автошкола \"Вираж\"\\n                 </h1>\\n                </div>\\n               </div>\\n               <div class=\"elementor-element elementor-element-2201d85 elementor-widget elementor-widget-text-editor\" data-element_type=\"widget\" data-id=\"2201d85\" data-widget_type=\"text-editor.default\">\\n                <div class=\"elementor-widget-container\">\\n                 <div class=\"elementor-text-editor elementor-clearfix\">\\n                  <p>\\n                   <strong>\\n                    ПОЛУЧИТЕ ПРАВА ЗА 2.5 МЕСЯЦА\\n                   </strong>\\n                   <br/>\\n                   <strong>\\n                    БЕЗ ЛИШНИХ РАСХОДОВ И ПЕРЕПЛАТ\\n                   </strong>\\n                  </p>\\n                 </div>\\n                </div>\\n               </div>\\n               <div class=\"elementor-element elementor-element-e0c9162 elementor-mobile-align-center elementor-align-left elementor-widget elementor-widget-button\" data-element_type=\"widget\" data-id=\"e0c9162\" data-widget_type=\"button.default\">\\n                <div class=\"elementor-widget-container\">\\n                 <div class=\"elementor-button-wrapper\">\\n                  <a class=\"elementor-button-link elementor-button elementor-size-lg\" href=\"#elementor-action%3Aaction%3Dpopup%3Aopen%26settings%3DeyJpZCI6IjE0NjgiLCJ0b2dnbGUiOmZhbHNlfQ%3D%3D\" role=\"button\">\\n                   <span class=\"elementor-button-content-wrapper\">\\n                    <span class=\"elementor-button-icon elementor-align-icon-right\">\\n                     <i aria-hidden=\"true\" class=\"fas fa-long-arrow-alt-right\">\\n                     </i>\\n                    </span>\\n                    <span class=\"elementor-button-text\">\\n                     Записаться в автошколу\\n                    </span>\\n                   </span>\\n                  </a>\\n                 </div>\\n                </div>\\n               </div>\\n               <div class=\"elementor-element elementor-element-be5eff5 elementor-search-form--skin-classic elementor-search-form--button-type-icon elementor-search-form--icon-search elementor-widget elementor-widget-search-form\" data-element_type=\"widget\" data-id=\"be5eff5\" data-settings=\\'{\"skin\":\"classic\"}\\' data-widget_type=\"search-form.default\">\\n                <div class=\"elementor-widget-container\">\\n                 <form action=\"https://avto-viraj.ru\" class=\"elementor-search-form\" method=\"get\" role=\"search\">\\n                  <div class=\"elementor-search-form__container\">\\n                   <input class=\"elementor-search-form__input\" name=\"s\" placeholder=\"Поиск по сайту...\" title=\"Search\" type=\"search\" value=\"\"/>\\n                   <button aria-label=\"Search\" class=\"elementor-search-form__submit\" title=\"Search\" type=\"submit\">\\n                    <i aria-hidden=\"true\" class=\"fa fa-search\">\\n                    </i>\\n                    <span class=\"elementor-screen-only\">\\n                     Search\\n                    </span>\\n                   </button>\\n                  </div>\\n                 </form>\\n                </div>\\n               </div>\\n              </div>\\n             </div>\\n            </div>\\n           </section>\\n           <section class=\"elementor-section elementor-top-section elementor-element elementor-element-25bb8b5 elementor-section-boxed elementor-section-height-default elementor-section-height-default\" data-element_type=\"section\" data-id=\"25bb8b5\">\\n            <div class=\"elementor-container elementor-column-gap-default\">\\n             <div class=\"elementor-column elementor-col-50 elementor-top-column elementor-element elementor-element-6aab728\" data-element_type=\"column\" data-id=\"6aab728\">\\n              <div class=\"elementor-widget-wrap elementor-element-populated\">\\n               <div class=\"elementor-element elementor-element-41bafc2 elementor-widget elementor-widget-heading\" data-element_type=\"widget\" data-id=\"41bafc2\" data-widget_type=\"heading.default\">\\n                <div class=\"elementor-widget-container\">\\n                 <h2 class=\"elementor-heading-title elementor-size-default\">\\n                  О нас\\n                 </h2>\\n                </div>\\n               </div>\\n               <div class=\"elementor-element elementor-element-e60ef35 elementor-widget elementor-widget-text-editor\" data-element_type=\"widget\" data-id=\"e60ef35\" data-widget_type=\"text-editor.default\">\\n                <div class=\"elementor-widget-container\">\\n                 <div class=\"elementor-text-editor elementor-clearfix\">\\n                  <p>\\n                   Наша автошкола успешно работает уже 10 лет. За это время у нас прошли обучение более 3 000 человек . К нам обращаются не только коломенцы, но и жители других городов. Большое количество студентов приезжают учиться из Воскресенска, Зарайска, Озер и Ступино по рекомендации своих знакомых, закончивших наше учебное заведение.\\n                  </p>\\n                  <p>\\n                   Наши преподаватели отличаются высоким профессионализмом, имеют высшее педагогическое образование, солидный водительский стаж и многолетний опыт работы.\\n                  </p>\\n                  <p>\\n                   Цель нашей автошколы — помогать людям получать свободу передвижения и удовольствие от вождения. Для нас важно, чтобы наши клиенты перестали бояться водить автомобиль по оживленным улицам города, чувствовали себя спокойно и уверенно.\\n                  </p>\\n                 </div>\\n                </div>\\n               </div>\\n              </div>\\n             </div>\\n             <div class=\"elementor-column elementor-col-50 elementor-top-column elementor-element elementor-element-d6f87d3\" data-element_type=\"column\" data-id=\"d6f87d3\">\\n              <div class=\"elementor-widget-wrap elementor-element-populated\">\\n               <div class=\"elementor-element elementor-element-6631cdf elementor-aspect-ratio-169 elementor-widget elementor-widget-video\" data-element_type=\"widget\" data-id=\"6631cdf\" data-settings=\\'{\"youtube_url\":\"https:\\\\/\\\\/www.youtube.com\\\\/watch?v=643AQ7SO38c&amp;feature=youtu.be\",\"lazy_load\":\"yes\",\"video_type\":\"youtube\",\"controls\":\"yes\",\"aspect_ratio\":\"169\"}\\' data-widget_type=\"video.default\">\\n                <div class=\"elementor-widget-container\">\\n                 <div class=\"elementor-wrapper elementor-fit-aspect-ratio elementor-open-inline\">\\n                  <div class=\"elementor-video\">\\n                  </div>\\n                 </div>\\n                </div>\\n               </div>\\n              </div>\\n             </div>\\n            </div>\\n           </section>\\n           <section class=\"elementor-section elementor-top-section elementor-element elementor-element-0a507d2 elementor-section-boxed elementor-section-height-default elementor-section-height-default\" data-element_type=\"section\" data-id=\"0a507d2\">\\n            <div class=\"elementor-container elementor-column-gap-default\">\\n             <div class=\"elementor-column elementor-col-100 elementor-top-column elementor-element elementor-element-e53a840\" data-element_type=\"column\" data-id=\"e53a840\">\\n              <div class=\"elementor-widget-wrap elementor-element-populated\">\\n               <div class=\"elementor-element elementor-element-25cec19 elementor-widget elementor-widget-text-editor\" data-element_type=\"widget\" data-id=\"25cec19\" data-widget_type=\"text-editor.default\">\\n                <div class=\"elementor-widget-container\">\\n                 <div class=\"elementor-text-editor elementor-clearfix\">\\n                  <p>\\n                   При обучении вождению автомобиля в нашей автошколе, мы учим не только водить автомобиль, но и самое главное прогнозировать и управлять ситуацией вокруг автомобиля. Эти умения дают большие преимущества, при движении в плотных потоках автомобилей и помогают не совершать ошибок.\\n                  </p>\\n                 </div>\\n                </div>\\n               </div>\\n              </div>\\n             </div>\\n            </div>\\n           </section>\\n           <section class=\"elementor-section elementor-top-section elementor-element elementor-element-5851200 elementor-section-content-middle elementor-hidden-phone elementor-section-boxed elementor-section-height-default elementor-section-height-default\" data-element_type=\"section\" data-id=\"5851200\" data-settings=\\'{\"background_background\":\"classic\"}\\'>\\n            <div class=\"elementor-container elementor-column-gap-no\">\\n             <div class=\"elementor-column elementor-col-100 elementor-top-column elementor-element elementor-element-0fe39c9\" data-element_type=\"column\" data-id=\"0fe39c9\">\\n              <div class=\"elementor-widget-wrap elementor-element-populated\">\\n               <section class=\"elementor-section elementor-inner-section elementor-element elementor-element-4e78609 elementor-section-boxed elementor-section-height-default elementor-section-height-default\" data-element_type=\"section\" data-id=\"4e78609\">\\n                <div class=\"elementor-container elementor-column-gap-no\">\\n                 <div class=\"elementor-column elementor-col-25 elementor-inner-column elementor-element elementor-element-ecc0068\" data-element_type=\"column\" data-id=\"ecc0068\" data-settings=\\'{\"background_background\":\"classic\"}\\'>\\n                  <div class=\"elementor-widget-wrap elementor-element-populated\">\\n                   <div class=\"elementor-element elementor-element-0964494 elementor-position-top elementor-vertical-align-top elementor-widget elementor-widget-image-box\" data-element_type=\"widget\" data-id=\"0964494\" data-widget_type=\"image-box.default\">\\n                    <div class=\"elementor-widget-container\">\\n                     <div class=\"elementor-image-box-wrapper\">\\n                      <figure class=\"elementor-image-box-img\">\\n                       <img alt=\"\" class=\"attachment-full size-full\" height=\"90\" loading=\"lazy\" src=\"https://avto-viraj.ru/wp-content/uploads/2021/04/message.png\" width=\"90\"/>\\n                      </figure>\\n                      <div class=\"elementor-image-box-content\">\\n                       <h3 class=\"elementor-image-box-title\">\\n                        Высокопрофессиональные преподаватели\\n                       </h3>\\n                      </div>\\n                     </div>\\n                    </div>\\n                   </div>\\n                  </div>\\n                 </div>\\n                 <div class=\"elementor-column elementor-col-25 elementor-inner-column elementor-element elementor-element-f5b0d9b\" data-element_type=\"column\" data-id=\"f5b0d9b\" data-settings=\\'{\"background_background\":\"classic\"}\\'>\\n                  <div class=\"elementor-widget-wrap elementor-element-populated\">\\n                   <div class=\"elementor-element elementor-element-b04ebe1 elementor-position-top elementor-vertical-align-top elementor-widget elementor-widget-image-box\" data-element_type=\"widget\" data-id=\"b04ebe1\" data-widget_type=\"image-box.default\">\\n                    <div class=\"elementor-widget-container\">\\n                     <div class=\"elementor-image-box-wrapper\">\\n                      <figure class=\"elementor-image-box-img\">\\n                       <img alt=\"\" class=\"attachment-full size-full\" height=\"90\" loading=\"lazy\" src=\"https://avto-viraj.ru/wp-content/uploads/2021/04/koleso.png\" width=\"90\"/>\\n                      </figure>\\n                      <div class=\"elementor-image-box-content\">\\n                       <h3 class=\"elementor-image-box-title\">\\n                        Современные автомобили для обучения\\n                       </h3>\\n                      </div>\\n                     </div>\\n                    </div>\\n                   </div>\\n                  </div>\\n                 </div>\\n                 <div class=\"elementor-column elementor-col-25 elementor-inner-column elementor-element elementor-element-b6261c7\" data-element_type=\"column\" data-id=\"b6261c7\" data-settings=\\'{\"background_background\":\"classic\"}\\'>\\n                  <div class=\"elementor-widget-wrap elementor-element-populated\">\\n                   <div class=\"elementor-element elementor-element-01b36b0 elementor-position-top elementor-vertical-align-top elementor-widget elementor-widget-image-box\" data-element_type=\"widget\" data-id=\"01b36b0\" data-widget_type=\"image-box.default\">\\n                    <div class=\"elementor-widget-container\">\\n                     <div class=\"elementor-image-box-wrapper\">\\n                      <figure class=\"elementor-image-box-img\">\\n                       <img alt=\"\" class=\"attachment-full size-full\" height=\"90\" loading=\"lazy\" src=\"https://avto-viraj.ru/wp-content/uploads/2021/04/people.png\" width=\"90\"/>\\n                      </figure>\\n                      <div class=\"elementor-image-box-content\">\\n                       <h3 class=\"elementor-image-box-title\">\\n                        Онлайн-обучение не выходя из дома\\n                       </h3>\\n                      </div>\\n                     </div>\\n                    </div>\\n                   </div>\\n                  </div>\\n                 </div>\\n                 <div class=\"elementor-column elementor-col-25 elementor-inner-column elementor-element elementor-element-63261fa\" data-element_type=\"column\" data-id=\"63261fa\" data-settings=\\'{\"background_background\":\"classic\"}\\'>\\n                  <div class=\"elementor-widget-wrap elementor-element-populated\">\\n                   <div class=\"elementor-element elementor-element-d858444 elementor-position-top elementor-vertical-align-top elementor-widget elementor-widget-image-box\" data-element_type=\"widget\" data-id=\"d858444\" data-widget_type=\"image-box.default\">\\n                    <div class=\"elementor-widget-container\">\\n                     <div class=\"elementor-image-box-wrapper\">\\n                      <figure class=\"elementor-image-box-img\">\\n                       <img alt=\"\" class=\"attachment-full size-full\" height=\"90\" loading=\"lazy\" src=\"https://avto-viraj.ru/wp-content/uploads/2021/04/gramot-1.png\" width=\"90\"/>\\n                      </figure>\\n                      <div class=\"elementor-image-box-content\">\\n                       <h3 class=\"elementor-image-box-title\">\\n                        3 учебных класса и площадка в центре города\\n                       </h3>\\n                      </div>\\n                     </div>\\n                    </div>\\n                   </div>\\n                  </div>\\n                 </div>\\n                </div>\\n               </section>\\n              </div>\\n             </div>\\n            </div>\\n           </section>\\n           <section class=\"elementor-section elementor-top-section elementor-element elementor-element-47d07ad elementor-section-content-middle elementor-hidden-desktop elementor-hidden-tablet elementor-section-boxed elementor-section-height-default elementor-section-height-default\" data-element_type=\"section\" data-id=\"47d07ad\" data-settings=\\'{\"background_background\":\"classic\"}\\'>\\n            <div class=\"elementor-container elementor-column-gap-no\">\\n             <div class=\"elementor-column elementor-col-100 elementor-top-column elementor-element elementor-element-8d94b32\" data-element_type=\"column\" data-id=\"8d94b32\">\\n              <div class=\"elementor-widget-wrap elementor-element-populated\">\\n               <section class=\"elementor-section elementor-inner-section elementor-element elementor-element-7731757 elementor-section-boxed elementor-section-height-default elementor-section-height-default\" data-element_type=\"section\" data-id=\"7731757\">\\n                <div class=\"elementor-container elementor-column-gap-no\">\\n                 <div class=\"elementor-column elementor-col-25 elementor-inner-column elementor-element elementor-element-4de6076\" data-element_type=\"column\" data-id=\"4de6076\" data-settings=\\'{\"background_background\":\"classic\"}\\'>\\n                  <div class=\"elementor-widget-wrap elementor-element-populated\">\\n                   <div class=\"elementor-element elementor-element-9225d15 elementor-position-top elementor-vertical-align-top elementor-widget elementor-widget-image-box\" data-element_type=\"widget\" data-id=\"9225d15\" data-widget_type=\"image-box.default\">\\n                    <div class=\"elementor-widget-container\">\\n                     <div class=\"elementor-image-box-wrapper\">\\n                      <figure class=\"elementor-image-box-img\">\\n                       <img alt=\"\" class=\"attachment-full size-full\" height=\"90\" loading=\"lazy\" src=\"https://avto-viraj.ru/wp-content/uploads/2021/04/message.png\" width=\"90\"/>\\n                      </figure>\\n                      <div class=\"elementor-image-box-content\">\\n                       <h3 class=\"elementor-image-box-title\">\\n                        Высокопрофессиональные преподаватели\\n                       </h3>\\n                      </div>\\n                     </div>\\n                    </div>\\n                   </div>\\n                  </div>\\n                 </div>\\n                 <div class=\"elementor-column elementor-col-25 elementor-inner-column elementor-element elementor-element-5138ff1\" data-element_type=\"column\" data-id=\"5138ff1\" data-settings=\\'{\"background_background\":\"classic\"}\\'>\\n                  <div class=\"elementor-widget-wrap elementor-element-populated\">\\n                   <div class=\"elementor-element elementor-element-6bb8dd5 elementor-position-top elementor-vertical-align-top elementor-widget elementor-widget-image-box\" data-element_type=\"widget\" data-id=\"6bb8dd5\" data-widget_type=\"image-box.default\">\\n                    <div class=\"elementor-widget-container\">\\n                     <div class=\"elementor-image-box-wrapper\">\\n                      <figure class=\"elementor-image-box-img\">\\n                       <img alt=\"\" class=\"attachment-full size-full\" height=\"90\" loading=\"lazy\" src=\"https://avto-viraj.ru/wp-content/uploads/2021/04/koleso.png\" width=\"90\"/>\\n                      </figure>\\n                      <div class=\"elementor-image-box-content\">\\n                       <h3 class=\"elementor-image-box-title\">\\n                        Современные автомобили для обучения\\n                       </h3>\\n                      </div>\\n                     </div>\\n                    </div>\\n                   </div>\\n                  </div>\\n                 </div>\\n                 <div class=\"elementor-column elementor-col-25 elementor-inner-column elementor-element elementor-element-9d08354\" data-element_type=\"column\" data-id=\"9d08354\" data-settings=\\'{\"background_background\":\"classic\"}\\'>\\n                  <div class=\"elementor-widget-wrap elementor-element-populated\">\\n                   <div class=\"elementor-element elementor-element-578ed54 elementor-position-top elementor-vertical-align-top elementor-widget elementor-widget-image-box\" data-element_type=\"widget\" data-id=\"578ed54\" data-widget_type=\"image-box.default\">\\n                    <div class=\"elementor-widget-container\">\\n                     <div class=\"elementor-image-box-wrapper\">\\n                      <figure class=\"elementor-image-box-img\">\\n                       <img alt=\"\" class=\"attachment-full size-full\" height=\"90\" loading=\"lazy\" src=\"https://avto-viraj.ru/wp-content/uploads/2021/04/people.png\" width=\"90\"/>\\n                      </figure>\\n                      <div class=\"elementor-image-box-content\">\\n                       <h3 class=\"elementor-image-box-title\">\\n                        Онлайн-обучение не выходя из дома\\n                       </h3>\\n                      </div>\\n                     </div>\\n                    </div>\\n                   </div>\\n                  </div>\\n                 </div>\\n                 <div class=\"elementor-column elementor-col-25 elementor-inner-column elementor-element elementor-element-77cf857\" data-element_type=\"column\" data-id=\"77cf857\" data-settings=\\'{\"background_background\":\"classic\"}\\'>\\n                  <div class=\"elementor-widget-wrap elementor-element-populated\">\\n                   <div class=\"elementor-element elementor-element-810336f elementor-position-top elementor-vertical-align-top elementor-widget elementor-widget-image-box\" data-element_type=\"widget\" data-id=\"810336f\" data-widget_type=\"image-box.default\">\\n                    <div class=\"elementor-widget-container\">\\n                     <div class=\"elementor-image-box-wrapper\">\\n                      <figure class=\"elementor-image-box-img\">\\n                       <img alt=\"\" class=\"attachment-full size-full\" height=\"90\" loading=\"lazy\" src=\"https://avto-viraj.ru/wp-content/uploads/2021/04/gramot-1.png\" width=\"90\"/>\\n                      </figure>\\n                      <div class=\"elementor-image-box-content\">\\n                       <h3 class=\"elementor-image-box-title\">\\n                        3 учебных класса и площадка в центре города\\n                       </h3>\\n                      </div>\\n                     </div>\\n                    </div>\\n                   </div>\\n                  </div>\\n                 </div>\\n                </div>\\n               </section>\\n              </div>\\n             </div>\\n            </div>\\n           </section>\\n           <section class=\"elementor-section elementor-top-section elementor-element elementor-element-c18454c elementor-section-content-middle elementor-section-boxed elementor-section-height-default elementor-section-height-default\" data-element_type=\"section\" data-id=\"c18454c\" data-settings=\\'{\"background_background\":\"gradient\"}\\'>\\n            <div class=\"elementor-background-overlay\">\\n            </div>\\n            <div class=\"elementor-container elementor-column-gap-no\">\\n             <div class=\"elementor-column elementor-col-33 elementor-top-column elementor-element elementor-element-c6727bb\" data-element_type=\"column\" data-id=\"c6727bb\" data-settings=\\'{\"background_background\":\"classic\"}\\'>\\n              <div class=\"elementor-widget-wrap elementor-element-populated\">\\n               <div class=\"elementor-element elementor-element-bf98d17 elementor-widget elementor-widget-image\" data-element_type=\"widget\" data-id=\"bf98d17\" data-widget_type=\"image.default\">\\n                <div class=\"elementor-widget-container\">\\n                 <div class=\"elementor-image\">\\n                  <img alt=\"\" class=\"attachment-large size-large\" height=\"1024\" loading=\"lazy\" sizes=\"(max-width: 812px) 100vw, 812px\" src=\"https://avto-viraj.ru/wp-content/uploads/2021/04/rcviz5z6x6o-812x1024.jpg\" srcset=\"https://avto-viraj.ru/wp-content/uploads/2021/04/rcviz5z6x6o-812x1024.jpg 812w, https://avto-viraj.ru/wp-content/uploads/2021/04/rcviz5z6x6o-238x300.jpg 238w, https://avto-viraj.ru/wp-content/uploads/2021/04/rcviz5z6x6o-768x969.jpg 768w, https://avto-viraj.ru/wp-content/uploads/2021/04/rcviz5z6x6o.jpg 856w\" width=\"812\"/>\\n                 </div>\\n                </div>\\n               </div>\\n              </div>\\n             </div>\\n             <div class=\"elementor-column elementor-col-66 elementor-top-column elementor-element elementor-element-a46a99b\" data-element_type=\"column\" data-id=\"a46a99b\" data-settings=\\'{\"background_background\":\"classic\"}\\'>\\n              <div class=\"elementor-widget-wrap elementor-element-populated\">\\n               <div class=\"elementor-element elementor-element-42a4a2b elementor-widget elementor-widget-heading\" data-element_type=\"widget\" data-id=\"42a4a2b\" data-widget_type=\"heading.default\">\\n                <div class=\"elementor-widget-container\">\\n                 <h3 class=\"elementor-heading-title elementor-size-default\">\\n                  Есть\\n                  <br/>\\n                  вопросы?\\n                 </h3>\\n                </div>\\n               </div>\\n               <div class=\"elementor-element elementor-element-31e66ba elementor-widget elementor-widget-text-editor\" data-element_type=\"widget\" data-id=\"31e66ba\" data-widget_type=\"text-editor.default\">\\n                <div class=\"elementor-widget-container\">\\n                 <div class=\"elementor-text-editor elementor-clearfix\">\\n                  <p>\\n                   Оставьте заявку на консультацию и мы свяжемся с вами\\n                  </p>\\n                 </div>\\n                </div>\\n               </div>\\n               <div class=\"elementor-element elementor-element-e383348 elementor-button-align-center elementor-widget elementor-widget-form\" data-element_type=\"widget\" data-id=\"e383348\" data-settings=\\'{\"step_next_label\":\"Next\",\"step_previous_label\":\"Previous\",\"button_width\":\"100\",\"step_type\":\"number_text\",\"step_icon_shape\":\"circle\"}\\' data-widget_type=\"form.default\">\\n                <div class=\"elementor-widget-container\">\\n                 <form class=\"elementor-form\" method=\"post\" name=\"New Form\">\\n                  <input name=\"post_id\" type=\"hidden\" value=\"1183\"/>\\n                  <input name=\"form_id\" type=\"hidden\" value=\"e383348\"/>\\n                  <input name=\"queried_id\" type=\"hidden\" value=\"1183\"/>\\n                  <div class=\"elementor-form-fields-wrapper elementor-labels-above\">\\n                   <div class=\"elementor-field-type-text elementor-field-group elementor-column elementor-field-group-name elementor-col-100\">\\n                    <input class=\"elementor-field elementor-size-sm elementor-field-textual\" id=\"form-field-name\" name=\"form_fields[name]\" placeholder=\"ФИО\" size=\"1\" type=\"text\"/>\\n                   </div>\\n                   <div class=\"elementor-field-type-tel elementor-field-group elementor-column elementor-field-group-email elementor-col-100 elementor-field-required\">\\n                    <input aria-required=\"true\" class=\"elementor-field elementor-size-sm elementor-field-textual\" id=\"form-field-email\" name=\"form_fields[email]\" pattern=\"[0-9()#&amp;+*-=.]+\" placeholder=\"Ваш телефон\" required=\"required\" size=\"1\" title=\"Only numbers and phone characters (#, -, *, etc) are accepted.\" type=\"tel\"/>\\n                   </div>\\n                   <div class=\"elementor-field-type-acceptance elementor-field-group elementor-column elementor-field-group-field_b1631b7 elementor-col-100\">\\n                    <div class=\"elementor-field-subgroup\">\\n                     <span class=\"elementor-field-option\">\\n                      <input class=\"elementor-field elementor-size-sm elementor-acceptance-field\" id=\"form-field-field_b1631b7\" name=\"form_fields[field_b1631b7]\" type=\"checkbox\"/>\\n                      <label for=\"form-field-field_b1631b7\">\\n                       Согласен(на) на обработку\\n                       <a href=\"https://avto-viraj.ru/privacy-policy/\">\\n                        персональных данных\\n                       </a>\\n                       .\\n                      </label>\\n                     </span>\\n                    </div>\\n                   </div>\\n                   <div class=\"elementor-field-group elementor-column elementor-field-type-submit elementor-col-100 e-form__buttons\">\\n                    <button class=\"elementor-button elementor-size-sm\" type=\"submit\">\\n                     <span>\\n                      <span class=\" elementor-button-icon\">\\n                      </span>\\n                      <span class=\"elementor-button-text\">\\n                       Отправить\\n                      </span>\\n                     </span>\\n                    </button>\\n                   </div>\\n                  </div>\\n                 </form>\\n                </div>\\n               </div>\\n              </div>\\n             </div>\\n            </div>\\n           </section>\\n           <section class=\"elementor-section elementor-top-section elementor-element elementor-element-19fab9c elementor-section-boxed elementor-section-height-default elementor-section-height-default\" data-element_type=\"section\" data-id=\"19fab9c\">\\n            <div class=\"elementor-container elementor-column-gap-default\">\\n             <div class=\"elementor-column elementor-col-100 elementor-top-column elementor-element elementor-element-71ef9b6\" data-element_type=\"column\" data-id=\"71ef9b6\">\\n              <div class=\"elementor-widget-wrap elementor-element-populated\">\\n               <div class=\"elementor-element elementor-element-6138492 elementor-widget elementor-widget-heading\" data-element_type=\"widget\" data-id=\"6138492\" data-widget_type=\"heading.default\">\\n                <div class=\"elementor-widget-container\">\\n                 <h2 class=\"elementor-heading-title elementor-size-default\">\\n                  Наши классы\\n                 </h2>\\n                </div>\\n               </div>\\n              </div>\\n             </div>\\n            </div>\\n           </section>\\n           <section class=\"elementor-section elementor-top-section elementor-element elementor-element-fe4e092 elementor-section-boxed elementor-section-height-default elementor-section-height-default\" data-element_type=\"section\" data-id=\"fe4e092\">\\n            <div class=\"elementor-container elementor-column-gap-default\">\\n             <div class=\"elementor-column elementor-col-33 elementor-top-column elementor-element elementor-element-335e937\" data-element_type=\"column\" data-id=\"335e937\">\\n              <div class=\"elementor-widget-wrap elementor-element-populated\">\\n               <div class=\"elementor-element elementor-element-bde9489 elementor-position-top elementor-vertical-align-top elementor-widget elementor-widget-image-box\" data-element_type=\"widget\" data-id=\"bde9489\" data-widget_type=\"image-box.default\">\\n                <div class=\"elementor-widget-container\">\\n                 <div class=\"elementor-image-box-wrapper\">\\n                  <figure class=\"elementor-image-box-img\">\\n                   <a href=\"https://avto-viraj.ru/svedeniya-ob-organizacii/materialno-tehnicheskoe-obespechenie/foro-klassa/\" target=\"_blank\">\\n                    <img alt=\"\" class=\"attachment-full size-full\" height=\"350\" loading=\"lazy\" sizes=\"(max-width: 550px) 100vw, 550px\" src=\"https://avto-viraj.ru/wp-content/uploads/2021/04/class_golutvin.jpg\" srcset=\"https://avto-viraj.ru/wp-content/uploads/2021/04/class_golutvin.jpg 550w, https://avto-viraj.ru/wp-content/uploads/2021/04/class_golutvin-300x191.jpg 300w\" width=\"550\"/>\\n                   </a>\\n                  </figure>\\n                  <div class=\"elementor-image-box-content\">\\n                   <h3 class=\"elementor-image-box-title\">\\n                    <a href=\"https://avto-viraj.ru/svedeniya-ob-organizacii/materialno-tehnicheskoe-obespechenie/foro-klassa/\" target=\"_blank\">\\n                     Класс в Голутвине\\n                    </a>\\n                   </h3>\\n                   <p class=\"elementor-image-box-description\">\\n                    г.Коломна, ул.Окт.Революции 368\\nТК \"Пикник\", 2 этаж\\n                   </p>\\n                  </div>\\n                 </div>\\n                </div>\\n               </div>\\n              </div>\\n             </div>\\n             <div class=\"elementor-column elementor-col-33 elementor-top-column elementor-element elementor-element-0dbf038\" data-element_type=\"column\" data-id=\"0dbf038\">\\n              <div class=\"elementor-widget-wrap elementor-element-populated\">\\n               <div class=\"elementor-element elementor-element-4fa5f05 elementor-position-top elementor-vertical-align-top elementor-widget elementor-widget-image-box\" data-element_type=\"widget\" data-id=\"4fa5f05\" data-widget_type=\"image-box.default\">\\n                <div class=\"elementor-widget-container\">\\n                 <div class=\"elementor-image-box-wrapper\">\\n                  <figure class=\"elementor-image-box-img\">\\n                   <a href=\"https://avto-viraj.ru/svedeniya-ob-organizacii/materialno-tehnicheskoe-obespechenie/klass-dobrolyubova/\" target=\"_blank\">\\n                    <img alt=\"\" class=\"attachment-full size-full\" height=\"350\" loading=\"lazy\" sizes=\"(max-width: 550px) 100vw, 550px\" src=\"https://avto-viraj.ru/wp-content/uploads/2021/04/class_office-1.jpg\" srcset=\"https://avto-viraj.ru/wp-content/uploads/2021/04/class_office-1.jpg 550w, https://avto-viraj.ru/wp-content/uploads/2021/04/class_office-1-300x191.jpg 300w\" width=\"550\"/>\\n                   </a>\\n                  </figure>\\n                  <div class=\"elementor-image-box-content\">\\n                   <h3 class=\"elementor-image-box-title\">\\n                    <a href=\"https://avto-viraj.ru/svedeniya-ob-organizacii/materialno-tehnicheskoe-obespechenie/klass-dobrolyubova/\" target=\"_blank\">\\n                     Центральный офис и класс\\n                    </a>\\n                   </h3>\\n                   <p class=\"elementor-image-box-description\">\\n                    г.Коломна, ул.Добролюбова, д.4\\nздание Мособлстрой-3, 2 этаж\\n                   </p>\\n                  </div>\\n                 </div>\\n                </div>\\n               </div>\\n              </div>\\n             </div>\\n             <div class=\"elementor-column elementor-col-33 elementor-top-column elementor-element elementor-element-67b234b\" data-element_type=\"column\" data-id=\"67b234b\">\\n              <div class=\"elementor-widget-wrap elementor-element-populated\">\\n               <div class=\"elementor-element elementor-element-4cbcb59 elementor-position-top elementor-vertical-align-top elementor-widget elementor-widget-image-box\" data-element_type=\"widget\" data-id=\"4cbcb59\" data-widget_type=\"image-box.default\">\\n                <div class=\"elementor-widget-container\">\\n                 <div class=\"elementor-image-box-wrapper\">\\n                  <figure class=\"elementor-image-box-img\">\\n                   <a href=\"https://avto-viraj.ru/svedeniya-ob-organizacii/materialno-tehnicheskoe-obespechenie/klass-kolychevo/\" target=\"_blank\">\\n                    <img alt=\"\" class=\"attachment-full size-full\" height=\"350\" loading=\"lazy\" sizes=\"(max-width: 550px) 100vw, 550px\" src=\"https://avto-viraj.ru/wp-content/uploads/2021/04/class_devpole.jpg\" srcset=\"https://avto-viraj.ru/wp-content/uploads/2021/04/class_devpole.jpg 550w, https://avto-viraj.ru/wp-content/uploads/2021/04/class_devpole-300x191.jpg 300w\" width=\"550\"/>\\n                   </a>\\n                  </figure>\\n                  <div class=\"elementor-image-box-content\">\\n                   <h3 class=\"elementor-image-box-title\">\\n                    <a href=\"https://avto-viraj.ru/svedeniya-ob-organizacii/materialno-tehnicheskoe-obespechenie/klass-kolychevo/\" target=\"_blank\">\\n                     Класс в Колычево\\n                    </a>\\n                   </h3>\\n                   <p class=\"elementor-image-box-description\">\\n                    г.Коломна, ул.Гаврилова, д.4 пом.25\\nТК \"Девичье поле\", 3 этаж\\n                   </p>\\n                  </div>\\n                 </div>\\n                </div>\\n               </div>\\n              </div>\\n             </div>\\n            </div>\\n           </section>\\n           <section class=\"elementor-section elementor-top-section elementor-element elementor-element-c7b4817 elementor-section-boxed elementor-section-height-default elementor-section-height-default\" data-element_type=\"section\" data-id=\"c7b4817\">\\n            <div class=\"elementor-container elementor-column-gap-default\">\\n             <div class=\"elementor-column elementor-col-100 elementor-top-column elementor-element elementor-element-01ed813\" data-element_type=\"column\" data-id=\"01ed813\">\\n              <div class=\"elementor-widget-wrap elementor-element-populated\">\\n               <section class=\"elementor-section elementor-inner-section elementor-element elementor-element-8075862 elementor-section-boxed elementor-section-height-default elementor-section-height-default\" data-element_type=\"section\" data-id=\"8075862\">\\n                <div class=\"elementor-container elementor-column-gap-default\">\\n                 <div class=\"elementor-column elementor-col-100 elementor-inner-column elementor-element elementor-element-0081235\" data-element_type=\"column\" data-id=\"0081235\">\\n                  <div class=\"elementor-widget-wrap elementor-element-populated\">\\n                   <div class=\"elementor-element elementor-element-3079dae elementor-widget elementor-widget-heading\" data-element_type=\"widget\" data-id=\"3079dae\" data-widget_type=\"heading.default\">\\n                    <div class=\"elementor-widget-container\">\\n                     <h2 class=\"elementor-heading-title elementor-size-default\">\\n                      Наши преподаватели\\n                     </h2>\\n                    </div>\\n                   </div>\\n                   <div class=\"elementor-element elementor-element-3e1738b elementor-widget elementor-widget-text-editor\" data-element_type=\"widget\" data-id=\"3e1738b\" data-widget_type=\"text-editor.default\">\\n                    <div class=\"elementor-widget-container\">\\n                     <div class=\"elementor-text-editor elementor-clearfix\">\\n                      <div>\\n                       У нас работают высококвалифицированные инструкторы вождения\\n                      </div>\\n                      <div>\\n                       и опытнейшие преподаватели теоретического курса\\n                      </div>\\n                     </div>\\n                    </div>\\n                   </div>\\n                  </div>\\n                 </div>\\n                </div>\\n               </section>\\n               <section class=\"elementor-section elementor-inner-section elementor-element elementor-element-03ed7b8 elementor-section-boxed elementor-section-height-default elementor-section-height-default\" data-element_type=\"section\" data-id=\"03ed7b8\">\\n                <div class=\"elementor-container elementor-column-gap-default\">\\n                 <div class=\"elementor-column elementor-col-100 elementor-inner-column elementor-element elementor-element-bf902d7\" data-element_type=\"column\" data-id=\"bf902d7\">\\n                  <div class=\"elementor-widget-wrap elementor-element-populated\">\\n                   <div class=\"elementor-element elementor-element-2124bc1 elementor-testimonial--skin-default elementor-testimonial--layout-image_inline elementor-testimonial--align-center elementor-arrows-yes elementor-pagination-type-bullets elementor-widget elementor-widget-testimonial-carousel\" data-element_type=\"widget\" data-id=\"2124bc1\" data-settings=\\'{\"slides_per_view\":\"2\",\"show_arrows\":\"yes\",\"pagination\":\"bullets\",\"speed\":500,\"autoplay\":\"yes\",\"autoplay_speed\":5000,\"loop\":\"yes\",\"pause_on_hover\":\"yes\",\"pause_on_interaction\":\"yes\",\"space_between\":{\"unit\":\"px\",\"size\":10,\"sizes\":[]},\"space_between_tablet\":{\"unit\":\"px\",\"size\":10,\"sizes\":[]},\"space_between_mobile\":{\"unit\":\"px\",\"size\":10,\"sizes\":[]}}\\' data-widget_type=\"testimonial-carousel.default\">\\n                    <div class=\"elementor-widget-container\">\\n                     <div class=\"elementor-swiper\">\\n                      <div class=\"elementor-main-swiper swiper-container\">\\n                       <div class=\"swiper-wrapper\">\\n                        <div class=\"swiper-slide\">\\n                         <div class=\"elementor-testimonial\">\\n                          <div class=\"elementor-testimonial__content\">\\n                           <div class=\"elementor-testimonial__text\">\\n                            Мастер обучения категория: В\\nстаж работы: 15 лет\\n                           </div>\\n                          </div>\\n                          <div class=\"elementor-testimonial__footer\">\\n                           <div class=\"elementor-testimonial__image\">\\n                            <img alt=\"Макаров\" src=\"https://avto-viraj.ru/wp-content/uploads/2021/04/prep_09.jpg\"/>\\n                           </div>\\n                           <cite class=\"elementor-testimonial__cite\">\\n                            <span class=\"elementor-testimonial__name\">\\n                             Макаров\\n                            </span>\\n                            <span class=\"elementor-testimonial__title\">\\n                             Григорий Федорович\\n                            </span>\\n                           </cite>\\n                          </div>\\n                         </div>\\n                        </div>\\n                        <div class=\"swiper-slide\">\\n                         <div class=\"elementor-testimonial\">\\n                          <div class=\"elementor-testimonial__content\">\\n                           <div class=\"elementor-testimonial__text\">\\n                            Мастер обучения категории А\\nстаж работы: 15 лет.\\n                           </div>\\n                          </div>\\n                          <div class=\"elementor-testimonial__footer\">\\n                           <div class=\"elementor-testimonial__image\">\\n                            <img alt=\"Лентищев\" src=\"https://avto-viraj.ru/wp-content/uploads/2021/04/prep_08.jpg\"/>\\n                           </div>\\n                           <cite class=\"elementor-testimonial__cite\">\\n                            <span class=\"elementor-testimonial__name\">\\n                             Лентищев\\n                            </span>\\n                            <span class=\"elementor-testimonial__title\">\\n                             Михаил Юрьевич\\n                            </span>\\n                           </cite>\\n                          </div>\\n                         </div>\\n                        </div>\\n                        <div class=\"swiper-slide\">\\n                         <div class=\"elementor-testimonial\">\\n                          <div class=\"elementor-testimonial__content\">\\n                           <div class=\"elementor-testimonial__text\">\\n                            Мастер обучения категории А\\n                           </div>\\n                          </div>\\n                          <div class=\"elementor-testimonial__footer\">\\n                           <div class=\"elementor-testimonial__image\">\\n                            <img alt=\"Ракшин\" src=\"https://avto-viraj.ru/wp-content/uploads/2021/04/snimok.jpg\"/>\\n                           </div>\\n                           <cite class=\"elementor-testimonial__cite\">\\n                            <span class=\"elementor-testimonial__name\">\\n                             Ракшин\\n                            </span>\\n                            <span class=\"elementor-testimonial__title\">\\n                             Андрей Андреевич\\n                            </span>\\n                           </cite>\\n                          </div>\\n                         </div>\\n                        </div>\\n                        <div class=\"swiper-slide\">\\n                         <div class=\"elementor-testimonial\">\\n                          <div class=\"elementor-testimonial__content\">\\n                           <div class=\"elementor-testimonial__text\">\\n                            Директор автошколы\\n                           </div>\\n                          </div>\\n                          <div class=\"elementor-testimonial__footer\">\\n                           <div class=\"elementor-testimonial__image\">\\n                            <img alt=\"Копетинский\" src=\"https://avto-viraj.ru/wp-content/uploads/2021/04/hkgg.jpg\"/>\\n                           </div>\\n                           <cite class=\"elementor-testimonial__cite\">\\n                            <span class=\"elementor-testimonial__name\">\\n                             Копетинский\\n                            </span>\\n                            <span class=\"elementor-testimonial__title\">\\n                             Алексей Михайлович\\n                            </span>\\n                           </cite>\\n                          </div>\\n                         </div>\\n                        </div>\\n                        <div class=\"swiper-slide\">\\n                         <div class=\"elementor-testimonial\">\\n                          <div class=\"elementor-testimonial__content\">\\n                           <div class=\"elementor-testimonial__text\">\\n                            Администратор автошколы\\n                           </div>\\n                          </div>\\n                          <div class=\"elementor-testimonial__footer\">\\n                           <div class=\"elementor-testimonial__image\">\\n                            <img alt=\"Лакеева\" src=\"https://avto-viraj.ru/wp-content/uploads/2021/04/drhy.jpg\"/>\\n                           </div>\\n                           <cite class=\"elementor-testimonial__cite\">\\n                            <span class=\"elementor-testimonial__name\">\\n                             Лакеева\\n                            </span>\\n                            <span class=\"elementor-testimonial__title\">\\n                             Мая Александровна\\n                            </span>\\n                           </cite>\\n                          </div>\\n                         </div>\\n                        </div>\\n                        <div class=\"swiper-slide\">\\n                         <div class=\"elementor-testimonial\">\\n                          <div class=\"elementor-testimonial__content\">\\n                           <div class=\"elementor-testimonial__text\">\\n                            Мастер обучения категории В\\nстаж работы: 19 лет\\n                           </div>\\n                          </div>\\n                          <div class=\"elementor-testimonial__footer\">\\n                           <div class=\"elementor-testimonial__image\">\\n                            <img alt=\"Гага\" src=\"https://avto-viraj.ru/wp-content/uploads/2021/04/gaga.jpg\"/>\\n                           </div>\\n                           <cite class=\"elementor-testimonial__cite\">\\n                            <span class=\"elementor-testimonial__name\">\\n                             Гага\\n                            </span>\\n                            <span class=\"elementor-testimonial__title\">\\n                             Адальберт Федорович\\n                            </span>\\n                           </cite>\\n                          </div>\\n                         </div>\\n                        </div>\\n                        <div class=\"swiper-slide\">\\n                         <div class=\"elementor-testimonial\">\\n                          <div class=\"elementor-testimonial__content\">\\n                           <div class=\"elementor-testimonial__text\">\\n                            Мастер обучения категории В\\nстаж работы: 8 лет\\n                           </div>\\n                          </div>\\n                          <div class=\"elementor-testimonial__footer\">\\n                           <div class=\"elementor-testimonial__image\">\\n                            <img alt=\"Нефедов\" src=\"https://avto-viraj.ru/wp-content/uploads/2021/04/rtju.jpg\"/>\\n                           </div>\\n                           <cite class=\"elementor-testimonial__cite\">\\n                            <span class=\"elementor-testimonial__name\">\\n                             Нефедов\\n                            </span>\\n                            <span class=\"elementor-testimonial__title\">\\n                             Василий Геннадьевич\\n                            </span>\\n                           </cite>\\n                          </div>\\n                         </div>\\n                        </div>\\n                        <div class=\"swiper-slide\">\\n                         <div class=\"elementor-testimonial\">\\n                          <div class=\"elementor-testimonial__content\">\\n                           <div class=\"elementor-testimonial__text\">\\n                            Мастер обучения категории В\\nстаж работы: 17 лет\\n                           </div>\\n                          </div>\\n                          <div class=\"elementor-testimonial__footer\">\\n                           <div class=\"elementor-testimonial__image\">\\n                            <img alt=\"Хлыстов\" src=\"https://avto-viraj.ru/wp-content/uploads/2021/04/fgh.jpg\"/>\\n                           </div>\\n                           <cite class=\"elementor-testimonial__cite\">\\n                            <span class=\"elementor-testimonial__name\">\\n                             Хлыстов\\n                            </span>\\n                            <span class=\"elementor-testimonial__title\">\\n                             Олег Станиславович\\n                            </span>\\n                           </cite>\\n                          </div>\\n                         </div>\\n                        </div>\\n                        <div class=\"swiper-slide\">\\n                         <div class=\"elementor-testimonial\">\\n                          <div class=\"elementor-testimonial__content\">\\n                           <div class=\"elementor-testimonial__text\">\\n                            Мастер обучения категории В\\nстаж работы: 25 лет\\n                           </div>\\n                          </div>\\n                          <div class=\"elementor-testimonial__footer\">\\n                           <div class=\"elementor-testimonial__image\">\\n                            <img alt=\"Овчеренко\" src=\"https://avto-viraj.ru/wp-content/uploads/2021/04/chel.jpg\"/>\\n                           </div>\\n                           <cite class=\"elementor-testimonial__cite\">\\n                            <span class=\"elementor-testimonial__name\">\\n                             Овчеренко\\n                            </span>\\n                            <span class=\"elementor-testimonial__title\">\\n                             Игорь Николаевич\\n                            </span>\\n                           </cite>\\n                          </div>\\n                         </div>\\n                        </div>\\n                        <div class=\"swiper-slide\">\\n                         <div class=\"elementor-testimonial\">\\n                          <div class=\"elementor-testimonial__content\">\\n                           <div class=\"elementor-testimonial__text\">\\n                            Преподаватель ПДД\\nстаж работы: 12 лет\\n                           </div>\\n                          </div>\\n                          <div class=\"elementor-testimonial__footer\">\\n                           <div class=\"elementor-testimonial__image\">\\n                            <img alt=\"Щербакова\" src=\"https://avto-viraj.ru/wp-content/uploads/2021/04/sherbakova.jpg\"/>\\n                           </div>\\n                           <cite class=\"elementor-testimonial__cite\">\\n                            <span class=\"elementor-testimonial__name\">\\n                             Щербакова\\n                            </span>\\n                            <span class=\"elementor-testimonial__title\">\\n                             Надежда Евгеньевна\\n                            </span>\\n                           </cite>\\n                          </div>\\n                         </div>\\n                        </div>\\n                       </div>\\n                       <div class=\"swiper-pagination\">\\n                       </div>\\n                       <div class=\"elementor-swiper-button elementor-swiper-button-prev\">\\n                        <i aria-hidden=\"true\" class=\"eicon-chevron-left\">\\n                        </i>\\n                        <span class=\"elementor-screen-only\">\\n                         Previous\\n                        </span>\\n                       </div>\\n                       <div class=\"elementor-swiper-button elementor-swiper-button-next\">\\n                        <i aria-hidden=\"true\" class=\"eicon-chevron-right\">\\n                        </i>\\n                        <span class=\"elementor-screen-only\">\\n                         Next\\n                        </span>\\n                       </div>\\n                      </div>\\n                     </div>\\n                    </div>\\n                   </div>\\n                  </div>\\n                 </div>\\n                </div>\\n               </section>\\n              </div>\\n             </div>\\n            </div>\\n           </section>\\n           <section class=\"elementor-section elementor-top-section elementor-element elementor-element-f680bc3 elementor-section-full_width elementor-hidden-phone elementor-section-height-default elementor-section-height-default\" data-element_type=\"section\" data-id=\"f680bc3\" data-settings=\\'{\"background_background\":\"classic\"}\\'>\\n            <div class=\"elementor-container elementor-column-gap-default\">\\n             <div class=\"elementor-column elementor-col-50 elementor-top-column elementor-element elementor-element-0eff933\" data-element_type=\"column\" data-id=\"0eff933\">\\n              <div class=\"elementor-widget-wrap elementor-element-populated\">\\n               <div class=\"elementor-element elementor-element-6ee3204 elementor-widget elementor-widget-heading\" data-element_type=\"widget\" data-id=\"6ee3204\" data-widget_type=\"heading.default\">\\n                <div class=\"elementor-widget-container\">\\n                 <h2 class=\"elementor-heading-title elementor-size-default\">\\n                  Хотите записаться в автошколу?\\n                 </h2>\\n                </div>\\n               </div>\\n               <div class=\"elementor-element elementor-element-43c1022 elementor-widget elementor-widget-text-editor\" data-element_type=\"widget\" data-id=\"43c1022\" data-widget_type=\"text-editor.default\">\\n                <div class=\"elementor-widget-container\">\\n                 <div class=\"elementor-text-editor elementor-clearfix\">\\n                  <p>\\n                   Оставьте Ваш номер телефона и мы с Вами свяжемся!\\n                  </p>\\n                 </div>\\n                </div>\\n               </div>\\n              </div>\\n             </div>\\n             <div class=\"elementor-column elementor-col-50 elementor-top-column elementor-element elementor-element-742e026\" data-element_type=\"column\" data-id=\"742e026\">\\n              <div class=\"elementor-widget-wrap elementor-element-populated\">\\n               <div class=\"elementor-element elementor-element-b81eb2e elementor-button-align-stretch elementor-widget elementor-widget-form\" data-element_type=\"widget\" data-id=\"b81eb2e\" data-settings=\\'{\"step_next_label\":\"Next\",\"step_previous_label\":\"Previous\",\"button_width\":\"100\",\"step_type\":\"number_text\",\"step_icon_shape\":\"circle\"}\\' data-widget_type=\"form.default\">\\n                <div class=\"elementor-widget-container\">\\n                 <form class=\"elementor-form\" method=\"post\" name=\"New Form\">\\n                  <input name=\"post_id\" type=\"hidden\" value=\"1183\"/>\\n                  <input name=\"form_id\" type=\"hidden\" value=\"b81eb2e\"/>\\n                  <input name=\"queried_id\" type=\"hidden\" value=\"1183\"/>\\n                  <div class=\"elementor-form-fields-wrapper elementor-labels-above\">\\n                   <div class=\"elementor-field-type-text elementor-field-group elementor-column elementor-field-group-name elementor-col-30\">\\n                    <input class=\"elementor-field elementor-size-sm elementor-field-textual\" id=\"form-field-name\" name=\"form_fields[name]\" placeholder=\"ФИО\" size=\"1\" type=\"text\"/>\\n                   </div>\\n                   <div class=\"elementor-field-type-tel elementor-field-group elementor-column elementor-field-group-email elementor-col-40 elementor-field-required\">\\n                    <input aria-required=\"true\" class=\"elementor-field elementor-size-sm elementor-field-textual\" id=\"form-field-email\" name=\"form_fields[email]\" pattern=\"[0-9()#&amp;+*-=.]+\" placeholder=\"Ваш телефон\" required=\"required\" size=\"1\" title=\"Only numbers and phone characters (#, -, *, etc) are accepted.\" type=\"tel\"/>\\n                   </div>\\n                   <div class=\"elementor-field-type-select elementor-field-group elementor-column elementor-field-group-field_dbe883b elementor-col-30 elementor-field-required\">\\n                    <div class=\"elementor-field elementor-select-wrapper \">\\n                     <select aria-required=\"true\" class=\"elementor-field-textual elementor-size-sm\" id=\"form-field-field_dbe883b\" name=\"form_fields[field_dbe883b]\" required=\"required\">\\n                      <option value=\"Категория A\">\\n                       Категория A\\n                      </option>\\n                      <option value=\"Категория B\">\\n                       Категория B\\n                      </option>\\n                     </select>\\n                    </div>\\n                   </div>\\n                   <div class=\"elementor-field-type-acceptance elementor-field-group elementor-column elementor-field-group-field_8b9b657 elementor-col-100 elementor-field-required\">\\n                    <div class=\"elementor-field-subgroup\">\\n                     <span class=\"elementor-field-option\">\\n                      <input aria-required=\"true\" class=\"elementor-field elementor-size-sm elementor-acceptance-field\" id=\"form-field-field_8b9b657\" name=\"form_fields[field_8b9b657]\" required=\"required\" type=\"checkbox\"/>\\n                      <label for=\"form-field-field_8b9b657\">\\n                       Согласен(на) на обработку\\n                       <a href=\"https://avto-viraj.ru/privacy-policy/\">\\n                        персональных данных\\n                       </a>\\n                       .\\n                      </label>\\n                     </span>\\n                    </div>\\n                   </div>\\n                   <div class=\"elementor-field-group elementor-column elementor-field-type-submit elementor-col-100 e-form__buttons\">\\n                    <button class=\"elementor-button elementor-size-sm\" type=\"submit\">\\n                     <span>\\n                      <span class=\" elementor-button-icon\">\\n                      </span>\\n                      <span class=\"elementor-button-text\">\\n                       Отправить\\n                      </span>\\n                     </span>\\n                    </button>\\n                   </div>\\n                  </div>\\n                 </form>\\n                </div>\\n               </div>\\n              </div>\\n             </div>\\n            </div>\\n           </section>\\n           <section class=\"elementor-section elementor-top-section elementor-element elementor-element-3284a65 elementor-section-full_width elementor-hidden-desktop elementor-hidden-tablet elementor-section-height-default elementor-section-height-default\" data-element_type=\"section\" data-id=\"3284a65\" data-settings=\\'{\"background_background\":\"classic\"}\\'>\\n            <div class=\"elementor-container elementor-column-gap-default\">\\n             <div class=\"elementor-column elementor-col-50 elementor-top-column elementor-element elementor-element-cbb27f6\" data-element_type=\"column\" data-id=\"cbb27f6\">\\n              <div class=\"elementor-widget-wrap elementor-element-populated\">\\n               <div class=\"elementor-element elementor-element-599f274 elementor-widget elementor-widget-heading\" data-element_type=\"widget\" data-id=\"599f274\" data-widget_type=\"heading.default\">\\n                <div class=\"elementor-widget-container\">\\n                 <h2 class=\"elementor-heading-title elementor-size-default\">\\n                  Хотите записаться в автошколу?\\n                 </h2>\\n                </div>\\n               </div>\\n               <div class=\"elementor-element elementor-element-1541cf0 elementor-widget elementor-widget-text-editor\" data-element_type=\"widget\" data-id=\"1541cf0\" data-widget_type=\"text-editor.default\">\\n                <div class=\"elementor-widget-container\">\\n                 <div class=\"elementor-text-editor elementor-clearfix\">\\n                  <p>\\n                   Оставьте Ваш номер телефона и мы с Вами свяжемся!\\n                  </p>\\n                 </div>\\n                </div>\\n               </div>\\n              </div>\\n             </div>\\n             <div class=\"elementor-column elementor-col-50 elementor-top-column elementor-element elementor-element-64b5225\" data-element_type=\"column\" data-id=\"64b5225\">\\n              <div class=\"elementor-widget-wrap elementor-element-populated\">\\n               <div class=\"elementor-element elementor-element-0f392cf elementor-button-align-stretch elementor-widget elementor-widget-form\" data-element_type=\"widget\" data-id=\"0f392cf\" data-settings=\\'{\"step_next_label\":\"Next\",\"step_previous_label\":\"Previous\",\"button_width\":\"100\",\"step_type\":\"number_text\",\"step_icon_shape\":\"circle\"}\\' data-widget_type=\"form.default\">\\n                <div class=\"elementor-widget-container\">\\n                 <form class=\"elementor-form\" method=\"post\" name=\"New Form\">\\n                  <input name=\"post_id\" type=\"hidden\" value=\"1183\"/>\\n                  <input name=\"form_id\" type=\"hidden\" value=\"0f392cf\"/>\\n                  <input name=\"queried_id\" type=\"hidden\" value=\"1183\"/>\\n                  <div class=\"elementor-form-fields-wrapper elementor-labels-above\">\\n                   <div class=\"elementor-field-type-text elementor-field-group elementor-column elementor-field-group-name elementor-col-30\">\\n                    <input class=\"elementor-field elementor-size-sm elementor-field-textual\" id=\"form-field-name\" name=\"form_fields[name]\" placeholder=\"ФИО\" size=\"1\" type=\"text\"/>\\n                   </div>\\n                   <div class=\"elementor-field-type-tel elementor-field-group elementor-column elementor-field-group-email elementor-col-40 elementor-field-required\">\\n                    <input aria-required=\"true\" class=\"elementor-field elementor-size-sm elementor-field-textual\" id=\"form-field-email\" name=\"form_fields[email]\" pattern=\"[0-9()#&amp;+*-=.]+\" placeholder=\"Ваш телефон\" required=\"required\" size=\"1\" title=\"Only numbers and phone characters (#, -, *, etc) are accepted.\" type=\"tel\"/>\\n                   </div>\\n                   <div class=\"elementor-field-type-select elementor-field-group elementor-column elementor-field-group-field_dbe883b elementor-col-30 elementor-field-required\">\\n                    <div class=\"elementor-field elementor-select-wrapper \">\\n                     <select aria-required=\"true\" class=\"elementor-field-textual elementor-size-sm\" id=\"form-field-field_dbe883b\" name=\"form_fields[field_dbe883b]\" required=\"required\">\\n                      <option value=\"Категория A\">\\n                       Категория A\\n                      </option>\\n                      <option value=\"Категория B\">\\n                       Категория B\\n                      </option>\\n                     </select>\\n                    </div>\\n                   </div>\\n                   <div class=\"elementor-field-type-acceptance elementor-field-group elementor-column elementor-field-group-field_8b9b657 elementor-col-100 elementor-field-required\">\\n                    <div class=\"elementor-field-subgroup\">\\n                     <span class=\"elementor-field-option\">\\n                      <input aria-required=\"true\" class=\"elementor-field elementor-size-sm elementor-acceptance-field\" id=\"form-field-field_8b9b657\" name=\"form_fields[field_8b9b657]\" required=\"required\" type=\"checkbox\"/>\\n                      <label for=\"form-field-field_8b9b657\">\\n                       Согласен(на) на обработку\\n                       <a href=\"https://avto-viraj.ru/privacy-policy/\">\\n                        персональных данных\\n                       </a>\\n                       .\\n                      </label>\\n                     </span>\\n                    </div>\\n                   </div>\\n                   <div class=\"elementor-field-group elementor-column elementor-field-type-submit elementor-col-100 e-form__buttons\">\\n                    <button class=\"elementor-button elementor-size-sm\" type=\"submit\">\\n                     <span>\\n                      <span class=\" elementor-button-icon\">\\n                      </span>\\n                      <span class=\"elementor-button-text\">\\n                       Отправить\\n                      </span>\\n                     </span>\\n                    </button>\\n                   </div>\\n                  </div>\\n                 </form>\\n                </div>\\n               </div>\\n              </div>\\n             </div>\\n            </div>\\n           </section>\\n           <section class=\"elementor-section elementor-top-section elementor-element elementor-element-fb763eb elementor-hidden-phone elementor-section-boxed elementor-section-height-default elementor-section-height-default\" data-element_type=\"section\" data-id=\"fb763eb\" data-settings=\\'{\"background_background\":\"classic\"}\\'>\\n            <div class=\"elementor-background-overlay\">\\n            </div>\\n            <div class=\"elementor-container elementor-column-gap-default\">\\n             <div class=\"elementor-column elementor-col-100 elementor-top-column elementor-element elementor-element-2a6e816\" data-element_type=\"column\" data-id=\"2a6e816\">\\n              <div class=\"elementor-widget-wrap elementor-element-populated\">\\n               <section class=\"elementor-section elementor-inner-section elementor-element elementor-element-591d791 elementor-section-boxed elementor-section-height-default elementor-section-height-default\" data-element_type=\"section\" data-id=\"591d791\">\\n                <div class=\"elementor-container elementor-column-gap-default\">\\n                 <div class=\"elementor-column elementor-col-25 elementor-inner-column elementor-element elementor-element-bd94799\" data-element_type=\"column\" data-id=\"bd94799\" data-settings=\\'{\"background_background\":\"classic\"}\\'>\\n                  <div class=\"elementor-widget-wrap elementor-element-populated\">\\n                   <div class=\"elementor-element elementor-element-158adf2 elementor-view-default elementor-widget elementor-widget-icon\" data-element_type=\"widget\" data-id=\"158adf2\" data-widget_type=\"icon.default\">\\n                    <div class=\"elementor-widget-container\">\\n                     <div class=\"elementor-icon-wrapper\">\\n                      <div class=\"elementor-icon\">\\n                       <i aria-hidden=\"true\" class=\"fas fa-calendar-alt\">\\n                       </i>\\n                      </div>\\n                     </div>\\n                    </div>\\n                   </div>\\n                   <div class=\"elementor-element elementor-element-fce7859 elementor-widget elementor-widget-heading\" data-element_type=\"widget\" data-id=\"fce7859\" data-widget_type=\"heading.default\">\\n                    <div class=\"elementor-widget-container\">\\n                     <h4 class=\"elementor-heading-title elementor-size-default\">\\n                      Минимальные сроки обучения\\n                     </h4>\\n                    </div>\\n                   </div>\\n                   <div class=\"elementor-element elementor-element-3690e82 elementor-widget elementor-widget-text-editor\" data-element_type=\"widget\" data-id=\"3690e82\" data-widget_type=\"text-editor.default\">\\n                    <div class=\"elementor-widget-container\">\\n                     <div class=\"elementor-text-editor elementor-clearfix\">\\n                      <p>\\n                       Наша автошкола поможет Вам максимально быстро научиться управлять автомобилем и получить водительское удостоверение\\n                      </p>\\n                     </div>\\n                    </div>\\n                   </div>\\n                  </div>\\n                 </div>\\n                 <div class=\"elementor-column elementor-col-25 elementor-inner-column elementor-element elementor-element-b736596\" data-element_type=\"column\" data-id=\"b736596\" data-settings=\\'{\"background_background\":\"classic\"}\\'>\\n                  <div class=\"elementor-widget-wrap elementor-element-populated\">\\n                   <div class=\"elementor-element elementor-element-617677e elementor-view-default elementor-widget elementor-widget-icon\" data-element_type=\"widget\" data-id=\"617677e\" data-widget_type=\"icon.default\">\\n                    <div class=\"elementor-widget-container\">\\n                     <div class=\"elementor-icon-wrapper\">\\n                      <div class=\"elementor-icon\">\\n                       <i aria-hidden=\"true\" class=\"fas fa-business-time\">\\n                       </i>\\n                      </div>\\n                     </div>\\n                    </div>\\n                   </div>\\n                   <div class=\"elementor-element elementor-element-ae83406 elementor-widget elementor-widget-heading\" data-element_type=\"widget\" data-id=\"ae83406\" data-widget_type=\"heading.default\">\\n                    <div class=\"elementor-widget-container\">\\n                     <h4 class=\"elementor-heading-title elementor-size-default\">\\n                      Обучение в удобное для Вас время\\n                     </h4>\\n                    </div>\\n                   </div>\\n                   <div class=\"elementor-element elementor-element-fe61842 elementor-widget elementor-widget-text-editor\" data-element_type=\"widget\" data-id=\"fe61842\" data-widget_type=\"text-editor.default\">\\n                    <div class=\"elementor-widget-container\">\\n                     <div class=\"elementor-text-editor elementor-clearfix\">\\n                      <p>\\n                       Вы сами выбираете график обучения: теория вечером и в выходные дни. Теоретические и практические занятия проходят параллельно\\n                      </p>\\n                     </div>\\n                    </div>\\n                   </div>\\n                  </div>\\n                 </div>\\n                 <div class=\"elementor-column elementor-col-25 elementor-inner-column elementor-element elementor-element-548ca03\" data-element_type=\"column\" data-id=\"548ca03\" data-settings=\\'{\"background_background\":\"classic\"}\\'>\\n                  <div class=\"elementor-widget-wrap elementor-element-populated\">\\n                   <div class=\"elementor-element elementor-element-77b2508 elementor-view-default elementor-widget elementor-widget-icon\" data-element_type=\"widget\" data-id=\"77b2508\" data-widget_type=\"icon.default\">\\n                    <div class=\"elementor-widget-container\">\\n                     <div class=\"elementor-icon-wrapper\">\\n                      <div class=\"elementor-icon\">\\n                       <i aria-hidden=\"true\" class=\"fas fa-user-graduate\">\\n                       </i>\\n                      </div>\\n                     </div>\\n                    </div>\\n                   </div>\\n                   <div class=\"elementor-element elementor-element-4f282a8 elementor-widget elementor-widget-heading\" data-element_type=\"widget\" data-id=\"4f282a8\" data-widget_type=\"heading.default\">\\n                    <div class=\"elementor-widget-container\">\\n                     <h4 class=\"elementor-heading-title elementor-size-default\">\\n                      Продуктивные занятия в компьютерном классе\\n                     </h4>\\n                    </div>\\n                   </div>\\n                   <div class=\"elementor-element elementor-element-8310b4e elementor-widget elementor-widget-text-editor\" data-element_type=\"widget\" data-id=\"8310b4e\" data-widget_type=\"text-editor.default\">\\n                    <div class=\"elementor-widget-container\">\\n                     <div class=\"elementor-text-editor elementor-clearfix\">\\n                      <p>\\n                       Учебный класс, оборудованный современными мониторами и програмным обеспечением, полностью имитирующим экзамен в ГИБДД\\n                      </p>\\n                     </div>\\n                    </div>\\n                   </div>\\n                  </div>\\n                 </div>\\n                 <div class=\"elementor-column elementor-col-25 elementor-inner-column elementor-element elementor-element-4985b4c\" data-element_type=\"column\" data-id=\"4985b4c\" data-settings=\\'{\"background_background\":\"classic\"}\\'>\\n                  <div class=\"elementor-widget-wrap elementor-element-populated\">\\n                   <div class=\"elementor-element elementor-element-d7bcc85 elementor-view-default elementor-widget elementor-widget-icon\" data-element_type=\"widget\" data-id=\"d7bcc85\" data-widget_type=\"icon.default\">\\n                    <div class=\"elementor-widget-container\">\\n                     <div class=\"elementor-icon-wrapper\">\\n                      <div class=\"elementor-icon\">\\n                       <i aria-hidden=\"true\" class=\"fas fa-money-check-alt\">\\n                       </i>\\n                      </div>\\n                     </div>\\n                    </div>\\n                   </div>\\n                   <div class=\"elementor-element elementor-element-b1f5b92 elementor-widget elementor-widget-heading\" data-element_type=\"widget\" data-id=\"b1f5b92\" data-widget_type=\"heading.default\">\\n                    <div class=\"elementor-widget-container\">\\n                     <h4 class=\"elementor-heading-title elementor-size-default\">\\n                      Рассрочка в три платежа\\n                     </h4>\\n                    </div>\\n                   </div>\\n                   <div class=\"elementor-element elementor-element-006306b elementor-widget elementor-widget-text-editor\" data-element_type=\"widget\" data-id=\"006306b\" data-widget_type=\"text-editor.default\">\\n                    <div class=\"elementor-widget-container\">\\n                     <div class=\"elementor-text-editor elementor-clearfix\">\\n                      <p>\\n                       У нас Вы можете разбить полную стоимость обучения на 3 платежа в течении 3-х месяцев и не переплатить ни копейки\\n                      </p>\\n                     </div>\\n                    </div>\\n                   </div>\\n                  </div>\\n                 </div>\\n                </div>\\n               </section>\\n               <section class=\"elementor-section elementor-inner-section elementor-element elementor-element-edee168 elementor-section-boxed elementor-section-height-default elementor-section-height-default\" data-element_type=\"section\" data-id=\"edee168\">\\n                <div class=\"elementor-container elementor-column-gap-default\">\\n                 <div class=\"elementor-column elementor-col-25 elementor-inner-column elementor-element elementor-element-4fb6624\" data-element_type=\"column\" data-id=\"4fb6624\" data-settings=\\'{\"background_background\":\"classic\"}\\'>\\n                  <div class=\"elementor-widget-wrap elementor-element-populated\">\\n                   <div class=\"elementor-element elementor-element-5be5128 elementor-view-default elementor-widget elementor-widget-icon\" data-element_type=\"widget\" data-id=\"5be5128\" data-widget_type=\"icon.default\">\\n                    <div class=\"elementor-widget-container\">\\n                     <div class=\"elementor-icon-wrapper\">\\n                      <div class=\"elementor-icon\">\\n                       <i aria-hidden=\"true\" class=\"fas fa-hourglass-start\">\\n                       </i>\\n                      </div>\\n                     </div>\\n                    </div>\\n                   </div>\\n                   <div class=\"elementor-element elementor-element-e8ba9db elementor-widget elementor-widget-heading\" data-element_type=\"widget\" data-id=\"e8ba9db\" data-widget_type=\"heading.default\">\\n                    <div class=\"elementor-widget-container\">\\n                     <h4 class=\"elementor-heading-title elementor-size-default\">\\n                      Минимальные сроки обучения\\n                     </h4>\\n                    </div>\\n                   </div>\\n                   <div class=\"elementor-element elementor-element-ddca2e9 elementor-widget elementor-widget-text-editor\" data-element_type=\"widget\" data-id=\"ddca2e9\" data-widget_type=\"text-editor.default\">\\n                    <div class=\"elementor-widget-container\">\\n                     <div class=\"elementor-text-editor elementor-clearfix\">\\n                      <p>\\n                       Наша автошкола поможет Вам максимально быстро научиться управлять автомобилем и получить водительское удостоверение\\n                      </p>\\n                     </div>\\n                    </div>\\n                   </div>\\n                  </div>\\n                 </div>\\n                 <div class=\"elementor-column elementor-col-25 elementor-inner-column elementor-element elementor-element-cd8d99f\" data-element_type=\"column\" data-id=\"cd8d99f\" data-settings=\\'{\"background_background\":\"classic\"}\\'>\\n                  <div class=\"elementor-widget-wrap elementor-element-populated\">\\n                   <div class=\"elementor-element elementor-element-61fa69b elementor-view-default elementor-widget elementor-widget-icon\" data-element_type=\"widget\" data-id=\"61fa69b\" data-widget_type=\"icon.default\">\\n                    <div class=\"elementor-widget-container\">\\n                     <div class=\"elementor-icon-wrapper\">\\n                      <div class=\"elementor-icon\">\\n                       <i aria-hidden=\"true\" class=\"fas fa-road\">\\n                       </i>\\n                      </div>\\n                     </div>\\n                    </div>\\n                   </div>\\n                   <div class=\"elementor-element elementor-element-cf0e3a2 elementor-widget elementor-widget-heading\" data-element_type=\"widget\" data-id=\"cf0e3a2\" data-widget_type=\"heading.default\">\\n                    <div class=\"elementor-widget-container\">\\n                     <h4 class=\"elementor-heading-title elementor-size-default\">\\n                      Собственный автодром для учебной езды\\n                     </h4>\\n                    </div>\\n                   </div>\\n                   <div class=\"elementor-element elementor-element-c2521a3 elementor-widget elementor-widget-text-editor\" data-element_type=\"widget\" data-id=\"c2521a3\" data-widget_type=\"text-editor.default\">\\n                    <div class=\"elementor-widget-container\">\\n                     <div class=\"elementor-text-editor elementor-clearfix\">\\n                      <p>\\n                       У автошколы имеется собственный автодром для учебной езды, доступный в любое удобное для Вас время\\n                      </p>\\n                     </div>\\n                    </div>\\n                   </div>\\n                  </div>\\n                 </div>\\n                 <div class=\"elementor-column elementor-col-25 elementor-inner-column elementor-element elementor-element-972d073\" data-element_type=\"column\" data-id=\"972d073\" data-settings=\\'{\"background_background\":\"classic\"}\\'>\\n                  <div class=\"elementor-widget-wrap elementor-element-populated\">\\n                   <div class=\"elementor-element elementor-element-235005b elementor-view-default elementor-widget elementor-widget-icon\" data-element_type=\"widget\" data-id=\"235005b\" data-widget_type=\"icon.default\">\\n                    <div class=\"elementor-widget-container\">\\n                     <div class=\"elementor-icon-wrapper\">\\n                      <div class=\"elementor-icon\">\\n                       <i aria-hidden=\"true\" class=\"fas fa-car\">\\n                       </i>\\n                      </div>\\n                     </div>\\n                    </div>\\n                   </div>\\n                   <div class=\"elementor-element elementor-element-13ae943 elementor-widget elementor-widget-heading\" data-element_type=\"widget\" data-id=\"13ae943\" data-widget_type=\"heading.default\">\\n                    <div class=\"elementor-widget-container\">\\n                     <h4 class=\"elementor-heading-title elementor-size-default\">\\n                      Собственный автопарк из новых автомобилей\\n                     </h4>\\n                    </div>\\n                   </div>\\n                   <div class=\"elementor-element elementor-element-89ff077 elementor-widget elementor-widget-text-editor\" data-element_type=\"widget\" data-id=\"89ff077\" data-widget_type=\"text-editor.default\">\\n                    <div class=\"elementor-widget-container\">\\n                     <div class=\"elementor-text-editor elementor-clearfix\">\\n                      <p>\\n                       Автопарк состоит из новых автомобилей, оборудованных дополнительными педалями сцепления и тормоза для инструктора\\n                      </p>\\n                     </div>\\n                    </div>\\n                   </div>\\n                  </div>\\n                 </div>\\n                 <div class=\"elementor-column elementor-col-25 elementor-inner-column elementor-element elementor-element-2f60d96\" data-element_type=\"column\" data-id=\"2f60d96\" data-settings=\\'{\"background_background\":\"classic\"}\\'>\\n                  <div class=\"elementor-widget-wrap elementor-element-populated\">\\n                   <div class=\"elementor-element elementor-element-8ce6b5a elementor-view-default elementor-widget elementor-widget-icon\" data-element_type=\"widget\" data-id=\"8ce6b5a\" data-widget_type=\"icon.default\">\\n                    <div class=\"elementor-widget-container\">\\n                     <div class=\"elementor-icon-wrapper\">\\n                      <div class=\"elementor-icon\">\\n                       <i aria-hidden=\"true\" class=\"fas fa-wallet\">\\n                       </i>\\n                      </div>\\n                     </div>\\n                    </div>\\n                   </div>\\n                   <div class=\"elementor-element elementor-element-4522972 elementor-widget elementor-widget-heading\" data-element_type=\"widget\" data-id=\"4522972\" data-widget_type=\"heading.default\">\\n                    <div class=\"elementor-widget-container\">\\n                     <h4 class=\"elementor-heading-title elementor-size-default\">\\n                      Отсутствие скрытых платежей\\n                     </h4>\\n                    </div>\\n                   </div>\\n                   <div class=\"elementor-element elementor-element-abb9e82 elementor-widget elementor-widget-text-editor\" data-element_type=\"widget\" data-id=\"abb9e82\" data-widget_type=\"text-editor.default\">\\n                    <div class=\"elementor-widget-container\">\\n                     <div class=\"elementor-text-editor elementor-clearfix\">\\n                      <p>\\n                       Окончательная стоимость обучения прописывается в договоре, Вы можете быть уверены, что за бензин, за внутренние экзамены и тд Вам доплачивать не придется\\n                      </p>\\n                     </div>\\n                    </div>\\n                   </div>\\n                  </div>\\n                 </div>\\n                </div>\\n               </section>\\n              </div>\\n             </div>\\n            </div>\\n           </section>\\n           <section class=\"elementor-section elementor-top-section elementor-element elementor-element-223ad28 elementor-hidden-desktop elementor-hidden-tablet elementor-section-boxed elementor-section-height-default elementor-section-height-default\" data-element_type=\"section\" data-id=\"223ad28\" data-settings=\\'{\"background_background\":\"classic\"}\\'>\\n            <div class=\"elementor-background-overlay\">\\n            </div>\\n            <div class=\"elementor-container elementor-column-gap-default\">\\n             <div class=\"elementor-column elementor-col-100 elementor-top-column elementor-element elementor-element-d9876f0\" data-element_type=\"column\" data-id=\"d9876f0\">\\n              <div class=\"elementor-widget-wrap elementor-element-populated\">\\n               <section class=\"elementor-section elementor-inner-section elementor-element elementor-element-248cedb elementor-section-boxed elementor-section-height-default elementor-section-height-default\" data-element_type=\"section\" data-id=\"248cedb\">\\n                <div class=\"elementor-container elementor-column-gap-default\">\\n                 <div class=\"elementor-column elementor-col-25 elementor-inner-column elementor-element elementor-element-4f2d336\" data-element_type=\"column\" data-id=\"4f2d336\" data-settings=\\'{\"background_background\":\"classic\"}\\'>\\n                  <div class=\"elementor-widget-wrap elementor-element-populated\">\\n                   <div class=\"elementor-element elementor-element-b1a829b elementor-view-default elementor-widget elementor-widget-icon\" data-element_type=\"widget\" data-id=\"b1a829b\" data-widget_type=\"icon.default\">\\n                    <div class=\"elementor-widget-container\">\\n                     <div class=\"elementor-icon-wrapper\">\\n                      <div class=\"elementor-icon\">\\n                       <i aria-hidden=\"true\" class=\"fas fa-calendar-alt\">\\n                       </i>\\n                      </div>\\n                     </div>\\n                    </div>\\n                   </div>\\n                   <div class=\"elementor-element elementor-element-91aa02d elementor-widget elementor-widget-heading\" data-element_type=\"widget\" data-id=\"91aa02d\" data-widget_type=\"heading.default\">\\n                    <div class=\"elementor-widget-container\">\\n                     <h4 class=\"elementor-heading-title elementor-size-default\">\\n                      Минимальные сроки обучения\\n                     </h4>\\n                    </div>\\n                   </div>\\n                   <div class=\"elementor-element elementor-element-abda0d1 elementor-widget elementor-widget-text-editor\" data-element_type=\"widget\" data-id=\"abda0d1\" data-widget_type=\"text-editor.default\">\\n                    <div class=\"elementor-widget-container\">\\n                     <div class=\"elementor-text-editor elementor-clearfix\">\\n                      <p>\\n                       Наша автошкола поможет Вам максимально быстро научиться управлять автомобилем и получить водительское удостоверение\\n                      </p>\\n                     </div>\\n                    </div>\\n                   </div>\\n                  </div>\\n                 </div>\\n                 <div class=\"elementor-column elementor-col-25 elementor-inner-column elementor-element elementor-element-7883348\" data-element_type=\"column\" data-id=\"7883348\" data-settings=\\'{\"background_background\":\"classic\"}\\'>\\n                  <div class=\"elementor-widget-wrap elementor-element-populated\">\\n                   <div class=\"elementor-element elementor-element-93896e8 elementor-view-default elementor-widget elementor-widget-icon\" data-element_type=\"widget\" data-id=\"93896e8\" data-widget_type=\"icon.default\">\\n                    <div class=\"elementor-widget-container\">\\n                     <div class=\"elementor-icon-wrapper\">\\n                      <div class=\"elementor-icon\">\\n                       <i aria-hidden=\"true\" class=\"fas fa-business-time\">\\n                       </i>\\n                      </div>\\n                     </div>\\n                    </div>\\n                   </div>\\n                   <div class=\"elementor-element elementor-element-187a33e elementor-widget elementor-widget-heading\" data-element_type=\"widget\" data-id=\"187a33e\" data-widget_type=\"heading.default\">\\n                    <div class=\"elementor-widget-container\">\\n                     <h4 class=\"elementor-heading-title elementor-size-default\">\\n                      Обучение в удобное для Вас время\\n                     </h4>\\n                    </div>\\n                   </div>\\n                   <div class=\"elementor-element elementor-element-92b25a3 elementor-widget elementor-widget-text-editor\" data-element_type=\"widget\" data-id=\"92b25a3\" data-widget_type=\"text-editor.default\">\\n                    <div class=\"elementor-widget-container\">\\n                     <div class=\"elementor-text-editor elementor-clearfix\">\\n                      <p>\\n                       Вы сами выбираете график обучения: теория вечером и в выходные дни. Теоретические и практические занятия проходят параллельно\\n                      </p>\\n                     </div>\\n                    </div>\\n                   </div>\\n                  </div>\\n                 </div>\\n                 <div class=\"elementor-column elementor-col-25 elementor-inner-column elementor-element elementor-element-8c01dc0\" data-element_type=\"column\" data-id=\"8c01dc0\" data-settings=\\'{\"background_background\":\"classic\"}\\'>\\n                  <div class=\"elementor-widget-wrap elementor-element-populated\">\\n                   <div class=\"elementor-element elementor-element-dfbb918 elementor-view-default elementor-widget elementor-widget-icon\" data-element_type=\"widget\" data-id=\"dfbb918\" data-widget_type=\"icon.default\">\\n                    <div class=\"elementor-widget-container\">\\n                     <div class=\"elementor-icon-wrapper\">\\n                      <div class=\"elementor-icon\">\\n                       <i aria-hidden=\"true\" class=\"fas fa-user-graduate\">\\n                       </i>\\n                      </div>\\n                     </div>\\n                    </div>\\n                   </div>\\n                   <div class=\"elementor-element elementor-element-fd93275 elementor-widget elementor-widget-heading\" data-element_type=\"widget\" data-id=\"fd93275\" data-widget_type=\"heading.default\">\\n                    <div class=\"elementor-widget-container\">\\n                     <h4 class=\"elementor-heading-title elementor-size-default\">\\n                      Продуктивные занятия в компьютерном классе\\n                     </h4>\\n                    </div>\\n                   </div>\\n                   <div class=\"elementor-element elementor-element-fc83e5b elementor-widget elementor-widget-text-editor\" data-element_type=\"widget\" data-id=\"fc83e5b\" data-widget_type=\"text-editor.default\">\\n                    <div class=\"elementor-widget-container\">\\n                     <div class=\"elementor-text-editor elementor-clearfix\">\\n                      <p>\\n                       Учебный класс, оборудованный современными мониторами и програмным обеспечением, полностью имитирующим экзамен в ГИБДД\\n                      </p>\\n                     </div>\\n                    </div>\\n                   </div>\\n                  </div>\\n                 </div>\\n                 <div class=\"elementor-column elementor-col-25 elementor-inner-column elementor-element elementor-element-01ca2a0\" data-element_type=\"column\" data-id=\"01ca2a0\" data-settings=\\'{\"background_background\":\"classic\"}\\'>\\n                  <div class=\"elementor-widget-wrap elementor-element-populated\">\\n                   <div class=\"elementor-element elementor-element-d7b5985 elementor-view-default elementor-widget elementor-widget-icon\" data-element_type=\"widget\" data-id=\"d7b5985\" data-widget_type=\"icon.default\">\\n                    <div class=\"elementor-widget-container\">\\n                     <div class=\"elementor-icon-wrapper\">\\n                      <div class=\"elementor-icon\">\\n                       <i aria-hidden=\"true\" class=\"fas fa-money-check-alt\">\\n                       </i>\\n                      </div>\\n                     </div>\\n                    </div>\\n                   </div>\\n                   <div class=\"elementor-element elementor-element-b8afbcd elementor-widget elementor-widget-heading\" data-element_type=\"widget\" data-id=\"b8afbcd\" data-widget_type=\"heading.default\">\\n                    <div class=\"elementor-widget-container\">\\n                     <h4 class=\"elementor-heading-title elementor-size-default\">\\n                      Рассрочка в три платежа\\n                     </h4>\\n                    </div>\\n                   </div>\\n                   <div class=\"elementor-element elementor-element-3f0fe2a elementor-widget elementor-widget-text-editor\" data-element_type=\"widget\" data-id=\"3f0fe2a\" data-widget_type=\"text-editor.default\">\\n                    <div class=\"elementor-widget-container\">\\n                     <div class=\"elementor-text-editor elementor-clearfix\">\\n                      <p>\\n                       У нас Вы можете разбить полную стоимость обучения на 3 платежа в течении 3-х месяцев и не переплатить ни копейки\\n                      </p>\\n                     </div>\\n                    </div>\\n                   </div>\\n                  </div>\\n                 </div>\\n                </div>\\n               </section>\\n               <section class=\"elementor-section elementor-inner-section elementor-element elementor-element-301f5d6 elementor-section-boxed elementor-section-height-default elementor-section-height-default\" data-element_type=\"section\" data-id=\"301f5d6\">\\n                <div class=\"elementor-container elementor-column-gap-default\">\\n                 <div class=\"elementor-column elementor-col-25 elementor-inner-column elementor-element elementor-element-3e86f06\" data-element_type=\"column\" data-id=\"3e86f06\" data-settings=\\'{\"background_background\":\"classic\"}\\'>\\n                  <div class=\"elementor-widget-wrap elementor-element-populated\">\\n                   <div class=\"elementor-element elementor-element-b9642f6 elementor-view-default elementor-widget elementor-widget-icon\" data-element_type=\"widget\" data-id=\"b9642f6\" data-widget_type=\"icon.default\">\\n                    <div class=\"elementor-widget-container\">\\n                     <div class=\"elementor-icon-wrapper\">\\n                      <div class=\"elementor-icon\">\\n                       <i aria-hidden=\"true\" class=\"fas fa-hourglass-start\">\\n                       </i>\\n                      </div>\\n                     </div>\\n                    </div>\\n                   </div>\\n                   <div class=\"elementor-element elementor-element-e49da0c elementor-widget elementor-widget-heading\" data-element_type=\"widget\" data-id=\"e49da0c\" data-widget_type=\"heading.default\">\\n                    <div class=\"elementor-widget-container\">\\n                     <h4 class=\"elementor-heading-title elementor-size-default\">\\n                      Минимальные сроки обучения\\n                     </h4>\\n                    </div>\\n                   </div>\\n                   <div class=\"elementor-element elementor-element-e34b377 elementor-widget elementor-widget-text-editor\" data-element_type=\"widget\" data-id=\"e34b377\" data-widget_type=\"text-editor.default\">\\n                    <div class=\"elementor-widget-container\">\\n                     <div class=\"elementor-text-editor elementor-clearfix\">\\n                      <p>\\n                       Наша автошкола поможет Вам максимально быстро научиться управлять автомобилем и получить водительское удостоверение\\n                      </p>\\n                     </div>\\n                    </div>\\n                   </div>\\n                  </div>\\n                 </div>\\n                 <div class=\"elementor-column elementor-col-25 elementor-inner-column elementor-element elementor-element-4620028\" data-element_type=\"column\" data-id=\"4620028\" data-settings=\\'{\"background_background\":\"classic\"}\\'>\\n                  <div class=\"elementor-widget-wrap elementor-element-populated\">\\n                   <div class=\"elementor-element elementor-element-0b45715 elementor-view-default elementor-widget elementor-widget-icon\" data-element_type=\"widget\" data-id=\"0b45715\" data-widget_type=\"icon.default\">\\n                    <div class=\"elementor-widget-container\">\\n                     <div class=\"elementor-icon-wrapper\">\\n                      <div class=\"elementor-icon\">\\n                       <i aria-hidden=\"true\" class=\"fas fa-road\">\\n                       </i>\\n                      </div>\\n                     </div>\\n                    </div>\\n                   </div>\\n                   <div class=\"elementor-element elementor-element-6098205 elementor-widget elementor-widget-heading\" data-element_type=\"widget\" data-id=\"6098205\" data-widget_type=\"heading.default\">\\n                    <div class=\"elementor-widget-container\">\\n                     <h4 class=\"elementor-heading-title elementor-size-default\">\\n                      Собственный автодром для учебной езды\\n                     </h4>\\n                    </div>\\n                   </div>\\n                   <div class=\"elementor-element elementor-element-a9c2bf8 elementor-widget elementor-widget-text-editor\" data-element_type=\"widget\" data-id=\"a9c2bf8\" data-widget_type=\"text-editor.default\">\\n                    <div class=\"elementor-widget-container\">\\n                     <div class=\"elementor-text-editor elementor-clearfix\">\\n                      <p>\\n                       У автошколы имеется собственный автодром для учебной езды, доступный в любое удобное для Вас время\\n                      </p>\\n                     </div>\\n                    </div>\\n                   </div>\\n                  </div>\\n                 </div>\\n                 <div class=\"elementor-column elementor-col-25 elementor-inner-column elementor-element elementor-element-a4e854d\" data-element_type=\"column\" data-id=\"a4e854d\" data-settings=\\'{\"background_background\":\"classic\"}\\'>\\n                  <div class=\"elementor-widget-wrap elementor-element-populated\">\\n                   <div class=\"elementor-element elementor-element-a8862b4 elementor-view-default elementor-widget elementor-widget-icon\" data-element_type=\"widget\" data-id=\"a8862b4\" data-widget_type=\"icon.default\">\\n                    <div class=\"elementor-widget-container\">\\n                     <div class=\"elementor-icon-wrapper\">\\n                      <div class=\"elementor-icon\">\\n                       <i aria-hidden=\"true\" class=\"fas fa-car\">\\n                       </i>\\n                      </div>\\n                     </div>\\n                    </div>\\n                   </div>\\n                   <div class=\"elementor-element elementor-element-4f89b68 elementor-widget elementor-widget-heading\" data-element_type=\"widget\" data-id=\"4f89b68\" data-widget_type=\"heading.default\">\\n                    <div class=\"elementor-widget-container\">\\n                     <h4 class=\"elementor-heading-title elementor-size-default\">\\n                      Собственный автопарк из новых автомобилей\\n                     </h4>\\n                    </div>\\n                   </div>\\n                   <div class=\"elementor-element elementor-element-6208070 elementor-widget elementor-widget-text-editor\" data-element_type=\"widget\" data-id=\"6208070\" data-widget_type=\"text-editor.default\">\\n                    <div class=\"elementor-widget-container\">\\n                     <div class=\"elementor-text-editor elementor-clearfix\">\\n                      <p>\\n                       Автопарк состоит из новых автомобилей, оборудованных дополнительными педалями сцепления и тормоза для инструктора\\n                      </p>\\n                     </div>\\n                    </div>\\n                   </div>\\n                  </div>\\n                 </div>\\n                 <div class=\"elementor-column elementor-col-25 elementor-inner-column elementor-element elementor-element-69e4148\" data-element_type=\"column\" data-id=\"69e4148\" data-settings=\\'{\"background_background\":\"classic\"}\\'>\\n                  <div class=\"elementor-widget-wrap elementor-element-populated\">\\n                   <div class=\"elementor-element elementor-element-e50015d elementor-view-default elementor-widget elementor-widget-icon\" data-element_type=\"widget\" data-id=\"e50015d\" data-widget_type=\"icon.default\">\\n                    <div class=\"elementor-widget-container\">\\n                     <div class=\"elementor-icon-wrapper\">\\n                      <div class=\"elementor-icon\">\\n                       <i aria-hidden=\"true\" class=\"fas fa-wallet\">\\n                       </i>\\n                      </div>\\n                     </div>\\n                    </div>\\n                   </div>\\n                   <div class=\"elementor-element elementor-element-a706f25 elementor-widget elementor-widget-heading\" data-element_type=\"widget\" data-id=\"a706f25\" data-widget_type=\"heading.default\">\\n                    <div class=\"elementor-widget-container\">\\n                     <h4 class=\"elementor-heading-title elementor-size-default\">\\n                      Отсутствие скрытых платежей\\n                     </h4>\\n                    </div>\\n                   </div>\\n                   <div class=\"elementor-element elementor-element-5db8c63 elementor-widget elementor-widget-text-editor\" data-element_type=\"widget\" data-id=\"5db8c63\" data-widget_type=\"text-editor.default\">\\n                    <div class=\"elementor-widget-container\">\\n                     <div class=\"elementor-text-editor elementor-clearfix\">\\n                      <p>\\n                       Окончательная стоимость обучения прописывается в договоре, Вы можете быть уверены, что за бензин, за внутренние экзамены и тд Вам доплачивать не придется\\n                      </p>\\n                     </div>\\n                    </div>\\n                   </div>\\n                  </div>\\n                 </div>\\n                </div>\\n               </section>\\n              </div>\\n             </div>\\n            </div>\\n           </section>\\n           <section class=\"elementor-section elementor-top-section elementor-element elementor-element-f55ca56 elementor-section-full_width elementor-section-height-default elementor-section-height-default\" data-element_type=\"section\" data-id=\"f55ca56\">\\n            <div class=\"elementor-container elementor-column-gap-default\">\\n             <div class=\"elementor-column elementor-col-100 elementor-top-column elementor-element elementor-element-bbd9c64\" data-element_type=\"column\" data-id=\"bbd9c64\">\\n              <div class=\"elementor-widget-wrap elementor-element-populated\">\\n               <div class=\"elementor-element elementor-element-6dd8d29 elementor-widget-divider--view-line_icon elementor-view-default elementor-widget-divider--element-align-center elementor-widget elementor-widget-divider\" data-element_type=\"widget\" data-id=\"6dd8d29\" data-widget_type=\"divider.default\">\\n                <div class=\"elementor-widget-container\">\\n                 <div class=\"elementor-divider\">\\n                  <span class=\"elementor-divider-separator\">\\n                   <div class=\"elementor-icon elementor-divider__element\">\\n                    <i aria-hidden=\"true\" class=\"fas fa-car-side\">\\n                    </i>\\n                   </div>\\n                  </span>\\n                 </div>\\n                </div>\\n               </div>\\n              </div>\\n             </div>\\n            </div>\\n           </section>\\n           <section class=\"elementor-section elementor-top-section elementor-element elementor-element-3f0c662 elementor-hidden-phone elementor-section-boxed elementor-section-height-default elementor-section-height-default\" data-element_type=\"section\" data-id=\"3f0c662\" data-settings=\\'{\"background_background\":\"classic\"}\\'>\\n            <div class=\"elementor-container elementor-column-gap-no\">\\n             <div class=\"elementor-column elementor-col-100 elementor-top-column elementor-element elementor-element-90e8ab5\" data-element_type=\"column\" data-id=\"90e8ab5\">\\n              <div class=\"elementor-widget-wrap elementor-element-populated\">\\n               <div class=\"elementor-element elementor-element-c12080d elementor-widget__width-initial elementor-widget-mobile__width-inherit elementor-widget elementor-widget-image\" data-element_type=\"widget\" data-id=\"c12080d\" data-widget_type=\"image.default\">\\n                <div class=\"elementor-widget-container\">\\n                 <div class=\"elementor-image\">\\n                  <a data-elementor-lightbox-title=\"viraj\" data-elementor-open-lightbox=\"yes\" href=\"https://avto-viraj.ru/wp-content/uploads/2021/04/rrwzvpwl_hi.jpg\">\\n                   <img alt=\"\" class=\"attachment-large size-large\" height=\"678\" loading=\"lazy\" sizes=\"(max-width: 1024px) 100vw, 1024px\" src=\"https://avto-viraj.ru/wp-content/uploads/2021/04/rrwzvpwl_hi-1024x678.jpg\" srcset=\"https://avto-viraj.ru/wp-content/uploads/2021/04/rrwzvpwl_hi-1024x678.jpg 1024w, https://avto-viraj.ru/wp-content/uploads/2021/04/rrwzvpwl_hi-300x199.jpg 300w, https://avto-viraj.ru/wp-content/uploads/2021/04/rrwzvpwl_hi-768x508.jpg 768w, https://avto-viraj.ru/wp-content/uploads/2021/04/rrwzvpwl_hi.jpg 1280w\" width=\"1024\"/>\\n                  </a>\\n                 </div>\\n                </div>\\n               </div>\\n               <div class=\"elementor-element elementor-element-2ed85ef elementor-widget__width-initial elementor-widget-mobile__width-inherit elementor-widget elementor-widget-image\" data-element_type=\"widget\" data-id=\"2ed85ef\" data-widget_type=\"image.default\">\\n                <div class=\"elementor-widget-container\">\\n                 <div class=\"elementor-image\">\\n                  <a data-elementor-lightbox-title=\"virag\" data-elementor-open-lightbox=\"yes\" href=\"https://avto-viraj.ru/wp-content/uploads/2021/04/rtl2hgbl6uu.jpg\">\\n                   <img alt=\"\" class=\"attachment-large size-large\" height=\"480\" loading=\"lazy\" sizes=\"(max-width: 960px) 100vw, 960px\" src=\"https://avto-viraj.ru/wp-content/uploads/2021/04/rtl2hgbl6uu.jpg\" srcset=\"https://avto-viraj.ru/wp-content/uploads/2021/04/rtl2hgbl6uu.jpg 960w, https://avto-viraj.ru/wp-content/uploads/2021/04/rtl2hgbl6uu-300x150.jpg 300w, https://avto-viraj.ru/wp-content/uploads/2021/04/rtl2hgbl6uu-768x384.jpg 768w\" width=\"960\"/>\\n                  </a>\\n                 </div>\\n                </div>\\n               </div>\\n               <div class=\"elementor-element elementor-element-8bee50c elementor-widget__width-initial elementor-widget-tablet__width-initial elementor-widget-mobile__width-inherit elementor-widget elementor-widget-image\" data-element_type=\"widget\" data-id=\"8bee50c\" data-widget_type=\"image.default\">\\n                <div class=\"elementor-widget-container\">\\n                 <div class=\"elementor-image\">\\n                  <img alt=\"\" class=\"attachment-medium size-medium\" height=\"225\" loading=\"lazy\" sizes=\"(max-width: 300px) 100vw, 300px\" src=\"https://avto-viraj.ru/wp-content/uploads/2021/04/4nf2iopwhxw-300x225.jpg\" srcset=\"https://avto-viraj.ru/wp-content/uploads/2021/04/4nf2iopwhxw-300x225.jpg 300w, https://avto-viraj.ru/wp-content/uploads/2021/04/4nf2iopwhxw-768x576.jpg 768w, https://avto-viraj.ru/wp-content/uploads/2021/04/4nf2iopwhxw.jpg 960w\" width=\"300\"/>\\n                 </div>\\n                </div>\\n               </div>\\n               <div class=\"elementor-element elementor-element-4eb311d elementor-widget__width-initial elementor-widget-tablet__width-initial elementor-widget-mobile__width-inherit elementor-widget elementor-widget-image\" data-element_type=\"widget\" data-id=\"4eb311d\" data-widget_type=\"image.default\">\\n                <div class=\"elementor-widget-container\">\\n                 <div class=\"elementor-image\">\\n                  <a data-elementor-lightbox-title=\"moto\" data-elementor-open-lightbox=\"yes\" href=\"https://avto-viraj.ru/wp-content/uploads/2021/04/ji8l80ufxrs.jpg\">\\n                   <img alt=\"\" class=\"attachment-medium size-medium\" height=\"231\" loading=\"lazy\" sizes=\"(max-width: 300px) 100vw, 300px\" src=\"https://avto-viraj.ru/wp-content/uploads/2021/04/ji8l80ufxrs-300x231.jpg\" srcset=\"https://avto-viraj.ru/wp-content/uploads/2021/04/ji8l80ufxrs-300x231.jpg 300w, https://avto-viraj.ru/wp-content/uploads/2021/04/ji8l80ufxrs-1024x788.jpg 1024w, https://avto-viraj.ru/wp-content/uploads/2021/04/ji8l80ufxrs-768x591.jpg 768w, https://avto-viraj.ru/wp-content/uploads/2021/04/ji8l80ufxrs-1536x1182.jpg 1536w, https://avto-viraj.ru/wp-content/uploads/2021/04/ji8l80ufxrs.jpg 1600w\" width=\"300\"/>\\n                  </a>\\n                 </div>\\n                </div>\\n               </div>\\n               <div class=\"elementor-element elementor-element-6835dd5 elementor-widget__width-initial elementor-widget-tablet__width-initial elementor-widget-mobile__width-inherit elementor-widget elementor-widget-image\" data-element_type=\"widget\" data-id=\"6835dd5\" data-widget_type=\"image.default\">\\n                <div class=\"elementor-widget-container\">\\n                 <div class=\"elementor-image\">\\n                  <a data-elementor-lightbox-title=\"examen\" data-elementor-open-lightbox=\"yes\" href=\"https://avto-viraj.ru/wp-content/uploads/2021/04/9zbkwkuodug.jpg\">\\n                   <img alt=\"\" class=\"attachment-medium size-medium\" height=\"300\" loading=\"lazy\" sizes=\"(max-width: 225px) 100vw, 225px\" src=\"https://avto-viraj.ru/wp-content/uploads/2021/04/9zbkwkuodug-225x300.jpg\" srcset=\"https://avto-viraj.ru/wp-content/uploads/2021/04/9zbkwkuodug-225x300.jpg 225w, https://avto-viraj.ru/wp-content/uploads/2021/04/9zbkwkuodug.jpg 720w\" width=\"225\"/>\\n                  </a>\\n                 </div>\\n                </div>\\n               </div>\\n               <div class=\"elementor-element elementor-element-5e44a2f elementor-widget__width-initial elementor-widget-tablet__width-initial elementor-widget-mobile__width-inherit elementor-widget elementor-widget-image\" data-element_type=\"widget\" data-id=\"5e44a2f\" data-widget_type=\"image.default\">\\n                <div class=\"elementor-widget-container\">\\n                 <div class=\"elementor-image\">\\n                  <a data-elementor-lightbox-title=\"test\" data-elementor-open-lightbox=\"yes\" href=\"https://avto-viraj.ru/wp-content/uploads/2021/04/jh2cjklxyfa.jpg\">\\n                   <img alt=\"\" class=\"attachment-medium size-medium\" height=\"300\" loading=\"lazy\" sizes=\"(max-width: 225px) 100vw, 225px\" src=\"https://avto-viraj.ru/wp-content/uploads/2021/04/jh2cjklxyfa-225x300.jpg\" srcset=\"https://avto-viraj.ru/wp-content/uploads/2021/04/jh2cjklxyfa-225x300.jpg 225w, https://avto-viraj.ru/wp-content/uploads/2021/04/jh2cjklxyfa.jpg 720w\" width=\"225\"/>\\n                  </a>\\n                 </div>\\n                </div>\\n               </div>\\n              </div>\\n             </div>\\n            </div>\\n           </section>\\n           <section class=\"elementor-section elementor-top-section elementor-element elementor-element-0419a47 elementor-section-boxed elementor-section-height-default elementor-section-height-default\" data-element_type=\"section\" data-id=\"0419a47\">\\n            <div class=\"elementor-container elementor-column-gap-default\">\\n             <div class=\"elementor-column elementor-col-100 elementor-top-column elementor-element elementor-element-ee4c409\" data-element_type=\"column\" data-id=\"ee4c409\">\\n              <div class=\"elementor-widget-wrap elementor-element-populated\">\\n               <div class=\"elementor-element elementor-element-935520f elementor-widget elementor-widget-heading\" data-element_type=\"widget\" data-id=\"935520f\" data-widget_type=\"heading.default\">\\n                <div class=\"elementor-widget-container\">\\n                 <h2 class=\"elementor-heading-title elementor-size-default\">\\n                  Отзывы наших выпускников\\n                 </h2>\\n                </div>\\n               </div>\\n               <div class=\"elementor-element elementor-element-de9b4f4 elementor-widget elementor-widget-text-editor\" data-element_type=\"widget\" data-id=\"de9b4f4\" data-widget_type=\"text-editor.default\">\\n                <div class=\"elementor-widget-container\">\\n                 <div class=\"elementor-text-editor elementor-clearfix\">\\n                  <p>\\n                   Наша автошкола существует на рынке уже 10 лет, а это значит 10 лет плодотворной работы,\\n                  </p>\\n                  <div>\\n                   качественного обучения, и огромное количество отзывов о нашей работе\\n                  </div>\\n                 </div>\\n                </div>\\n               </div>\\n              </div>\\n             </div>\\n            </div>\\n           </section>\\n           <section class=\"elementor-section elementor-top-section elementor-element elementor-element-d05101a elementor-section-boxed elementor-section-height-default elementor-section-height-default\" data-element_type=\"section\" data-id=\"d05101a\">\\n            <div class=\"elementor-container elementor-column-gap-default\">\\n             <div class=\"elementor-column elementor-col-100 elementor-top-column elementor-element elementor-element-b1613a6\" data-element_type=\"column\" data-id=\"b1613a6\">\\n              <div class=\"elementor-widget-wrap elementor-element-populated\">\\n               <div class=\"elementor-element elementor-element-2985a29 elementor-arrows-yes elementor-pagination-type-bullets elementor-review--has-separator elementor--star-style-star_fontawesome elementor-widget elementor-widget-reviews\" data-element_type=\"widget\" data-id=\"2985a29\" data-settings=\\'{\"space_between\":{\"unit\":\"px\",\"size\":11,\"sizes\":[]},\"show_arrows\":\"yes\",\"pagination\":\"bullets\",\"speed\":500,\"autoplay\":\"yes\",\"autoplay_speed\":5000,\"loop\":\"yes\",\"pause_on_hover\":\"yes\",\"pause_on_interaction\":\"yes\",\"space_between_tablet\":{\"unit\":\"px\",\"size\":10,\"sizes\":[]},\"space_between_mobile\":{\"unit\":\"px\",\"size\":10,\"sizes\":[]}}\\' data-widget_type=\"reviews.default\">\\n                <div class=\"elementor-widget-container\">\\n                 <div class=\"elementor-swiper\">\\n                  <div class=\"elementor-main-swiper swiper-container\">\\n                   <div class=\"swiper-wrapper\">\\n                    <div class=\"swiper-slide\">\\n                     <div class=\"elementor-testimonial elementor-repeater-item-315ab66\">\\n                      <div class=\"elementor-testimonial__header\">\\n                       <div class=\"elementor-testimonial__image\">\\n                        <img alt=\"Юлия Кустова\" src=\"https://avto-viraj.ru/wp-content/uploads/2021/04/ulia-kust1.jpg\"/>\\n                       </div>\\n                       <cite class=\"elementor-testimonial__cite\">\\n                        <span class=\"elementor-testimonial__name\">\\n                         Юлия Кустова\\n                        </span>\\n                        <span class=\"elementor-testimonial__title\">\\n                         (09.07.2019)\\n                        </span>\\n                       </cite>\\n                       <div class=\"elementor-testimonial__icon elementor-icon elementor-icon-\">\\n                        <span class=\"elementor-screen-only\">\\n                         Read More\\n                        </span>\\n                       </div>\\n                      </div>\\n                      <div class=\"elementor-testimonial__content\">\\n                       <div class=\"elementor-testimonial__text\">\\n                        Хочу выразить огромную благодарность всей команде автошколы \"Вираж\"! Когда решила отучиться на права, стояла перед огромным выбором автошкол в Коломне. Почитав отзывы, решила остановиться на \"Вираже\", но ближайший набор группы был в другой автошколе. Отучившись там, я поняла, что не имею первоночальных знаний для сдачи экзаменов. Обратилась в автошколу \"Вираж\", не пожалела ни капельки, потому что с первых занятий было очевидно мастерство и профессионализм всех преподавателей и инструкторов! На протяжении всего обучения чувствовалось искреннее участие и поддержка со стороны автошколы! К каждому ученику у вас особый подход, стараетесь сделать все возможное для достижения наших целей и всегда идёте на встречу! Спасибо Вам огромное! Отдельную благодарность хочу выразить директору автошколы Алексею Михайловичу - вы лучший! Всем, кто не знает, какую школу выбрать и сомневается- очень рекомендую автошколу \"Вираж\"!\\n                       </div>\\n                      </div>\\n                     </div>\\n                    </div>\\n                    <div class=\"swiper-slide\">\\n                     <div class=\"elementor-testimonial elementor-repeater-item-a0289de\">\\n                      <div class=\"elementor-testimonial__header\">\\n                       <div class=\"elementor-testimonial__image\">\\n                        <img alt=\"Алексей Щербаков\" src=\"https://avto-viraj.ru/wp-content/uploads/2021/04/alek_sherb.jpg\"/>\\n                       </div>\\n                       <cite class=\"elementor-testimonial__cite\">\\n                        <span class=\"elementor-testimonial__name\">\\n                         Алексей Щербаков\\n                        </span>\\n                        <span class=\"elementor-testimonial__title\">\\n                         (30.11.2019)\\n                        </span>\\n                       </cite>\\n                       <div class=\"elementor-testimonial__icon elementor-icon elementor-icon-\">\\n                        <span class=\"elementor-screen-only\">\\n                         Read More\\n                        </span>\\n                       </div>\\n                      </div>\\n                      <div class=\"elementor-testimonial__content\">\\n                       <div class=\"elementor-testimonial__text\">\\n                        Хочу выразить огромную благодарность Автошколе \"ВИРАЖ\" за качественную подготовку, интересные и позитивные занятия, а также всем, кто здесь работает!!!!! Огромное спасибо администратору автошколы Майе Александровне! Поможет, подскажет, всё разложит по полочкам 24/7. Решит все вопросы, объяснит всё что только можно! Спасибо огромное преподавателям теории!!! Найдут подход к каждому ученику, помогут со всеми трудностями и объяснят все сложные моменты! Огромное спасибо самому лучшему инструктору Хлыстову Олегу Станиславовичу за профессионализм, прекрасные позитивные занятия, индивидуальный подход, поддержку и чуткое внимание!!! Большое спасибо всей автошколе! Если вы ещё сомневаетесь куда пойти учиться, смело выбирайте \"ВИРАЖ\" Не пожалеете!)\\n                       </div>\\n                      </div>\\n                     </div>\\n                    </div>\\n                    <div class=\"swiper-slide\">\\n                     <div class=\"elementor-testimonial elementor-repeater-item-bdaa0cb\">\\n                      <div class=\"elementor-testimonial__header\">\\n                       <div class=\"elementor-testimonial__image\">\\n                        <img alt=\"Татьяна Герасимова\" src=\"https://avto-viraj.ru/wp-content/uploads/2021/04/tat_ger.jpg\"/>\\n                       </div>\\n                       <cite class=\"elementor-testimonial__cite\">\\n                        <span class=\"elementor-testimonial__name\">\\n                         Татьяна Герасимова\\n                        </span>\\n                        <span class=\"elementor-testimonial__title\">\\n                         (27.12.2019)\\n                        </span>\\n                       </cite>\\n                       <div class=\"elementor-testimonial__icon elementor-icon elementor-icon-\">\\n                        <span class=\"elementor-screen-only\">\\n                         Read More\\n                        </span>\\n                       </div>\\n                      </div>\\n                      <div class=\"elementor-testimonial__content\">\\n                       <div class=\"elementor-testimonial__text\">\\n                        Недавно мы с подругой наконец-то получили права благодаря автошколе \"Вираж\".Огромное спасибо преподавателю по теории,а также директору автошколы Копетинскому Алексею Михайловичу.Объяснял все очень доступно и подробно.Спасибо нашему инструктору по вождению Гага Альберт Федровичу за требовательнось,терпение,интересные занятия.Спасибо,что вы переживали вместе с нами на экзаменах,поддерживали,шутили,объясняли все тонкости.А также хочется выразить огромную благодарность администратору автошколы Майе Александровне-всегда объяснит,позванит и не откажет в помощи....И ВСЕМ ОГРОМНОЕ СПАСИБО!!!Желаю Вам процветания,удачи и всего самого наилутшего в наступающим 2020 году!!!\\n                       </div>\\n                      </div>\\n                     </div>\\n                    </div>\\n                    <div class=\"swiper-slide\">\\n                     <div class=\"elementor-testimonial elementor-repeater-item-df8d388\">\\n                      <div class=\"elementor-testimonial__header\">\\n                       <div class=\"elementor-testimonial__image\">\\n                        <img alt=\"Светлана Стойко\" src=\"https://avto-viraj.ru/wp-content/uploads/2021/04/svet-stoj.jpg\"/>\\n                       </div>\\n                       <cite class=\"elementor-testimonial__cite\">\\n                        <span class=\"elementor-testimonial__name\">\\n                         Светлана Стойко\\n                        </span>\\n                        <span class=\"elementor-testimonial__title\">\\n                         (12.10.2019)\\n                        </span>\\n                       </cite>\\n                       <div class=\"elementor-testimonial__icon elementor-icon elementor-icon-\">\\n                        <span class=\"elementor-screen-only\">\\n                         Read More\\n                        </span>\\n                       </div>\\n                      </div>\\n                      <div class=\"elementor-testimonial__content\">\\n                       <div class=\"elementor-testimonial__text\">\\n                        ОГРОМНАЯ благодарность ДИРЕКТОРУ автошколы \"ВИРАЖ\" Копетинскому Алексею Михайловичу за высокий профессионализм, слаженную команду профессионалов, организацию работы автошколы на высочайшем уровне. Индивидуальный подход к каждому обучающемуся. За человеческое отношение к людям и серьёзный подход к любимому делу! Отдельные слова благодарности инструктору Нефёдову Василию Геннадьевичу. Его спокойное, грамотное, уверенное умение обучать имеет высокие результаты на экзаменах! Низкий Вам всем поклон!!!! Вы лучшие!!!!!!!!!!!!!!\\n                       </div>\\n                      </div>\\n                     </div>\\n                    </div>\\n                    <div class=\"swiper-slide\">\\n                     <div class=\"elementor-testimonial elementor-repeater-item-bbc7d11\">\\n                      <div class=\"elementor-testimonial__header\">\\n                       <div class=\"elementor-testimonial__image\">\\n                        <img alt=\"Елена Кушнарева\" src=\"https://avto-viraj.ru/wp-content/uploads/2021/04/elen-kush.jpg\"/>\\n                       </div>\\n                       <cite class=\"elementor-testimonial__cite\">\\n                        <span class=\"elementor-testimonial__name\">\\n                         Елена Кушнарева\\n                        </span>\\n                        <span class=\"elementor-testimonial__title\">\\n                         (09.10.2019)\\n                        </span>\\n                       </cite>\\n                       <div class=\"elementor-testimonial__icon elementor-icon elementor-icon-\">\\n                        <span class=\"elementor-screen-only\">\\n                         Read More\\n                        </span>\\n                       </div>\\n                      </div>\\n                      <div class=\"elementor-testimonial__content\">\\n                       <div class=\"elementor-testimonial__text\">\\n                        Здравствуйте!!!! Хочу выразить огромную благодарность команде автошколы\" Вираж\"!!Спасибо задоходчивое обьяснение и обучение вождения с нуля! Отдельно хочу сказать огромное спасибо своему инструктору Хлыстову Олегу Станиславовичу! Преподавателю по теории Василевскому Андрею Владимировичу.Так же хочу поблагодарить директора автошколы Копетинского Алексея Михайловича,за поддержку на экзаменах, за внимательное отношение к каждому ученику.Долгих и успешных лет работы Вам,автошкола \"Вираж\" ВЫ ЛУЧШИЕ!!!!!\\n                       </div>\\n                      </div>\\n                     </div>\\n                    </div>\\n                    <div class=\"swiper-slide\">\\n                     <div class=\"elementor-testimonial elementor-repeater-item-d7417a3\">\\n                      <div class=\"elementor-testimonial__header\">\\n                       <div class=\"elementor-testimonial__image\">\\n                        <img alt=\"Оля Лакеева\" src=\"https://avto-viraj.ru/wp-content/uploads/2021/04/olya-lak.jpg\"/>\\n                       </div>\\n                       <cite class=\"elementor-testimonial__cite\">\\n                        <span class=\"elementor-testimonial__name\">\\n                         Оля Лакеева\\n                        </span>\\n                        <span class=\"elementor-testimonial__title\">\\n                         (29.09.2019)\\n                        </span>\\n                       </cite>\\n                       <div class=\"elementor-testimonial__icon elementor-icon elementor-icon-\">\\n                        <span class=\"elementor-screen-only\">\\n                         Read More\\n                        </span>\\n                       </div>\\n                      </div>\\n                      <div class=\"elementor-testimonial__content\">\\n                       <div class=\"elementor-testimonial__text\">\\n                        Добрый день!Хочу поблагодарить Автошколу ВИРАЖ за отличное обучение!Отдельно спасибо хочу сказать инструктору Хлыстову Дмитрию Олеговичу,который очень терпеливо относился к моим ошибкам и научил водить с нуля и Василевскому Андрею Владимировичу за то,что объяснял всё подробно и доступно.А также спасибо большое директору Копетинскому Алексею Михайловичу за поддержку к обучающимся! Отличная автошкола,всем советую!!!\\n                       </div>\\n                      </div>\\n                     </div>\\n                    </div>\\n                    <div class=\"swiper-slide\">\\n                     <div class=\"elementor-testimonial elementor-repeater-item-3cabe7d\">\\n                      <div class=\"elementor-testimonial__header\">\\n                       <div class=\"elementor-testimonial__image\">\\n                        <img alt=\"Дмитрий Бабакин\" src=\"https://avto-viraj.ru/wp-content/uploads/2021/04/dm-bab1.jpg\"/>\\n                       </div>\\n                       <cite class=\"elementor-testimonial__cite\">\\n                        <span class=\"elementor-testimonial__name\">\\n                         Дмитрий Бабакин\\n                        </span>\\n                        <span class=\"elementor-testimonial__title\">\\n                         (22.09.2019)\\n                        </span>\\n                       </cite>\\n                       <div class=\"elementor-testimonial__icon elementor-icon elementor-icon-\">\\n                        <span class=\"elementor-screen-only\">\\n                         Read More\\n                        </span>\\n                       </div>\\n                      </div>\\n                      <div class=\"elementor-testimonial__content\">\\n                       <div class=\"elementor-testimonial__text\">\\n                        Здравствуйте. Выражаю огромную благодарность автошколе Вираж и отдельно инструктору по вождению Нефедову Василию Геннадьевичу . Именно этот человек меня научил ездить с нуля ,за одно занятие получил больше знаний о дороге и ситуациях, чем за все обучение в школе. Если хочешь познать дорогу , то рекомендую эту школу!!! Лучшая АВТОШКОЛА \\'\\' ВИРАЖ \" .\\n                       </div>\\n                      </div>\\n                     </div>\\n                    </div>\\n                    <div class=\"swiper-slide\">\\n                     <div class=\"elementor-testimonial elementor-repeater-item-0a8c70a\">\\n                      <div class=\"elementor-testimonial__header\">\\n                       <div class=\"elementor-testimonial__image\">\\n                        <img alt=\"Алена майорова\" src=\"https://avto-viraj.ru/wp-content/uploads/2021/04/al-may.jpg\"/>\\n                       </div>\\n                       <cite class=\"elementor-testimonial__cite\">\\n                        <span class=\"elementor-testimonial__name\">\\n                         Алена майорова\\n                        </span>\\n                        <span class=\"elementor-testimonial__title\">\\n                         (28.05.2019)\\n                        </span>\\n                       </cite>\\n                       <div class=\"elementor-testimonial__icon elementor-icon elementor-icon-\">\\n                        <span class=\"elementor-screen-only\">\\n                         Read More\\n                        </span>\\n                       </div>\\n                      </div>\\n                      <div class=\"elementor-testimonial__content\">\\n                       <div class=\"elementor-testimonial__text\">\\n                        Хочу выразить огромную благодарность коллективу автошколы Вираж!! Спасибо за доходчивое объяснение и обучение вождению с нуля! Отдельно спасибо хочу сказать своему инструктору Василию Геннадьевичу! Который научил ездить не только по маршруту, но и подготовил к жизненным ситуациям на дороге, которые точно пригодятся! Если хотите быть уверенными водителями на дороге - то вам в автошколу Вираж! Научат всему!\\n                       </div>\\n                      </div>\\n                     </div>\\n                    </div>\\n                    <div class=\"swiper-slide\">\\n                     <div class=\"elementor-testimonial elementor-repeater-item-3e4952f\">\\n                      <div class=\"elementor-testimonial__header\">\\n                       <div class=\"elementor-testimonial__image\">\\n                        <img alt=\"Олеся овсянникова\" src=\"https://avto-viraj.ru/wp-content/uploads/2021/04/oles_ovsya.jpg\"/>\\n                       </div>\\n                       <cite class=\"elementor-testimonial__cite\">\\n                        <span class=\"elementor-testimonial__name\">\\n                         Олеся овсянникова\\n                        </span>\\n                        <span class=\"elementor-testimonial__title\">\\n                         (11.03.2020)\\n                        </span>\\n                       </cite>\\n                       <div class=\"elementor-testimonial__icon elementor-icon elementor-icon-\">\\n                        <span class=\"elementor-screen-only\">\\n                         Read More\\n                        </span>\\n                       </div>\\n                      </div>\\n                      <div class=\"elementor-testimonial__content\">\\n                       <div class=\"elementor-testimonial__text\">\\n                        Спасибо за удобную организацию обучения. На теории объясняют все предельно понятно. Инструктора находят отличный подход, обучают и готовят к сдаче экзамена очень профессионально. Отдельное спасибо инструктору Овчеренко И.Н. На каждое занятие идёшь с энтузиазмом, уходишь с прекрасным настроением\\n                       </div>\\n                      </div>\\n                     </div>\\n                    </div>\\n                    <div class=\"swiper-slide\">\\n                     <div class=\"elementor-testimonial elementor-repeater-item-cb0bf19\">\\n                      <div class=\"elementor-testimonial__header\">\\n                       <div class=\"elementor-testimonial__image\">\\n                        <img alt=\"Долбилин\" src=\"https://avto-viraj.ru/wp-content/uploads/2021/04/mckrasavcheg1.jpg\"/>\\n                       </div>\\n                       <cite class=\"elementor-testimonial__cite\">\\n                        <span class=\"elementor-testimonial__name\">\\n                         Долбилин\\n                        </span>\\n                       </cite>\\n                       <div class=\"elementor-testimonial__icon elementor-icon elementor-icon-\">\\n                        <span class=\"elementor-screen-only\">\\n                         Read More\\n                        </span>\\n                       </div>\\n                      </div>\\n                      <div class=\"elementor-testimonial__content\">\\n                       <div class=\"elementor-testimonial__text\">\\n                        Здравствуйте. Выражаю благодарность автошколе Вираж и отдельно инструктору по вождению Хлыстову Олегу Станиславовичу за проявленный профессионализм и внимание. Сдал с первого раза. Спасибо\\n                       </div>\\n                      </div>\\n                     </div>\\n                    </div>\\n                    <div class=\"swiper-slide\">\\n                     <div class=\"elementor-testimonial elementor-repeater-item-0a89e2d\">\\n                      <div class=\"elementor-testimonial__header\">\\n                       <div class=\"elementor-testimonial__image\">\\n                        <img alt=\"Александр Чечетов\" src=\"https://avto-viraj.ru/wp-content/uploads/2021/04/andr_cheche.jpg\"/>\\n                       </div>\\n                       <cite class=\"elementor-testimonial__cite\">\\n                        <span class=\"elementor-testimonial__name\">\\n                         Александр Чечетов\\n                        </span>\\n                        <span class=\"elementor-testimonial__title\">\\n                         (23.01.2020)\\n                        </span>\\n                       </cite>\\n                       <div class=\"elementor-testimonial__icon elementor-icon elementor-icon-\">\\n                        <span class=\"elementor-screen-only\">\\n                         Read More\\n                        </span>\\n                       </div>\\n                      </div>\\n                      <div class=\"elementor-testimonial__content\">\\n                       <div class=\"elementor-testimonial__text\">\\n                        Хочу сказать огромное спасибо автошколе Вираж за обучение.Отдельно хочу выразить огромную благодарность за обучение инструктору Макарову Г.Ф.Свою работу Григорий Фёдорович выполнил на отлично.\\n                       </div>\\n                      </div>\\n                     </div>\\n                    </div>\\n                    <div class=\"swiper-slide\">\\n                     <div class=\"elementor-testimonial elementor-repeater-item-f629fe3\">\\n                      <div class=\"elementor-testimonial__header\">\\n                       <div class=\"elementor-testimonial__image\">\\n                        <img alt=\"Олег Аванесян\" src=\"https://avto-viraj.ru/wp-content/uploads/2021/04/oleg_ava.jpg\"/>\\n                       </div>\\n                       <cite class=\"elementor-testimonial__cite\">\\n                        <span class=\"elementor-testimonial__name\">\\n                         Олег Аванесян\\n                        </span>\\n                        <span class=\"elementor-testimonial__title\">\\n                         (09.12.2019)\\n                        </span>\\n                       </cite>\\n                       <div class=\"elementor-testimonial__icon elementor-icon elementor-icon-\">\\n                        <span class=\"elementor-screen-only\">\\n                         Read More\\n                        </span>\\n                       </div>\\n                      </div>\\n                      <div class=\"elementor-testimonial__content\">\\n                       <div class=\"elementor-testimonial__text\">\\n                        Хочу выразить огромную благодарность лучшей Автошколе \"ВИРАЖ\" за лучшие три месяца которые я провел у Вас. Особенная благодарность лучшему инструктору Гаге Алберту федоровичу. Желаю Вам большого процветания!\\n                       </div>\\n                      </div>\\n                     </div>\\n                    </div>\\n                   </div>\\n                   <div class=\"swiper-pagination\">\\n                   </div>\\n                   <div class=\"elementor-swiper-button elementor-swiper-button-prev\">\\n                    <i aria-hidden=\"true\" class=\"eicon-chevron-left\">\\n                    </i>\\n                    <span class=\"elementor-screen-only\">\\n                     Previous\\n                    </span>\\n                   </div>\\n                   <div class=\"elementor-swiper-button elementor-swiper-button-next\">\\n                    <i aria-hidden=\"true\" class=\"eicon-chevron-right\">\\n                    </i>\\n                    <span class=\"elementor-screen-only\">\\n                     Next\\n                    </span>\\n                   </div>\\n                  </div>\\n                 </div>\\n                </div>\\n               </div>\\n              </div>\\n             </div>\\n            </div>\\n           </section>\\n          </div>\\n         </div>\\n        </div>\\n        <!-- .entry-content .clear -->\\n       </article>\\n       <!-- #post-## -->\\n      </main>\\n      <!-- #main -->\\n     </div>\\n     <!-- #primary -->\\n    </div>\\n    <!-- ast-container -->\\n   </div>\\n   <!-- #content -->\\n   <footer class=\"site-footer\" id=\"colophon\" itemid=\"#colophon\" itemscope=\"itemscope\" itemtype=\"https://schema.org/WPFooter\">\\n    <div class=\"site-primary-footer-wrap ast-builder-grid-row-container site-footer-focus-item ast-builder-grid-row-4-equal ast-builder-grid-row-tablet-2-equal ast-builder-grid-row-mobile-full ast-footer-row-stack ast-footer-row-tablet-stack ast-footer-row-mobile-stack\" data-section=\"section-primary-footer-builder\">\\n     <div class=\"ast-builder-grid-row-container-inner\">\\n      <div class=\"ast-builder-footer-grid-columns site-primary-footer-inner-wrap ast-builder-grid-row\">\\n       <div class=\"site-footer-primary-section-1 site-footer-section site-footer-section-1\">\\n        <aside class=\"footer-widget-area widget-area site-footer-focus-item\" data-section=\"sidebar-widgets-footer-widget-1\">\\n         <div class=\"footer-widget-area-inner site-info-inner\">\\n          <section class=\"widget widget_text\" id=\"text-1\">\\n           <div class=\"textwidget\">\\n            <p>\\n             <img alt=\"\" class=\"alignnone size-full wp-image-1193\" height=\"39\" loading=\"lazy\" sizes=\"(max-width: 231px) 100vw, 231px\" src=\"https://avto-viraj.ru/wp-content/uploads/2021/04/logo.png\" srcset=\"https://avto-viraj.ru/wp-content/uploads/2021/04/logo.png 231w, https://avto-viraj.ru/wp-content/uploads/2021/04/logo-180x30.png 180w\" width=\"231\"/>\\n            </p>\\n            <p>\\n             Наша автошкола успешно работает уже 10 лет. За это время у нас прошли обучение более 3 000 человек. К нам обращаются не только коломенцы, но и жители других городов.\\n            </p>\\n           </div>\\n          </section>\\n         </div>\\n        </aside>\\n       </div>\\n       <div class=\"site-footer-primary-section-2 site-footer-section site-footer-section-2\">\\n        <aside class=\"footer-widget-area widget-area site-footer-focus-item\" data-section=\"sidebar-widgets-footer-widget-2\">\\n         <div class=\"footer-widget-area-inner site-info-inner\">\\n          <section class=\"widget widget_nav_menu\" id=\"nav_menu-1\">\\n           <h2 class=\"widget-title\">\\n            Быстрые ссылки\\n           </h2>\\n           <nav aria-label=\"Быстрые ссылки\" class=\"menu-bystrye-ssylki-container\">\\n            <ul class=\"menu\" id=\"menu-bystrye-ssylki\">\\n             <li class=\"menu-item menu-item-type-post_type menu-item-object-page menu-item-home current-menu-item page_item page-item-1183 current_page_item menu-item-1602\" id=\"menu-item-1602\">\\n              <a aria-current=\"page\" class=\"menu-link\" href=\"https://avto-viraj.ru/\">\\n               Главная\\n              </a>\\n             </li>\\n             <li class=\"menu-item menu-item-type-post_type menu-item-object-page menu-item-1604\" id=\"menu-item-1604\">\\n              <a class=\"menu-link\" href=\"https://avto-viraj.ru/kategoriya-a/\">\\n               Категория A\\n              </a>\\n             </li>\\n             <li class=\"menu-item menu-item-type-post_type menu-item-object-page menu-item-1605\" id=\"menu-item-1605\">\\n              <a class=\"menu-link\" href=\"https://avto-viraj.ru/kategoriya-b/\">\\n               Категория B\\n              </a>\\n             </li>\\n             <li class=\"menu-item menu-item-type-post_type menu-item-object-page menu-item-1603\" id=\"menu-item-1603\">\\n              <a class=\"menu-link\" href=\"https://avto-viraj.ru/novosti-i-stati/\">\\n               Новости и статьи\\n              </a>\\n             </li>\\n             <li class=\"menu-item menu-item-type-post_type menu-item-object-page menu-item-2206\" id=\"menu-item-2206\">\\n              <a class=\"menu-link\" href=\"https://avto-viraj.ru/vopros-otvet/\">\\n               Вопрос — Ответ\\n              </a>\\n             </li>\\n             <li class=\"menu-item menu-item-type-post_type menu-item-object-page menu-item-1607\" id=\"menu-item-1607\">\\n              <a class=\"menu-link\" href=\"https://avto-viraj.ru/svedeniya-ob-organizacii/\">\\n               Сведения об организации\\n              </a>\\n             </li>\\n             <li class=\"menu-item menu-item-type-post_type menu-item-object-page menu-item-1606\" id=\"menu-item-1606\">\\n              <a class=\"menu-link\" href=\"https://avto-viraj.ru/contact/\">\\n               Контакты\\n              </a>\\n             </li>\\n            </ul>\\n           </nav>\\n          </section>\\n         </div>\\n        </aside>\\n       </div>\\n       <div class=\"site-footer-primary-section-3 site-footer-section site-footer-section-3\">\\n        <aside class=\"footer-widget-area widget-area site-footer-focus-item\" data-section=\"sidebar-widgets-footer-widget-3\">\\n         <div class=\"footer-widget-area-inner site-info-inner\">\\n          <section class=\"widget widget_nav_menu\" id=\"nav_menu-2\">\\n           <h2 class=\"widget-title\">\\n            Важно\\n           </h2>\\n           <nav aria-label=\"Важно\" class=\"menu-vazhnye-ssylki-container\">\\n            <ul class=\"menu\" id=\"menu-vazhnye-ssylki\">\\n             <li class=\"menu-item menu-item-type-post_type menu-item-object-page menu-item-privacy-policy menu-item-1610\" id=\"menu-item-1610\">\\n              <a class=\"menu-link\" href=\"https://avto-viraj.ru/privacy-policy/\">\\n               Политика конфиденциальности\\n              </a>\\n             </li>\\n             <li class=\"menu-item menu-item-type-post_type menu-item-object-page menu-item-1608\" id=\"menu-item-1608\">\\n              <a class=\"menu-link\" href=\"https://avto-viraj.ru/politika-obrabotki-personalnyh-dannyh/\">\\n               Политика обработки персональных данных\\n              </a>\\n             </li>\\n             <li class=\"menu-item menu-item-type-post_type menu-item-object-page menu-item-1609\" id=\"menu-item-1609\">\\n              <a class=\"menu-link\" href=\"https://avto-viraj.ru/svedeniya-ob-organizacii/obrazovanie/polzovatelskoe-soglashenie/\">\\n               Пользовательское соглашение\\n              </a>\\n             </li>\\n            </ul>\\n           </nav>\\n          </section>\\n         </div>\\n        </aside>\\n       </div>\\n       <div class=\"site-footer-primary-section-4 site-footer-section site-footer-section-4\">\\n        <aside class=\"footer-widget-area widget-area site-footer-focus-item\" data-section=\"sidebar-widgets-footer-widget-4\">\\n         <div class=\"footer-widget-area-inner site-info-inner\">\\n          <section class=\"widget widget_text\" id=\"text-2\">\\n           <h2 class=\"widget-title\">\\n            Контакты\\n           </h2>\\n           <div class=\"textwidget\">\\n            <p>\\n             Адрес:\\n             <a href=\"https://yandex.ru/maps/10734/kolomna/house/ulitsa_malysheva_17/Z0EYcQ5iQUwFQFtvfXx5cn9jZg==/?from=tabbar&amp;ll=38.793886%2C55.083188&amp;source=serp_navig&amp;z=17.11\" rel=\"noopener\" target=\"_blank\">\\n              г.Коломна, ул. Добролюбова д.4 (здание Мособлстрой-3, 2 этаж.)\\n             </a>\\n             <br/>\\n             Телефон:\\n             <a href=\"tel:+74966120100\">\\n              +7 (496) 612-01-00\\n             </a>\\n             ;\\n             <a href=\"tel:+79854611057\">\\n              +7 (985) 461-10-57\\n             </a>\\n             ;\\n             <a href=\"tel:+79268154608\">\\n              +7 (926) 815-46-08\\n             </a>\\n             <br/>\\n             E-mail:\\n             <a href=\"mailto:avto-viraj@mail.ru\">\\n              avto-viraj@mail.ru\\n             </a>\\n             <br/>\\n             Рабочие дни: 9:30 — 18:00\\n            </p>\\n           </div>\\n          </section>\\n         </div>\\n        </aside>\\n        <div class=\"ast-builder-layout-element ast-flex site-footer-focus-item\" data-section=\"section-fb-social-icons-1\">\\n         <div class=\"ast-footer-social-1-wrap ast-footer-social-wrap\">\\n          <div class=\"footer-social-inner-wrap element-social-inner-wrap social-show-label-false ast-social-color-type-custom ast-social-stack-none ast-social-element-style-filled\">\\n           <a class=\"ast-builder-social-element ast-inline-flex ast-facebook footer-social-item\" href=\"https://www.facebook.com/%D0%90%D0%B2%D1%82%D0%BE%D1%88%D0%BA%D0%BE%D0%BB%D0%B0-%D0%92%D0%B8%D1%80%D0%B0%D0%B6-%D0%9A%D0%BE%D0%BB%D0%BE%D0%BC%D0%BD%D0%B0-274819802988986\" rel=\"noopener noreferrer\" style=\"--color: #557dbc; --background-color: transparent;\" target=\"_blank\">\\n            <span class=\"ahfb-svg-iconset ast-inline-flex svg-baseline\">\\n             <svg viewbox=\"0 0 448 512\" xmlns=\"http://www.w3.org/2000/svg\">\\n              <path d=\"M400 32H48A48 48 0 0 0 0 80v352a48 48 0 0 0 48 48h137.25V327.69h-63V256h63v-54.64c0-62.15 37-96.48 93.67-96.48 27.14 0 55.52 4.84 55.52 4.84v61h-31.27c-30.81 0-40.42 19.12-40.42 38.73V256h68.78l-11 71.69h-57.78V480H400a48 48 0 0 0 48-48V80a48 48 0 0 0-48-48z\">\\n              </path>\\n             </svg>\\n            </span>\\n           </a>\\n           <a class=\"ast-builder-social-element ast-inline-flex ast-youtube footer-social-item\" href=\"https://vk.com/club151129758\" rel=\"noopener noreferrer\" style=\"--color: #e96651; --background-color: transparent;\" target=\"_blank\">\\n            <span class=\"ahfb-svg-iconset ast-inline-flex svg-baseline\">\\n             <svg viewbox=\"0 0 576 512\" xmlns=\"http://www.w3.org/2000/svg\">\\n              <path d=\"M545 117.7c3.7-12.5 0-21.7-17.8-21.7h-58.9c-15 0-21.9 7.9-25.6 16.7 0 0-30 73.1-72.4 120.5-13.7 13.7-20 18.1-27.5 18.1-3.7 0-9.4-4.4-9.4-16.9V117.7c0-15-4.2-21.7-16.6-21.7h-92.6c-9.4 0-15 7-15 13.5 0 14.2 21.2 17.5 23.4 57.5v86.8c0 19-3.4 22.5-10.9 22.5-20 0-68.6-73.4-97.4-157.4-5.8-16.3-11.5-22.9-26.6-22.9H38.8c-16.8 0-20.2 7.9-20.2 16.7 0 15.6 20 93.1 93.1 195.5C160.4 378.1 229 416 291.4 416c37.5 0 42.1-8.4 42.1-22.9 0-66.8-3.4-73.1 15.4-73.1 8.7 0 23.7 4.4 58.7 38.1 40 40 46.6 57.9 69 57.9h58.9c16.8 0 25.3-8.4 20.4-25-11.2-34.9-86.9-106.7-90.3-111.5-8.7-11.2-6.2-16.2 0-26.2.1-.1 72-101.3 79.4-135.6z\">\\n              </path>\\n             </svg>\\n            </span>\\n           </a>\\n           <a class=\"ast-builder-social-element ast-inline-flex ast-linkedin footer-social-item\" href=\"https://www.instagram.com/virajavtoshkola\" rel=\"noopener noreferrer\" style=\"--color: #1c86c6; --background-color: transparent;\" target=\"_blank\">\\n            <span class=\"ahfb-svg-iconset ast-inline-flex svg-baseline\">\\n             <svg viewbox=\"0 0 448 512\" xmlns=\"http://www.w3.org/2000/svg\">\\n              <path d=\"M224.1 141c-63.6 0-114.9 51.3-114.9 114.9s51.3 114.9 114.9 114.9S339 319.5 339 255.9 287.7 141 224.1 141zm0 189.6c-41.1 0-74.7-33.5-74.7-74.7s33.5-74.7 74.7-74.7 74.7 33.5 74.7 74.7-33.6 74.7-74.7 74.7zm146.4-194.3c0 14.9-12 26.8-26.8 26.8-14.9 0-26.8-12-26.8-26.8s12-26.8 26.8-26.8 26.8 12 26.8 26.8zm76.1 27.2c-1.7-35.9-9.9-67.7-36.2-93.9-26.2-26.2-58-34.4-93.9-36.2-37-2.1-147.9-2.1-184.9 0-35.8 1.7-67.6 9.9-93.9 36.1s-34.4 58-36.2 93.9c-2.1 37-2.1 147.9 0 184.9 1.7 35.9 9.9 67.7 36.2 93.9s58 34.4 93.9 36.2c37 2.1 147.9 2.1 184.9 0 35.9-1.7 67.7-9.9 93.9-36.2 26.2-26.2 34.4-58 36.2-93.9 2.1-37 2.1-147.8 0-184.8zM398.8 388c-7.8 19.6-22.9 34.7-42.6 42.6-29.5 11.7-99.5 9-132.1 9s-102.7 2.6-132.1-9c-19.6-7.8-34.7-22.9-42.6-42.6-11.7-29.5-9-99.5-9-132.1s-2.6-102.7 9-132.1c7.8-19.6 22.9-34.7 42.6-42.6 29.5-11.7 99.5-9 132.1-9s102.7-2.6 132.1 9c19.6 7.8 34.7 22.9 42.6 42.6 11.7 29.5 9 99.5 9 132.1s2.7 102.7-9 132.1z\">\\n              </path>\\n             </svg>\\n            </span>\\n           </a>\\n           <a class=\"ast-builder-social-element ast-inline-flex ast-behance footer-social-item\" href=\"https://www.ok.ru/group/zapisa\" rel=\"noopener noreferrer\" style=\"--color: #1B64F6; --background-color: transparent;\" target=\"_blank\">\\n            <span class=\"ahfb-svg-iconset ast-inline-flex svg-baseline\">\\n             <svg viewbox=\"0 0 320 512\" xmlns=\"http://www.w3.org/2000/svg\">\\n              <path d=\"M275.1 334c-27.4 17.4-65.1 24.3-90 26.9l20.9 20.6 76.3 76.3c27.9 28.6-17.5 73.3-45.7 45.7-19.1-19.4-47.1-47.4-76.3-76.6L84 503.4c-28.2 27.5-73.6-17.6-45.4-45.7 19.4-19.4 47.1-47.4 76.3-76.3l20.6-20.6c-24.6-2.6-62.9-9.1-90.6-26.9-32.6-21-46.9-33.3-34.3-59 7.4-14.6 27.7-26.9 54.6-5.7 0 0 36.3 28.9 94.9 28.9s94.9-28.9 94.9-28.9c26.9-21.1 47.1-8.9 54.6 5.7 12.4 25.7-1.9 38-34.5 59.1zM30.3 129.7C30.3 58 88.6 0 160 0s129.7 58 129.7 129.7c0 71.4-58.3 129.4-129.7 129.4s-129.7-58-129.7-129.4zm66 0c0 35.1 28.6 63.7 63.7 63.7s63.7-28.6 63.7-63.7c0-35.4-28.6-64-63.7-64s-63.7 28.6-63.7 64z\">\\n              </path>\\n             </svg>\\n            </span>\\n           </a>\\n          </div>\\n         </div>\\n        </div>\\n       </div>\\n      </div>\\n     </div>\\n    </div>\\n    <div class=\"site-below-footer-wrap ast-builder-grid-row-container site-footer-focus-item ast-builder-grid-row-2-equal ast-builder-grid-row-tablet-2-equal ast-builder-grid-row-mobile-full ast-footer-row-stack ast-footer-row-tablet-stack ast-footer-row-mobile-stack\" data-section=\"section-below-footer-builder\">\\n     <div class=\"ast-builder-grid-row-container-inner\">\\n      <div class=\"ast-builder-footer-grid-columns site-below-footer-inner-wrap ast-builder-grid-row\">\\n       <div class=\"site-footer-below-section-1 site-footer-section site-footer-section-1\">\\n        <div class=\"ast-builder-layout-element ast-flex site-footer-focus-item ast-footer-copyright\" data-section=\"section-footer-builder\">\\n         <div class=\"ast-footer-copyright\">\\n          <p>\\n           © 2021 Автошкола \"Вираж\"\\n          </p>\\n         </div>\\n        </div>\\n       </div>\\n       <div class=\"site-footer-below-section-2 site-footer-section site-footer-section-2\">\\n        <div class=\"footer-widget-area widget-area site-footer-focus-item ast-footer-html-1\" data-section=\"section-fb-html-1\">\\n         <div class=\"ast-header-html inner-link-style-\">\\n          <div class=\"ast-builder-html-element\">\\n           <p>\\n            Создание сайта -\\n            <a href=\"https://eslinado.site/\" rel=\"nofollow noopener\" target=\"_blank\">\\n             ЕНС-студия сайтов\\n            </a>\\n           </p>\\n          </div>\\n         </div>\\n        </div>\\n       </div>\\n      </div>\\n     </div>\\n    </div>\\n   </footer>\\n   <!-- #colophon -->\\n  </div>\\n  <!-- #page -->\\n  <div id=\"arcontactus\">\\n  </div>\\n  <script type=\"text/javascript\">\\n   var zaloWidgetInterval;\\r\\n    var tawkToInterval;\\r\\n    var tawkToHideInterval;\\r\\n    var skypeWidgetInterval;\\r\\n    var lcpWidgetInterval;\\r\\n    var closePopupTimeout;\\r\\n    var lzWidgetInterval;\\r\\n    var paldeskInterval;\\r\\n    var arcuOptions;\\r\\n    var hideCustomerChatInterval;\\r\\n        var arcItems = [];\\r\\n        window.addEventListener(\\'load\\', function(){\\r\\n        jQuery(\\'#arcontactus\\').remove();\\r\\n        var $arcuWidget = jQuery(\\'<div>\\', {\\r\\n            id: \\'arcontactus\\'\\r\\n        });\\r\\n        jQuery(\\'body\\').append($arcuWidget);\\r\\n                    arCuClosedCookie = arCuGetCookie(\\'arcu-closed\\');\\r\\n                jQuery(\\'#arcontactus\\').on(\\'arcontactus.init\\', function(){\\r\\n            jQuery(\\'#arcontactus\\').addClass(\\'arcuAnimated\\').addClass(\\'flipInY\\');\\r\\n            jQuery(\\'#arcu-callback-form\\').append(arCUVars._wpnonce);\\r\\n            setTimeout(function(){\\r\\n                jQuery(\\'#arcontactus\\').removeClass(\\'flipInY\\');\\r\\n            }, 1000);\\r\\n                                                        });\\r\\n        jQuery(\\'#arcontactus\\').on(\\'arcontactus.closeMenu\\', function(){\\r\\n            arCuCreateCookie(\\'arcumenu-closed\\', 1, 1);\\r\\n        });\\r\\n                                                var arcItem = {};\\r\\n                            arcItem.id = \\'msg-item-9\\';\\r\\n                                    arcItem.class = \\'msg-item-phone\\';\\r\\n            arcItem.title = \"Заказать звонок\";\\r\\n                            arcItem.subTitle = \"Перезвоним на Ваш номер!\";\\r\\n                        arcItem.icon = \\'<svg xmlns=\"http://www.w3.org/2000/svg\" viewBox=\"0 0 512 512\"><path fill=\"currentColor\" d=\"M493.4 24.6l-104-24c-11.3-2.6-22.9 3.3-27.5 13.9l-48 112c-4.2 9.8-1.4 21.3 6.9 28l60.6 49.6c-36 76.7-98.9 140.5-177.2 177.2l-49.6-60.6c-6.8-8.3-18.2-11.1-28-6.9l-112 48C3.9 366.5-2 378.1.6 389.4l24 104C27.1 504.2 36.7 512 48 512c256.1 0 464-207.5 464-464 0-11.2-7.7-20.9-18.6-23.4z\"></path></svg>\\';\\r\\n                            arcItem.href = \\'callback\\';\\r\\n                                    arcItem.color = \\'#4EB625\\';\\r\\n            arcItems.push(arcItem);\\r\\n                                var arcItem = {};\\r\\n                            arcItem.id = \\'msg-item-6\\';\\r\\n                                    arcItem.class = \\'msg-item-envelope\\';\\r\\n            arcItem.title = \"Написать нам письмо\";\\r\\n                        arcItem.icon = \\'<svg  xmlns=\"http://www.w3.org/2000/svg\" viewBox=\"0 0 512 512\"><path fill=\"currentColor\" d=\"M464 64H48C21.5 64 0 85.5 0 112v288c0 26.5 21.5 48 48 48h416c26.5 0 48-21.5 48-48V112c0-26.5-21.5-48-48-48zM48 96h416c8.8 0 16 7.2 16 16v41.4c-21.9 18.5-53.2 44-150.6 121.3-16.9 13.4-50.2 45.7-73.4 45.3-23.2.4-56.6-31.9-73.4-45.3C85.2 197.4 53.9 171.9 32 153.4V112c0-8.8 7.2-16 16-16zm416 320H48c-8.8 0-16-7.2-16-16V195c22.8 18.7 58.8 47.6 130.7 104.7 20.5 16.4 56.7 52.5 93.3 52.3 36.4.3 72.3-35.5 93.3-52.3 71.9-57.1 107.9-86 130.7-104.7v205c0 8.8-7.2 16-16 16z\"></path></svg>\\';\\r\\n                            arcItem.href = \\'mailto:avto-viraj@mail.ru\\';\\r\\n                                    arcItem.color = \\'#FF643A\\';\\r\\n            arcItems.push(arcItem);\\r\\n                arcuOptions = {\\r\\n            wordpressPluginVersion: \\'1.9.9\\',\\r\\n                            buttonIcon: \\'<svg xmlns=\"http://www.w3.org/2000/svg\" viewBox=\"0 0 512 512\"><path fill=\"currentColor\" d=\"M128 216c-13.3 0-24 10.7-24 24s10.7 24 24 24 24-10.7 24-24-10.7-24-24-24zm128 0c-13.3 0-24 10.7-24 24s10.7 24 24 24 24-10.7 24-24-10.7-24-24-24zm128 0c-13.3 0-24 10.7-24 24s10.7 24 24 24 24-10.7 24-24-10.7-24-24-24zM256 32C114.6 32 0 125.1 0 240c0 47.6 19.9 91.2 52.9 126.3C38 405.7 7 439.1 6.5 439.5c-6.6 7-8.4 17.2-4.6 26S14.4 480 24 480c61.5 0 110-25.7 139.1-46.3C192 442.8 223.2 448 256 448c141.4 0 256-93.1 256-208S397.4 32 256 32zm0 384c-28.3 0-56.3-4.3-83.2-12.8l-15.2-4.8-13 9.2c-23 16.3-58.5 35.3-102.6 39.6 12-15.1 29.8-40.4 40.8-69.6l7.1-18.7-13.7-14.6C47.3 313.7 32 277.6 32 240c0-97 100.5-176 224-176s224 79 224 176-100.5 176-224 176z\"></path></svg>\\',\\r\\n                        drag: false,\\r\\n            mode: \\'regular\\',\\r\\n            buttonIconUrl: \\'https://avto-viraj.ru/wp-content/plugins/ar-contactus/res/img/msg.svg\\',\\r\\n            showMenuHeader: true,\\r\\n                            menuHeaderText: \"Спросите у нас напрямую, это быстрее, чем искать на сайте!\",\\r\\n                        showHeaderCloseBtn: false,\\r\\n                                        headerCloseBtnBgColor: \\'#F89533\\',\\r\\n                                        headerCloseBtnColor: \\'#FFFFFF\\',\\r\\n                        itemsIconType: \\'rounded\\',\\r\\n            align: \\'right\\',\\r\\n            reCaptcha: false,\\r\\n            reCaptchaKey: \\'\\',\\r\\n            countdown: 0,\\r\\n            theme: \\'#D42526\\',\\r\\n                                                buttonText: \"На связи!\",\\r\\n                                        buttonSize: \\'large\\',\\r\\n                            buttonIconSize: 24,\\r\\n                        menuSize: \\'large\\',\\r\\n                            phonePlaceholder: \\'+7 (ХХХ) ХХХ-ХХ-ХХ\\',\\r\\n                callbackSubmitText: \\'Позвоните мне!\\',\\r\\n                errorMessage: \\'Что-то не так... обновите страницу и попробуйте еще раз!\\',\\r\\n                callProcessText: \\'Уже звоним...\\',\\r\\n                callSuccessText: \\'Спасибо, ждите звонка!\\',\\r\\n                callbackFormText: \\'Напишите Ваш телефон, перезвоним!\\',\\r\\n                        iconsAnimationSpeed: 600,\\r\\n            iconsAnimationPause: 2000,\\r\\n            items: arcItems,\\r\\n            ajaxUrl: \\'https://avto-viraj.ru/wp-admin/admin-ajax.php\\',\\r\\n                            promptPosition: \\'top\\',\\r\\n                                                            popupAnimation: \\'fadeindown\\',\\r\\n                                style: \\'\\',\\r\\n                                        itemsAnimation: \\'downtoup\\',\\r\\n                        callbackFormFields: {\\r\\n                                name: {\\r\\n                    name: \\'name\\',\\r\\n                    enabled: true,\\r\\n                    required: false,\\r\\n                    type: \\'text\\',\\r\\n                                            label: \"Ваше имя\",\\r\\n                        placeholder: \"\",\\r\\n                                                        },\\r\\n                                                phone: {\\r\\n                    name: \\'phone\\',\\r\\n                    enabled: true,\\r\\n                    required: true,\\r\\n                    type: \\'tel\\',\\r\\n                    label: \\'\\',\\r\\n                                            placeholder: \"+7 (ХХХ) ХХХ-ХХ-ХХ\"\\r\\n                                    },\\r\\n                                gdpr: {\\r\\n                    name: \\'gdpr\\',\\r\\n                    enabled: true,\\r\\n                    required: true,\\r\\n                    type: \\'checkbox\\',\\r\\n                                            label: \"Согласен на обработку персональных данных\",\\r\\n                                    }\\r\\n                            },\\r\\n            action: \\'arcontactus_request_callback\\'\\r\\n        };\\r\\n                                    jQuery(\\'#arcontactus\\').contactUs(arcuOptions);\\r\\n                                                                        });\\n  </script>\\n  <a class=\"ast-scroll-top-icon ast-scroll-to-top-right\" data-on-devices=\"both\" id=\"ast-scroll-top\">\\n   <span class=\"screen-reader-text\">\\n    Пролистать наверх\\n   </span>\\n  </a>\\n  <div class=\"elementor elementor-1468 elementor-location-popup\" data-elementor-id=\"1468\" data-elementor-settings=\\'{\"timing\":[]}\\' data-elementor-type=\"popup\">\\n   <div class=\"elementor-section-wrap\">\\n    <section class=\"elementor-section elementor-top-section elementor-element elementor-element-e9e9e1e elementor-section-boxed elementor-section-height-default elementor-section-height-default\" data-element_type=\"section\" data-id=\"e9e9e1e\">\\n     <div class=\"elementor-container elementor-column-gap-default\">\\n      <div class=\"elementor-column elementor-col-100 elementor-top-column elementor-element elementor-element-6dca3b7\" data-element_type=\"column\" data-id=\"6dca3b7\">\\n       <div class=\"elementor-widget-wrap elementor-element-populated\">\\n        <div class=\"elementor-element elementor-element-0ba0231 elementor-widget elementor-widget-heading\" data-element_type=\"widget\" data-id=\"0ba0231\" data-widget_type=\"heading.default\">\\n         <div class=\"elementor-widget-container\">\\n          <h2 class=\"elementor-heading-title elementor-size-default\">\\n           Записаться в автошколу\\n          </h2>\\n         </div>\\n        </div>\\n        <div class=\"elementor-element elementor-element-11e9e4e elementor-button-align-stretch elementor-widget elementor-widget-form\" data-element_type=\"widget\" data-id=\"11e9e4e\" data-settings=\\'{\"step_next_label\":\"Next\",\"step_previous_label\":\"Previous\",\"button_width\":\"100\",\"step_type\":\"number_text\",\"step_icon_shape\":\"circle\"}\\' data-widget_type=\"form.default\">\\n         <div class=\"elementor-widget-container\">\\n          <form class=\"elementor-form\" method=\"post\" name=\"New Form\">\\n           <input name=\"post_id\" type=\"hidden\" value=\"1468\"/>\\n           <input name=\"form_id\" type=\"hidden\" value=\"11e9e4e\"/>\\n           <input name=\"queried_id\" type=\"hidden\" value=\"1183\"/>\\n           <div class=\"elementor-form-fields-wrapper elementor-labels-above\">\\n            <div class=\"elementor-field-type-text elementor-field-group elementor-column elementor-field-group-name elementor-col-100 elementor-field-required\">\\n             <label class=\"elementor-field-label\" for=\"form-field-name\">\\n              ФИО\\n             </label>\\n             <input aria-required=\"true\" class=\"elementor-field elementor-size-sm elementor-field-textual\" id=\"form-field-name\" name=\"form_fields[name]\" placeholder=\"Фамилия Имя Отчество\" required=\"required\" size=\"1\" type=\"text\"/>\\n            </div>\\n            <div class=\"elementor-field-type-tel elementor-field-group elementor-column elementor-field-group-email elementor-col-100 elementor-field-required\">\\n             <label class=\"elementor-field-label\" for=\"form-field-email\">\\n              Телефон\\n             </label>\\n             <input aria-required=\"true\" class=\"elementor-field elementor-size-sm elementor-field-textual\" id=\"form-field-email\" name=\"form_fields[email]\" pattern=\"[0-9()#&amp;+*-=.]+\" placeholder=\"Номер Вашего телефона\" required=\"required\" size=\"1\" title=\"Only numbers and phone characters (#, -, *, etc) are accepted.\" type=\"tel\"/>\\n            </div>\\n            <div class=\"elementor-field-type-select elementor-field-group elementor-column elementor-field-group-message elementor-col-100 elementor-field-required\">\\n             <label class=\"elementor-field-label\" for=\"form-field-message\">\\n              Категория\\n             </label>\\n             <div class=\"elementor-field elementor-select-wrapper \">\\n              <select aria-required=\"true\" class=\"elementor-field-textual elementor-size-sm\" id=\"form-field-message\" name=\"form_fields[message]\" required=\"required\">\\n               <option value=\"A\">\\n                A\\n               </option>\\n               <option value=\"B\">\\n                B\\n               </option>\\n              </select>\\n             </div>\\n            </div>\\n            <div class=\"elementor-field-type-acceptance elementor-field-group elementor-column elementor-field-group-field_28785bf elementor-col-100 elementor-field-required\">\\n             <div class=\"elementor-field-subgroup\">\\n              <span class=\"elementor-field-option\">\\n               <input aria-required=\"true\" class=\"elementor-field elementor-size-sm elementor-acceptance-field\" id=\"form-field-field_28785bf\" name=\"form_fields[field_28785bf]\" required=\"required\" type=\"checkbox\"/>\\n               <label for=\"form-field-field_28785bf\">\\n                Я прочитал(а) и принимаю политику\\n                <a href=\"https://avto-viraj.ru/privacy-policy/\">\\n                 конфиденциальности сайта\\n                </a>\\n                .\\n               </label>\\n              </span>\\n             </div>\\n            </div>\\n            <div class=\"elementor-field-group elementor-column elementor-field-type-submit elementor-col-100 e-form__buttons\">\\n             <button class=\"elementor-button elementor-size-sm\" type=\"submit\">\\n              <span>\\n               <span class=\" elementor-button-icon\">\\n               </span>\\n               <span class=\"elementor-button-text\">\\n                Отправить заявку\\n               </span>\\n              </span>\\n             </button>\\n            </div>\\n           </div>\\n          </form>\\n         </div>\\n        </div>\\n       </div>\\n      </div>\\n     </div>\\n    </section>\\n   </div>\\n  </div>\\n  <link href=\"https://avto-viraj.ru/wp-content/plugins/astra-widgets/assets/css/minified/astra-widget-social-profiles.min.css?ver=1.2.8\" id=\"astra-widgets-astra-widget-social-profiles-css\" media=\"all\" rel=\"stylesheet\"/>\\n  <style id=\"astra-widgets-astra-widget-social-profiles-inline-css\">\\n   #astra-widget-social-profiles-2 .astra-widget-social-profiles-inner li .ast-widget-icon svg{fill:#ffffff;}#astra-widget-social-profiles-2 .astra-widget-social-profiles-inner li .ast-widget-icon:hover svg{fill:#d42526;}#astra-widget-social-profiles-2 .astra-widget-social-profiles-inner.square-outline li .ast-widget-icon, #astra-widget-social-profiles-2 .astra-widget-social-profiles-inner.circle-outline li .ast-widget-icon{background:transparent;}#astra-widget-social-profiles-2 .astra-widget-social-profiles-inner.square-outline li .ast-widget-icon svg, #astra-widget-social-profiles-2 .astra-widget-social-profiles-inner.circle-outline li .ast-widget-icon svg{background:transparent;fill:#ffffff;}#astra-widget-social-profiles-2 .astra-widget-social-profiles-inner.square .ast-widget-icon svg, #astra-widget-social-profiles-2 .astra-widget-social-profiles-inner.circle .ast-widget-icon svg{fill:#ffffff;}#astra-widget-social-profiles-2 .astra-widget-social-profiles-inner.square .ast-widget-icon:hover svg, #astra-widget-social-profiles-2 .astra-widget-social-profiles-inner.circle .ast-widget-icon:hover svg{fill:#d42526;}#astra-widget-social-profiles-2 .astra-widget-social-profiles-inner.square-outline li .ast-widget-icon:hover, #astra-widget-social-profiles-2 .astra-widget-social-profiles-inner.circle-outline li .ast-widget-icon:hover{background:transparent;}#astra-widget-social-profiles-2 .astra-widget-social-profiles-inner.square-outline li .ast-widget-icon:hover svg, #astra-widget-social-profiles-2 .astra-widget-social-profiles-inner.circle-outline li .ast-widget-icon:hover svg{fill:#d42526;}#astra-widget-social-profiles-2 .astra-widget-social-profiles-inner .ast-widget-icon{font-size:16px;}#astra-widget-social-profiles-2 .astra-widget-social-profiles-inner.circle li .ast-widget-icon, #astra-widget-social-profiles-2 .astra-widget-social-profiles-inner.circle-outline li .ast-widget-icon{font-size:16px;}#astra-widget-social-profiles-2 .astra-widget-social-profiles-inner li > a .ast-widget-icon{margin-right:px;}#astra-widget-social-profiles-2 .astra-widget-social-profiles-inner.stack li > a {padding-bottom:12px;}#astra-widget-social-profiles-2 .astra-widget-social-profiles-inner.inline li > a {padding-right:12px;}#astra-widget-social-profiles-2 .astra-widget-social-profiles-inner.inline li:last-child a {padding-right:0;}#astra-widget-social-profiles-2 .astra-widget-social-profiles-inner li:last-child a{margin-right:0;padding-bottom:0;}\\n  </style>\\n  <link href=\"https://avto-viraj.ru/wp-content/uploads/elementor/css/post-1468.css?ver=1633932857\" id=\"elementor-post-1468-css\" media=\"all\" rel=\"stylesheet\"/>\\n  <script id=\"astra-theme-js-js-extra\">\\n   var astra = {\"break_point\":\"768\",\"isRtl\":\"\"};\\n  </script>\\n  <script id=\"astra-theme-js-js\" src=\"https://avto-viraj.ru/wp-content/themes/astra/assets/js/minified/frontend.min.js?ver=3.2.0\">\\n  </script>\\n  <script id=\"astra-addon-js-js-extra\">\\n   var astraAddon = {\"sticky_active\":\"\",\"is_header_builder_active\":\"1\"};\\n  </script>\\n  <script id=\"astra-addon-js-js\" src=\"https://avto-viraj.ru/wp-content/uploads/astra-addon/astra-addon-606c0b23a45798-14729371.js?ver=3.1.0\">\\n  </script>\\n  <script id=\"wp-embed-js\" src=\"https://avto-viraj.ru/wp-includes/js/wp-embed.min.js?ver=5.8.2\">\\n  </script>\\n  <script id=\"imagesloaded-js\" src=\"https://avto-viraj.ru/wp-includes/js/imagesloaded.min.js?ver=4.1.4\">\\n  </script>\\n  <script id=\"elementor-pro-webpack-runtime-js\" src=\"https://avto-viraj.ru/wp-content/plugins/elementor-pro/assets/js/webpack-pro.runtime.min.js?ver=3.1.1\">\\n  </script>\\n  <script id=\"elementor-webpack-runtime-js\" src=\"https://avto-viraj.ru/wp-content/plugins/elementor/assets/js/webpack.runtime.min.js?ver=3.1.4\">\\n  </script>\\n  <script id=\"elementor-frontend-modules-js\" src=\"https://avto-viraj.ru/wp-content/plugins/elementor/assets/js/frontend-modules.min.js?ver=3.1.4\">\\n  </script>\\n  <script id=\"elementor-sticky-js\" src=\"https://avto-viraj.ru/wp-content/plugins/elementor-pro/assets/lib/sticky/jquery.sticky.min.js?ver=3.1.1\">\\n  </script>\\n  <script id=\"elementor-pro-frontend-js-before\">\\n   var ElementorProFrontendConfig = {\"ajaxurl\":\"https:\\\\/\\\\/avto-viraj.ru\\\\/wp-admin\\\\/admin-ajax.php\",\"nonce\":\"d1519d6ca9\",\"urls\":{\"assets\":\"https:\\\\/\\\\/avto-viraj.ru\\\\/wp-content\\\\/plugins\\\\/elementor-pro\\\\/assets\\\\/\"},\"i18n\":{\"toc_no_headings_found\":\"No headings were found on this page.\"},\"shareButtonsNetworks\":{\"facebook\":{\"title\":\"Facebook\",\"has_counter\":true},\"twitter\":{\"title\":\"Twitter\"},\"google\":{\"title\":\"Google+\",\"has_counter\":true},\"linkedin\":{\"title\":\"LinkedIn\",\"has_counter\":true},\"pinterest\":{\"title\":\"Pinterest\",\"has_counter\":true},\"reddit\":{\"title\":\"Reddit\",\"has_counter\":true},\"vk\":{\"title\":\"VK\",\"has_counter\":true},\"odnoklassniki\":{\"title\":\"OK\",\"has_counter\":true},\"tumblr\":{\"title\":\"Tumblr\"},\"digg\":{\"title\":\"Digg\"},\"skype\":{\"title\":\"Skype\"},\"stumbleupon\":{\"title\":\"StumbleUpon\",\"has_counter\":true},\"mix\":{\"title\":\"Mix\"},\"telegram\":{\"title\":\"Telegram\"},\"pocket\":{\"title\":\"Pocket\",\"has_counter\":true},\"xing\":{\"title\":\"XING\",\"has_counter\":true},\"whatsapp\":{\"title\":\"WhatsApp\"},\"email\":{\"title\":\"Email\"},\"print\":{\"title\":\"Print\"}},\"facebook_sdk\":{\"lang\":\"ru_RU\",\"app_id\":\"\"},\"lottie\":{\"defaultAnimationUrl\":\"https:\\\\/\\\\/avto-viraj.ru\\\\/wp-content\\\\/plugins\\\\/elementor-pro\\\\/modules\\\\/lottie\\\\/assets\\\\/animations\\\\/default.json\"}};\\n  </script>\\n  <script id=\"elementor-pro-frontend-js\" src=\"https://avto-viraj.ru/wp-content/plugins/elementor-pro/assets/js/frontend.min.js?ver=3.1.1\">\\n  </script>\\n  <script id=\"jquery-ui-core-js\" src=\"https://avto-viraj.ru/wp-includes/js/jquery/ui/core.min.js?ver=1.12.1\">\\n  </script>\\n  <script id=\"elementor-dialog-js\" src=\"https://avto-viraj.ru/wp-content/plugins/elementor/assets/lib/dialog/dialog.min.js?ver=4.8.1\">\\n  </script>\\n  <script id=\"elementor-waypoints-js\" src=\"https://avto-viraj.ru/wp-content/plugins/elementor/assets/lib/waypoints/waypoints.min.js?ver=4.0.2\">\\n  </script>\\n  <script id=\"share-link-js\" src=\"https://avto-viraj.ru/wp-content/plugins/elementor/assets/lib/share-link/share-link.min.js?ver=3.1.4\">\\n  </script>\\n  <script id=\"swiper-js\" src=\"https://avto-viraj.ru/wp-content/plugins/elementor/assets/lib/swiper/swiper.min.js?ver=5.3.6\">\\n  </script>\\n  <script id=\"elementor-frontend-js-before\">\\n   var elementorFrontendConfig = {\"environmentMode\":{\"edit\":false,\"wpPreview\":false,\"isScriptDebug\":false,\"isImprovedAssetsLoading\":false},\"i18n\":{\"shareOnFacebook\":\"\\\\u041f\\\\u043e\\\\u0434\\\\u0435\\\\u043b\\\\u0438\\\\u0442\\\\u044c\\\\u0441\\\\u044f \\\\u0432 Facebook\",\"shareOnTwitter\":\"\\\\u041f\\\\u043e\\\\u0434\\\\u0435\\\\u043b\\\\u0438\\\\u0442\\\\u044c\\\\u0441\\\\u044f \\\\u0432 Twitter\",\"pinIt\":\"\\\\u0417\\\\u0430\\\\u043f\\\\u0438\\\\u043d\\\\u0438\\\\u0442\\\\u044c\",\"download\":\"\\\\u0421\\\\u043a\\\\u0430\\\\u0447\\\\u0430\\\\u0442\\\\u044c\",\"downloadImage\":\"\\\\u0421\\\\u043a\\\\u0430\\\\u0447\\\\u0430\\\\u0442\\\\u044c \\\\u0438\\\\u0437\\\\u043e\\\\u0431\\\\u0440\\\\u0430\\\\u0436\\\\u0435\\\\u043d\\\\u0438\\\\u0435\",\"fullscreen\":\"\\\\u0412\\\\u043e \\\\u0432\\\\u0435\\\\u0441\\\\u044c \\\\u044d\\\\u043a\\\\u0440\\\\u0430\\\\u043d\",\"zoom\":\"\\\\u0423\\\\u0432\\\\u0435\\\\u043b\\\\u0438\\\\u0447\\\\u0435\\\\u043d\\\\u0438\\\\u0435\",\"share\":\"\\\\u041f\\\\u043e\\\\u0434\\\\u0435\\\\u043b\\\\u0438\\\\u0442\\\\u044c\\\\u0441\\\\u044f\",\"playVideo\":\"\\\\u041f\\\\u0440\\\\u043e\\\\u0438\\\\u0433\\\\u0440\\\\u0430\\\\u0442\\\\u044c \\\\u0432\\\\u0438\\\\u0434\\\\u0435\\\\u043e\",\"previous\":\"\\\\u041d\\\\u0430\\\\u0437\\\\u0430\\\\u0434\",\"next\":\"\\\\u0414\\\\u0430\\\\u043b\\\\u0435\\\\u0435\",\"close\":\"\\\\u0417\\\\u0430\\\\u043a\\\\u0440\\\\u044b\\\\u0442\\\\u044c\"},\"is_rtl\":false,\"breakpoints\":{\"xs\":0,\"sm\":480,\"md\":768,\"lg\":1025,\"xl\":1440,\"xxl\":1600},\"version\":\"3.1.4\",\"is_static\":false,\"experimentalFeatures\":{\"e_dom_optimization\":true,\"a11y_improvements\":true,\"landing-pages\":true},\"urls\":{\"assets\":\"https:\\\\/\\\\/avto-viraj.ru\\\\/wp-content\\\\/plugins\\\\/elementor\\\\/assets\\\\/\"},\"settings\":{\"page\":[],\"editorPreferences\":[]},\"kit\":{\"global_image_lightbox\":\"yes\",\"lightbox_enable_counter\":\"yes\",\"lightbox_enable_fullscreen\":\"yes\",\"lightbox_enable_zoom\":\"yes\",\"lightbox_enable_share\":\"yes\",\"lightbox_title_src\":\"title\",\"lightbox_description_src\":\"description\"},\"post\":{\"id\":1183,\"title\":\"%D0%90%D0%B2%D1%82%D0%BE%D1%88%D0%BA%D0%BE%D0%BB%D0%B0%20%22%D0%92%D0%B8%D1%80%D0%B0%D0%B6%22\",\"excerpt\":\"\",\"featuredImage\":false}};\\n  </script>\\n  <script id=\"elementor-frontend-js\" src=\"https://avto-viraj.ru/wp-content/plugins/elementor/assets/js/frontend.min.js?ver=3.1.4\">\\n  </script>\\n  <script id=\"pro-preloaded-elements-handlers-js\" src=\"https://avto-viraj.ru/wp-content/plugins/elementor-pro/assets/js/preloaded-elements-handlers.min.js?ver=3.1.1\">\\n  </script>\\n  <script id=\"preloaded-elements-handlers-js\" src=\"https://avto-viraj.ru/wp-content/plugins/elementor/assets/js/preloaded-elements-handlers.min.js?ver=3.1.4\">\\n  </script>\\n  <script id=\"underscore-js\" src=\"https://avto-viraj.ru/wp-includes/js/underscore.min.js?ver=1.13.1\">\\n  </script>\\n  <script id=\"wp-util-js-extra\">\\n   var _wpUtilSettings = {\"ajax\":{\"url\":\"\\\\/wp-admin\\\\/admin-ajax.php\"}};\\n  </script>\\n  <script id=\"wp-util-js\" src=\"https://avto-viraj.ru/wp-includes/js/wp-util.min.js?ver=5.8.2\">\\n  </script>\\n  <script id=\"wpforms-elementor-js-extra\">\\n   var wpformsElementorVars = {\"captcha_provider\":\"recaptcha\",\"recaptcha_type\":\"v2\"};\\n  </script>\\n  <script id=\"wpforms-elementor-js\" src=\"https://avto-viraj.ru/wp-content/plugins/wpforms-lite/assets/js/integrations/elementor/frontend.min.js?ver=1.6.6\">\\n  </script>\\n  <script>\\n   /(trident|msie)/i.test(navigator.userAgent)&&document.getElementById&&window.addEventListener&&window.addEventListener(\"hashchange\",function(){var t,e=location.hash.substring(1);/^[A-z0-9_-]+$/.test(e)&&(t=document.getElementById(e))&&(/^(?:a|select|input|button|textarea)$/i.test(t.tagName)||(t.tabIndex=-1),t.focus())},!1);\\n  </script>\\n </body>\\n</html>\\n'"
            ]
          },
          "metadata": {},
          "execution_count": 249
        }
      ]
    },
    {
      "cell_type": "code",
      "metadata": {
        "id": "FOX86od3PBcA"
      },
      "source": [
        "validator = Molerat(\n",
        "    level=\"AA\",\n",
        "    media_rules=['max-width: 600px'],\n",
        "    skip_these_classes=[\"sneaky\"]\n",
        "        ).validate_document(html.prettify().encode())"
      ],
      "execution_count": null,
      "outputs": []
    },
    {
      "cell_type": "code",
      "metadata": {
        "colab": {
          "base_uri": "https://localhost:8080/"
        },
        "id": "OaaCE_6CSIze",
        "outputId": "3bc24829-22c6-4de3-a039-eadb4ad53f92"
      },
      "source": [
        "validator['failures']['1.4.3'].keys()"
      ],
      "execution_count": null,
      "outputs": [
        {
          "output_type": "execute_result",
          "data": {
            "text/plain": [
              "dict_keys(['G18', 'G145'])"
            ]
          },
          "metadata": {},
          "execution_count": 256
        }
      ]
    },
    {
      "cell_type": "code",
      "metadata": {
        "colab": {
          "base_uri": "https://localhost:8080/"
        },
        "id": "nbiqSk1qW5k7",
        "outputId": "1cec93db-f1ac-467e-ff44-37041f2f597b"
      },
      "source": [
        "validator.keys()"
      ],
      "execution_count": null,
      "outputs": [
        {
          "output_type": "execute_result",
          "data": {
            "text/plain": [
              "dict_keys(['success', 'failures', 'warnings', 'skipped'])"
            ]
          },
          "metadata": {},
          "execution_count": 269
        }
      ]
    },
    {
      "cell_type": "code",
      "metadata": {
        "id": "TfGzFtT0TMaJ"
      },
      "source": [
        "instance = Tarsier()\n",
        "results = instance.validate_document(html.prettify().encode())"
      ],
      "execution_count": null,
      "outputs": []
    },
    {
      "cell_type": "code",
      "metadata": {
        "colab": {
          "base_uri": "https://localhost:8080/"
        },
        "id": "T2dzho9GVlQQ",
        "outputId": "86de4158-096e-41a8-93e8-31b5581f397a"
      },
      "source": [
        "results['failures']['1.3.1'].keys()"
      ],
      "execution_count": null,
      "outputs": [
        {
          "output_type": "execute_result",
          "data": {
            "text/plain": [
              "dict_keys(['H42'])"
            ]
          },
          "metadata": {},
          "execution_count": 260
        }
      ]
    },
    {
      "cell_type": "code",
      "metadata": {
        "colab": {
          "base_uri": "https://localhost:8080/"
        },
        "id": "o-dgeOlTVq28",
        "outputId": "fd0e2877-d401-4f52-f8ae-6609cde17a91"
      },
      "source": [
        "results['failures']['1.3.1']['H42']"
      ],
      "execution_count": null,
      "outputs": [
        {
          "output_type": "execute_result",
          "data": {
            "text/plain": [
              "[{'classes': 'elementor-heading-title elementor-size-default',\n",
              "  'error_code': 'tarsier-1',\n",
              "  'guideline': '1.3.1',\n",
              "  'id': None,\n",
              "  'message': 'Incorrect header found at /html/body/div[1]/div/div/div/main/article/div/div/div/section[12]/div[2]/div/div/section[1]/div/div[1]/div/div[2]/div/h4 - H4 should be H3, text in header was \\n                      Минимальные сроки обучения\\n                     ',\n",
              "  'technique': 'H42',\n",
              "  'xpath': '/html/body/div[1]/div/div/div/main/article/div/div/div/section[12]/div[2]/div/div/section[1]/div/div[1]/div/div[2]/div/h4'}]"
            ]
          },
          "metadata": {},
          "execution_count": 261
        }
      ]
    },
    {
      "cell_type": "code",
      "metadata": {
        "id": "jI0KmEIPV0if"
      },
      "source": [
        "instance = Ayeaye()\n",
        "results = instance.validate_document(html.prettify().encode())"
      ],
      "execution_count": null,
      "outputs": []
    },
    {
      "cell_type": "code",
      "metadata": {
        "colab": {
          "base_uri": "https://localhost:8080/"
        },
        "id": "XD1AEM2pWoDJ",
        "outputId": "b40da180-da41-4716-cd2d-098eb8a8e8fd"
      },
      "source": [
        "results"
      ],
      "execution_count": null,
      "outputs": [
        {
          "output_type": "execute_result",
          "data": {
            "text/plain": [
              "{'failures': {},\n",
              " 'skipped': {},\n",
              " 'success': {},\n",
              " 'warnings': {'2.1.1': {'G202': [{'classes': 'home page-template-default page page-id-1183 wp-custom-logo ehf-template-astra ehf-stylesheet-astra ast-single-post ast-inherit-site-logo-transparent ast-theme-transparent-header astra-hfb-header ast-desktop ast-page-builder-template ast-no-sidebar astra-3.2.0 elementor-default elementor-kit-532 elementor-page elementor-page-1183 astra-addon-3.1.0',\n",
              "     'error_code': 'ayeaye-3-warning',\n",
              "     'guideline': '2.1.1',\n",
              "     'id': None,\n",
              "     'message': 'No `accesskey` attributes found, consider adding some to improve keyboard accessibility',\n",
              "     'technique': 'G202',\n",
              "     'xpath': '/html/body'}]}}}"
            ]
          },
          "metadata": {},
          "execution_count": 266
        }
      ]
    },
    {
      "cell_type": "markdown",
      "source": [
        "`wcag_zoo` was not used in the final version of tests, switched to Google Lighthouse API"
      ],
      "metadata": {
        "id": "kWNvHI7WYzoZ"
      }
    }
  ]
}