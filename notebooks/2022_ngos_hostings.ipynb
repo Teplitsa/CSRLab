{
  "nbformat": 4,
  "nbformat_minor": 0,
  "metadata": {
    "colab": {
      "name": "ngos_hostings.ipynb",
      "provenance": []
    },
    "kernelspec": {
      "name": "python3",
      "display_name": "Python 3"
    },
    "language_info": {
      "name": "python"
    }
  },
  "cells": [
    {
      "cell_type": "markdown",
      "source": [
        "# Find out hosting countries and providers (ISP)\n",
        "\n",
        "- IP can be found with `socket`\n",
        "- hostings are easy to find (`ipinfo` library, `ip2location` opensource library, hostings are already discovered by `whois`)\n",
        "- ISP can be found with the help of ip2location https://www.ip2location.com/developers/python\n"
      ],
      "metadata": {
        "id": "COo7W_wmXekl"
      }
    },
    {
      "cell_type": "code",
      "execution_count": 2,
      "metadata": {
        "id": "2B0R9CehcTCB"
      },
      "outputs": [],
      "source": [
        "import pandas as pd\n",
        "import requests, json, os\n",
        "from json.decoder import JSONDecodeError\n",
        "import json"
      ]
    },
    {
      "cell_type": "code",
      "source": [
        "data_url = \"https://raw.githubusercontent.com/Teplitsa/CSRLab/main/data/2022_lab_index_report.csv\"\n",
        "index_report_data = pd.read_csv(data_url, encoding='utf-8')\n",
        "data_url = \"https://raw.githubusercontent.com/Teplitsa/CSRLab/main/data/2022_lab_selected_ngos_data.csv\"\n",
        "selected_ngos_data = pd.read_csv(data_url, encoding='utf-8')\n",
        "concat_ngos = pd.merge(\n",
        "    index_report_data,\n",
        "    selected_ngos_data,\n",
        "    how=\"outer\",\n",
        "    on=[\"ogrn\", \"website\"],\n",
        "    sort=False,\n",
        "    left_index=False,\n",
        "    right_index=False,\n",
        ")"
      ],
      "metadata": {
        "id": "qaoCYTpIceBH"
      },
      "execution_count": null,
      "outputs": []
    },
    {
      "cell_type": "code",
      "source": [
        "concat_ngos.head()"
      ],
      "metadata": {
        "colab": {
          "base_uri": "https://localhost:8080/",
          "height": 525
        },
        "id": "4kcc7BgWck3C",
        "outputId": "530b7c06-a486-418d-99b1-bb899ba2cee5"
      },
      "execution_count": null,
      "outputs": [
        {
          "output_type": "execute_result",
          "data": {
            "text/plain": [
              "            ogrn         website  bin_robots  bin_sitemap  bin_fb  bin_vk  \\\n",
              "0  1026800000666    profobr68.ru         1.0          1.0     0.0     0.0   \n",
              "1  1022900002861  проф-севмаш.рф         1.0          0.0     0.0     1.0   \n",
              "2  1025200008140      vdpor52.ru         1.0          1.0     0.0     0.0   \n",
              "3  1037739471220     orthonet.ru         0.0          0.0     0.0     0.0   \n",
              "4  1085200004450   vdpo-sarov.ru         1.0          1.0     0.0     1.0   \n",
              "\n",
              "   bin_ig  bin_ok  bin_youtube  bin_tiktok  ...  bin_socnet  \\\n",
              "0     0.0     0.0          0.0         0.0  ...    0.000000   \n",
              "1     0.0     0.0          0.0         0.0  ...    0.166667   \n",
              "2     0.0     0.0          0.0         0.0  ...    0.000000   \n",
              "3     0.0     0.0          0.0         0.0  ...    0.000000   \n",
              "4     0.0     0.0          0.0         0.0  ...    0.166667   \n",
              "\n",
              "              regionName               minjustForm  \\\n",
              "0     Тамбовская область     Профессиональный союз   \n",
              "1  Архангельская область     Профессиональный союз   \n",
              "2  Нижегородская область  Общественная организация   \n",
              "3                 Москва  Общественная организация   \n",
              "4  Нижегородская область  Общественная организация   \n",
              "\n",
              "                                           shortName     regDate  \\\n",
              "0  ТАМБОВСКАЯ ОБЛАСТНАЯ ОРГАНИЗАЦИЯ ОБЩЕРОССИЙСКО...  1938-11-10   \n",
              "1                  МОО - ППО АО \"ПО \"СЕВМАШ\" СУДПРОФ  1942-03-15   \n",
              "2  НИЖЕГОРОДСКОЕ ОБЛАСТНОЕ ОТДЕЛЕНИЕ ВДПО, ВДПО Н...  1958-06-20   \n",
              "3                              СОЮЗ ПИСАТЕЛЕЙ РОССИИ  1958-12-07   \n",
              "4                                   САРОВСКОЕ \"ВДПО\"  1962-03-30   \n",
              "\n",
              "                                           mainOkved  \\\n",
              "0               Деятельность профессиональных союзов   \n",
              "1               Деятельность профессиональных союзов   \n",
              "2  Деятельность прочих общественных организаций, ...   \n",
              "3  Деятельность профессиональных членских организ...   \n",
              "4  Деятельность прочих общественных организаций, ...   \n",
              "\n",
              "                opfCombined  \\\n",
              "0   Профсоюзные организации   \n",
              "1   Профсоюзные организации   \n",
              "2  Общественные организации   \n",
              "3  Общественные организации   \n",
              "4  Общественные организации   \n",
              "\n",
              "                                       okvedCombined  \\\n",
              "0               Деятельность профессиональных союзов   \n",
              "1               Деятельность профессиональных союзов   \n",
              "2  Деятельность прочих общественных организаций, ...   \n",
              "3  Деятельность профессиональных членских организ...   \n",
              "4  Деятельность прочих общественных организаций, ...   \n",
              "\n",
              "                  vedSimple  websiteCreationDate  \n",
              "0                 Профсоюзы  2016-01-15 19:31:34  \n",
              "1                 Профсоюзы  2018-08-27 11:35:06  \n",
              "2  Общественные организации  2016-09-28 12:05:06  \n",
              "3                 Профсоюзы  2005-11-24 21:00:00  \n",
              "4  Общественные организации   2021-04-15 8:10:11  \n",
              "\n",
              "[5 rows x 27 columns]"
            ],
            "text/html": [
              "\n",
              "  <div id=\"df-ee331738-3e1a-4179-aa73-e3f2d33cb3e3\">\n",
              "    <div class=\"colab-df-container\">\n",
              "      <div>\n",
              "<style scoped>\n",
              "    .dataframe tbody tr th:only-of-type {\n",
              "        vertical-align: middle;\n",
              "    }\n",
              "\n",
              "    .dataframe tbody tr th {\n",
              "        vertical-align: top;\n",
              "    }\n",
              "\n",
              "    .dataframe thead th {\n",
              "        text-align: right;\n",
              "    }\n",
              "</style>\n",
              "<table border=\"1\" class=\"dataframe\">\n",
              "  <thead>\n",
              "    <tr style=\"text-align: right;\">\n",
              "      <th></th>\n",
              "      <th>ogrn</th>\n",
              "      <th>website</th>\n",
              "      <th>bin_robots</th>\n",
              "      <th>bin_sitemap</th>\n",
              "      <th>bin_fb</th>\n",
              "      <th>bin_vk</th>\n",
              "      <th>bin_ig</th>\n",
              "      <th>bin_ok</th>\n",
              "      <th>bin_youtube</th>\n",
              "      <th>bin_tiktok</th>\n",
              "      <th>...</th>\n",
              "      <th>bin_socnet</th>\n",
              "      <th>regionName</th>\n",
              "      <th>minjustForm</th>\n",
              "      <th>shortName</th>\n",
              "      <th>regDate</th>\n",
              "      <th>mainOkved</th>\n",
              "      <th>opfCombined</th>\n",
              "      <th>okvedCombined</th>\n",
              "      <th>vedSimple</th>\n",
              "      <th>websiteCreationDate</th>\n",
              "    </tr>\n",
              "  </thead>\n",
              "  <tbody>\n",
              "    <tr>\n",
              "      <th>0</th>\n",
              "      <td>1026800000666</td>\n",
              "      <td>profobr68.ru</td>\n",
              "      <td>1.0</td>\n",
              "      <td>1.0</td>\n",
              "      <td>0.0</td>\n",
              "      <td>0.0</td>\n",
              "      <td>0.0</td>\n",
              "      <td>0.0</td>\n",
              "      <td>0.0</td>\n",
              "      <td>0.0</td>\n",
              "      <td>...</td>\n",
              "      <td>0.000000</td>\n",
              "      <td>Тамбовская область</td>\n",
              "      <td>Профессиональный союз</td>\n",
              "      <td>ТАМБОВСКАЯ ОБЛАСТНАЯ ОРГАНИЗАЦИЯ ОБЩЕРОССИЙСКО...</td>\n",
              "      <td>1938-11-10</td>\n",
              "      <td>Деятельность профессиональных союзов</td>\n",
              "      <td>Профсоюзные организации</td>\n",
              "      <td>Деятельность профессиональных союзов</td>\n",
              "      <td>Профсоюзы</td>\n",
              "      <td>2016-01-15 19:31:34</td>\n",
              "    </tr>\n",
              "    <tr>\n",
              "      <th>1</th>\n",
              "      <td>1022900002861</td>\n",
              "      <td>проф-севмаш.рф</td>\n",
              "      <td>1.0</td>\n",
              "      <td>0.0</td>\n",
              "      <td>0.0</td>\n",
              "      <td>1.0</td>\n",
              "      <td>0.0</td>\n",
              "      <td>0.0</td>\n",
              "      <td>0.0</td>\n",
              "      <td>0.0</td>\n",
              "      <td>...</td>\n",
              "      <td>0.166667</td>\n",
              "      <td>Архангельская область</td>\n",
              "      <td>Профессиональный союз</td>\n",
              "      <td>МОО - ППО АО \"ПО \"СЕВМАШ\" СУДПРОФ</td>\n",
              "      <td>1942-03-15</td>\n",
              "      <td>Деятельность профессиональных союзов</td>\n",
              "      <td>Профсоюзные организации</td>\n",
              "      <td>Деятельность профессиональных союзов</td>\n",
              "      <td>Профсоюзы</td>\n",
              "      <td>2018-08-27 11:35:06</td>\n",
              "    </tr>\n",
              "    <tr>\n",
              "      <th>2</th>\n",
              "      <td>1025200008140</td>\n",
              "      <td>vdpor52.ru</td>\n",
              "      <td>1.0</td>\n",
              "      <td>1.0</td>\n",
              "      <td>0.0</td>\n",
              "      <td>0.0</td>\n",
              "      <td>0.0</td>\n",
              "      <td>0.0</td>\n",
              "      <td>0.0</td>\n",
              "      <td>0.0</td>\n",
              "      <td>...</td>\n",
              "      <td>0.000000</td>\n",
              "      <td>Нижегородская область</td>\n",
              "      <td>Общественная организация</td>\n",
              "      <td>НИЖЕГОРОДСКОЕ ОБЛАСТНОЕ ОТДЕЛЕНИЕ ВДПО, ВДПО Н...</td>\n",
              "      <td>1958-06-20</td>\n",
              "      <td>Деятельность прочих общественных организаций, ...</td>\n",
              "      <td>Общественные организации</td>\n",
              "      <td>Деятельность прочих общественных организаций, ...</td>\n",
              "      <td>Общественные организации</td>\n",
              "      <td>2016-09-28 12:05:06</td>\n",
              "    </tr>\n",
              "    <tr>\n",
              "      <th>3</th>\n",
              "      <td>1037739471220</td>\n",
              "      <td>orthonet.ru</td>\n",
              "      <td>0.0</td>\n",
              "      <td>0.0</td>\n",
              "      <td>0.0</td>\n",
              "      <td>0.0</td>\n",
              "      <td>0.0</td>\n",
              "      <td>0.0</td>\n",
              "      <td>0.0</td>\n",
              "      <td>0.0</td>\n",
              "      <td>...</td>\n",
              "      <td>0.000000</td>\n",
              "      <td>Москва</td>\n",
              "      <td>Общественная организация</td>\n",
              "      <td>СОЮЗ ПИСАТЕЛЕЙ РОССИИ</td>\n",
              "      <td>1958-12-07</td>\n",
              "      <td>Деятельность профессиональных членских организ...</td>\n",
              "      <td>Общественные организации</td>\n",
              "      <td>Деятельность профессиональных членских организ...</td>\n",
              "      <td>Профсоюзы</td>\n",
              "      <td>2005-11-24 21:00:00</td>\n",
              "    </tr>\n",
              "    <tr>\n",
              "      <th>4</th>\n",
              "      <td>1085200004450</td>\n",
              "      <td>vdpo-sarov.ru</td>\n",
              "      <td>1.0</td>\n",
              "      <td>1.0</td>\n",
              "      <td>0.0</td>\n",
              "      <td>1.0</td>\n",
              "      <td>0.0</td>\n",
              "      <td>0.0</td>\n",
              "      <td>0.0</td>\n",
              "      <td>0.0</td>\n",
              "      <td>...</td>\n",
              "      <td>0.166667</td>\n",
              "      <td>Нижегородская область</td>\n",
              "      <td>Общественная организация</td>\n",
              "      <td>САРОВСКОЕ \"ВДПО\"</td>\n",
              "      <td>1962-03-30</td>\n",
              "      <td>Деятельность прочих общественных организаций, ...</td>\n",
              "      <td>Общественные организации</td>\n",
              "      <td>Деятельность прочих общественных организаций, ...</td>\n",
              "      <td>Общественные организации</td>\n",
              "      <td>2021-04-15 8:10:11</td>\n",
              "    </tr>\n",
              "  </tbody>\n",
              "</table>\n",
              "<p>5 rows × 27 columns</p>\n",
              "</div>\n",
              "      <button class=\"colab-df-convert\" onclick=\"convertToInteractive('df-ee331738-3e1a-4179-aa73-e3f2d33cb3e3')\"\n",
              "              title=\"Convert this dataframe to an interactive table.\"\n",
              "              style=\"display:none;\">\n",
              "        \n",
              "  <svg xmlns=\"http://www.w3.org/2000/svg\" height=\"24px\"viewBox=\"0 0 24 24\"\n",
              "       width=\"24px\">\n",
              "    <path d=\"M0 0h24v24H0V0z\" fill=\"none\"/>\n",
              "    <path d=\"M18.56 5.44l.94 2.06.94-2.06 2.06-.94-2.06-.94-.94-2.06-.94 2.06-2.06.94zm-11 1L8.5 8.5l.94-2.06 2.06-.94-2.06-.94L8.5 2.5l-.94 2.06-2.06.94zm10 10l.94 2.06.94-2.06 2.06-.94-2.06-.94-.94-2.06-.94 2.06-2.06.94z\"/><path d=\"M17.41 7.96l-1.37-1.37c-.4-.4-.92-.59-1.43-.59-.52 0-1.04.2-1.43.59L10.3 9.45l-7.72 7.72c-.78.78-.78 2.05 0 2.83L4 21.41c.39.39.9.59 1.41.59.51 0 1.02-.2 1.41-.59l7.78-7.78 2.81-2.81c.8-.78.8-2.07 0-2.86zM5.41 20L4 18.59l7.72-7.72 1.47 1.35L5.41 20z\"/>\n",
              "  </svg>\n",
              "      </button>\n",
              "      \n",
              "  <style>\n",
              "    .colab-df-container {\n",
              "      display:flex;\n",
              "      flex-wrap:wrap;\n",
              "      gap: 12px;\n",
              "    }\n",
              "\n",
              "    .colab-df-convert {\n",
              "      background-color: #E8F0FE;\n",
              "      border: none;\n",
              "      border-radius: 50%;\n",
              "      cursor: pointer;\n",
              "      display: none;\n",
              "      fill: #1967D2;\n",
              "      height: 32px;\n",
              "      padding: 0 0 0 0;\n",
              "      width: 32px;\n",
              "    }\n",
              "\n",
              "    .colab-df-convert:hover {\n",
              "      background-color: #E2EBFA;\n",
              "      box-shadow: 0px 1px 2px rgba(60, 64, 67, 0.3), 0px 1px 3px 1px rgba(60, 64, 67, 0.15);\n",
              "      fill: #174EA6;\n",
              "    }\n",
              "\n",
              "    [theme=dark] .colab-df-convert {\n",
              "      background-color: #3B4455;\n",
              "      fill: #D2E3FC;\n",
              "    }\n",
              "\n",
              "    [theme=dark] .colab-df-convert:hover {\n",
              "      background-color: #434B5C;\n",
              "      box-shadow: 0px 1px 3px 1px rgba(0, 0, 0, 0.15);\n",
              "      filter: drop-shadow(0px 1px 2px rgba(0, 0, 0, 0.3));\n",
              "      fill: #FFFFFF;\n",
              "    }\n",
              "  </style>\n",
              "\n",
              "      <script>\n",
              "        const buttonEl =\n",
              "          document.querySelector('#df-ee331738-3e1a-4179-aa73-e3f2d33cb3e3 button.colab-df-convert');\n",
              "        buttonEl.style.display =\n",
              "          google.colab.kernel.accessAllowed ? 'block' : 'none';\n",
              "\n",
              "        async function convertToInteractive(key) {\n",
              "          const element = document.querySelector('#df-ee331738-3e1a-4179-aa73-e3f2d33cb3e3');\n",
              "          const dataTable =\n",
              "            await google.colab.kernel.invokeFunction('convertToInteractive',\n",
              "                                                     [key], {});\n",
              "          if (!dataTable) return;\n",
              "\n",
              "          const docLinkHtml = 'Like what you see? Visit the ' +\n",
              "            '<a target=\"_blank\" href=https://colab.research.google.com/notebooks/data_table.ipynb>data table notebook</a>'\n",
              "            + ' to learn more about interactive tables.';\n",
              "          element.innerHTML = '';\n",
              "          dataTable['output_type'] = 'display_data';\n",
              "          await google.colab.output.renderOutput(dataTable, element);\n",
              "          const docLink = document.createElement('div');\n",
              "          docLink.innerHTML = docLinkHtml;\n",
              "          element.appendChild(docLink);\n",
              "        }\n",
              "      </script>\n",
              "    </div>\n",
              "  </div>\n",
              "  "
            ]
          },
          "metadata": {},
          "execution_count": 8
        }
      ]
    },
    {
      "cell_type": "markdown",
      "source": [
        "I also need whois data from Gryadka:"
      ],
      "metadata": {
        "id": "1thA-b6w2GZG"
      }
    },
    {
      "cell_type": "code",
      "source": [
        "data_url = \"https://raw.githubusercontent.com/Teplitsa/CSRLab/main/data/2021_nov_whois_check.csv\"\n",
        "whois_data = pd.read_csv(data_url, encoding='utf-8')\n",
        "whois_data.tail()"
      ],
      "metadata": {
        "colab": {
          "base_uri": "https://localhost:8080/",
          "height": 444
        },
        "id": "cxfmHk7N2JbU",
        "outputId": "6d6d9bae-6d89-475d-a3e0-96054a2d8aec"
      },
      "execution_count": null,
      "outputs": [
        {
          "output_type": "execute_result",
          "data": {
            "text/plain": [
              "                 domain_name     registrar        creation_date  \\\n",
              "13377          PORA-DOBRA.RU  RU-CENTER-RU  2018-08-02 15:53:23   \n",
              "13378         EDUC-CENTER.RU  RU-CENTER-RU  2020-02-04 06:58:33   \n",
              "13379             FONDNKN.RU  RU-CENTER-RU  2018-07-17 15:00:41   \n",
              "13380  XN--J1AJCABV.XN--P1AI   RUCENTER-RF  2019-02-10 16:21:35   \n",
              "13381          UNINOVAMED.RU      REGRU-RU  2018-10-10 09:23:27   \n",
              "\n",
              "           expiration_date                             status  \\\n",
              "13377  2022-08-02 15:53:23  REGISTERED, DELEGATED, UNVERIFIED   \n",
              "13378  2023-02-04 06:58:33  REGISTERED, DELEGATED, UNVERIFIED   \n",
              "13379  2022-07-17 15:00:41    REGISTERED, DELEGATED, VERIFIED   \n",
              "13380  2023-02-10 16:21:36  REGISTERED, DELEGATED, UNVERIFIED   \n",
              "13381  2022-10-10 09:23:27  REGISTERED, DELEGATED, UNVERIFIED   \n",
              "\n",
              "                                                     org         website  \n",
              "13377                 Charity Foundation \" TIME OF GOOD\"   pora-dobra.ru  \n",
              "13378  Avtonomnaya nekommercheskaya organizatsiya \"Ts...  educ-center.ru  \n",
              "13379                    Fund National Cultural Heritage      fondnkn.ru  \n",
              "13380  Nekommercheskaya organizatsiya Respubliki Komi...       рфрпрк.рф  \n",
              "13381                               ANO \"MICLT \"Uninova\"   uninovamed.ru  "
            ],
            "text/html": [
              "\n",
              "  <div id=\"df-5133213c-f754-4969-8fd0-4b59dc8f7d0c\">\n",
              "    <div class=\"colab-df-container\">\n",
              "      <div>\n",
              "<style scoped>\n",
              "    .dataframe tbody tr th:only-of-type {\n",
              "        vertical-align: middle;\n",
              "    }\n",
              "\n",
              "    .dataframe tbody tr th {\n",
              "        vertical-align: top;\n",
              "    }\n",
              "\n",
              "    .dataframe thead th {\n",
              "        text-align: right;\n",
              "    }\n",
              "</style>\n",
              "<table border=\"1\" class=\"dataframe\">\n",
              "  <thead>\n",
              "    <tr style=\"text-align: right;\">\n",
              "      <th></th>\n",
              "      <th>domain_name</th>\n",
              "      <th>registrar</th>\n",
              "      <th>creation_date</th>\n",
              "      <th>expiration_date</th>\n",
              "      <th>status</th>\n",
              "      <th>org</th>\n",
              "      <th>website</th>\n",
              "    </tr>\n",
              "  </thead>\n",
              "  <tbody>\n",
              "    <tr>\n",
              "      <th>13377</th>\n",
              "      <td>PORA-DOBRA.RU</td>\n",
              "      <td>RU-CENTER-RU</td>\n",
              "      <td>2018-08-02 15:53:23</td>\n",
              "      <td>2022-08-02 15:53:23</td>\n",
              "      <td>REGISTERED, DELEGATED, UNVERIFIED</td>\n",
              "      <td>Charity Foundation \" TIME OF GOOD\"</td>\n",
              "      <td>pora-dobra.ru</td>\n",
              "    </tr>\n",
              "    <tr>\n",
              "      <th>13378</th>\n",
              "      <td>EDUC-CENTER.RU</td>\n",
              "      <td>RU-CENTER-RU</td>\n",
              "      <td>2020-02-04 06:58:33</td>\n",
              "      <td>2023-02-04 06:58:33</td>\n",
              "      <td>REGISTERED, DELEGATED, UNVERIFIED</td>\n",
              "      <td>Avtonomnaya nekommercheskaya organizatsiya \"Ts...</td>\n",
              "      <td>educ-center.ru</td>\n",
              "    </tr>\n",
              "    <tr>\n",
              "      <th>13379</th>\n",
              "      <td>FONDNKN.RU</td>\n",
              "      <td>RU-CENTER-RU</td>\n",
              "      <td>2018-07-17 15:00:41</td>\n",
              "      <td>2022-07-17 15:00:41</td>\n",
              "      <td>REGISTERED, DELEGATED, VERIFIED</td>\n",
              "      <td>Fund National Cultural Heritage</td>\n",
              "      <td>fondnkn.ru</td>\n",
              "    </tr>\n",
              "    <tr>\n",
              "      <th>13380</th>\n",
              "      <td>XN--J1AJCABV.XN--P1AI</td>\n",
              "      <td>RUCENTER-RF</td>\n",
              "      <td>2019-02-10 16:21:35</td>\n",
              "      <td>2023-02-10 16:21:36</td>\n",
              "      <td>REGISTERED, DELEGATED, UNVERIFIED</td>\n",
              "      <td>Nekommercheskaya organizatsiya Respubliki Komi...</td>\n",
              "      <td>рфрпрк.рф</td>\n",
              "    </tr>\n",
              "    <tr>\n",
              "      <th>13381</th>\n",
              "      <td>UNINOVAMED.RU</td>\n",
              "      <td>REGRU-RU</td>\n",
              "      <td>2018-10-10 09:23:27</td>\n",
              "      <td>2022-10-10 09:23:27</td>\n",
              "      <td>REGISTERED, DELEGATED, UNVERIFIED</td>\n",
              "      <td>ANO \"MICLT \"Uninova\"</td>\n",
              "      <td>uninovamed.ru</td>\n",
              "    </tr>\n",
              "  </tbody>\n",
              "</table>\n",
              "</div>\n",
              "      <button class=\"colab-df-convert\" onclick=\"convertToInteractive('df-5133213c-f754-4969-8fd0-4b59dc8f7d0c')\"\n",
              "              title=\"Convert this dataframe to an interactive table.\"\n",
              "              style=\"display:none;\">\n",
              "        \n",
              "  <svg xmlns=\"http://www.w3.org/2000/svg\" height=\"24px\"viewBox=\"0 0 24 24\"\n",
              "       width=\"24px\">\n",
              "    <path d=\"M0 0h24v24H0V0z\" fill=\"none\"/>\n",
              "    <path d=\"M18.56 5.44l.94 2.06.94-2.06 2.06-.94-2.06-.94-.94-2.06-.94 2.06-2.06.94zm-11 1L8.5 8.5l.94-2.06 2.06-.94-2.06-.94L8.5 2.5l-.94 2.06-2.06.94zm10 10l.94 2.06.94-2.06 2.06-.94-2.06-.94-.94-2.06-.94 2.06-2.06.94z\"/><path d=\"M17.41 7.96l-1.37-1.37c-.4-.4-.92-.59-1.43-.59-.52 0-1.04.2-1.43.59L10.3 9.45l-7.72 7.72c-.78.78-.78 2.05 0 2.83L4 21.41c.39.39.9.59 1.41.59.51 0 1.02-.2 1.41-.59l7.78-7.78 2.81-2.81c.8-.78.8-2.07 0-2.86zM5.41 20L4 18.59l7.72-7.72 1.47 1.35L5.41 20z\"/>\n",
              "  </svg>\n",
              "      </button>\n",
              "      \n",
              "  <style>\n",
              "    .colab-df-container {\n",
              "      display:flex;\n",
              "      flex-wrap:wrap;\n",
              "      gap: 12px;\n",
              "    }\n",
              "\n",
              "    .colab-df-convert {\n",
              "      background-color: #E8F0FE;\n",
              "      border: none;\n",
              "      border-radius: 50%;\n",
              "      cursor: pointer;\n",
              "      display: none;\n",
              "      fill: #1967D2;\n",
              "      height: 32px;\n",
              "      padding: 0 0 0 0;\n",
              "      width: 32px;\n",
              "    }\n",
              "\n",
              "    .colab-df-convert:hover {\n",
              "      background-color: #E2EBFA;\n",
              "      box-shadow: 0px 1px 2px rgba(60, 64, 67, 0.3), 0px 1px 3px 1px rgba(60, 64, 67, 0.15);\n",
              "      fill: #174EA6;\n",
              "    }\n",
              "\n",
              "    [theme=dark] .colab-df-convert {\n",
              "      background-color: #3B4455;\n",
              "      fill: #D2E3FC;\n",
              "    }\n",
              "\n",
              "    [theme=dark] .colab-df-convert:hover {\n",
              "      background-color: #434B5C;\n",
              "      box-shadow: 0px 1px 3px 1px rgba(0, 0, 0, 0.15);\n",
              "      filter: drop-shadow(0px 1px 2px rgba(0, 0, 0, 0.3));\n",
              "      fill: #FFFFFF;\n",
              "    }\n",
              "  </style>\n",
              "\n",
              "      <script>\n",
              "        const buttonEl =\n",
              "          document.querySelector('#df-5133213c-f754-4969-8fd0-4b59dc8f7d0c button.colab-df-convert');\n",
              "        buttonEl.style.display =\n",
              "          google.colab.kernel.accessAllowed ? 'block' : 'none';\n",
              "\n",
              "        async function convertToInteractive(key) {\n",
              "          const element = document.querySelector('#df-5133213c-f754-4969-8fd0-4b59dc8f7d0c');\n",
              "          const dataTable =\n",
              "            await google.colab.kernel.invokeFunction('convertToInteractive',\n",
              "                                                     [key], {});\n",
              "          if (!dataTable) return;\n",
              "\n",
              "          const docLinkHtml = 'Like what you see? Visit the ' +\n",
              "            '<a target=\"_blank\" href=https://colab.research.google.com/notebooks/data_table.ipynb>data table notebook</a>'\n",
              "            + ' to learn more about interactive tables.';\n",
              "          element.innerHTML = '';\n",
              "          dataTable['output_type'] = 'display_data';\n",
              "          await google.colab.output.renderOutput(dataTable, element);\n",
              "          const docLink = document.createElement('div');\n",
              "          docLink.innerHTML = docLinkHtml;\n",
              "          element.appendChild(docLink);\n",
              "        }\n",
              "      </script>\n",
              "    </div>\n",
              "  </div>\n",
              "  "
            ]
          },
          "metadata": {},
          "execution_count": 9
        }
      ]
    },
    {
      "cell_type": "code",
      "source": [
        "len(whois_data)"
      ],
      "metadata": {
        "colab": {
          "base_uri": "https://localhost:8080/"
        },
        "id": "i2VgAXlB2hwl",
        "outputId": "136e7857-e8fc-4471-b99d-2cf95de25f90"
      },
      "execution_count": null,
      "outputs": [
        {
          "output_type": "execute_result",
          "data": {
            "text/plain": [
              "13382"
            ]
          },
          "metadata": {},
          "execution_count": 10
        }
      ]
    },
    {
      "cell_type": "markdown",
      "source": [
        "In order to get hostings and providers we need to get IP addresses first:"
      ],
      "metadata": {
        "id": "bJwV8EaucqkE"
      }
    },
    {
      "cell_type": "code",
      "source": [
        "import socket\n",
        "\n",
        "IP_addres = socket.gethostbyname('sovetveteranov01.ru')\n",
        "print(\"IP Address is: \" + IP_addres)"
      ],
      "metadata": {
        "colab": {
          "base_uri": "https://localhost:8080/"
        },
        "id": "IDk2sGkJcp-J",
        "outputId": "c9d51c10-a82f-402d-fa72-979b573d02e9"
      },
      "execution_count": null,
      "outputs": [
        {
          "output_type": "stream",
          "name": "stdout",
          "text": [
            "IP Address is: 5.23.51.195\n"
          ]
        }
      ]
    },
    {
      "cell_type": "markdown",
      "source": [
        "`http://ip-api.com/json/[ip address]`\n",
        "\n",
        " 45 requests per minute from an IP address.\n",
        "\n",
        "SSL (HTTPS)\n",
        "\n",
        "256-bit SSL encryption is not available for this free API. Please see our pro service."
      ],
      "metadata": {
        "id": "j48Tz7S6td67"
      }
    },
    {
      "cell_type": "code",
      "source": [
        "concat_ngos[concat_ngos['bin_ssl'] == 1.0]"
      ],
      "metadata": {
        "colab": {
          "base_uri": "https://localhost:8080/",
          "height": 991
        },
        "id": "mnvyYHBeuY0-",
        "outputId": "091424aa-637b-4baa-d7bd-15238502aba3"
      },
      "execution_count": null,
      "outputs": [
        {
          "output_type": "execute_result",
          "data": {
            "text/plain": [
              "               ogrn              website  bin_robots  bin_sitemap  bin_fb  \\\n",
              "5     1024700001567         schoolvoa.ru         1.0          1.0     0.0   \n",
              "9     1027800013790     открытыйгород.рф         1.0          1.0     1.0   \n",
              "15    1020100003461  sovetveteranov01.ru         1.0          1.0     0.0   \n",
              "16    1022200528470    altaidetfond22.ru         0.0          1.0     1.0   \n",
              "20    1021600007582        profchelny.ru         1.0          0.0     0.0   \n",
              "...             ...                  ...         ...          ...     ...   \n",
              "9535  1211900002621             frprh.ru         1.0          1.0     1.0   \n",
              "9537  1214700012845        anoecograd.ru         1.0          1.0     0.0   \n",
              "9539  1213500013407           мызавас.рф         1.0          1.0     0.0   \n",
              "9542  1217700396330           gorneks.ru         1.0          1.0     0.0   \n",
              "9544  1212300052249      blagfond-zzh.ru         0.0          1.0     0.0   \n",
              "\n",
              "      bin_vk  bin_ig  bin_ok  bin_youtube  bin_tiktok  ...  bin_socnet  \\\n",
              "5        0.0     0.0     0.0          0.0         0.0  ...    0.000000   \n",
              "9        1.0     1.0     0.0          1.0         0.0  ...    0.666667   \n",
              "15       0.0     1.0     0.0          0.0         0.0  ...    0.166667   \n",
              "16       0.0     1.0     0.0          0.0         0.0  ...    0.333333   \n",
              "20       0.0     1.0     0.0          1.0         0.0  ...    0.333333   \n",
              "...      ...     ...     ...          ...         ...  ...         ...   \n",
              "9535     0.0     0.0     0.0          0.0         0.0  ...    0.166667   \n",
              "9537     0.0     0.0     0.0          0.0         0.0  ...    0.000000   \n",
              "9539     0.0     0.0     0.0          0.0         0.0  ...    0.000000   \n",
              "9542     0.0     0.0     0.0          0.0         0.0  ...    0.000000   \n",
              "9544     0.0     0.0     0.0          0.0         0.0  ...    0.000000   \n",
              "\n",
              "                 regionName               minjustForm  \\\n",
              "5     Ленинградская область  Общественная организация   \n",
              "9           Санкт-Петербург                       NaN   \n",
              "15        Республика Адыгея  Общественная организация   \n",
              "16           Алтайский край         Общественный фонд   \n",
              "20     Республика Татарстан     Профессиональный союз   \n",
              "...                     ...                       ...   \n",
              "9535     Республика Хакасия       Некоммерческий фонд   \n",
              "9537  Ленинградская область                       NaN   \n",
              "9539    Вологодская область       Некоммерческий фонд   \n",
              "9542                 Москва                       NaN   \n",
              "9544     Краснодарский край                       NaN   \n",
              "\n",
              "                                              shortName     regDate  \\\n",
              "5                      ГАТЧИНСКАЯ ГОРРАЙОРГАНИЗАЦИЯ ВОА  1973-05-08   \n",
              "9                                    СПБ ГО ВОО ВООПИИК  1976-05-15   \n",
              "15    ОО ВЕТЕРАНОВ (ПЕНСИОНЕРОВ) ВОЙНЫ, ТРУДА, ВООРУ...  1987-03-06   \n",
              "16    АЛТАЙСКОЕ КРАЕВОЕ ОТДЕЛЕНИЕ РОССИЙСКОГО ДЕТСКО...  1988-02-26   \n",
              "20    НАБЕРЕЖНО-ЧЕЛНИНСКАЯ ТЕРРИТОРИАЛЬНАЯ ОРГАНИЗАЦ...  1989-09-09   \n",
              "...                                                 ...         ...   \n",
              "9535                                             ФРП РХ  2021-08-05   \n",
              "9537                                      АНО \"ЭКОГРАД\"  2021-08-10   \n",
              "9539                                     БФ \"МЫ ЗА ВАС\"  2021-08-13   \n",
              "9542                                      АНО \"ГОРНЭКС\"  2021-08-24   \n",
              "9544             БЛАГОТВОРИТЕЛЬНЫЙ ФОНД \"ЗДРАВИЯ ЖЕЛАЮ\"  2021-09-08   \n",
              "\n",
              "                                              mainOkved  \\\n",
              "5     Деятельность прочих общественных организаций, ...   \n",
              "9     Деятельность по охране исторических мест и зда...   \n",
              "15    Деятельность прочих общественных организаций, ...   \n",
              "16    Деятельность прочих общественных организаций, ...   \n",
              "20                 Деятельность профессиональных союзов   \n",
              "...                                                 ...   \n",
              "9535  Деятельность по предоставлению займов промышле...   \n",
              "9537  Научные исследования и разработки в области ес...   \n",
              "9539  Предоставление прочих финансовых услуг, кроме ...   \n",
              "9542                   Судебно-экспертная деятельность}   \n",
              "9544  Предоставление прочих финансовых услуг, кроме ...   \n",
              "\n",
              "                                opfCombined  \\\n",
              "5                  Общественные организации   \n",
              "9                  Общественные организации   \n",
              "15                 Общественные организации   \n",
              "16                  Благотворительные фонды   \n",
              "20                  Профсоюзные организации   \n",
              "...                                     ...   \n",
              "9535                                  Фонды   \n",
              "9537  Автономные некоммерческие организации   \n",
              "9539                Благотворительные фонды   \n",
              "9542  Автономные некоммерческие организации   \n",
              "9544                Благотворительные фонды   \n",
              "\n",
              "                                          okvedCombined  \\\n",
              "5     Деятельность прочих общественных организаций, ...   \n",
              "9     Деятельность по охране исторических мест и зда...   \n",
              "15    Деятельность прочих общественных организаций, ...   \n",
              "16    Деятельность прочих общественных организаций, ...   \n",
              "20                 Деятельность профессиональных союзов   \n",
              "...                                                 ...   \n",
              "9535  Деятельность по предоставлению займов промышле...   \n",
              "9537  Научные исследования и разработки в области ес...   \n",
              "9539  Предоставление прочих финансовых услуг, кроме ...   \n",
              "9542                    Судебно-экспертная деятельность   \n",
              "9544  Предоставление прочих финансовых услуг, кроме ...   \n",
              "\n",
              "                     vedSimple  websiteCreationDate  \n",
              "5     Общественные организации                  NaN  \n",
              "9                          NaN  2016-08-23 13:07:05  \n",
              "15    Общественные организации  2021-07-08 14:55:09  \n",
              "16    Общественные организации   2012-08-08 5:39:59  \n",
              "20                   Профсоюзы   2018-06-28 8:03:07  \n",
              "...                        ...                  ...  \n",
              "9535                       NaN  2021-09-08 17:44:15  \n",
              "9537                     Наука  2021-09-23 15:16:43  \n",
              "9539                   Финансы   2021-09-11 9:33:23  \n",
              "9542                       NaN  2021-09-02 13:05:33  \n",
              "9544                   Финансы  2021-09-20 11:42:29  \n",
              "\n",
              "[5243 rows x 27 columns]"
            ],
            "text/html": [
              "\n",
              "  <div id=\"df-19a5a953-0958-4489-bed0-bbcd56cda9aa\">\n",
              "    <div class=\"colab-df-container\">\n",
              "      <div>\n",
              "<style scoped>\n",
              "    .dataframe tbody tr th:only-of-type {\n",
              "        vertical-align: middle;\n",
              "    }\n",
              "\n",
              "    .dataframe tbody tr th {\n",
              "        vertical-align: top;\n",
              "    }\n",
              "\n",
              "    .dataframe thead th {\n",
              "        text-align: right;\n",
              "    }\n",
              "</style>\n",
              "<table border=\"1\" class=\"dataframe\">\n",
              "  <thead>\n",
              "    <tr style=\"text-align: right;\">\n",
              "      <th></th>\n",
              "      <th>ogrn</th>\n",
              "      <th>website</th>\n",
              "      <th>bin_robots</th>\n",
              "      <th>bin_sitemap</th>\n",
              "      <th>bin_fb</th>\n",
              "      <th>bin_vk</th>\n",
              "      <th>bin_ig</th>\n",
              "      <th>bin_ok</th>\n",
              "      <th>bin_youtube</th>\n",
              "      <th>bin_tiktok</th>\n",
              "      <th>...</th>\n",
              "      <th>bin_socnet</th>\n",
              "      <th>regionName</th>\n",
              "      <th>minjustForm</th>\n",
              "      <th>shortName</th>\n",
              "      <th>regDate</th>\n",
              "      <th>mainOkved</th>\n",
              "      <th>opfCombined</th>\n",
              "      <th>okvedCombined</th>\n",
              "      <th>vedSimple</th>\n",
              "      <th>websiteCreationDate</th>\n",
              "    </tr>\n",
              "  </thead>\n",
              "  <tbody>\n",
              "    <tr>\n",
              "      <th>5</th>\n",
              "      <td>1024700001567</td>\n",
              "      <td>schoolvoa.ru</td>\n",
              "      <td>1.0</td>\n",
              "      <td>1.0</td>\n",
              "      <td>0.0</td>\n",
              "      <td>0.0</td>\n",
              "      <td>0.0</td>\n",
              "      <td>0.0</td>\n",
              "      <td>0.0</td>\n",
              "      <td>0.0</td>\n",
              "      <td>...</td>\n",
              "      <td>0.000000</td>\n",
              "      <td>Ленинградская область</td>\n",
              "      <td>Общественная организация</td>\n",
              "      <td>ГАТЧИНСКАЯ ГОРРАЙОРГАНИЗАЦИЯ ВОА</td>\n",
              "      <td>1973-05-08</td>\n",
              "      <td>Деятельность прочих общественных организаций, ...</td>\n",
              "      <td>Общественные организации</td>\n",
              "      <td>Деятельность прочих общественных организаций, ...</td>\n",
              "      <td>Общественные организации</td>\n",
              "      <td>NaN</td>\n",
              "    </tr>\n",
              "    <tr>\n",
              "      <th>9</th>\n",
              "      <td>1027800013790</td>\n",
              "      <td>открытыйгород.рф</td>\n",
              "      <td>1.0</td>\n",
              "      <td>1.0</td>\n",
              "      <td>1.0</td>\n",
              "      <td>1.0</td>\n",
              "      <td>1.0</td>\n",
              "      <td>0.0</td>\n",
              "      <td>1.0</td>\n",
              "      <td>0.0</td>\n",
              "      <td>...</td>\n",
              "      <td>0.666667</td>\n",
              "      <td>Санкт-Петербург</td>\n",
              "      <td>NaN</td>\n",
              "      <td>СПБ ГО ВОО ВООПИИК</td>\n",
              "      <td>1976-05-15</td>\n",
              "      <td>Деятельность по охране исторических мест и зда...</td>\n",
              "      <td>Общественные организации</td>\n",
              "      <td>Деятельность по охране исторических мест и зда...</td>\n",
              "      <td>NaN</td>\n",
              "      <td>2016-08-23 13:07:05</td>\n",
              "    </tr>\n",
              "    <tr>\n",
              "      <th>15</th>\n",
              "      <td>1020100003461</td>\n",
              "      <td>sovetveteranov01.ru</td>\n",
              "      <td>1.0</td>\n",
              "      <td>1.0</td>\n",
              "      <td>0.0</td>\n",
              "      <td>0.0</td>\n",
              "      <td>1.0</td>\n",
              "      <td>0.0</td>\n",
              "      <td>0.0</td>\n",
              "      <td>0.0</td>\n",
              "      <td>...</td>\n",
              "      <td>0.166667</td>\n",
              "      <td>Республика Адыгея</td>\n",
              "      <td>Общественная организация</td>\n",
              "      <td>ОО ВЕТЕРАНОВ (ПЕНСИОНЕРОВ) ВОЙНЫ, ТРУДА, ВООРУ...</td>\n",
              "      <td>1987-03-06</td>\n",
              "      <td>Деятельность прочих общественных организаций, ...</td>\n",
              "      <td>Общественные организации</td>\n",
              "      <td>Деятельность прочих общественных организаций, ...</td>\n",
              "      <td>Общественные организации</td>\n",
              "      <td>2021-07-08 14:55:09</td>\n",
              "    </tr>\n",
              "    <tr>\n",
              "      <th>16</th>\n",
              "      <td>1022200528470</td>\n",
              "      <td>altaidetfond22.ru</td>\n",
              "      <td>0.0</td>\n",
              "      <td>1.0</td>\n",
              "      <td>1.0</td>\n",
              "      <td>0.0</td>\n",
              "      <td>1.0</td>\n",
              "      <td>0.0</td>\n",
              "      <td>0.0</td>\n",
              "      <td>0.0</td>\n",
              "      <td>...</td>\n",
              "      <td>0.333333</td>\n",
              "      <td>Алтайский край</td>\n",
              "      <td>Общественный фонд</td>\n",
              "      <td>АЛТАЙСКОЕ КРАЕВОЕ ОТДЕЛЕНИЕ РОССИЙСКОГО ДЕТСКО...</td>\n",
              "      <td>1988-02-26</td>\n",
              "      <td>Деятельность прочих общественных организаций, ...</td>\n",
              "      <td>Благотворительные фонды</td>\n",
              "      <td>Деятельность прочих общественных организаций, ...</td>\n",
              "      <td>Общественные организации</td>\n",
              "      <td>2012-08-08 5:39:59</td>\n",
              "    </tr>\n",
              "    <tr>\n",
              "      <th>20</th>\n",
              "      <td>1021600007582</td>\n",
              "      <td>profchelny.ru</td>\n",
              "      <td>1.0</td>\n",
              "      <td>0.0</td>\n",
              "      <td>0.0</td>\n",
              "      <td>0.0</td>\n",
              "      <td>1.0</td>\n",
              "      <td>0.0</td>\n",
              "      <td>1.0</td>\n",
              "      <td>0.0</td>\n",
              "      <td>...</td>\n",
              "      <td>0.333333</td>\n",
              "      <td>Республика Татарстан</td>\n",
              "      <td>Профессиональный союз</td>\n",
              "      <td>НАБЕРЕЖНО-ЧЕЛНИНСКАЯ ТЕРРИТОРИАЛЬНАЯ ОРГАНИЗАЦ...</td>\n",
              "      <td>1989-09-09</td>\n",
              "      <td>Деятельность профессиональных союзов</td>\n",
              "      <td>Профсоюзные организации</td>\n",
              "      <td>Деятельность профессиональных союзов</td>\n",
              "      <td>Профсоюзы</td>\n",
              "      <td>2018-06-28 8:03:07</td>\n",
              "    </tr>\n",
              "    <tr>\n",
              "      <th>...</th>\n",
              "      <td>...</td>\n",
              "      <td>...</td>\n",
              "      <td>...</td>\n",
              "      <td>...</td>\n",
              "      <td>...</td>\n",
              "      <td>...</td>\n",
              "      <td>...</td>\n",
              "      <td>...</td>\n",
              "      <td>...</td>\n",
              "      <td>...</td>\n",
              "      <td>...</td>\n",
              "      <td>...</td>\n",
              "      <td>...</td>\n",
              "      <td>...</td>\n",
              "      <td>...</td>\n",
              "      <td>...</td>\n",
              "      <td>...</td>\n",
              "      <td>...</td>\n",
              "      <td>...</td>\n",
              "      <td>...</td>\n",
              "      <td>...</td>\n",
              "    </tr>\n",
              "    <tr>\n",
              "      <th>9535</th>\n",
              "      <td>1211900002621</td>\n",
              "      <td>frprh.ru</td>\n",
              "      <td>1.0</td>\n",
              "      <td>1.0</td>\n",
              "      <td>1.0</td>\n",
              "      <td>0.0</td>\n",
              "      <td>0.0</td>\n",
              "      <td>0.0</td>\n",
              "      <td>0.0</td>\n",
              "      <td>0.0</td>\n",
              "      <td>...</td>\n",
              "      <td>0.166667</td>\n",
              "      <td>Республика Хакасия</td>\n",
              "      <td>Некоммерческий фонд</td>\n",
              "      <td>ФРП РХ</td>\n",
              "      <td>2021-08-05</td>\n",
              "      <td>Деятельность по предоставлению займов промышле...</td>\n",
              "      <td>Фонды</td>\n",
              "      <td>Деятельность по предоставлению займов промышле...</td>\n",
              "      <td>NaN</td>\n",
              "      <td>2021-09-08 17:44:15</td>\n",
              "    </tr>\n",
              "    <tr>\n",
              "      <th>9537</th>\n",
              "      <td>1214700012845</td>\n",
              "      <td>anoecograd.ru</td>\n",
              "      <td>1.0</td>\n",
              "      <td>1.0</td>\n",
              "      <td>0.0</td>\n",
              "      <td>0.0</td>\n",
              "      <td>0.0</td>\n",
              "      <td>0.0</td>\n",
              "      <td>0.0</td>\n",
              "      <td>0.0</td>\n",
              "      <td>...</td>\n",
              "      <td>0.000000</td>\n",
              "      <td>Ленинградская область</td>\n",
              "      <td>NaN</td>\n",
              "      <td>АНО \"ЭКОГРАД\"</td>\n",
              "      <td>2021-08-10</td>\n",
              "      <td>Научные исследования и разработки в области ес...</td>\n",
              "      <td>Автономные некоммерческие организации</td>\n",
              "      <td>Научные исследования и разработки в области ес...</td>\n",
              "      <td>Наука</td>\n",
              "      <td>2021-09-23 15:16:43</td>\n",
              "    </tr>\n",
              "    <tr>\n",
              "      <th>9539</th>\n",
              "      <td>1213500013407</td>\n",
              "      <td>мызавас.рф</td>\n",
              "      <td>1.0</td>\n",
              "      <td>1.0</td>\n",
              "      <td>0.0</td>\n",
              "      <td>0.0</td>\n",
              "      <td>0.0</td>\n",
              "      <td>0.0</td>\n",
              "      <td>0.0</td>\n",
              "      <td>0.0</td>\n",
              "      <td>...</td>\n",
              "      <td>0.000000</td>\n",
              "      <td>Вологодская область</td>\n",
              "      <td>Некоммерческий фонд</td>\n",
              "      <td>БФ \"МЫ ЗА ВАС\"</td>\n",
              "      <td>2021-08-13</td>\n",
              "      <td>Предоставление прочих финансовых услуг, кроме ...</td>\n",
              "      <td>Благотворительные фонды</td>\n",
              "      <td>Предоставление прочих финансовых услуг, кроме ...</td>\n",
              "      <td>Финансы</td>\n",
              "      <td>2021-09-11 9:33:23</td>\n",
              "    </tr>\n",
              "    <tr>\n",
              "      <th>9542</th>\n",
              "      <td>1217700396330</td>\n",
              "      <td>gorneks.ru</td>\n",
              "      <td>1.0</td>\n",
              "      <td>1.0</td>\n",
              "      <td>0.0</td>\n",
              "      <td>0.0</td>\n",
              "      <td>0.0</td>\n",
              "      <td>0.0</td>\n",
              "      <td>0.0</td>\n",
              "      <td>0.0</td>\n",
              "      <td>...</td>\n",
              "      <td>0.000000</td>\n",
              "      <td>Москва</td>\n",
              "      <td>NaN</td>\n",
              "      <td>АНО \"ГОРНЭКС\"</td>\n",
              "      <td>2021-08-24</td>\n",
              "      <td>Судебно-экспертная деятельность}</td>\n",
              "      <td>Автономные некоммерческие организации</td>\n",
              "      <td>Судебно-экспертная деятельность</td>\n",
              "      <td>NaN</td>\n",
              "      <td>2021-09-02 13:05:33</td>\n",
              "    </tr>\n",
              "    <tr>\n",
              "      <th>9544</th>\n",
              "      <td>1212300052249</td>\n",
              "      <td>blagfond-zzh.ru</td>\n",
              "      <td>0.0</td>\n",
              "      <td>1.0</td>\n",
              "      <td>0.0</td>\n",
              "      <td>0.0</td>\n",
              "      <td>0.0</td>\n",
              "      <td>0.0</td>\n",
              "      <td>0.0</td>\n",
              "      <td>0.0</td>\n",
              "      <td>...</td>\n",
              "      <td>0.000000</td>\n",
              "      <td>Краснодарский край</td>\n",
              "      <td>NaN</td>\n",
              "      <td>БЛАГОТВОРИТЕЛЬНЫЙ ФОНД \"ЗДРАВИЯ ЖЕЛАЮ\"</td>\n",
              "      <td>2021-09-08</td>\n",
              "      <td>Предоставление прочих финансовых услуг, кроме ...</td>\n",
              "      <td>Благотворительные фонды</td>\n",
              "      <td>Предоставление прочих финансовых услуг, кроме ...</td>\n",
              "      <td>Финансы</td>\n",
              "      <td>2021-09-20 11:42:29</td>\n",
              "    </tr>\n",
              "  </tbody>\n",
              "</table>\n",
              "<p>5243 rows × 27 columns</p>\n",
              "</div>\n",
              "      <button class=\"colab-df-convert\" onclick=\"convertToInteractive('df-19a5a953-0958-4489-bed0-bbcd56cda9aa')\"\n",
              "              title=\"Convert this dataframe to an interactive table.\"\n",
              "              style=\"display:none;\">\n",
              "        \n",
              "  <svg xmlns=\"http://www.w3.org/2000/svg\" height=\"24px\"viewBox=\"0 0 24 24\"\n",
              "       width=\"24px\">\n",
              "    <path d=\"M0 0h24v24H0V0z\" fill=\"none\"/>\n",
              "    <path d=\"M18.56 5.44l.94 2.06.94-2.06 2.06-.94-2.06-.94-.94-2.06-.94 2.06-2.06.94zm-11 1L8.5 8.5l.94-2.06 2.06-.94-2.06-.94L8.5 2.5l-.94 2.06-2.06.94zm10 10l.94 2.06.94-2.06 2.06-.94-2.06-.94-.94-2.06-.94 2.06-2.06.94z\"/><path d=\"M17.41 7.96l-1.37-1.37c-.4-.4-.92-.59-1.43-.59-.52 0-1.04.2-1.43.59L10.3 9.45l-7.72 7.72c-.78.78-.78 2.05 0 2.83L4 21.41c.39.39.9.59 1.41.59.51 0 1.02-.2 1.41-.59l7.78-7.78 2.81-2.81c.8-.78.8-2.07 0-2.86zM5.41 20L4 18.59l7.72-7.72 1.47 1.35L5.41 20z\"/>\n",
              "  </svg>\n",
              "      </button>\n",
              "      \n",
              "  <style>\n",
              "    .colab-df-container {\n",
              "      display:flex;\n",
              "      flex-wrap:wrap;\n",
              "      gap: 12px;\n",
              "    }\n",
              "\n",
              "    .colab-df-convert {\n",
              "      background-color: #E8F0FE;\n",
              "      border: none;\n",
              "      border-radius: 50%;\n",
              "      cursor: pointer;\n",
              "      display: none;\n",
              "      fill: #1967D2;\n",
              "      height: 32px;\n",
              "      padding: 0 0 0 0;\n",
              "      width: 32px;\n",
              "    }\n",
              "\n",
              "    .colab-df-convert:hover {\n",
              "      background-color: #E2EBFA;\n",
              "      box-shadow: 0px 1px 2px rgba(60, 64, 67, 0.3), 0px 1px 3px 1px rgba(60, 64, 67, 0.15);\n",
              "      fill: #174EA6;\n",
              "    }\n",
              "\n",
              "    [theme=dark] .colab-df-convert {\n",
              "      background-color: #3B4455;\n",
              "      fill: #D2E3FC;\n",
              "    }\n",
              "\n",
              "    [theme=dark] .colab-df-convert:hover {\n",
              "      background-color: #434B5C;\n",
              "      box-shadow: 0px 1px 3px 1px rgba(0, 0, 0, 0.15);\n",
              "      filter: drop-shadow(0px 1px 2px rgba(0, 0, 0, 0.3));\n",
              "      fill: #FFFFFF;\n",
              "    }\n",
              "  </style>\n",
              "\n",
              "      <script>\n",
              "        const buttonEl =\n",
              "          document.querySelector('#df-19a5a953-0958-4489-bed0-bbcd56cda9aa button.colab-df-convert');\n",
              "        buttonEl.style.display =\n",
              "          google.colab.kernel.accessAllowed ? 'block' : 'none';\n",
              "\n",
              "        async function convertToInteractive(key) {\n",
              "          const element = document.querySelector('#df-19a5a953-0958-4489-bed0-bbcd56cda9aa');\n",
              "          const dataTable =\n",
              "            await google.colab.kernel.invokeFunction('convertToInteractive',\n",
              "                                                     [key], {});\n",
              "          if (!dataTable) return;\n",
              "\n",
              "          const docLinkHtml = 'Like what you see? Visit the ' +\n",
              "            '<a target=\"_blank\" href=https://colab.research.google.com/notebooks/data_table.ipynb>data table notebook</a>'\n",
              "            + ' to learn more about interactive tables.';\n",
              "          element.innerHTML = '';\n",
              "          dataTable['output_type'] = 'display_data';\n",
              "          await google.colab.output.renderOutput(dataTable, element);\n",
              "          const docLink = document.createElement('div');\n",
              "          docLink.innerHTML = docLinkHtml;\n",
              "          element.appendChild(docLink);\n",
              "        }\n",
              "      </script>\n",
              "    </div>\n",
              "  </div>\n",
              "  "
            ]
          },
          "metadata": {},
          "execution_count": 13
        }
      ]
    },
    {
      "cell_type": "code",
      "source": [
        "!curl http://ip-api.com/json/5.23.51.195"
      ],
      "metadata": {
        "colab": {
          "base_uri": "https://localhost:8080/"
        },
        "id": "7egg7Gratv13",
        "outputId": "a1ea1e59-95a7-45f5-f384-982bcf4077b9"
      },
      "execution_count": null,
      "outputs": [
        {
          "output_type": "stream",
          "name": "stdout",
          "text": [
            "{\"status\":\"success\",\"country\":\"Russia\",\"countryCode\":\"RU\",\"region\":\"SPE\",\"regionName\":\"St.-Petersburg\",\"city\":\"St Petersburg\",\"zip\":\"190005\",\"lat\":59.8889,\"lon\":30.3296,\"timezone\":\"Europe/Moscow\",\"isp\":\"TIMEWEB Co Ltd.\",\"org\":\"TIMEWEB\",\"as\":\"AS9123 TimeWeb Ltd.\",\"query\":\"5.23.51.195\"}"
          ]
        }
      ]
    },
    {
      "cell_type": "markdown",
      "source": [
        "### How to get all the info:\n",
        "\n",
        "* **hosting** domain name from already available `whois` dataset\n",
        "* hosting **country** `IP2Location` or `ipinfo`. It is not clear which database has more information. I should use `IP2Location` as the first step since it is unlimited, and if it lacks information turn to `ipinfo`.\n",
        "* **isp** - available only for websites with ssl in `ip-api`"
      ],
      "metadata": {
        "id": "_kO0ZJQMu89K"
      }
    },
    {
      "cell_type": "markdown",
      "source": [
        "*ipinfo* library for hostings and providers has a limit of 50,000 requests per month:"
      ],
      "metadata": {
        "id": "hdqRm4Qvc38G"
      }
    },
    {
      "cell_type": "code",
      "source": [
        "!pip install ipinfo"
      ],
      "metadata": {
        "colab": {
          "base_uri": "https://localhost:8080/"
        },
        "id": "xRrCGP9lc25r",
        "outputId": "6f1a9dc9-d005-40ac-b834-a2c3d9aafc89"
      },
      "execution_count": null,
      "outputs": [
        {
          "output_type": "stream",
          "name": "stdout",
          "text": [
            "Looking in indexes: https://pypi.org/simple, https://us-python.pkg.dev/colab-wheels/public/simple/\n",
            "Collecting ipinfo\n",
            "  Downloading ipinfo-4.2.1-py3-none-any.whl (16 kB)\n",
            "Collecting aiohttp<=4\n",
            "  Downloading aiohttp-3.8.1-cp37-cp37m-manylinux_2_5_x86_64.manylinux1_x86_64.manylinux_2_12_x86_64.manylinux2010_x86_64.whl (1.1 MB)\n",
            "\u001b[K     |████████████████████████████████| 1.1 MB 8.1 MB/s \n",
            "\u001b[?25hRequirement already satisfied: cachetools in /usr/local/lib/python3.7/dist-packages (from ipinfo) (4.2.4)\n",
            "Requirement already satisfied: requests in /usr/local/lib/python3.7/dist-packages (from ipinfo) (2.23.0)\n",
            "Requirement already satisfied: charset-normalizer<3.0,>=2.0 in /usr/local/lib/python3.7/dist-packages (from aiohttp<=4->ipinfo) (2.0.12)\n",
            "Collecting async-timeout<5.0,>=4.0.0a3\n",
            "  Downloading async_timeout-4.0.2-py3-none-any.whl (5.8 kB)\n",
            "Requirement already satisfied: attrs>=17.3.0 in /usr/local/lib/python3.7/dist-packages (from aiohttp<=4->ipinfo) (21.4.0)\n",
            "Requirement already satisfied: typing-extensions>=3.7.4 in /usr/local/lib/python3.7/dist-packages (from aiohttp<=4->ipinfo) (4.1.1)\n",
            "Collecting yarl<2.0,>=1.0\n",
            "  Downloading yarl-1.7.2-cp37-cp37m-manylinux_2_5_x86_64.manylinux1_x86_64.manylinux_2_12_x86_64.manylinux2010_x86_64.whl (271 kB)\n",
            "\u001b[K     |████████████████████████████████| 271 kB 66.0 MB/s \n",
            "\u001b[?25hCollecting multidict<7.0,>=4.5\n",
            "  Downloading multidict-6.0.2-cp37-cp37m-manylinux_2_17_x86_64.manylinux2014_x86_64.whl (94 kB)\n",
            "\u001b[K     |████████████████████████████████| 94 kB 3.6 MB/s \n",
            "\u001b[?25hCollecting frozenlist>=1.1.1\n",
            "  Downloading frozenlist-1.3.0-cp37-cp37m-manylinux_2_5_x86_64.manylinux1_x86_64.manylinux_2_17_x86_64.manylinux2014_x86_64.whl (144 kB)\n",
            "\u001b[K     |████████████████████████████████| 144 kB 55.8 MB/s \n",
            "\u001b[?25hCollecting asynctest==0.13.0\n",
            "  Downloading asynctest-0.13.0-py3-none-any.whl (26 kB)\n",
            "Collecting aiosignal>=1.1.2\n",
            "  Downloading aiosignal-1.2.0-py3-none-any.whl (8.2 kB)\n",
            "Requirement already satisfied: idna>=2.0 in /usr/local/lib/python3.7/dist-packages (from yarl<2.0,>=1.0->aiohttp<=4->ipinfo) (2.10)\n",
            "Requirement already satisfied: certifi>=2017.4.17 in /usr/local/lib/python3.7/dist-packages (from requests->ipinfo) (2022.6.15)\n",
            "Requirement already satisfied: urllib3!=1.25.0,!=1.25.1,<1.26,>=1.21.1 in /usr/local/lib/python3.7/dist-packages (from requests->ipinfo) (1.24.3)\n",
            "Requirement already satisfied: chardet<4,>=3.0.2 in /usr/local/lib/python3.7/dist-packages (from requests->ipinfo) (3.0.4)\n",
            "Installing collected packages: multidict, frozenlist, yarl, asynctest, async-timeout, aiosignal, aiohttp, ipinfo\n",
            "Successfully installed aiohttp-3.8.1 aiosignal-1.2.0 async-timeout-4.0.2 asynctest-0.13.0 frozenlist-1.3.0 ipinfo-4.2.1 multidict-6.0.2 yarl-1.7.2\n"
          ]
        }
      ]
    },
    {
      "cell_type": "markdown",
      "source": [
        "IP2Location:\n",
        "\n",
        "https://www.ip2location.com/database/db2-ip-country-isp"
      ],
      "metadata": {
        "id": "K2_EXUr_l7ed"
      }
    },
    {
      "cell_type": "code",
      "source": [
        "!unzip IP2Location-Python-master.zip"
      ],
      "metadata": {
        "colab": {
          "base_uri": "https://localhost:8080/"
        },
        "id": "OZy4stT7mZJX",
        "outputId": "e7303df6-618a-421f-aa25-006c6ff428a4"
      },
      "execution_count": null,
      "outputs": [
        {
          "output_type": "stream",
          "name": "stdout",
          "text": [
            "Archive:  IP2Location-Python-master.zip\n",
            "64295dd1daaa9145ebde966c57b995b3ba00c988\n",
            "   creating: IP2Location-Python-master/\n",
            " extracting: IP2Location-Python-master/AUTHORS  \n",
            "  inflating: IP2Location-Python-master/ChangeLog  \n",
            "  inflating: IP2Location-Python-master/IP2Location.py  \n",
            "  inflating: IP2Location-Python-master/LICENSE.TXT  \n",
            "  inflating: IP2Location-Python-master/PKG-INFO  \n",
            "  inflating: IP2Location-Python-master/README.md  \n",
            "   creating: IP2Location-Python-master/data/\n",
            "  inflating: IP2Location-Python-master/data/IP-COUNTRY.BIN  \n",
            "  inflating: IP2Location-Python-master/data/IP2LOCATION-LITE-DB1.BIN  \n",
            "  inflating: IP2Location-Python-master/data/IP2LOCATION-LITE-DB1.IPV6.BIN  \n",
            "  inflating: IP2Location-Python-master/data/IPV6-COUNTRY.BIN  \n",
            "  inflating: IP2Location-Python-master/data/country_test_ipv4_data.txt  \n",
            "  inflating: IP2Location-Python-master/data/country_test_ipv6_data.txt  \n",
            "  inflating: IP2Location-Python-master/lookup.py  \n",
            "  inflating: IP2Location-Python-master/sample.py  \n",
            "  inflating: IP2Location-Python-master/setup.py  \n",
            "  inflating: IP2Location-Python-master/test.py  \n",
            "   creating: IP2Location-Python-master/tests/\n",
            "  inflating: IP2Location-Python-master/tests/test_database.py  \n",
            "  inflating: IP2Location-Python-master/tests/test_iptools.py  \n",
            "  inflating: IP2Location-Python-master/tests/test_webservice.py  \n"
          ]
        }
      ]
    },
    {
      "cell_type": "code",
      "source": [
        "!pip install IP2Location"
      ],
      "metadata": {
        "colab": {
          "base_uri": "https://localhost:8080/"
        },
        "id": "e0FZgbugl_Pj",
        "outputId": "82f4345c-f971-4ae4-a30a-6ee16f6c0d7c"
      },
      "execution_count": null,
      "outputs": [
        {
          "output_type": "stream",
          "name": "stdout",
          "text": [
            "Looking in indexes: https://pypi.org/simple, https://us-python.pkg.dev/colab-wheels/public/simple/\n",
            "Collecting IP2Location\n",
            "  Downloading IP2Location-8.8.0-py3-none-any.whl (12 kB)\n",
            "Installing collected packages: IP2Location\n",
            "Successfully installed IP2Location-8.8.0\n"
          ]
        }
      ]
    },
    {
      "cell_type": "code",
      "source": [
        "# test example\n",
        "#rec = database.get_all(\"89.108.114.66\")\n",
        "\n",
        "#print(\"Country Code          : \" + rec.country_short)\n",
        "#print(\"Country Name          : \" + rec.country_long)\n",
        "#print(\"Region Name           : \" + rec.region)\n",
        "#print(\"City Name             : \" + rec.city)\n",
        "#print(\"ISP Name              : \" + rec.isp)\n",
        "#print(\"Latitude              : \" + rec.latitude)\n",
        "#print(\"Longitude             : \" + rec.longitude)\n",
        "#print(\"Domain Name           : \" + rec.domain)"
      ],
      "metadata": {
        "colab": {
          "base_uri": "https://localhost:8080/"
        },
        "id": "kgPTEZtXnkzT",
        "outputId": "b026be32-2631-47a8-e4b5-7fec43f833e7"
      },
      "execution_count": null,
      "outputs": [
        {
          "output_type": "stream",
          "name": "stdout",
          "text": [
            "Country Code          : RU\n",
            "Country Name          : Russian Federation\n",
            "Region Name           : This parameter is unavailable in selected .BIN data file. Please upgrade data file.\n",
            "City Name             : This parameter is unavailable in selected .BIN data file. Please upgrade data file.\n",
            "ISP Name              : This parameter is unavailable in selected .BIN data file. Please upgrade data file.\n",
            "Latitude              : This parameter is unavailable in selected .BIN data file. Please upgrade data file.\n",
            "Longitude             : This parameter is unavailable in selected .BIN data file. Please upgrade data file.\n",
            "Domain Name           : This parameter is unavailable in selected .BIN data file. Please upgrade data file.\n"
          ]
        }
      ]
    },
    {
      "cell_type": "code",
      "source": [
        "import IP2Location\n",
        "import ipinfo\n",
        "from util import access_token_ipinfo\n",
        "\n",
        "\n",
        "database = IP2Location.IP2Location(\"./IP2Location-Python-master/data/IP-COUNTRY.BIN\")\n",
        "\n",
        "class Country:\n",
        "\n",
        "  def __init__(self, ip_address: str):\n",
        "    self.ip_address = ip_address\n",
        "    \n",
        "  def get_country_ipinfo(self) -> str:\n",
        "    handler = ipinfo.getHandler(access_token_ipinfo)\n",
        "    details = handler.getDetails(self.ip_address)\n",
        "    hostname = None\n",
        "    if 'hostname' in details.all:\n",
        "      hostname = details.hostname\n",
        "    return details.country_name, hostname\n",
        "    \n",
        "  def get_country_ip2location(self) -> str:\n",
        "    country = database.get_country_long(self.ip_address)\n",
        "    # print(country, \" ip2location\")\n",
        "    return country\n",
        "  \n",
        "  def get_country(self, hostname=False) -> str:\n",
        "    if hostname:\n",
        "      country_name, hostname = self.get_country_ipinfo()\n",
        "      if country_name is None:\n",
        "        country_name = self.get_country_ip2location()\n",
        "      return country_name, hostname\n",
        "\n",
        "    else:\n",
        "      country_name = self.get_country_ip2location()\n",
        "      if country_name == \"INVALID IP ADDRESS\":\n",
        "        return None\n",
        "      elif country_name.startswith(\"This parameter is unavailable\") or country_name.startswith(\"-\"):\n",
        "        # print(\"redirect to ipinfo\")\n",
        "        country_name, _ = self.get_country_ipinfo()\n",
        "      return country_name"
      ],
      "metadata": {
        "id": "yQcJOKS27V--"
      },
      "execution_count": null,
      "outputs": []
    },
    {
      "cell_type": "code",
      "source": [
        "from tqdm import tqdm\n",
        "\n",
        "\n",
        "countries = []\n",
        "isps = []\n",
        "hostnames = []\n",
        "\n",
        "unavailable_sites = []  # this needs to be cleaned out from the dataset later\n",
        "\n",
        "for entry in tqdm(concat_ngos.iloc[6603:].itertuples(), total=concat_ngos.shape[0]):  # .iloc[:50]\n",
        "\n",
        "  # Get IP address\n",
        "  try:\n",
        "    ip_address = socket.gethostbyname(entry.website)\n",
        "  except:\n",
        "    unavailable_sites.append(entry.website)\n",
        "    isps.append(None)\n",
        "    countries.append(None)\n",
        "    hostnames.append(None)\n",
        "    continue\n",
        "\n",
        "  country_handler = Country(ip_address)\n",
        "\n",
        "  # Get ISP (provider) if possible\n",
        "  if entry.bin_ssl == 1.0:\n",
        "    isp_request = !curl {\"http://ip-api.com/json/\" + ip_address}\n",
        "    try:\n",
        "      response = json.loads(isp_request[0])\n",
        "    except IndexError:\n",
        "      print(\"weird Index Error\")\n",
        "      print(entry.website, response)\n",
        "      response = json.loads(str(isp_request))\n",
        "\n",
        "    #print(entry.website, response) # sometimes reposnse = []\n",
        "    if not response:\n",
        "      isps.append(None)\n",
        "      countries.append(None)\n",
        "      hostnames.append(None)\n",
        "      continue\n",
        "\n",
        "    if response[\"status\"] == \"success\":\n",
        "      isp = response[\"isp\"]\n",
        "      isps.append(isp)\n",
        "\n",
        "      country = response[\"country\"]\n",
        "      countries.append(country)\n",
        "      _, hostname = country_handler.get_country(hostname=True)\n",
        "      hostnames.append(hostname)\n",
        "\n",
        "    else:\n",
        "      isps.append(None)\n",
        "      country, hostname = country_handler.get_country(hostname=True)\n",
        "      countries.append(country)\n",
        "      hostnames.append(hostname)\n",
        "  else:\n",
        "    isps.append(None)\n",
        "    country, hostname = country_handler.get_country(hostname=True)\n",
        "    countries.append(country)\n",
        "    hostnames.append(hostname)\n",
        " "
      ],
      "metadata": {
        "colab": {
          "base_uri": "https://localhost:8080/"
        },
        "id": "ZDLuygXf3XE5",
        "outputId": "5b9fc9e4-f493-4bf6-9c94-38fc957df632"
      },
      "execution_count": null,
      "outputs": [
        {
          "output_type": "stream",
          "name": "stderr",
          "text": [
            "  2%|▏         | 153/9545 [00:59<1:09:03,  2.27it/s]"
          ]
        },
        {
          "output_type": "stream",
          "name": "stdout",
          "text": [
            "weird Index Error\n",
            "green-zoom.ru {'status': 'success', 'country': 'Russia', 'countryCode': 'RU', 'region': 'SPE', 'regionName': 'St.-Petersburg', 'city': 'St Petersburg', 'zip': '', 'lat': 59.9311, 'lon': 30.3609, 'timezone': 'Europe/Moscow', 'isp': 'OOO \"Network of data-centers \"Selectel\"', 'org': 'Selectel Ltd.', 'as': 'AS49505 OOO Network of data-centers Selectel', 'query': '78.155.206.69'}\n"
          ]
        },
        {
          "output_type": "stream",
          "name": "stderr",
          "text": [
            "\r  2%|▏         | 154/9545 [00:59<56:56,  2.75it/s]  "
          ]
        },
        {
          "output_type": "stream",
          "name": "stdout",
          "text": [
            "weird Index Error\n",
            "samaranordic.com []\n"
          ]
        },
        {
          "output_type": "stream",
          "name": "stderr",
          "text": [
            "  2%|▏         | 158/9545 [01:00<48:20,  3.24it/s]"
          ]
        },
        {
          "output_type": "stream",
          "name": "stdout",
          "text": [
            "weird Index Error\n",
            "nochinadvolgoy.ru []\n"
          ]
        },
        {
          "output_type": "stream",
          "name": "stderr",
          "text": [
            "  3%|▎         | 310/9545 [01:57<55:26,  2.78it/s]"
          ]
        },
        {
          "output_type": "stream",
          "name": "stdout",
          "text": [
            "weird Index Error\n",
            "cysticfibrosis.ru {'status': 'success', 'country': 'Russia', 'countryCode': 'RU', 'region': 'SPE', 'regionName': 'St.-Petersburg', 'city': 'St Petersburg', 'zip': '190805', 'lat': 59.9391, 'lon': 30.2407, 'timezone': 'Europe/Moscow', 'isp': 'Virtual hosting BEGET.RU', 'org': 'Beget Ltd', 'as': 'AS198610 Beget LLC', 'query': '5.101.152.54'}\n"
          ]
        },
        {
          "output_type": "stream",
          "name": "stderr",
          "text": [
            "\r  3%|▎         | 311/9545 [01:57<51:58,  2.96it/s]"
          ]
        },
        {
          "output_type": "stream",
          "name": "stdout",
          "text": [
            "weird Index Error\n",
            "sportclub88.ru []\n"
          ]
        },
        {
          "output_type": "stream",
          "name": "stderr",
          "text": [
            "  3%|▎         | 313/9545 [01:58<54:39,  2.82it/s]"
          ]
        },
        {
          "output_type": "stream",
          "name": "stdout",
          "text": [
            "weird Index Error\n",
            "bel-roza.ru []\n"
          ]
        },
        {
          "output_type": "stream",
          "name": "stderr",
          "text": [
            "  3%|▎         | 318/9545 [02:00<53:29,  2.88it/s]"
          ]
        },
        {
          "output_type": "stream",
          "name": "stdout",
          "text": [
            "weird Index Error\n",
            "fondmost.org {'status': 'success', 'country': 'Russia', 'countryCode': 'RU', 'region': 'MOW', 'regionName': 'Moscow', 'city': 'Moscow', 'zip': '143441', 'lat': 55.8338, 'lon': 37.4025, 'timezone': 'Europe/Moscow', 'isp': '\"Domain names registrar REG.RU\", Ltd', 'org': 'Reg.Ru', 'as': 'AS197695 Domain names registrar REG.RU, Ltd', 'query': '31.31.196.189'}\n"
          ]
        },
        {
          "output_type": "stream",
          "name": "stderr",
          "text": [
            "\r  3%|▎         | 319/9545 [02:00<57:25,  2.68it/s]"
          ]
        },
        {
          "output_type": "stream",
          "name": "stdout",
          "text": [
            "weird Index Error\n",
            "als-info.ru []\n"
          ]
        },
        {
          "output_type": "stream",
          "name": "stderr",
          "text": [
            "\r  3%|▎         | 320/9545 [02:01<53:05,  2.90it/s]"
          ]
        },
        {
          "output_type": "stream",
          "name": "stdout",
          "text": [
            "weird Index Error\n",
            "give-world.com []\n"
          ]
        },
        {
          "output_type": "stream",
          "name": "stderr",
          "text": [
            "\r  3%|▎         | 321/9545 [02:01<57:07,  2.69it/s]"
          ]
        },
        {
          "output_type": "stream",
          "name": "stdout",
          "text": [
            "weird Index Error\n",
            "dobrodel-kuban.ru []\n"
          ]
        },
        {
          "output_type": "stream",
          "name": "stderr",
          "text": [
            "  5%|▌         | 478/9545 [02:58<47:35,  3.17it/s]"
          ]
        },
        {
          "output_type": "stream",
          "name": "stdout",
          "text": [
            "weird Index Error\n",
            "otirk.ru {'status': 'success', 'country': 'Russia', 'countryCode': 'RU', 'region': 'SPE', 'regionName': 'St.-Petersburg', 'city': 'St Petersburg', 'zip': '192241', 'lat': 59.9394, 'lon': 30.2283, 'timezone': 'Europe/Moscow', 'isp': 'BEGET.RU', 'org': 'Beget Ltd', 'as': 'AS198610 Beget LLC', 'query': '87.236.16.2'}\n"
          ]
        },
        {
          "output_type": "stream",
          "name": "stderr",
          "text": [
            "\r  5%|▌         | 479/9545 [02:59<50:52,  2.97it/s]"
          ]
        },
        {
          "output_type": "stream",
          "name": "stdout",
          "text": [
            "weird Index Error\n",
            "ocean-msu.ru []\n"
          ]
        },
        {
          "output_type": "stream",
          "name": "stderr",
          "text": [
            "  5%|▌         | 486/9545 [03:01<49:49,  3.03it/s]"
          ]
        },
        {
          "output_type": "stream",
          "name": "stdout",
          "text": [
            "weird Index Error\n",
            "scps-nsk.ru {'status': 'success', 'country': 'Russia', 'countryCode': 'RU', 'region': 'SPE', 'regionName': 'St.-Petersburg', 'city': 'St Petersburg', 'zip': '192241', 'lat': 59.9394, 'lon': 30.2283, 'timezone': 'Europe/Moscow', 'isp': 'BEGET.RU', 'org': 'Beget Ltd', 'as': 'AS198610 Beget LLC', 'query': '87.236.16.243'}\n"
          ]
        },
        {
          "output_type": "stream",
          "name": "stderr",
          "text": [
            "  7%|▋         | 628/9545 [04:03<57:11,  2.60it/s]"
          ]
        },
        {
          "output_type": "stream",
          "name": "stdout",
          "text": [
            "weird Index Error\n",
            "shkolamil.ru {'status': 'success', 'country': 'Russia', 'countryCode': 'RU', 'region': 'MOW', 'regionName': 'Moscow', 'city': 'Moscow', 'zip': '', 'lat': 55.7778, 'lon': 37.5029, 'timezone': 'Europe/Moscow', 'isp': 'JSC \"RU-CENTER\"', 'org': 'JSC \"RU-CENTER\"', 'as': 'AS48287 JSC RU-CENTER', 'query': '194.85.61.76'}\n"
          ]
        },
        {
          "output_type": "stream",
          "name": "stderr",
          "text": [
            "  7%|▋         | 631/9545 [04:04<53:33,  2.77it/s]"
          ]
        },
        {
          "output_type": "stream",
          "name": "stdout",
          "text": [
            "weird Index Error\n",
            "teplo-serdets.ru {'status': 'success', 'country': 'United States', 'countryCode': 'US', 'region': 'VA', 'regionName': 'Virginia', 'city': 'Ashburn', 'zip': '20147', 'lat': 39.018, 'lon': -77.539, 'timezone': 'America/New_York', 'isp': 'wix com inc', 'org': 'Wix Com Inc', 'as': 'AS58182 Wix.com Ltd.', 'query': '185.230.63.107'}\n"
          ]
        },
        {
          "output_type": "stream",
          "name": "stderr",
          "text": [
            "  8%|▊         | 783/9545 [05:02<46:09,  3.16it/s]"
          ]
        },
        {
          "output_type": "stream",
          "name": "stdout",
          "text": [
            "weird Index Error\n",
            "intiu.ru {'status': 'success', 'country': 'Russia', 'countryCode': 'RU', 'region': 'SPE', 'regionName': 'St.-Petersburg', 'city': 'St Petersburg', 'zip': '190005', 'lat': 59.8836, 'lon': 30.3303, 'timezone': 'Europe/Moscow', 'isp': 'SpaceWeb Spb', 'org': 'SpaceWeb CJSC', 'as': 'AS44112 SpaceWeb Ltd', 'query': '77.222.62.31'}\n"
          ]
        },
        {
          "output_type": "stream",
          "name": "stderr",
          "text": [
            "  8%|▊         | 785/9545 [05:03<42:27,  3.44it/s]"
          ]
        },
        {
          "output_type": "stream",
          "name": "stdout",
          "text": [
            "weird Index Error\n",
            "nti2035.ru {'status': 'success', 'country': 'Canada', 'countryCode': 'CA', 'region': 'ON', 'regionName': 'Ontario', 'city': 'Toronto', 'zip': 'M5A', 'lat': 43.6532, 'lon': -79.3832, 'timezone': 'America/Toronto', 'isp': 'Cloudflare, Inc.', 'org': 'Cloudflare, Inc.', 'as': 'AS13335 Cloudflare, Inc.', 'query': '172.67.141.11'}\n"
          ]
        },
        {
          "output_type": "stream",
          "name": "stderr",
          "text": [
            "  8%|▊         | 788/9545 [05:04<44:39,  3.27it/s]"
          ]
        },
        {
          "output_type": "stream",
          "name": "stdout",
          "text": [
            "weird Index Error\n",
            "opora82.ru []\n"
          ]
        },
        {
          "output_type": "stream",
          "name": "stderr",
          "text": [
            "\r  8%|▊         | 789/9545 [05:04<44:06,  3.31it/s]"
          ]
        },
        {
          "output_type": "stream",
          "name": "stdout",
          "text": [
            "weird Index Error\n",
            "lubi-ludey.ru []\n"
          ]
        },
        {
          "output_type": "stream",
          "name": "stderr",
          "text": [
            "  8%|▊         | 791/9545 [05:05<43:22,  3.36it/s]"
          ]
        },
        {
          "output_type": "stream",
          "name": "stdout",
          "text": [
            "weird Index Error\n",
            "fondgs.ru []\n"
          ]
        },
        {
          "output_type": "stream",
          "name": "stderr",
          "text": [
            "  8%|▊         | 793/9545 [05:05<43:15,  3.37it/s]"
          ]
        },
        {
          "output_type": "stream",
          "name": "stdout",
          "text": [
            "weird Index Error\n",
            "ppouvng.ru []\n"
          ]
        },
        {
          "output_type": "stream",
          "name": "stderr",
          "text": [
            "\r  8%|▊         | 794/9545 [05:05<41:22,  3.53it/s]"
          ]
        },
        {
          "output_type": "stream",
          "name": "stdout",
          "text": [
            "weird Index Error\n",
            "sknastroenie.ru []\n"
          ]
        },
        {
          "output_type": "stream",
          "name": "stderr",
          "text": [
            "\r  8%|▊         | 795/9545 [05:06<42:04,  3.47it/s]"
          ]
        },
        {
          "output_type": "stream",
          "name": "stdout",
          "text": [
            "weird Index Error\n",
            "fondexpert.ru []\n"
          ]
        },
        {
          "output_type": "stream",
          "name": "stderr",
          "text": [
            "\r  8%|▊         | 796/9545 [05:06<42:02,  3.47it/s]"
          ]
        },
        {
          "output_type": "stream",
          "name": "stdout",
          "text": [
            "weird Index Error\n",
            "atomsforhumanity.ru []\n"
          ]
        },
        {
          "output_type": "stream",
          "name": "stderr",
          "text": [
            " 10%|▉         | 919/9545 [05:53<53:37,  2.68it/s]"
          ]
        },
        {
          "output_type": "stream",
          "name": "stdout",
          "text": [
            "weird Index Error\n",
            "myrostrf.ru {'status': 'success', 'country': 'Russia', 'countryCode': 'RU', 'region': 'MOS', 'regionName': 'Moscow Oblast', 'city': 'Skolkovo', 'zip': '143025', 'lat': 55.6916, 'lon': 37.3474, 'timezone': 'Europe/Moscow', 'isp': 'JSC IOT', 'org': 'JSC IOT', 'as': 'AS29182 JSC IOT', 'query': '188.120.254.71'}\n"
          ]
        },
        {
          "output_type": "stream",
          "name": "stderr",
          "text": [
            " 10%|▉         | 921/9545 [05:54<56:47,  2.53it/s]"
          ]
        },
        {
          "output_type": "stream",
          "name": "stdout",
          "text": [
            "weird Index Error\n",
            "cxt-videokniga.ru {'status': 'success', 'country': 'Russia', 'countryCode': 'RU', 'region': 'MOW', 'regionName': 'Moscow', 'city': 'Moscow', 'zip': '144700', 'lat': 55.7558, 'lon': 37.6173, 'timezone': 'Europe/Moscow', 'isp': 'Reg.Ru', 'org': '', 'as': 'AS197695 Domain names registrar REG.RU, Ltd', 'query': '37.140.192.13'}\n"
          ]
        },
        {
          "output_type": "stream",
          "name": "stderr",
          "text": [
            " 10%|▉         | 923/9545 [05:54<54:03,  2.66it/s]"
          ]
        },
        {
          "output_type": "stream",
          "name": "stdout",
          "text": [
            "weird Index Error\n",
            "crimea-moscow.ru {'status': 'success', 'country': 'Russia', 'countryCode': 'RU', 'region': 'IRK', 'regionName': 'Irkutsk Oblast', 'city': 'Irkutsk', 'zip': '664000', 'lat': 52.2855, 'lon': 104.289, 'timezone': 'Asia/Irkutsk', 'isp': 'TheServer', 'org': 'JSC Server', 'as': 'AS29182 JSC IOT', 'query': '185.43.7.111'}\n"
          ]
        },
        {
          "output_type": "stream",
          "name": "stderr",
          "text": [
            " 10%|▉         | 926/9545 [05:55<49:10,  2.92it/s]"
          ]
        },
        {
          "output_type": "stream",
          "name": "stdout",
          "text": [
            "weird Index Error\n",
            "malyshbf.ru []\n"
          ]
        },
        {
          "output_type": "stream",
          "name": "stderr",
          "text": [
            "\r 10%|▉         | 927/9545 [05:56<42:22,  3.39it/s]"
          ]
        },
        {
          "output_type": "stream",
          "name": "stdout",
          "text": [
            "weird Index Error\n",
            "rehabprofi.ru []\n"
          ]
        },
        {
          "output_type": "stream",
          "name": "stderr",
          "text": [
            " 10%|▉         | 929/9545 [05:56<39:43,  3.61it/s]"
          ]
        },
        {
          "output_type": "stream",
          "name": "stdout",
          "text": [
            "weird Index Error\n",
            "fedordobronravov.ru []\n"
          ]
        },
        {
          "output_type": "stream",
          "name": "stderr",
          "text": [
            " 10%|▉         | 933/9545 [05:59<1:30:16,  1.59it/s]"
          ]
        },
        {
          "output_type": "stream",
          "name": "stdout",
          "text": [
            "weird Index Error\n",
            "нроо.рф {'status': 'success', 'country': 'Russia', 'countryCode': 'RU', 'region': 'MOW', 'regionName': 'Moscow', 'city': 'Moscow', 'zip': '144700', 'lat': 55.7558, 'lon': 37.6173, 'timezone': 'Europe/Moscow', 'isp': 'Variti LLC', 'org': 'Tilda', 'as': 'AS64432 Variti LLC', 'query': '185.165.123.36'}\n"
          ]
        },
        {
          "output_type": "stream",
          "name": "stderr",
          "text": [
            "\r 10%|▉         | 934/9545 [05:59<1:20:13,  1.79it/s]"
          ]
        },
        {
          "output_type": "stream",
          "name": "stdout",
          "text": [
            "weird Index Error\n",
            "silverexpress.ru []\n"
          ]
        },
        {
          "output_type": "stream",
          "name": "stderr",
          "text": [
            "\r 10%|▉         | 935/9545 [06:00<1:08:18,  2.10it/s]"
          ]
        },
        {
          "output_type": "stream",
          "name": "stdout",
          "text": [
            "weird Index Error\n",
            "xoroshix-nko.ru []\n"
          ]
        },
        {
          "output_type": "stream",
          "name": "stderr",
          "text": [
            "\r 10%|▉         | 936/9545 [06:00<1:00:26,  2.37it/s]"
          ]
        },
        {
          "output_type": "stream",
          "name": "stdout",
          "text": [
            "weird Index Error\n",
            "zabota-i-ukhod.ru []\n"
          ]
        },
        {
          "output_type": "stream",
          "name": "stderr",
          "text": [
            "\r 10%|▉         | 937/9545 [06:00<54:39,  2.62it/s]  "
          ]
        },
        {
          "output_type": "stream",
          "name": "stdout",
          "text": [
            "weird Index Error\n",
            "моясемья34.рф []\n"
          ]
        },
        {
          "output_type": "stream",
          "name": "stderr",
          "text": [
            " 10%|▉         | 939/9545 [06:02<1:23:23,  1.72it/s]"
          ]
        },
        {
          "output_type": "stream",
          "name": "stdout",
          "text": [
            "weird Index Error\n",
            "sdomado.ru []\n"
          ]
        },
        {
          "output_type": "stream",
          "name": "stderr",
          "text": [
            " 10%|▉         | 942/9545 [06:03<58:05,  2.47it/s]  "
          ]
        },
        {
          "output_type": "stream",
          "name": "stdout",
          "text": [
            "weird Index Error\n",
            "www.allianceforanimals.ru {'status': 'success', 'country': 'Russia', 'countryCode': 'RU', 'region': 'TA', 'regionName': 'Tatarstan Republic', 'city': 'Kazan’', 'zip': '420000', 'lat': 55.785, 'lon': 49.1178, 'timezone': 'Europe/Moscow', 'isp': 'SELECTEL', 'org': '', 'as': 'AS50340 OOO Network of data-centers Selectel', 'query': '185.17.10.59'}\n"
          ]
        },
        {
          "output_type": "stream",
          "name": "stderr",
          "text": [
            " 10%|▉         | 944/9545 [06:03<52:28,  2.73it/s]"
          ]
        },
        {
          "output_type": "stream",
          "name": "stdout",
          "text": [
            "weird Index Error\n",
            "fedskate.ru []\n"
          ]
        },
        {
          "output_type": "stream",
          "name": "stderr",
          "text": [
            " 10%|▉         | 947/9545 [06:04<47:53,  2.99it/s]"
          ]
        },
        {
          "output_type": "stream",
          "name": "stdout",
          "text": [
            "weird Index Error\n",
            "fsrbit.ru {'status': 'success', 'country': 'Russia', 'countryCode': 'RU', 'region': 'MOW', 'regionName': 'Moscow', 'city': 'Moscow', 'zip': '', 'lat': 55.7029, 'lon': 37.6968, 'timezone': 'Europe/Moscow', 'isp': '.masterhost', 'org': '', 'as': 'AS25532 LLC MASTERHOST', 'query': '90.156.201.28'}\n"
          ]
        },
        {
          "output_type": "stream",
          "name": "stderr",
          "text": [
            " 11%|█▏        | 1084/9545 [07:01<49:49,  2.83it/s]"
          ]
        },
        {
          "output_type": "stream",
          "name": "stdout",
          "text": [
            "weird Index Error\n",
            "turgeneff.ru {'status': 'success', 'country': 'Russia', 'countryCode': 'RU', 'region': 'MOW', 'regionName': 'Moscow', 'city': 'Moscow', 'zip': '143441', 'lat': 55.8338, 'lon': 37.4025, 'timezone': 'Europe/Moscow', 'isp': '\"Domain names registrar REG.RU\", Ltd', 'org': 'Reg.Ru', 'as': 'AS197695 Domain names registrar REG.RU, Ltd', 'query': '31.31.196.247'}\n"
          ]
        },
        {
          "output_type": "stream",
          "name": "stderr",
          "text": [
            "\r 11%|█▏        | 1085/9545 [07:02<47:08,  2.99it/s]"
          ]
        },
        {
          "output_type": "stream",
          "name": "stdout",
          "text": [
            "weird Index Error\n",
            "manepa.ru []\n"
          ]
        },
        {
          "output_type": "stream",
          "name": "stderr",
          "text": [
            "\r 11%|█▏        | 1086/9545 [07:02<45:16,  3.11it/s]"
          ]
        },
        {
          "output_type": "stream",
          "name": "stdout",
          "text": [
            "weird Index Error\n",
            "лучнадежды.рф []\n"
          ]
        },
        {
          "output_type": "stream",
          "name": "stderr",
          "text": [
            "\r 11%|█▏        | 1087/9545 [07:02<48:24,  2.91it/s]"
          ]
        },
        {
          "output_type": "stream",
          "name": "stdout",
          "text": [
            "weird Index Error\n",
            "almetseasons.ru []\n"
          ]
        },
        {
          "output_type": "stream",
          "name": "stderr",
          "text": [
            "\r 11%|█▏        | 1088/9545 [07:03<50:26,  2.79it/s]"
          ]
        },
        {
          "output_type": "stream",
          "name": "stdout",
          "text": [
            "weird Index Error\n",
            "www.lightinhands.ru []\n"
          ]
        },
        {
          "output_type": "stream",
          "name": "stderr",
          "text": [
            "\r 11%|█▏        | 1089/9545 [07:03<47:49,  2.95it/s]"
          ]
        },
        {
          "output_type": "stream",
          "name": "stdout",
          "text": [
            "weird Index Error\n",
            "profsobranie.ru []\n"
          ]
        },
        {
          "output_type": "stream",
          "name": "stderr",
          "text": [
            "\r 11%|█▏        | 1090/9545 [07:03<49:02,  2.87it/s]"
          ]
        },
        {
          "output_type": "stream",
          "name": "stdout",
          "text": [
            "weird Index Error\n",
            "arpot.ru []\n"
          ]
        },
        {
          "output_type": "stream",
          "name": "stderr",
          "text": [
            " 11%|█▏        | 1092/9545 [07:05<1:23:23,  1.69it/s]"
          ]
        },
        {
          "output_type": "stream",
          "name": "stdout",
          "text": [
            "weird Index Error\n",
            "export67.ru []\n"
          ]
        },
        {
          "output_type": "stream",
          "name": "stderr",
          "text": [
            "\r 11%|█▏        | 1093/9545 [07:05<1:11:02,  1.98it/s]"
          ]
        },
        {
          "output_type": "stream",
          "name": "stdout",
          "text": [
            "weird Index Error\n",
            "fond.elitsy.ru []\n"
          ]
        },
        {
          "output_type": "stream",
          "name": "stderr",
          "text": [
            "\r 11%|█▏        | 1094/9545 [07:06<1:04:16,  2.19it/s]"
          ]
        },
        {
          "output_type": "stream",
          "name": "stdout",
          "text": [
            "weird Index Error\n",
            "crkdomnadejd.ru []\n"
          ]
        },
        {
          "output_type": "stream",
          "name": "stderr",
          "text": [
            " 11%|█▏        | 1097/9545 [07:07<55:38,  2.53it/s]"
          ]
        },
        {
          "output_type": "stream",
          "name": "stdout",
          "text": [
            "weird Index Error\n",
            "project-initiative.ru []\n"
          ]
        },
        {
          "output_type": "stream",
          "name": "stderr",
          "text": [
            " 12%|█▏        | 1099/9545 [07:07<48:15,  2.92it/s]"
          ]
        },
        {
          "output_type": "stream",
          "name": "stdout",
          "text": [
            "weird Index Error\n",
            "onmywings.ru []\n"
          ]
        },
        {
          "output_type": "stream",
          "name": "stderr",
          "text": [
            " 12%|█▏        | 1102/9545 [07:08<41:50,  3.36it/s]"
          ]
        },
        {
          "output_type": "stream",
          "name": "stdout",
          "text": [
            "weird Index Error\n",
            "sirotstvynet.ru []\n"
          ]
        },
        {
          "output_type": "stream",
          "name": "stderr",
          "text": [
            " 12%|█▏        | 1106/9545 [07:10<51:50,  2.71it/s]"
          ]
        },
        {
          "output_type": "stream",
          "name": "stdout",
          "text": [
            "weird Index Error\n",
            "franchise-norilsk.ru {'status': 'success', 'country': 'Canada', 'countryCode': 'CA', 'region': 'ON', 'regionName': 'Ontario', 'city': 'Toronto', 'zip': 'M5A', 'lat': 43.6532, 'lon': -79.3832, 'timezone': 'America/Toronto', 'isp': 'Cloudflare, Inc.', 'org': 'Cloudflare, Inc.', 'as': 'AS13335 Cloudflare, Inc.', 'query': '172.67.165.84'}\n"
          ]
        },
        {
          "output_type": "stream",
          "name": "stderr",
          "text": [
            "\r 12%|█▏        | 1107/9545 [07:11<48:35,  2.89it/s]"
          ]
        },
        {
          "output_type": "stream",
          "name": "stdout",
          "text": [
            "weird Index Error\n",
            "intercurs.ru []\n"
          ]
        },
        {
          "output_type": "stream",
          "name": "stderr",
          "text": [
            " 13%|█▎        | 1243/9545 [08:06<54:08,  2.56it/s]"
          ]
        },
        {
          "output_type": "stream",
          "name": "stdout",
          "text": [
            "weird Index Error\n",
            "rccpenza.ru {'status': 'success', 'country': 'Russia', 'countryCode': 'RU', 'region': 'MOW', 'regionName': 'Moscow', 'city': 'Moscow', 'zip': '143441', 'lat': 55.8338, 'lon': 37.4025, 'timezone': 'Europe/Moscow', 'isp': '\"Domain names registrar REG.RU\", Ltd', 'org': 'Reg.Ru', 'as': 'AS197695 Domain names registrar REG.RU, Ltd', 'query': '31.31.196.73'}\n"
          ]
        },
        {
          "output_type": "stream",
          "name": "stderr",
          "text": [
            " 13%|█▎        | 1246/9545 [08:08<1:29:32,  1.54it/s]"
          ]
        },
        {
          "output_type": "stream",
          "name": "stdout",
          "text": [
            "weird Index Error\n",
            "epona-hippotherapy.ru {'status': 'success', 'country': 'Russia', 'countryCode': 'RU', 'region': 'MOS', 'regionName': 'Moscow Oblast', 'city': 'Skolkovo', 'zip': '143025', 'lat': 55.6916, 'lon': 37.3474, 'timezone': 'Europe/Moscow', 'isp': 'JSC IOT', 'org': 'JSC IOT', 'as': 'AS29182 JSC IOT', 'query': '94.250.250.97'}\n"
          ]
        },
        {
          "output_type": "stream",
          "name": "stderr",
          "text": [
            "\r 13%|█▎        | 1247/9545 [08:08<1:17:03,  1.79it/s]"
          ]
        },
        {
          "output_type": "stream",
          "name": "stdout",
          "text": [
            "weird Index Error\n",
            "dismas.ru []\n"
          ]
        },
        {
          "output_type": "stream",
          "name": "stderr",
          "text": [
            " 15%|█▍        | 1408/9545 [09:06<45:21,  2.99it/s]"
          ]
        },
        {
          "output_type": "stream",
          "name": "stdout",
          "text": [
            "weird Index Error\n",
            "vestaplus86.ru {'status': 'success', 'country': 'Russia', 'countryCode': 'RU', 'region': 'MOW', 'regionName': 'Moscow', 'city': 'Moscow', 'zip': '144700', 'lat': 55.7558, 'lon': 37.6173, 'timezone': 'Europe/Moscow', 'isp': 'MCHOST', 'org': '', 'as': 'AS210079 EuroByte LLC', 'query': '95.142.38.59'}\n"
          ]
        },
        {
          "output_type": "stream",
          "name": "stderr",
          "text": [
            "\r 15%|█▍        | 1409/9545 [09:07<42:21,  3.20it/s]"
          ]
        },
        {
          "output_type": "stream",
          "name": "stdout",
          "text": [
            "weird Index Error\n",
            "живуспортом.рф []\n"
          ]
        },
        {
          "output_type": "stream",
          "name": "stderr",
          "text": [
            "\r 15%|█▍        | 1410/9545 [09:07<41:58,  3.23it/s]"
          ]
        },
        {
          "output_type": "stream",
          "name": "stdout",
          "text": [
            "weird Index Error\n",
            "hr-insider.ru []\n"
          ]
        },
        {
          "output_type": "stream",
          "name": "stderr",
          "text": [
            " 15%|█▍        | 1412/9545 [09:08<39:16,  3.45it/s]"
          ]
        },
        {
          "output_type": "stream",
          "name": "stdout",
          "text": [
            "weird Index Error\n",
            "ano-nadezhda.ru []\n"
          ]
        },
        {
          "output_type": "stream",
          "name": "stderr",
          "text": [
            "\r 15%|█▍        | 1413/9545 [09:08<45:08,  3.00it/s]"
          ]
        },
        {
          "output_type": "stream",
          "name": "stdout",
          "text": [
            "weird Index Error\n",
            "chyltys.ru []\n"
          ]
        },
        {
          "output_type": "stream",
          "name": "stderr",
          "text": [
            "\r 15%|█▍        | 1414/9545 [09:09<53:09,  2.55it/s]"
          ]
        },
        {
          "output_type": "stream",
          "name": "stdout",
          "text": [
            "weird Index Error\n",
            "dev-expoolimp.ru []\n"
          ]
        },
        {
          "output_type": "stream",
          "name": "stderr",
          "text": [
            "\r 15%|█▍        | 1415/9545 [09:09<48:45,  2.78it/s]"
          ]
        },
        {
          "output_type": "stream",
          "name": "stdout",
          "text": [
            "weird Index Error\n",
            "kuzfond.ru []\n"
          ]
        },
        {
          "output_type": "stream",
          "name": "stderr",
          "text": [
            "\r 15%|█▍        | 1416/9545 [09:09<41:27,  3.27it/s]"
          ]
        },
        {
          "output_type": "stream",
          "name": "stdout",
          "text": [
            "weird Index Error\n",
            "immasters.ru []\n"
          ]
        },
        {
          "output_type": "stream",
          "name": "stderr",
          "text": [
            "\r 15%|█▍        | 1417/9545 [09:09<43:24,  3.12it/s]"
          ]
        },
        {
          "output_type": "stream",
          "name": "stdout",
          "text": [
            "weird Index Error\n",
            "www.plusr.ru []\n"
          ]
        },
        {
          "output_type": "stream",
          "name": "stderr",
          "text": [
            "\r 15%|█▍        | 1418/9545 [09:10<42:17,  3.20it/s]"
          ]
        },
        {
          "output_type": "stream",
          "name": "stdout",
          "text": [
            "weird Index Error\n",
            "beliy-parohod.ru []\n"
          ]
        },
        {
          "output_type": "stream",
          "name": "stderr",
          "text": [
            " 15%|█▍        | 1420/9545 [09:11<54:21,  2.49it/s]"
          ]
        },
        {
          "output_type": "stream",
          "name": "stdout",
          "text": [
            "weird Index Error\n",
            "soc38.ru []\n"
          ]
        },
        {
          "output_type": "stream",
          "name": "stderr",
          "text": [
            " 15%|█▍        | 1422/9545 [09:11<49:16,  2.75it/s]"
          ]
        },
        {
          "output_type": "stream",
          "name": "stdout",
          "text": [
            "weird Index Error\n",
            "batalistneva.ru []\n"
          ]
        },
        {
          "output_type": "stream",
          "name": "stderr",
          "text": [
            " 15%|█▍        | 1424/9545 [09:12<50:44,  2.67it/s]"
          ]
        },
        {
          "output_type": "stream",
          "name": "stdout",
          "text": [
            "weird Index Error\n",
            "gm-inginirium.ru {'status': 'success', 'country': 'Russia', 'countryCode': 'RU', 'region': 'MOW', 'regionName': 'Moscow', 'city': 'Moscow', 'zip': '144700', 'lat': 55.7558, 'lon': 37.6173, 'timezone': 'Europe/Moscow', 'isp': 'Servers.com, Inc.', 'org': 'Servers RU Mow1', 'as': 'AS39134 United Network LLC', 'query': '88.212.247.52'}\n"
          ]
        },
        {
          "output_type": "stream",
          "name": "stderr",
          "text": [
            "\r 15%|█▍        | 1425/9545 [09:12<47:28,  2.85it/s]"
          ]
        },
        {
          "output_type": "stream",
          "name": "stdout",
          "text": [
            "weird Index Error\n",
            "rosgonki.ru []\n"
          ]
        },
        {
          "output_type": "stream",
          "name": "stderr",
          "text": [
            " 17%|█▋        | 1575/9545 [10:08<41:46,  3.18it/s]"
          ]
        },
        {
          "output_type": "stream",
          "name": "stdout",
          "text": [
            "weird Index Error\n",
            "fcasi.ru {'status': 'success', 'country': 'United States', 'countryCode': 'US', 'region': 'VA', 'regionName': 'Virginia', 'city': 'Ashburn', 'zip': '20147', 'lat': 39.018, 'lon': -77.539, 'timezone': 'America/New_York', 'isp': 'wix com inc', 'org': 'Wix Com Inc', 'as': 'AS58182 Wix.com Ltd.', 'query': '185.230.63.171'}\n"
          ]
        },
        {
          "output_type": "stream",
          "name": "stderr",
          "text": [
            "\r 17%|█▋        | 1576/9545 [10:09<40:39,  3.27it/s]"
          ]
        },
        {
          "output_type": "stream",
          "name": "stdout",
          "text": [
            "weird Index Error\n",
            "sofund.ru []\n"
          ]
        },
        {
          "output_type": "stream",
          "name": "stderr",
          "text": [
            " 17%|█▋        | 1578/9545 [10:09<45:55,  2.89it/s]"
          ]
        },
        {
          "output_type": "stream",
          "name": "stdout",
          "text": [
            "weird Index Error\n",
            "svgb71.ru {'status': 'success', 'country': 'Russia', 'countryCode': 'RU', 'region': 'SPE', 'regionName': 'St.-Petersburg', 'city': 'St Petersburg', 'zip': '192241', 'lat': 59.9394, 'lon': 30.2283, 'timezone': 'Europe/Moscow', 'isp': 'BEGET.RU', 'org': 'Beget Ltd', 'as': 'AS198610 Beget LLC', 'query': '87.236.16.254'}\n"
          ]
        },
        {
          "output_type": "stream",
          "name": "stderr",
          "text": [
            " 17%|█▋        | 1582/9545 [10:11<39:20,  3.37it/s]"
          ]
        },
        {
          "output_type": "stream",
          "name": "stdout",
          "text": [
            "weird Index Error\n",
            "fly-slon.ru {'status': 'success', 'country': 'Russia', 'countryCode': 'RU', 'region': 'MOW', 'regionName': 'Moscow', 'city': 'Moscow', 'zip': '143441', 'lat': 55.84, 'lon': 37.4069, 'timezone': 'Europe/Moscow', 'isp': '\"Domain names registrar REG.RU\", Ltd', 'org': 'Reg.Ru', 'as': 'AS197695 Domain names registrar REG.RU, Ltd', 'query': '31.31.198.173'}\n"
          ]
        },
        {
          "output_type": "stream",
          "name": "stderr",
          "text": [
            "\r 17%|█▋        | 1583/9545 [10:11<34:45,  3.82it/s]"
          ]
        },
        {
          "output_type": "stream",
          "name": "stdout",
          "text": [
            "weird Index Error\n",
            "фондсодружество.рф []\n"
          ]
        },
        {
          "output_type": "stream",
          "name": "stderr",
          "text": [
            " 17%|█▋        | 1590/9545 [10:14<1:10:14,  1.89it/s]"
          ]
        },
        {
          "output_type": "stream",
          "name": "stdout",
          "text": [
            "weird Index Error\n",
            "ulrgo.ru {'status': 'success', 'country': 'Russia', 'countryCode': 'RU', 'region': 'SPE', 'regionName': 'St.-Petersburg', 'city': 'St Petersburg', 'zip': '', 'lat': 59.9345, 'lon': 30.4357, 'timezone': 'Europe/Moscow', 'isp': 'BEGET.RU', 'org': '', 'as': 'AS198610 Beget LLC', 'query': '45.130.41.33'}\n"
          ]
        },
        {
          "output_type": "stream",
          "name": "stderr",
          "text": [
            " 18%|█▊        | 1705/9545 [11:06<58:38,  2.23it/s]  "
          ]
        },
        {
          "output_type": "stream",
          "name": "stdout",
          "text": [
            "weird Index Error\n",
            "бенди-татарстан.рф {'status': 'success', 'country': 'Russia', 'countryCode': 'RU', 'region': 'LEN', 'regionName': 'Leningrad Oblast', 'city': 'Untolovo', 'zip': '', 'lat': 59.9828, 'lon': 30.2133, 'timezone': 'Europe/Moscow', 'isp': 'Sprinthost P17', 'org': '', 'as': 'AS35278 SPRINTHOST.RU LLC', 'query': '141.8.195.205'}\n"
          ]
        },
        {
          "output_type": "stream",
          "name": "stderr",
          "text": [
            "\r 18%|█▊        | 1706/9545 [11:06<47:23,  2.76it/s]"
          ]
        },
        {
          "output_type": "stream",
          "name": "stdout",
          "text": [
            "weird Index Error\n",
            "openyourhearts.org []\n"
          ]
        },
        {
          "output_type": "stream",
          "name": "stderr",
          "text": [
            "\r 18%|█▊        | 1707/9545 [11:06<44:09,  2.96it/s]"
          ]
        },
        {
          "output_type": "stream",
          "name": "stdout",
          "text": [
            "weird Index Error\n",
            "standart-center.ru []\n"
          ]
        },
        {
          "output_type": "stream",
          "name": "stderr",
          "text": [
            " 18%|█▊        | 1709/9545 [11:07<42:44,  3.06it/s]"
          ]
        },
        {
          "output_type": "stream",
          "name": "stdout",
          "text": [
            "weird Index Error\n",
            "educ-center.ru {'status': 'success', 'country': 'Russia', 'countryCode': 'RU', 'region': 'RYA', 'regionName': 'Ryazan Oblast', 'city': 'Ryazan', 'zip': '390000', 'lat': 54.613, 'lon': 39.743, 'timezone': 'Europe/Moscow', 'isp': 'Megagroup.ru LLC', 'org': 'Megagroup.ru LLC', 'as': 'AS60357 Megagroup.ru LLC', 'query': '185.32.58.255'}\n"
          ]
        },
        {
          "output_type": "stream",
          "name": "stderr",
          "text": [
            " 18%|█▊        | 1715/9545 [11:09<48:24,  2.70it/s]"
          ]
        },
        {
          "output_type": "stream",
          "name": "stdout",
          "text": [
            "weird Index Error\n",
            "redcross-auction.ru {'status': 'success', 'country': 'Russia', 'countryCode': 'RU', 'region': 'LEN', 'regionName': 'Leningrad Oblast', 'city': 'Untolovo', 'zip': '', 'lat': 59.9828, 'lon': 30.2133, 'timezone': 'Europe/Moscow', 'isp': 'Sprinthost P17', 'org': '', 'as': 'AS35278 SPRINTHOST.RU LLC', 'query': '141.8.195.33'}\n"
          ]
        },
        {
          "output_type": "stream",
          "name": "stderr",
          "text": [
            " 18%|█▊        | 1719/9545 [11:11<47:12,  2.76it/s]"
          ]
        },
        {
          "output_type": "stream",
          "name": "stdout",
          "text": [
            "weird Index Error\n",
            "trfl.ru {'status': 'success', 'country': 'Russia', 'countryCode': 'RU', 'region': 'MOW', 'regionName': 'Moscow', 'city': 'Moscow', 'zip': '101194', 'lat': 55.7332, 'lon': 37.5833, 'timezone': 'Europe/Moscow', 'isp': 'Yandex enterprise network', 'org': 'Yandex LLC', 'as': 'AS200350 Yandex.Cloud LLC', 'query': '84.201.137.135'}\n"
          ]
        },
        {
          "output_type": "stream",
          "name": "stderr",
          "text": [
            " 18%|█▊        | 1721/9545 [11:12<1:09:33,  1.87it/s]"
          ]
        },
        {
          "output_type": "stream",
          "name": "stdout",
          "text": [
            "weird Index Error\n",
            "nko-maximum.ru {'status': 'success', 'country': 'Russia', 'countryCode': 'RU', 'region': 'MOW', 'regionName': 'Moscow', 'city': 'Moscow', 'zip': '101194', 'lat': 55.7332, 'lon': 37.5833, 'timezone': 'Europe/Moscow', 'isp': 'Yandex enterprise network', 'org': 'Yandex LLC', 'as': 'AS200350 Yandex.Cloud LLC', 'query': '84.201.137.135'}\n"
          ]
        },
        {
          "output_type": "stream",
          "name": "stderr",
          "text": [
            "\r 18%|█▊        | 1722/9545 [11:13<1:05:22,  1.99it/s]"
          ]
        },
        {
          "output_type": "stream",
          "name": "stdout",
          "text": [
            "weird Index Error\n",
            "russianspaniel.ru []\n"
          ]
        },
        {
          "output_type": "stream",
          "name": "stderr",
          "text": [
            " 18%|█▊        | 1724/9545 [11:13<51:58,  2.51it/s]"
          ]
        },
        {
          "output_type": "stream",
          "name": "stdout",
          "text": [
            "weird Index Error\n",
            "соцработник48.рф []\n"
          ]
        },
        {
          "output_type": "stream",
          "name": "stderr",
          "text": [
            "\r 18%|█▊        | 1725/9545 [11:14<55:15,  2.36it/s]"
          ]
        },
        {
          "output_type": "stream",
          "name": "stdout",
          "text": [
            "weird Index Error\n",
            "dobroye-delo.ru []\n"
          ]
        },
        {
          "output_type": "stream",
          "name": "stderr",
          "text": [
            " 18%|█▊        | 1731/9545 [11:16<48:15,  2.70it/s]"
          ]
        },
        {
          "output_type": "stream",
          "name": "stdout",
          "text": [
            "weird Index Error\n",
            "ano-cspsaulyk.ru {'status': 'success', 'country': 'Russia', 'countryCode': 'RU', 'region': 'SPE', 'regionName': 'St.-Petersburg', 'city': 'St Petersburg', 'zip': '', 'lat': 59.9345, 'lon': 30.4357, 'timezone': 'Europe/Moscow', 'isp': 'BEGET.RU', 'org': '', 'as': 'AS198610 Beget LLC', 'query': '45.130.41.9'}\n"
          ]
        },
        {
          "output_type": "stream",
          "name": "stderr",
          "text": [
            " 19%|█▉        | 1848/9545 [12:03<50:48,  2.53it/s]"
          ]
        },
        {
          "output_type": "stream",
          "name": "stdout",
          "text": [
            "weird Index Error\n",
            "oppozs.ru {'status': 'success', 'country': 'Russia', 'countryCode': 'RU', 'region': 'SPE', 'regionName': 'St.-Petersburg', 'city': 'St Petersburg', 'zip': '190805', 'lat': 59.9417, 'lon': 30.3096, 'timezone': 'Europe/Moscow', 'isp': 'TimeWeb Ltd.', 'org': 'TimeWeb Ltd', 'as': 'AS9123 TimeWeb Ltd.', 'query': '185.114.245.107'}\n"
          ]
        },
        {
          "output_type": "stream",
          "name": "stderr",
          "text": [
            " 19%|█▉        | 1854/9545 [12:05<48:31,  2.64it/s]"
          ]
        },
        {
          "output_type": "stream",
          "name": "stdout",
          "text": [
            "weird Index Error\n",
            "landoflife.ru {'status': 'success', 'country': 'Russia', 'countryCode': 'RU', 'region': 'SPE', 'regionName': 'St.-Petersburg', 'city': 'St Petersburg', 'zip': '192241', 'lat': 59.9394, 'lon': 30.2283, 'timezone': 'Europe/Moscow', 'isp': 'BEGET.RU', 'org': 'Beget Ltd', 'as': 'AS198610 Beget LLC', 'query': '87.236.16.222'}\n"
          ]
        },
        {
          "output_type": "stream",
          "name": "stderr",
          "text": [
            " 19%|█▉        | 1856/9545 [12:06<44:26,  2.88it/s]"
          ]
        },
        {
          "output_type": "stream",
          "name": "stdout",
          "text": [
            "weird Index Error\n",
            "молцентрбрянск.рф {'status': 'success', 'country': 'Russia', 'countryCode': 'RU', 'region': 'SPE', 'regionName': 'St.-Petersburg', 'city': 'St Petersburg', 'zip': '', 'lat': 59.9345, 'lon': 30.4357, 'timezone': 'Europe/Moscow', 'isp': 'BEGET.RU', 'org': '', 'as': 'AS198610 Beget LLC', 'query': '45.130.41.6'}\n"
          ]
        },
        {
          "output_type": "stream",
          "name": "stderr",
          "text": [
            "\r 19%|█▉        | 1857/9545 [12:06<41:49,  3.06it/s]"
          ]
        },
        {
          "output_type": "stream",
          "name": "stdout",
          "text": [
            "weird Index Error\n",
            "peer-partners.ru []\n"
          ]
        },
        {
          "output_type": "stream",
          "name": "stderr",
          "text": [
            "\r 19%|█▉        | 1858/9545 [12:07<40:06,  3.19it/s]"
          ]
        },
        {
          "output_type": "stream",
          "name": "stdout",
          "text": [
            "weird Index Error\n",
            "my-krymchane.ru []\n"
          ]
        },
        {
          "output_type": "stream",
          "name": "stderr",
          "text": [
            "\r 19%|█▉        | 1859/9545 [12:07<38:42,  3.31it/s]"
          ]
        },
        {
          "output_type": "stream",
          "name": "stdout",
          "text": [
            "weird Index Error\n",
            "dsluchik.ru []\n"
          ]
        },
        {
          "output_type": "stream",
          "name": "stderr",
          "text": [
            "\r 19%|█▉        | 1860/9545 [12:07<43:29,  2.95it/s]"
          ]
        },
        {
          "output_type": "stream",
          "name": "stdout",
          "text": [
            "weird Index Error\n",
            "pantheum.ru []\n"
          ]
        },
        {
          "output_type": "stream",
          "name": "stderr",
          "text": [
            "\r 19%|█▉        | 1861/9545 [12:08<45:28,  2.82it/s]"
          ]
        },
        {
          "output_type": "stream",
          "name": "stdout",
          "text": [
            "weird Index Error\n",
            "зашкольноепитание.рф []\n"
          ]
        },
        {
          "output_type": "stream",
          "name": "stderr",
          "text": [
            "\r 20%|█▉        | 1862/9545 [12:08<42:25,  3.02it/s]"
          ]
        },
        {
          "output_type": "stream",
          "name": "stdout",
          "text": [
            "weird Index Error\n",
            "rvio61.ru []\n"
          ]
        },
        {
          "output_type": "stream",
          "name": "stderr",
          "text": [
            "\r 20%|█▉        | 1863/9545 [12:08<45:56,  2.79it/s]"
          ]
        },
        {
          "output_type": "stream",
          "name": "stdout",
          "text": [
            "weird Index Error\n",
            "просто-живи.рф []\n"
          ]
        },
        {
          "output_type": "stream",
          "name": "stderr",
          "text": [
            "\r 20%|█▉        | 1864/9545 [12:09<41:30,  3.08it/s]"
          ]
        },
        {
          "output_type": "stream",
          "name": "stdout",
          "text": [
            "weird Index Error\n",
            "priyut67.ru []\n"
          ]
        },
        {
          "output_type": "stream",
          "name": "stderr",
          "text": [
            "\r 20%|█▉        | 1865/9545 [12:09<35:45,  3.58it/s]"
          ]
        },
        {
          "output_type": "stream",
          "name": "stdout",
          "text": [
            "weird Index Error\n",
            "wncf.ru []\n"
          ]
        },
        {
          "output_type": "stream",
          "name": "stderr",
          "text": [
            " 21%|██        | 2002/9545 [13:16<46:31,  2.70it/s]"
          ]
        },
        {
          "output_type": "stream",
          "name": "stdout",
          "text": [
            "weird Index Error\n",
            "pro-raion.ru {'status': 'success', 'country': 'Russia', 'countryCode': 'RU', 'region': 'MOW', 'regionName': 'Moscow', 'city': 'Moscow', 'zip': '143441', 'lat': 55.84, 'lon': 37.4069, 'timezone': 'Europe/Moscow', 'isp': '\"Domain names registrar REG.RU\", Ltd', 'org': 'Reg.Ru', 'as': 'AS197695 Domain names registrar REG.RU, Ltd', 'query': '31.31.198.44'}\n"
          ]
        },
        {
          "output_type": "stream",
          "name": "stderr",
          "text": [
            " 22%|██▏       | 2145/9545 [14:18<43:42,  2.82it/s]"
          ]
        },
        {
          "output_type": "stream",
          "name": "stdout",
          "text": [
            "weird Index Error\n",
            "mfoprim.ru {'status': 'success', 'country': 'Russia', 'countryCode': 'RU', 'region': 'MOW', 'regionName': 'Moscow', 'city': 'Moscow', 'zip': '143441', 'lat': 55.84, 'lon': 37.4069, 'timezone': 'Europe/Moscow', 'isp': '\"Domain names registrar REG.RU\", Ltd', 'org': 'Reg.Ru', 'as': 'AS197695 Domain names registrar REG.RU, Ltd', 'query': '31.31.198.39'}\n"
          ]
        },
        {
          "output_type": "stream",
          "name": "stderr",
          "text": [
            "\r 22%|██▏       | 2146/9545 [14:18<44:08,  2.79it/s]"
          ]
        },
        {
          "output_type": "stream",
          "name": "stdout",
          "text": [
            "weird Index Error\n",
            "просодействие.рф []\n"
          ]
        },
        {
          "output_type": "stream",
          "name": "stderr",
          "text": [
            " 23%|██▎       | 2149/9545 [14:19<40:07,  3.07it/s]"
          ]
        },
        {
          "output_type": "stream",
          "name": "stdout",
          "text": [
            "weird Index Error\n",
            "mb-62.ru {'status': 'success', 'country': 'Russia', 'countryCode': 'RU', 'region': 'RYA', 'regionName': 'Ryazan Oblast', 'city': 'Ryazan', 'zip': '390005', 'lat': 54.6161, 'lon': 39.7376, 'timezone': 'Europe/Moscow', 'isp': 'OnTelecom LLC', 'org': 'OnTelecom LLC', 'as': 'AS60042 OnTelecom LLC', 'query': '176.118.221.7'}\n"
          ]
        },
        {
          "output_type": "stream",
          "name": "stderr",
          "text": [
            " 23%|██▎       | 2156/9545 [14:21<45:29,  2.71it/s]"
          ]
        },
        {
          "output_type": "stream",
          "name": "stdout",
          "text": [
            "weird Index Error\n",
            "stranatvortsov.ru {'status': 'success', 'country': 'Russia', 'countryCode': 'RU', 'region': 'MOW', 'regionName': 'Moscow', 'city': 'Moscow', 'zip': '', 'lat': 55.7972, 'lon': 37.5656, 'timezone': 'Europe/Moscow', 'isp': 'RTCOMM', 'org': 'Avguro Technologies Ltd.', 'as': 'AS8342 JSC RTComm.RU', 'query': '81.177.141.224'}\n"
          ]
        },
        {
          "output_type": "stream",
          "name": "stderr",
          "text": [
            " 24%|██▍       | 2270/9545 [15:09<46:20,  2.62it/s]"
          ]
        },
        {
          "output_type": "stream",
          "name": "stdout",
          "text": [
            "weird Index Error\n",
            "sport-pokolenie.ru {'status': 'success', 'country': 'Russia', 'countryCode': 'RU', 'region': 'SPE', 'regionName': 'St.-Petersburg', 'city': 'St Petersburg', 'zip': '190005', 'lat': 59.8889, 'lon': 30.3296, 'timezone': 'Europe/Moscow', 'isp': 'TIMEWEB Co Ltd.', 'org': 'TIMEWEB', 'as': 'AS9123 TimeWeb Ltd.', 'query': '5.23.51.236'}\n"
          ]
        },
        {
          "output_type": "stream",
          "name": "stderr",
          "text": [
            "\r 24%|██▍       | 2272/9545 [15:09<33:58,  3.57it/s]"
          ]
        },
        {
          "output_type": "stream",
          "name": "stdout",
          "text": [
            "weird Index Error\n",
            "наши-дети.org []\n"
          ]
        },
        {
          "output_type": "stream",
          "name": "stderr",
          "text": [
            " 24%|██▍       | 2274/9545 [15:10<42:05,  2.88it/s]"
          ]
        },
        {
          "output_type": "stream",
          "name": "stdout",
          "text": [
            "weird Index Error\n",
            "torya.ru {'status': 'success', 'country': 'Russia', 'countryCode': 'RU', 'region': 'MOW', 'regionName': 'Moscow', 'city': 'Moscow', 'zip': '', 'lat': 55.7215, 'lon': 37.6968, 'timezone': 'Europe/Moscow', 'isp': 'Ddos-guard LTD', 'org': 'Tilda Publishing LLC', 'as': 'AS57724 DDOS-GUARD LTD', 'query': '185.215.4.10'}\n"
          ]
        },
        {
          "output_type": "stream",
          "name": "stderr",
          "text": [
            "\r 24%|██▍       | 2275/9545 [15:10<39:50,  3.04it/s]"
          ]
        },
        {
          "output_type": "stream",
          "name": "stdout",
          "text": [
            "weird Index Error\n",
            "manufactura-mi.ru []\n"
          ]
        },
        {
          "output_type": "stream",
          "name": "stderr",
          "text": [
            "\r 24%|██▍       | 2276/9545 [15:11<38:03,  3.18it/s]"
          ]
        },
        {
          "output_type": "stream",
          "name": "stdout",
          "text": [
            "weird Index Error\n",
            "toysmk.ru []\n"
          ]
        },
        {
          "output_type": "stream",
          "name": "stderr",
          "text": [
            "\r 24%|██▍       | 2277/9545 [15:11<40:32,  2.99it/s]"
          ]
        },
        {
          "output_type": "stream",
          "name": "stdout",
          "text": [
            "weird Index Error\n",
            "fond770.ru []\n"
          ]
        },
        {
          "output_type": "stream",
          "name": "stderr",
          "text": [
            " 24%|██▍       | 2281/9545 [15:12<35:21,  3.42it/s]"
          ]
        },
        {
          "output_type": "stream",
          "name": "stdout",
          "text": [
            "weird Index Error\n",
            "yadlaries.ru []\n"
          ]
        },
        {
          "output_type": "stream",
          "name": "stderr",
          "text": [
            " 24%|██▍       | 2284/9545 [15:14<50:37,  2.39it/s]"
          ]
        },
        {
          "output_type": "stream",
          "name": "stdout",
          "text": [
            "weird Index Error\n",
            "startum-dpo.ru {'status': 'success', 'country': 'Russia', 'countryCode': 'RU', 'region': 'MOW', 'regionName': 'Moscow', 'city': 'Moscow', 'zip': '144700', 'lat': 55.7558, 'lon': 37.6173, 'timezone': 'Europe/Moscow', 'isp': 'OOO \"Network of data-centers \"Selectel\"', 'org': 'Selectel', 'as': 'AS50340 OOO Network of data-centers Selectel', 'query': '82.148.18.17'}\n"
          ]
        },
        {
          "output_type": "stream",
          "name": "stderr",
          "text": [
            " 24%|██▍       | 2289/9545 [15:15<35:52,  3.37it/s]"
          ]
        },
        {
          "output_type": "stream",
          "name": "stdout",
          "text": [
            "weird Index Error\n",
            "uramkb.ru {'status': 'success', 'country': 'Russia', 'countryCode': 'RU', 'region': 'MOW', 'regionName': 'Moscow', 'city': 'Moscow', 'zip': '', 'lat': 55.7778, 'lon': 37.5029, 'timezone': 'Europe/Moscow', 'isp': 'JSC \"RU-CENTER\"', 'org': 'HostingCenter router', 'as': 'AS48287 JSC RU-CENTER', 'query': '91.189.114.17'}\n"
          ]
        },
        {
          "output_type": "stream",
          "name": "stderr",
          "text": [
            " 24%|██▍       | 2293/9545 [15:17<36:45,  3.29it/s]"
          ]
        },
        {
          "output_type": "stream",
          "name": "stdout",
          "text": [
            "weird Index Error\n",
            "soc-help.ru []\n"
          ]
        },
        {
          "output_type": "stream",
          "name": "stderr",
          "text": [
            " 24%|██▍       | 2295/9545 [15:17<39:52,  3.03it/s]"
          ]
        },
        {
          "output_type": "stream",
          "name": "stdout",
          "text": [
            "weird Index Error\n",
            "fondsg.ru {'status': 'success', 'country': 'Russia', 'countryCode': 'RU', 'region': 'SPE', 'regionName': 'St.-Petersburg', 'city': 'St Petersburg', 'zip': '190805', 'lat': 59.9417, 'lon': 30.3096, 'timezone': 'Europe/Moscow', 'isp': 'TimeWeb Ltd.', 'org': 'TimeWeb Ltd', 'as': 'AS9123 TimeWeb Ltd.', 'query': '185.114.247.102'}\n"
          ]
        },
        {
          "output_type": "stream",
          "name": "stderr",
          "text": [
            "\r 24%|██▍       | 2296/9545 [15:18<40:53,  2.95it/s]"
          ]
        },
        {
          "output_type": "stream",
          "name": "stdout",
          "text": [
            "weird Index Error\n",
            "ano-rsi.ru []\n"
          ]
        },
        {
          "output_type": "stream",
          "name": "stderr",
          "text": [
            "\r 24%|██▍       | 2297/9545 [15:18<42:37,  2.83it/s]"
          ]
        },
        {
          "output_type": "stream",
          "name": "stdout",
          "text": [
            "weird Index Error\n",
            "vpolyota.ru []\n"
          ]
        },
        {
          "output_type": "stream",
          "name": "stderr",
          "text": [
            "\r 24%|██▍       | 2298/9545 [15:18<40:03,  3.02it/s]"
          ]
        },
        {
          "output_type": "stream",
          "name": "stdout",
          "text": [
            "weird Index Error\n",
            "tvtambov.ru []\n"
          ]
        },
        {
          "output_type": "stream",
          "name": "stderr",
          "text": [
            "\r 24%|██▍       | 2299/9545 [15:19<37:50,  3.19it/s]"
          ]
        },
        {
          "output_type": "stream",
          "name": "stdout",
          "text": [
            "weird Index Error\n",
            "pooofog.ru []\n"
          ]
        },
        {
          "output_type": "stream",
          "name": "stderr",
          "text": [
            " 24%|██▍       | 2301/9545 [15:20<59:09,  2.04it/s]  "
          ]
        },
        {
          "output_type": "stream",
          "name": "stdout",
          "text": [
            "weird Index Error\n",
            "фонд-гиппокамп.рф []\n"
          ]
        },
        {
          "output_type": "stream",
          "name": "stderr",
          "text": [
            " 24%|██▍       | 2303/9545 [15:21<45:59,  2.62it/s]"
          ]
        },
        {
          "output_type": "stream",
          "name": "stdout",
          "text": [
            "weird Index Error\n",
            "gorodarb.ru []\n"
          ]
        },
        {
          "output_type": "stream",
          "name": "stderr",
          "text": [
            "\r 24%|██▍       | 2304/9545 [15:21<45:30,  2.65it/s]"
          ]
        },
        {
          "output_type": "stream",
          "name": "stdout",
          "text": [
            "weird Index Error\n",
            "irgrb.ru []\n"
          ]
        },
        {
          "output_type": "stream",
          "name": "stderr",
          "text": [
            "\r 24%|██▍       | 2305/9545 [15:21<43:08,  2.80it/s]"
          ]
        },
        {
          "output_type": "stream",
          "name": "stdout",
          "text": [
            "weird Index Error\n",
            "bfsapfir.ru []\n"
          ]
        },
        {
          "output_type": "stream",
          "name": "stderr",
          "text": [
            "\r 24%|██▍       | 2306/9545 [15:22<40:39,  2.97it/s]"
          ]
        },
        {
          "output_type": "stream",
          "name": "stdout",
          "text": [
            "weird Index Error\n",
            "www.dobro-mami.ru []\n"
          ]
        },
        {
          "output_type": "stream",
          "name": "stderr",
          "text": [
            "\r 24%|██▍       | 2307/9545 [15:22<38:48,  3.11it/s]"
          ]
        },
        {
          "output_type": "stream",
          "name": "stdout",
          "text": [
            "weird Index Error\n",
            "harmonyhomes.ru []\n"
          ]
        },
        {
          "output_type": "stream",
          "name": "stderr",
          "text": [
            "\r 24%|██▍       | 2308/9545 [15:22<37:45,  3.19it/s]"
          ]
        },
        {
          "output_type": "stream",
          "name": "stdout",
          "text": [
            "weird Index Error\n",
            "fund-veles.ru []\n"
          ]
        },
        {
          "output_type": "stream",
          "name": "stderr",
          "text": [
            "\r 24%|██▍       | 2309/9545 [15:23<41:27,  2.91it/s]"
          ]
        },
        {
          "output_type": "stream",
          "name": "stdout",
          "text": [
            "weird Index Error\n",
            "profifuture.ru []\n"
          ]
        },
        {
          "output_type": "stream",
          "name": "stderr",
          "text": [
            " 24%|██▍       | 2311/9545 [15:23<43:56,  2.74it/s]"
          ]
        },
        {
          "output_type": "stream",
          "name": "stdout",
          "text": [
            "weird Index Error\n",
            "myvserasnye.ru []\n"
          ]
        },
        {
          "output_type": "stream",
          "name": "stderr",
          "text": [
            " 25%|██▌       | 2422/9545 [16:12<45:52,  2.59it/s]"
          ]
        },
        {
          "output_type": "stream",
          "name": "stdout",
          "text": [
            "weird Index Error\n",
            "vmestevpered.ru {'status': 'success', 'country': 'Russia', 'countryCode': 'RU', 'region': 'MOW', 'regionName': 'Moscow', 'city': 'Moscow', 'zip': '144700', 'lat': 55.7558, 'lon': 37.6173, 'timezone': 'Europe/Moscow', 'isp': 'InSys', 'org': 'iHead company', 'as': 'AS42358 PJSC Rostelecom', 'query': '46.255.97.135'}\n"
          ]
        },
        {
          "output_type": "stream",
          "name": "stderr",
          "text": [
            " 25%|██▌       | 2425/9545 [16:13<47:08,  2.52it/s]"
          ]
        },
        {
          "output_type": "stream",
          "name": "stdout",
          "text": [
            "weird Index Error\n",
            "murkosha.ru []\n"
          ]
        },
        {
          "output_type": "stream",
          "name": "stderr",
          "text": [
            " 25%|██▌       | 2428/9545 [16:14<46:59,  2.52it/s]"
          ]
        },
        {
          "output_type": "stream",
          "name": "stdout",
          "text": [
            "weird Index Error\n",
            "nkofestival.ru {'status': 'success', 'country': 'Russia', 'countryCode': 'RU', 'region': 'MOW', 'regionName': 'Moscow', 'city': 'Moscow', 'zip': '121087', 'lat': 55.7483, 'lon': 37.6171, 'timezone': 'Europe/Moscow', 'isp': 'Compubyte Limited', 'org': 'Compubyte Limited', 'as': 'AS204343 Compubyte Limited', 'query': '193.109.246.9'}\n"
          ]
        },
        {
          "output_type": "stream",
          "name": "stderr",
          "text": [
            " 25%|██▌       | 2430/9545 [16:15<45:52,  2.58it/s]"
          ]
        },
        {
          "output_type": "stream",
          "name": "stdout",
          "text": [
            "weird Index Error\n",
            "образованиеонлайн.рф {'status': 'success', 'country': 'Russia', 'countryCode': 'RU', 'region': 'MOW', 'regionName': 'Moscow', 'city': 'Moscow', 'zip': '143441', 'lat': 55.84, 'lon': 37.4069, 'timezone': 'Europe/Moscow', 'isp': '\"Domain names registrar REG.RU\", Ltd', 'org': 'Reg.Ru', 'as': 'AS197695 Domain names registrar REG.RU, Ltd', 'query': '31.31.198.219'}\n"
          ]
        },
        {
          "output_type": "stream",
          "name": "stderr",
          "text": [
            " 26%|██▌       | 2434/9545 [16:16<37:24,  3.17it/s]"
          ]
        },
        {
          "output_type": "stream",
          "name": "stdout",
          "text": [
            "weird Index Error\n",
            "sa-fond.ru []\n"
          ]
        },
        {
          "output_type": "stream",
          "name": "stderr",
          "text": [
            " 26%|██▌       | 2436/9545 [16:17<39:47,  2.98it/s]"
          ]
        },
        {
          "output_type": "stream",
          "name": "stdout",
          "text": [
            "weird Index Error\n",
            "aamos.ru {'status': 'success', 'country': 'Russia', 'countryCode': 'RU', 'region': 'KEM', 'regionName': 'Kemerovo Oblast', 'city': 'Mezhdurechensk', 'zip': '652870', 'lat': 53.6958, 'lon': 88.0648, 'timezone': 'Asia/Novokuznetsk', 'isp': 'Inteks Service Ltd', 'org': 'Inteks-Service', 'as': 'AS39860 Inteks Service Ltd.', 'query': '213.110.60.166'}\n"
          ]
        },
        {
          "output_type": "stream",
          "name": "stderr",
          "text": [
            "\r 26%|██▌       | 2437/9545 [16:17<37:56,  3.12it/s]"
          ]
        },
        {
          "output_type": "stream",
          "name": "stdout",
          "text": [
            "weird Index Error\n",
            "youngdesignspb.ru []\n"
          ]
        },
        {
          "output_type": "stream",
          "name": "stderr",
          "text": [
            " 26%|██▌       | 2443/9545 [16:20<43:04,  2.75it/s]"
          ]
        },
        {
          "output_type": "stream",
          "name": "stdout",
          "text": [
            "weird Index Error\n",
            "www.opencityekb.ru {'status': 'success', 'country': 'Russia', 'countryCode': 'RU', 'region': 'SPE', 'regionName': 'St.-Petersburg', 'city': 'St Petersburg', 'zip': '', 'lat': 59.9311, 'lon': 30.3609, 'timezone': 'Europe/Moscow', 'isp': 'OOO \"Network of data-centers \"Selectel\"', 'org': '', 'as': 'AS49505 OOO Network of data-centers Selectel', 'query': '89.248.193.151'}\n"
          ]
        },
        {
          "output_type": "stream",
          "name": "stderr",
          "text": [
            "\r 26%|██▌       | 2444/9545 [16:20<43:04,  2.75it/s]"
          ]
        },
        {
          "output_type": "stream",
          "name": "stdout",
          "text": [
            "weird Index Error\n",
            "людиарктики.рф []\n"
          ]
        },
        {
          "output_type": "stream",
          "name": "stderr",
          "text": [
            " 26%|██▌       | 2446/9545 [16:21<38:41,  3.06it/s]"
          ]
        },
        {
          "output_type": "stream",
          "name": "stdout",
          "text": [
            "weird Index Error\n",
            "ftim.ru []\n"
          ]
        },
        {
          "output_type": "stream",
          "name": "stderr",
          "text": [
            " 26%|██▌       | 2450/9545 [16:22<41:41,  2.84it/s]"
          ]
        },
        {
          "output_type": "stream",
          "name": "stdout",
          "text": [
            "weird Index Error\n",
            "ano-orientir.ru {'status': 'success', 'country': 'Russia', 'countryCode': 'RU', 'region': 'MOW', 'regionName': 'Moscow', 'city': 'Moscow', 'zip': '144700', 'lat': 55.7558, 'lon': 37.6173, 'timezone': 'Europe/Moscow', 'isp': 'Variti LLC', 'org': 'Tilda', 'as': 'AS64432 Variti LLC', 'query': '185.165.123.36'}\n"
          ]
        },
        {
          "output_type": "stream",
          "name": "stderr",
          "text": [
            "\r 26%|██▌       | 2451/9545 [16:22<40:27,  2.92it/s]"
          ]
        },
        {
          "output_type": "stream",
          "name": "stdout",
          "text": [
            "weird Index Error\n",
            "50gkhecokontrol.ru []\n"
          ]
        },
        {
          "output_type": "stream",
          "name": "stderr",
          "text": [
            " 26%|██▌       | 2453/9545 [16:23<38:38,  3.06it/s]"
          ]
        },
        {
          "output_type": "stream",
          "name": "stdout",
          "text": [
            "weird Index Error\n",
            "whitegeneral.ru []\n"
          ]
        },
        {
          "output_type": "stream",
          "name": "stderr",
          "text": [
            "\r 26%|██▌       | 2454/9545 [16:23<40:49,  2.89it/s]"
          ]
        },
        {
          "output_type": "stream",
          "name": "stdout",
          "text": [
            "weird Index Error\n",
            "opora-help.ru []\n"
          ]
        },
        {
          "output_type": "stream",
          "name": "stderr",
          "text": [
            "\r 26%|██▌       | 2455/9545 [16:24<39:03,  3.03it/s]"
          ]
        },
        {
          "output_type": "stream",
          "name": "stdout",
          "text": [
            "weird Index Error\n",
            "opora-news.ru []\n"
          ]
        },
        {
          "output_type": "stream",
          "name": "stderr",
          "text": [
            "\r 26%|██▌       | 2456/9545 [16:24<39:57,  2.96it/s]"
          ]
        },
        {
          "output_type": "stream",
          "name": "stdout",
          "text": [
            "weird Index Error\n",
            "angelvery.ru []\n"
          ]
        },
        {
          "output_type": "stream",
          "name": "stderr",
          "text": [
            "\r 26%|██▌       | 2457/9545 [16:24<40:43,  2.90it/s]"
          ]
        },
        {
          "output_type": "stream",
          "name": "stdout",
          "text": [
            "weird Index Error\n",
            "aap-pro.ru []\n"
          ]
        },
        {
          "output_type": "stream",
          "name": "stderr",
          "text": [
            " 27%|██▋       | 2585/9545 [17:15<40:26,  2.87it/s]"
          ]
        },
        {
          "output_type": "stream",
          "name": "stdout",
          "text": [
            "weird Index Error\n",
            "ark-in.ru {'status': 'success', 'country': 'Russia', 'countryCode': 'RU', 'region': 'SPE', 'regionName': 'St.-Petersburg', 'city': 'St Petersburg', 'zip': '190805', 'lat': 59.9417, 'lon': 30.3096, 'timezone': 'Europe/Moscow', 'isp': 'TimeWeb Ltd.', 'org': 'TimeWeb Ltd', 'as': 'AS9123 TimeWeb Ltd.', 'query': '185.114.245.109'}\n"
          ]
        },
        {
          "output_type": "stream",
          "name": "stderr",
          "text": [
            " 27%|██▋       | 2587/9545 [17:16<47:37,  2.43it/s]"
          ]
        },
        {
          "output_type": "stream",
          "name": "stdout",
          "text": [
            "weird Index Error\n",
            "helpsocial.ru []\n"
          ]
        },
        {
          "output_type": "stream",
          "name": "stderr",
          "text": [
            "\r 27%|██▋       | 2588/9545 [17:16<51:25,  2.25it/s]"
          ]
        },
        {
          "output_type": "stream",
          "name": "stdout",
          "text": [
            "weird Index Error\n",
            "krsk2019.ru []\n"
          ]
        },
        {
          "output_type": "stream",
          "name": "stderr",
          "text": [
            "\r 27%|██▋       | 2589/9545 [17:17<49:18,  2.35it/s]"
          ]
        },
        {
          "output_type": "stream",
          "name": "stdout",
          "text": [
            "weird Index Error\n",
            "shkolapavlenko.ru []\n"
          ]
        },
        {
          "output_type": "stream",
          "name": "stderr",
          "text": [
            " 27%|██▋       | 2592/9545 [17:18<41:23,  2.80it/s]"
          ]
        },
        {
          "output_type": "stream",
          "name": "stdout",
          "text": [
            "weird Index Error\n",
            "nocrb.ru {'status': 'success', 'country': 'Russia', 'countryCode': 'RU', 'region': 'MOW', 'regionName': 'Moscow', 'city': 'Moscow', 'zip': '142770', 'lat': 55.5913, 'lon': 37.5395, 'timezone': 'Europe/Moscow', 'isp': 'Okay-Telecom Ltd.', 'org': 'Okay telecom Voxility', 'as': 'AS199669 Okay-Telecom Ltd.', 'query': '185.10.44.2'}\n"
          ]
        },
        {
          "output_type": "stream",
          "name": "stderr",
          "text": [
            " 27%|██▋       | 2595/9545 [17:19<32:34,  3.56it/s]"
          ]
        },
        {
          "output_type": "stream",
          "name": "stdout",
          "text": [
            "weird Index Error\n",
            "человекнапротив.рф []\n"
          ]
        },
        {
          "output_type": "stream",
          "name": "stderr",
          "text": [
            "\r 27%|██▋       | 2596/9545 [17:19<35:49,  3.23it/s]"
          ]
        },
        {
          "output_type": "stream",
          "name": "stdout",
          "text": [
            "weird Index Error\n",
            "planetary-spb.ru []\n"
          ]
        },
        {
          "output_type": "stream",
          "name": "stderr",
          "text": [
            "\r 27%|██▋       | 2597/9545 [17:19<37:23,  3.10it/s]"
          ]
        },
        {
          "output_type": "stream",
          "name": "stdout",
          "text": [
            "weird Index Error\n",
            "ocimt.ru []\n"
          ]
        },
        {
          "output_type": "stream",
          "name": "stderr",
          "text": [
            " 27%|██▋       | 2600/9545 [17:21<1:03:21,  1.83it/s]"
          ]
        },
        {
          "output_type": "stream",
          "name": "stdout",
          "text": [
            "weird Index Error\n",
            "музейвоин.рф []\n"
          ]
        },
        {
          "output_type": "stream",
          "name": "stderr",
          "text": [
            "\r 27%|██▋       | 2601/9545 [17:22<57:02,  2.03it/s]  "
          ]
        },
        {
          "output_type": "stream",
          "name": "stdout",
          "text": [
            "weird Index Error\n",
            "центрфинансирования.рф []\n"
          ]
        },
        {
          "output_type": "stream",
          "name": "stderr",
          "text": [
            "\r 27%|██▋       | 2602/9545 [17:22<45:38,  2.54it/s]"
          ]
        },
        {
          "output_type": "stream",
          "name": "stdout",
          "text": [
            "weird Index Error\n",
            "spbsacad.ru []\n"
          ]
        },
        {
          "output_type": "stream",
          "name": "stderr",
          "text": [
            " 27%|██▋       | 2604/9545 [17:23<45:29,  2.54it/s]"
          ]
        },
        {
          "output_type": "stream",
          "name": "stdout",
          "text": [
            "weird Index Error\n",
            "vremya-dobryh.ru []\n"
          ]
        },
        {
          "output_type": "stream",
          "name": "stderr",
          "text": [
            "\r 27%|██▋       | 2605/9545 [17:23<41:48,  2.77it/s]"
          ]
        },
        {
          "output_type": "stream",
          "name": "stdout",
          "text": [
            "weird Index Error\n",
            "blagosfera7ya.ru []\n"
          ]
        },
        {
          "output_type": "stream",
          "name": "stderr",
          "text": [
            "\r 27%|██▋       | 2606/9545 [17:23<42:48,  2.70it/s]"
          ]
        },
        {
          "output_type": "stream",
          "name": "stdout",
          "text": [
            "weird Index Error\n",
            "dva-kryla.ru []\n"
          ]
        },
        {
          "output_type": "stream",
          "name": "stderr",
          "text": [
            "\r 27%|██▋       | 2607/9545 [17:24<42:30,  2.72it/s]"
          ]
        },
        {
          "output_type": "stream",
          "name": "stdout",
          "text": [
            "weird Index Error\n",
            "godnauki.ru []\n"
          ]
        },
        {
          "output_type": "stream",
          "name": "stderr",
          "text": [
            "\r 27%|██▋       | 2608/9545 [17:24<43:04,  2.68it/s]"
          ]
        },
        {
          "output_type": "stream",
          "name": "stdout",
          "text": [
            "weird Index Error\n",
            "nationalpriority.ru []\n"
          ]
        },
        {
          "output_type": "stream",
          "name": "stderr",
          "text": [
            "\r 27%|██▋       | 2609/9545 [17:24<40:14,  2.87it/s]"
          ]
        },
        {
          "output_type": "stream",
          "name": "stdout",
          "text": [
            "weird Index Error\n",
            "nationalprojects.ru []\n"
          ]
        },
        {
          "output_type": "stream",
          "name": "stderr",
          "text": [
            " 27%|██▋       | 2613/9545 [17:25<36:35,  3.16it/s]"
          ]
        },
        {
          "output_type": "stream",
          "name": "stdout",
          "text": [
            "weird Index Error\n",
            "tyvigre.ru []\n"
          ]
        },
        {
          "output_type": "stream",
          "name": "stderr",
          "text": [
            " 27%|██▋       | 2615/9545 [17:26<41:41,  2.77it/s]"
          ]
        },
        {
          "output_type": "stream",
          "name": "stdout",
          "text": [
            "weird Index Error\n",
            "годнауки.рф {'status': 'success', 'country': 'Russia', 'countryCode': 'RU', 'region': 'MOW', 'regionName': 'Moscow', 'city': 'Moscow', 'zip': '144700', 'lat': 55.7558, 'lon': 37.6173, 'timezone': 'Europe/Moscow', 'isp': 'LLC VK', 'org': 'VK Cloud Solutions', 'as': 'AS47764 LLC VK', 'query': '87.239.107.107'}\n"
          ]
        },
        {
          "output_type": "stream",
          "name": "stderr",
          "text": [
            " 29%|██▊       | 2730/9545 [18:09<48:00,  2.37it/s]"
          ]
        },
        {
          "output_type": "stream",
          "name": "stdout",
          "text": [
            "weird Index Error\n",
            "спбну.рф {'status': 'success', 'country': 'Russia', 'countryCode': 'RU', 'region': 'SPE', 'regionName': 'St.-Petersburg', 'city': 'St Petersburg', 'zip': '190005', 'lat': 59.8889, 'lon': 30.3296, 'timezone': 'Europe/Moscow', 'isp': 'TimeWeb Ltd.', 'org': 'TimeWeb Ltd', 'as': 'AS9123 TimeWeb Ltd.', 'query': '109.68.214.217'}\n"
          ]
        },
        {
          "output_type": "stream",
          "name": "stderr",
          "text": [
            " 29%|██▊       | 2733/9545 [18:10<41:31,  2.73it/s]"
          ]
        },
        {
          "output_type": "stream",
          "name": "stdout",
          "text": [
            "weird Index Error\n",
            "vertigo-project.ru {'status': 'success', 'country': 'Russia', 'countryCode': 'RU', 'region': 'MOW', 'regionName': 'Moscow', 'city': 'Moscow', 'zip': '', 'lat': 55.7215, 'lon': 37.6968, 'timezone': 'Europe/Moscow', 'isp': 'Ddos-guard LTD', 'org': 'Tilda Publishing LLC', 'as': 'AS57724 DDOS-GUARD LTD', 'query': '185.215.4.16'}\n"
          ]
        },
        {
          "output_type": "stream",
          "name": "stderr",
          "text": [
            "\r 29%|██▊       | 2734/9545 [18:10<38:48,  2.93it/s]"
          ]
        },
        {
          "output_type": "stream",
          "name": "stdout",
          "text": [
            "weird Index Error\n",
            "delaydobro55.ru []\n"
          ]
        },
        {
          "output_type": "stream",
          "name": "stderr",
          "text": [
            "\r 29%|██▊       | 2735/9545 [18:11<39:01,  2.91it/s]"
          ]
        },
        {
          "output_type": "stream",
          "name": "stdout",
          "text": [
            "weird Index Error\n",
            "papa-perm.ru []\n"
          ]
        },
        {
          "output_type": "stream",
          "name": "stderr",
          "text": [
            " 29%|██▊       | 2739/9545 [18:12<36:39,  3.09it/s]"
          ]
        },
        {
          "output_type": "stream",
          "name": "stdout",
          "text": [
            "weird Index Error\n",
            "sds-shkola.ru {'status': 'success', 'country': 'Russia', 'countryCode': 'RU', 'region': 'MOW', 'regionName': 'Moscow', 'city': 'Moscow', 'zip': '125412', 'lat': 55.7483, 'lon': 37.6171, 'timezone': 'Europe/Moscow', 'isp': 'G-Core Labs S.A.', 'org': 'G-Core Labs S.A', 'as': 'AS199524 G-Core Labs S.A.', 'query': '83.229.25.22'}\n"
          ]
        },
        {
          "output_type": "stream",
          "name": "stderr",
          "text": [
            " 29%|██▊       | 2741/9545 [18:13<39:28,  2.87it/s]"
          ]
        },
        {
          "output_type": "stream",
          "name": "stdout",
          "text": [
            "weird Index Error\n",
            "baltachlar.ru {'status': 'success', 'country': 'Russia', 'countryCode': 'RU', 'region': 'SPE', 'regionName': 'St.-Petersburg', 'city': 'St Petersburg', 'zip': '190805', 'lat': 59.9417, 'lon': 30.3096, 'timezone': 'Europe/Moscow', 'isp': 'TimeWeb Ltd.', 'org': 'TimeWeb Ltd', 'as': 'AS9123 TimeWeb Ltd.', 'query': '185.114.245.100'}\n"
          ]
        },
        {
          "output_type": "stream",
          "name": "stderr",
          "text": [
            " 29%|██▊       | 2743/9545 [18:13<40:02,  2.83it/s]"
          ]
        },
        {
          "output_type": "stream",
          "name": "stdout",
          "text": [
            "weird Index Error\n",
            "mosmed-support.ru {'status': 'success', 'country': 'Russia', 'countryCode': 'RU', 'region': 'MOW', 'regionName': 'Moscow', 'city': 'Moscow', 'zip': '144700', 'lat': 55.7558, 'lon': 37.6173, 'timezone': 'Europe/Moscow', 'isp': 'Reg.Ru', 'org': '', 'as': 'AS197695 Domain names registrar REG.RU, Ltd', 'query': '37.140.192.63'}\n"
          ]
        },
        {
          "output_type": "stream",
          "name": "stderr",
          "text": [
            " 29%|██▉       | 2749/9545 [18:16<41:28,  2.73it/s]"
          ]
        },
        {
          "output_type": "stream",
          "name": "stdout",
          "text": [
            "weird Index Error\n",
            "neirodety.ru {'status': 'success', 'country': 'Russia', 'countryCode': 'RU', 'region': 'MOW', 'regionName': 'Moscow', 'city': 'Moscow', 'zip': '143441', 'lat': 55.8338, 'lon': 37.4025, 'timezone': 'Europe/Moscow', 'isp': '\"Domain names registrar REG.RU\", Ltd', 'org': 'Reg.Ru', 'as': 'AS197695 Domain names registrar REG.RU, Ltd', 'query': '31.31.196.170'}\n"
          ]
        },
        {
          "output_type": "stream",
          "name": "stderr",
          "text": [
            " 29%|██▉       | 2755/9545 [18:18<34:10,  3.31it/s]"
          ]
        },
        {
          "output_type": "stream",
          "name": "stdout",
          "text": [
            "weird Index Error\n",
            "dogchance.tilda.ws {'status': 'success', 'country': 'Russia', 'countryCode': 'RU', 'region': 'SPE', 'regionName': 'St.-Petersburg', 'city': 'St Petersburg', 'zip': '190005', 'lat': 59.8886, 'lon': 30.3287, 'timezone': 'Europe/Moscow', 'isp': 'TimeWeb Co. LTD', 'org': 'TimeWeb Ltd.', 'as': 'AS9123 TimeWeb Ltd.', 'query': '176.57.210.144'}\n"
          ]
        },
        {
          "output_type": "stream",
          "name": "stderr",
          "text": [
            "\r 29%|██▉       | 2756/9545 [18:18<40:08,  2.82it/s]"
          ]
        },
        {
          "output_type": "stream",
          "name": "stdout",
          "text": [
            "weird Index Error\n",
            "infradet.ru []\n"
          ]
        },
        {
          "output_type": "stream",
          "name": "stderr",
          "text": [
            " 29%|██▉       | 2758/9545 [18:19<36:39,  3.09it/s]"
          ]
        },
        {
          "output_type": "stream",
          "name": "stdout",
          "text": [
            "weird Index Error\n",
            "diritc.ru []\n"
          ]
        },
        {
          "output_type": "stream",
          "name": "stderr",
          "text": [
            "\r 29%|██▉       | 2759/9545 [18:19<38:33,  2.93it/s]"
          ]
        },
        {
          "output_type": "stream",
          "name": "stdout",
          "text": [
            "weird Index Error\n",
            "дмтк.рф []\n"
          ]
        },
        {
          "output_type": "stream",
          "name": "stderr",
          "text": [
            "\r 29%|██▉       | 2760/9545 [18:20<41:28,  2.73it/s]"
          ]
        },
        {
          "output_type": "stream",
          "name": "stdout",
          "text": [
            "weird Index Error\n",
            "acro-dance.ru []\n"
          ]
        },
        {
          "output_type": "stream",
          "name": "stderr",
          "text": [
            " 29%|██▉       | 2762/9545 [18:20<38:33,  2.93it/s]"
          ]
        },
        {
          "output_type": "stream",
          "name": "stdout",
          "text": [
            "weird Index Error\n",
            "preobrazhenskyil.ru {'status': 'success', 'country': 'Russia', 'countryCode': 'RU', 'region': 'SPE', 'regionName': 'St.-Petersburg', 'city': 'St Petersburg', 'zip': '192241', 'lat': 59.9394, 'lon': 30.2283, 'timezone': 'Europe/Moscow', 'isp': 'BEGET.RU', 'org': 'Beget Ltd', 'as': 'AS198610 Beget LLC', 'query': '87.236.16.19'}\n"
          ]
        },
        {
          "output_type": "stream",
          "name": "stderr",
          "text": [
            "\r 29%|██▉       | 2763/9545 [18:22<1:11:36,  1.58it/s]"
          ]
        },
        {
          "output_type": "stream",
          "name": "stdout",
          "text": [
            "weird Index Error\n",
            "юнонапраздник.рф []\n"
          ]
        },
        {
          "output_type": "stream",
          "name": "stderr",
          "text": [
            " 29%|██▉       | 2768/9545 [18:23<46:56,  2.41it/s]"
          ]
        },
        {
          "output_type": "stream",
          "name": "stdout",
          "text": [
            "weird Index Error\n",
            "анодполидер.рф {'status': 'success', 'country': 'Russia', 'countryCode': 'RU', 'region': 'MOW', 'regionName': 'Moscow', 'city': 'Moscow', 'zip': '144700', 'lat': 55.7558, 'lon': 37.6173, 'timezone': 'Europe/Moscow', 'isp': 'Ddos-guard LTD', 'org': 'TildaPublishing', 'as': 'AS57724 DDOS-GUARD LTD', 'query': '185.129.100.112'}\n"
          ]
        },
        {
          "output_type": "stream",
          "name": "stderr",
          "text": [
            " 29%|██▉       | 2770/9545 [18:24<45:41,  2.47it/s]"
          ]
        },
        {
          "output_type": "stream",
          "name": "stdout",
          "text": [
            "weird Index Error\n",
            "fond214ur.ru {'status': 'success', 'country': 'Russia', 'countryCode': 'RU', 'region': 'MOS', 'regionName': 'Moscow Oblast', 'city': 'Skolkovo', 'zip': '143025', 'lat': 55.6916, 'lon': 37.3474, 'timezone': 'Europe/Moscow', 'isp': 'JSC IOT', 'org': 'JSC IOT', 'as': 'AS29182 JSC IOT', 'query': '79.143.72.235'}\n"
          ]
        },
        {
          "output_type": "stream",
          "name": "stderr",
          "text": [
            " 29%|██▉       | 2773/9545 [18:25<43:07,  2.62it/s]"
          ]
        },
        {
          "output_type": "stream",
          "name": "stdout",
          "text": [
            "weird Index Error\n",
            "art-teach.ru {'status': 'success', 'country': 'Russia', 'countryCode': 'RU', 'region': 'MOW', 'regionName': 'Moscow', 'city': 'Moscow', 'zip': '144700', 'lat': 55.7558, 'lon': 37.6173, 'timezone': 'Europe/Moscow', 'isp': 'Reg.Ru', 'org': '', 'as': 'AS197695 Domain names registrar REG.RU, Ltd', 'query': '37.140.192.24'}\n"
          ]
        },
        {
          "output_type": "stream",
          "name": "stderr",
          "text": [
            " 29%|██▉       | 2776/9545 [18:26<36:50,  3.06it/s]"
          ]
        },
        {
          "output_type": "stream",
          "name": "stdout",
          "text": [
            "weird Index Error\n",
            "informpskov.ru []\n"
          ]
        },
        {
          "output_type": "stream",
          "name": "stderr",
          "text": [
            " 30%|███       | 2908/9545 [19:23<38:44,  2.86it/s]"
          ]
        },
        {
          "output_type": "stream",
          "name": "stdout",
          "text": [
            "weird Index Error\n",
            "vorotavsport.ru {'status': 'success', 'country': 'Russia', 'countryCode': 'RU', 'region': 'SPE', 'regionName': 'St.-Petersburg', 'city': 'St Petersburg', 'zip': '190005', 'lat': 59.8889, 'lon': 30.3296, 'timezone': 'Europe/Moscow', 'isp': 'TimeWeb Co. LTD', 'org': '', 'as': 'AS9123 TimeWeb Ltd.', 'query': '92.53.96.4'}\n"
          ]
        },
        {
          "output_type": "stream",
          "name": "stderr",
          "text": [
            " 31%|███       | 2913/9545 [19:25<37:11,  2.97it/s]"
          ]
        },
        {
          "output_type": "stream",
          "name": "stdout",
          "text": [
            "weird Index Error\n",
            "цпв-гвардия.рф {'status': 'success', 'country': 'Russia', 'countryCode': 'RU', 'region': 'MOW', 'regionName': 'Moscow', 'city': 'Moscow', 'zip': '144700', 'lat': 55.7558, 'lon': 37.6173, 'timezone': 'Europe/Moscow', 'isp': 'OOO \"Network of data-centers \"Selectel\"', 'org': 'Selectel', 'as': 'AS49505 OOO Network of data-centers Selectel', 'query': '185.137.235.2'}\n"
          ]
        },
        {
          "output_type": "stream",
          "name": "stderr",
          "text": [
            "\r 31%|███       | 2914/9545 [19:25<35:38,  3.10it/s]"
          ]
        },
        {
          "output_type": "stream",
          "name": "stdout",
          "text": [
            "weird Index Error\n",
            "anorsi.ru []\n"
          ]
        },
        {
          "output_type": "stream",
          "name": "stderr",
          "text": [
            " 31%|███       | 2917/9545 [19:26<31:49,  3.47it/s]"
          ]
        },
        {
          "output_type": "stream",
          "name": "stdout",
          "text": [
            "weird Index Error\n",
            "academiasport76.ru {'status': 'success', 'country': 'Russia', 'countryCode': 'RU', 'region': 'MOW', 'regionName': 'Moscow', 'city': 'Moscow', 'zip': '144700', 'lat': 55.7558, 'lon': 37.6173, 'timezone': 'Europe/Moscow', 'isp': 'Reg.Ru', 'org': '', 'as': 'AS197695 Domain names registrar REG.RU, Ltd', 'query': '37.140.192.209'}\n"
          ]
        },
        {
          "output_type": "stream",
          "name": "stderr",
          "text": [
            "\r 31%|███       | 2918/9545 [19:27<37:41,  2.93it/s]"
          ]
        },
        {
          "output_type": "stream",
          "name": "stdout",
          "text": [
            "weird Index Error\n",
            "agroturizm54.ru []\n"
          ]
        },
        {
          "output_type": "stream",
          "name": "stderr",
          "text": [
            "\r 31%|███       | 2919/9545 [19:27<39:11,  2.82it/s]"
          ]
        },
        {
          "output_type": "stream",
          "name": "stdout",
          "text": [
            "weird Index Error\n",
            "ipipm.ru []\n"
          ]
        },
        {
          "output_type": "stream",
          "name": "stderr",
          "text": [
            " 31%|███       | 2921/9545 [19:28<37:48,  2.92it/s]"
          ]
        },
        {
          "output_type": "stream",
          "name": "stdout",
          "text": [
            "weird Index Error\n",
            "createdu.ru []\n"
          ]
        },
        {
          "output_type": "stream",
          "name": "stderr",
          "text": [
            " 31%|███       | 2923/9545 [19:29<52:08,  2.12it/s]  "
          ]
        },
        {
          "output_type": "stream",
          "name": "stdout",
          "text": [
            "weird Index Error\n",
            "бфн.рф []\n"
          ]
        },
        {
          "output_type": "stream",
          "name": "stderr",
          "text": [
            "\r 31%|███       | 2924/9545 [19:29<49:18,  2.24it/s]"
          ]
        },
        {
          "output_type": "stream",
          "name": "stdout",
          "text": [
            "weird Index Error\n",
            "rck51.ru []\n"
          ]
        },
        {
          "output_type": "stream",
          "name": "stderr",
          "text": [
            " 31%|███       | 2942/9545 [19:38<44:04,  2.50it/s]\n"
          ]
        }
      ]
    },
    {
      "cell_type": "code",
      "source": [
        "# check\n",
        "len(countries), len(hostnames), len(isps)"
      ],
      "metadata": {
        "colab": {
          "base_uri": "https://localhost:8080/"
        },
        "id": "DzkPeTxSA46y",
        "outputId": "b3697c33-3c09-4515-e12a-565c8ea11096"
      },
      "execution_count": null,
      "outputs": [
        {
          "output_type": "execute_result",
          "data": {
            "text/plain": [
              "(2942, 2942, 2942)"
            ]
          },
          "metadata": {},
          "execution_count": 39
        }
      ]
    },
    {
      "cell_type": "code",
      "source": [
        "# for the first 2566\n",
        "# concat_ngos['website_country'] = countries + [None] * (len(concat_ngos) - 2566)\n",
        "# concat_ngos['website_hostname'] = hostnames + [None] * (len(concat_ngos) - 2566)\n",
        "# concat_ngos['website_isp'] = isps[:-1] + [None] * (len(concat_ngos) - 2566)"
      ],
      "metadata": {
        "id": "7xdVUr2jjlUF"
      },
      "execution_count": null,
      "outputs": []
    },
    {
      "cell_type": "code",
      "source": [
        "for i in range(len(hostnames)):\n",
        "  concat_ngos.at[i+6603, 'website_country'] = countries[i]\n",
        "  concat_ngos.at[i+6603, 'website_hostname'] = hostnames[i]\n",
        "  concat_ngos.at[i+6603, 'website_isp'] = isps[i]"
      ],
      "metadata": {
        "id": "TSUleT-v8qDI"
      },
      "execution_count": null,
      "outputs": []
    },
    {
      "cell_type": "code",
      "source": [
        "2566+4037"
      ],
      "metadata": {
        "colab": {
          "base_uri": "https://localhost:8080/"
        },
        "id": "_zSc3tTMCI-j",
        "outputId": "05fe3bdb-f890-481b-c8b1-ceaab2005dc1"
      },
      "execution_count": null,
      "outputs": [
        {
          "output_type": "execute_result",
          "data": {
            "text/plain": [
              "6603"
            ]
          },
          "metadata": {},
          "execution_count": 35
        }
      ]
    },
    {
      "cell_type": "code",
      "source": [
        "concat_ngos.iloc[9540:]"
      ],
      "metadata": {
        "colab": {
          "base_uri": "https://localhost:8080/",
          "height": 542
        },
        "id": "YwMvGMva7OE6",
        "outputId": "595806d1-0ff4-47f0-9585-ae22ff59e4f6"
      },
      "execution_count": null,
      "outputs": [
        {
          "output_type": "execute_result",
          "data": {
            "text/plain": [
              "               ogrn          website  bin_robots  bin_sitemap  bin_fb  bin_vk  \\\n",
              "9540  1217700385539    ngolikeyou.ru         1.0          1.0     1.0     1.0   \n",
              "9541  1214600009524         kcmol.ru         1.0          0.0     0.0     1.0   \n",
              "9542  1217700396330       gorneks.ru         1.0          1.0     0.0     0.0   \n",
              "9543  1213300006920   ano-nachalo.ru         1.0          0.0     0.0     0.0   \n",
              "9544  1212300052249  blagfond-zzh.ru         0.0          1.0     0.0     0.0   \n",
              "\n",
              "      bin_ig  bin_ok  bin_youtube  bin_tiktok  ...  \\\n",
              "9540     1.0     0.0          1.0         0.0  ...   \n",
              "9541     1.0     0.0          0.0         0.0  ...   \n",
              "9542     0.0     0.0          0.0         0.0  ...   \n",
              "9543     0.0     0.0          0.0         0.0  ...   \n",
              "9544     0.0     0.0          0.0         0.0  ...   \n",
              "\n",
              "                                              shortName     regDate  \\\n",
              "9540  АНО ЦЕНТР СИСТЕМНОЙ ПОДДЕРЖКИ ДЛЯ ЛЮДЕЙ С ПСИХ...  2021-08-18   \n",
              "9541                                          АНО «КЦМ»  2021-08-24   \n",
              "9542                                      АНО \"ГОРНЭКС\"  2021-08-24   \n",
              "9543  АНО \"ЦЕНТР ЭКОЛОГИЧЕСКИХ И СОЦИАЛЬНЫХ ИНИЦИАТИ...  2021-08-25   \n",
              "9544             БЛАГОТВОРИТЕЛЬНЫЙ ФОНД \"ЗДРАВИЯ ЖЕЛАЮ\"  2021-09-08   \n",
              "\n",
              "                                              mainOkved  \\\n",
              "9540  Предоставление прочих социальных услуг без обе...   \n",
              "9541  Деятельность по организации конференций и выст...   \n",
              "9542                   Судебно-экспертная деятельность}   \n",
              "9543                            Сбор неопасных отходов}   \n",
              "9544  Предоставление прочих финансовых услуг, кроме ...   \n",
              "\n",
              "                                opfCombined  \\\n",
              "9540  Автономные некоммерческие организации   \n",
              "9541  Автономные некоммерческие организации   \n",
              "9542  Автономные некоммерческие организации   \n",
              "9543  Автономные некоммерческие организации   \n",
              "9544                Благотворительные фонды   \n",
              "\n",
              "                                          okvedCombined  vedSimple  \\\n",
              "9540              Автономные некоммерческие организации        АНО   \n",
              "9541  Деятельность по организации конференций и выст...        NaN   \n",
              "9542                    Судебно-экспертная деятельность        NaN   \n",
              "9543                             Сбор неопасных отходов        NaN   \n",
              "9544  Предоставление прочих финансовых услуг, кроме ...    Финансы   \n",
              "\n",
              "      websiteCreationDate  website_country      website_hostname  \\\n",
              "9540  2021-08-17 15:54:57   United Kingdom                  None   \n",
              "9541   2021-09-28 7:05:18           Russia         vh290.sweb.ru   \n",
              "9542  2021-09-02 13:05:33           Russia                  None   \n",
              "9543  2021-09-27 11:38:03           Russia        parking.reg.ru   \n",
              "9544  2021-09-20 11:42:29           Russia  wcarp.hosting.nic.ru   \n",
              "\n",
              "          website_isp  \n",
              "9540             None  \n",
              "9541             None  \n",
              "9542   Ddos-guard LTD  \n",
              "9543             None  \n",
              "9544  JSC \"RU-CENTER\"  \n",
              "\n",
              "[5 rows x 30 columns]"
            ],
            "text/html": [
              "\n",
              "  <div id=\"df-e72712a7-bf0b-41a6-b728-18284cf16890\">\n",
              "    <div class=\"colab-df-container\">\n",
              "      <div>\n",
              "<style scoped>\n",
              "    .dataframe tbody tr th:only-of-type {\n",
              "        vertical-align: middle;\n",
              "    }\n",
              "\n",
              "    .dataframe tbody tr th {\n",
              "        vertical-align: top;\n",
              "    }\n",
              "\n",
              "    .dataframe thead th {\n",
              "        text-align: right;\n",
              "    }\n",
              "</style>\n",
              "<table border=\"1\" class=\"dataframe\">\n",
              "  <thead>\n",
              "    <tr style=\"text-align: right;\">\n",
              "      <th></th>\n",
              "      <th>ogrn</th>\n",
              "      <th>website</th>\n",
              "      <th>bin_robots</th>\n",
              "      <th>bin_sitemap</th>\n",
              "      <th>bin_fb</th>\n",
              "      <th>bin_vk</th>\n",
              "      <th>bin_ig</th>\n",
              "      <th>bin_ok</th>\n",
              "      <th>bin_youtube</th>\n",
              "      <th>bin_tiktok</th>\n",
              "      <th>...</th>\n",
              "      <th>shortName</th>\n",
              "      <th>regDate</th>\n",
              "      <th>mainOkved</th>\n",
              "      <th>opfCombined</th>\n",
              "      <th>okvedCombined</th>\n",
              "      <th>vedSimple</th>\n",
              "      <th>websiteCreationDate</th>\n",
              "      <th>website_country</th>\n",
              "      <th>website_hostname</th>\n",
              "      <th>website_isp</th>\n",
              "    </tr>\n",
              "  </thead>\n",
              "  <tbody>\n",
              "    <tr>\n",
              "      <th>9540</th>\n",
              "      <td>1217700385539</td>\n",
              "      <td>ngolikeyou.ru</td>\n",
              "      <td>1.0</td>\n",
              "      <td>1.0</td>\n",
              "      <td>1.0</td>\n",
              "      <td>1.0</td>\n",
              "      <td>1.0</td>\n",
              "      <td>0.0</td>\n",
              "      <td>1.0</td>\n",
              "      <td>0.0</td>\n",
              "      <td>...</td>\n",
              "      <td>АНО ЦЕНТР СИСТЕМНОЙ ПОДДЕРЖКИ ДЛЯ ЛЮДЕЙ С ПСИХ...</td>\n",
              "      <td>2021-08-18</td>\n",
              "      <td>Предоставление прочих социальных услуг без обе...</td>\n",
              "      <td>Автономные некоммерческие организации</td>\n",
              "      <td>Автономные некоммерческие организации</td>\n",
              "      <td>АНО</td>\n",
              "      <td>2021-08-17 15:54:57</td>\n",
              "      <td>United Kingdom</td>\n",
              "      <td>None</td>\n",
              "      <td>None</td>\n",
              "    </tr>\n",
              "    <tr>\n",
              "      <th>9541</th>\n",
              "      <td>1214600009524</td>\n",
              "      <td>kcmol.ru</td>\n",
              "      <td>1.0</td>\n",
              "      <td>0.0</td>\n",
              "      <td>0.0</td>\n",
              "      <td>1.0</td>\n",
              "      <td>1.0</td>\n",
              "      <td>0.0</td>\n",
              "      <td>0.0</td>\n",
              "      <td>0.0</td>\n",
              "      <td>...</td>\n",
              "      <td>АНО «КЦМ»</td>\n",
              "      <td>2021-08-24</td>\n",
              "      <td>Деятельность по организации конференций и выст...</td>\n",
              "      <td>Автономные некоммерческие организации</td>\n",
              "      <td>Деятельность по организации конференций и выст...</td>\n",
              "      <td>NaN</td>\n",
              "      <td>2021-09-28 7:05:18</td>\n",
              "      <td>Russia</td>\n",
              "      <td>vh290.sweb.ru</td>\n",
              "      <td>None</td>\n",
              "    </tr>\n",
              "    <tr>\n",
              "      <th>9542</th>\n",
              "      <td>1217700396330</td>\n",
              "      <td>gorneks.ru</td>\n",
              "      <td>1.0</td>\n",
              "      <td>1.0</td>\n",
              "      <td>0.0</td>\n",
              "      <td>0.0</td>\n",
              "      <td>0.0</td>\n",
              "      <td>0.0</td>\n",
              "      <td>0.0</td>\n",
              "      <td>0.0</td>\n",
              "      <td>...</td>\n",
              "      <td>АНО \"ГОРНЭКС\"</td>\n",
              "      <td>2021-08-24</td>\n",
              "      <td>Судебно-экспертная деятельность}</td>\n",
              "      <td>Автономные некоммерческие организации</td>\n",
              "      <td>Судебно-экспертная деятельность</td>\n",
              "      <td>NaN</td>\n",
              "      <td>2021-09-02 13:05:33</td>\n",
              "      <td>Russia</td>\n",
              "      <td>None</td>\n",
              "      <td>Ddos-guard LTD</td>\n",
              "    </tr>\n",
              "    <tr>\n",
              "      <th>9543</th>\n",
              "      <td>1213300006920</td>\n",
              "      <td>ano-nachalo.ru</td>\n",
              "      <td>1.0</td>\n",
              "      <td>0.0</td>\n",
              "      <td>0.0</td>\n",
              "      <td>0.0</td>\n",
              "      <td>0.0</td>\n",
              "      <td>0.0</td>\n",
              "      <td>0.0</td>\n",
              "      <td>0.0</td>\n",
              "      <td>...</td>\n",
              "      <td>АНО \"ЦЕНТР ЭКОЛОГИЧЕСКИХ И СОЦИАЛЬНЫХ ИНИЦИАТИ...</td>\n",
              "      <td>2021-08-25</td>\n",
              "      <td>Сбор неопасных отходов}</td>\n",
              "      <td>Автономные некоммерческие организации</td>\n",
              "      <td>Сбор неопасных отходов</td>\n",
              "      <td>NaN</td>\n",
              "      <td>2021-09-27 11:38:03</td>\n",
              "      <td>Russia</td>\n",
              "      <td>parking.reg.ru</td>\n",
              "      <td>None</td>\n",
              "    </tr>\n",
              "    <tr>\n",
              "      <th>9544</th>\n",
              "      <td>1212300052249</td>\n",
              "      <td>blagfond-zzh.ru</td>\n",
              "      <td>0.0</td>\n",
              "      <td>1.0</td>\n",
              "      <td>0.0</td>\n",
              "      <td>0.0</td>\n",
              "      <td>0.0</td>\n",
              "      <td>0.0</td>\n",
              "      <td>0.0</td>\n",
              "      <td>0.0</td>\n",
              "      <td>...</td>\n",
              "      <td>БЛАГОТВОРИТЕЛЬНЫЙ ФОНД \"ЗДРАВИЯ ЖЕЛАЮ\"</td>\n",
              "      <td>2021-09-08</td>\n",
              "      <td>Предоставление прочих финансовых услуг, кроме ...</td>\n",
              "      <td>Благотворительные фонды</td>\n",
              "      <td>Предоставление прочих финансовых услуг, кроме ...</td>\n",
              "      <td>Финансы</td>\n",
              "      <td>2021-09-20 11:42:29</td>\n",
              "      <td>Russia</td>\n",
              "      <td>wcarp.hosting.nic.ru</td>\n",
              "      <td>JSC \"RU-CENTER\"</td>\n",
              "    </tr>\n",
              "  </tbody>\n",
              "</table>\n",
              "<p>5 rows × 30 columns</p>\n",
              "</div>\n",
              "      <button class=\"colab-df-convert\" onclick=\"convertToInteractive('df-e72712a7-bf0b-41a6-b728-18284cf16890')\"\n",
              "              title=\"Convert this dataframe to an interactive table.\"\n",
              "              style=\"display:none;\">\n",
              "        \n",
              "  <svg xmlns=\"http://www.w3.org/2000/svg\" height=\"24px\"viewBox=\"0 0 24 24\"\n",
              "       width=\"24px\">\n",
              "    <path d=\"M0 0h24v24H0V0z\" fill=\"none\"/>\n",
              "    <path d=\"M18.56 5.44l.94 2.06.94-2.06 2.06-.94-2.06-.94-.94-2.06-.94 2.06-2.06.94zm-11 1L8.5 8.5l.94-2.06 2.06-.94-2.06-.94L8.5 2.5l-.94 2.06-2.06.94zm10 10l.94 2.06.94-2.06 2.06-.94-2.06-.94-.94-2.06-.94 2.06-2.06.94z\"/><path d=\"M17.41 7.96l-1.37-1.37c-.4-.4-.92-.59-1.43-.59-.52 0-1.04.2-1.43.59L10.3 9.45l-7.72 7.72c-.78.78-.78 2.05 0 2.83L4 21.41c.39.39.9.59 1.41.59.51 0 1.02-.2 1.41-.59l7.78-7.78 2.81-2.81c.8-.78.8-2.07 0-2.86zM5.41 20L4 18.59l7.72-7.72 1.47 1.35L5.41 20z\"/>\n",
              "  </svg>\n",
              "      </button>\n",
              "      \n",
              "  <style>\n",
              "    .colab-df-container {\n",
              "      display:flex;\n",
              "      flex-wrap:wrap;\n",
              "      gap: 12px;\n",
              "    }\n",
              "\n",
              "    .colab-df-convert {\n",
              "      background-color: #E8F0FE;\n",
              "      border: none;\n",
              "      border-radius: 50%;\n",
              "      cursor: pointer;\n",
              "      display: none;\n",
              "      fill: #1967D2;\n",
              "      height: 32px;\n",
              "      padding: 0 0 0 0;\n",
              "      width: 32px;\n",
              "    }\n",
              "\n",
              "    .colab-df-convert:hover {\n",
              "      background-color: #E2EBFA;\n",
              "      box-shadow: 0px 1px 2px rgba(60, 64, 67, 0.3), 0px 1px 3px 1px rgba(60, 64, 67, 0.15);\n",
              "      fill: #174EA6;\n",
              "    }\n",
              "\n",
              "    [theme=dark] .colab-df-convert {\n",
              "      background-color: #3B4455;\n",
              "      fill: #D2E3FC;\n",
              "    }\n",
              "\n",
              "    [theme=dark] .colab-df-convert:hover {\n",
              "      background-color: #434B5C;\n",
              "      box-shadow: 0px 1px 3px 1px rgba(0, 0, 0, 0.15);\n",
              "      filter: drop-shadow(0px 1px 2px rgba(0, 0, 0, 0.3));\n",
              "      fill: #FFFFFF;\n",
              "    }\n",
              "  </style>\n",
              "\n",
              "      <script>\n",
              "        const buttonEl =\n",
              "          document.querySelector('#df-e72712a7-bf0b-41a6-b728-18284cf16890 button.colab-df-convert');\n",
              "        buttonEl.style.display =\n",
              "          google.colab.kernel.accessAllowed ? 'block' : 'none';\n",
              "\n",
              "        async function convertToInteractive(key) {\n",
              "          const element = document.querySelector('#df-e72712a7-bf0b-41a6-b728-18284cf16890');\n",
              "          const dataTable =\n",
              "            await google.colab.kernel.invokeFunction('convertToInteractive',\n",
              "                                                     [key], {});\n",
              "          if (!dataTable) return;\n",
              "\n",
              "          const docLinkHtml = 'Like what you see? Visit the ' +\n",
              "            '<a target=\"_blank\" href=https://colab.research.google.com/notebooks/data_table.ipynb>data table notebook</a>'\n",
              "            + ' to learn more about interactive tables.';\n",
              "          element.innerHTML = '';\n",
              "          dataTable['output_type'] = 'display_data';\n",
              "          await google.colab.output.renderOutput(dataTable, element);\n",
              "          const docLink = document.createElement('div');\n",
              "          docLink.innerHTML = docLinkHtml;\n",
              "          element.appendChild(docLink);\n",
              "        }\n",
              "      </script>\n",
              "    </div>\n",
              "  </div>\n",
              "  "
            ]
          },
          "metadata": {},
          "execution_count": 43
        }
      ]
    },
    {
      "cell_type": "markdown",
      "source": [
        "How many Russian NGOs host their websites on foreign servers right now as of 28.06.2022?"
      ],
      "metadata": {
        "id": "77pFc9DakJl-"
      }
    },
    {
      "cell_type": "code",
      "source": [
        "#concat_ngos[concat_ngos['website_country'] != 'Russia' and concat_ngos['website_country'] != 'Russian Federation'].count()\n",
        "len(concat_ngos[(concat_ngos['website_country'] != 'Russia') & (concat_ngos['website_country'] != 'Russian Federation')  & ~concat_ngos['website_country'].isnull()])"
      ],
      "metadata": {
        "colab": {
          "base_uri": "https://localhost:8080/"
        },
        "id": "x3jOZe9jq_7V",
        "outputId": "5a8a3dbe-b452-41a6-90ac-a23950270248"
      },
      "execution_count": 4,
      "outputs": [
        {
          "output_type": "execute_result",
          "data": {
            "text/plain": [
              "998"
            ]
          },
          "metadata": {},
          "execution_count": 4
        }
      ]
    },
    {
      "cell_type": "markdown",
      "source": [
        "**All in all 933 NGOs as of 28.06.2022 host websites on non-Russian hostings**"
      ],
      "metadata": {
        "id": "nJhZwDK0K06U"
      }
    },
    {
      "cell_type": "code",
      "source": [
        "unavailable_sites"
      ],
      "metadata": {
        "colab": {
          "base_uri": "https://localhost:8080/"
        },
        "id": "L3mRNkDRK2U5",
        "outputId": "e9e75d83-78b5-4fbf-d757-adef93918fe2"
      },
      "execution_count": null,
      "outputs": [
        {
          "output_type": "execute_result",
          "data": {
            "text/plain": [
              "['vsevfootball.ru',\n",
              " 'ppktdk.ru',\n",
              " 'kso.org.ru',\n",
              " 'держимсявместе.рф',\n",
              " 'ilma095.ru',\n",
              " 'paleoethnology.ru',\n",
              " 'ekspert55.ru',\n",
              " 'политехник27.рф',\n",
              " 'атмосфера-жизни.рф',\n",
              " 'конкурсы-твояприрода.рф',\n",
              " 'svetserdec.ru',\n",
              " 'china-shina.ru',\n",
              " 'teplonashihryk.ru',\n",
              " 'iledu.ru',\n",
              " 'arcticcouncil.ru',\n",
              " 'арктический-совет.рф',\n",
              " 'арктическийсовет.рф',\n",
              " 'rus-prazd.ru',\n",
              " 'мы-спб.рф',\n",
              " 'patriot-wtf.ru',\n",
              " 'ano-mcdpo.ru',\n",
              " 'sevfvs.ru',\n",
              " 'siberian-patrio.ru',\n",
              " 'fond-udprf.ru',\n",
              " 'pochinokfund.ru',\n",
              " 'fsk-junior.ru',\n",
              " 'dbfa.ru',\n",
              " '3d-paint.ru',\n",
              " 'анолады.рф',\n",
              " 'mooiniciativa.ru',\n",
              " 'аномокит.рф',\n",
              " 'транспортная-безопасность.рф',\n",
              " 'canistherapya.ru',\n",
              " 'fondboks12.ru',\n",
              " 'nkoparadigma.ru',\n",
              " 'koap25.ru',\n",
              " 'soczabota67.ru',\n",
              " 'penza-hor.ru',\n",
              " 'kobzonfond.ru',\n",
              " 'росбол.рф',\n",
              " 'роои-созидание.рф',\n",
              " 'anociup.ru',\n",
              " 'bizline18.ru',\n",
              " 'www.crot-edu.ru',\n",
              " 'prostymi.ru',\n",
              " 'lifeline-spb.ru',\n",
              " 'anoalliance.ru',\n",
              " 'anolliance.ru',\n",
              " 'сроосфэг.рф',\n",
              " 'history-ng.ru',\n",
              " 'фондвозрождения.рф',\n",
              " 'mertun.ru',\n",
              " 'fci-sreda.ru',\n",
              " 'светлая-горница.рф',\n",
              " 'isexit29.ru',\n",
              " 'сирена-74.рф',\n",
              " 'centr-amplituda.ru',\n",
              " 'ckso86.ru',\n",
              " 'stalro.ru',\n",
              " 'chroo-garmoniya.ru',\n",
              " 'pushkinunion.ru',\n",
              " 'вратасолнца.рф',\n",
              " 'open-help-bf.ru',\n",
              " 'велийцентр.рф',\n",
              " 'murman-con.ru',\n",
              " 'anocentrvivaton.ru',\n",
              " 'nika-deti.ru',\n",
              " 'soyuzmnogodetnyhmam.ru',\n",
              " 'fond-materinctva.ru',\n",
              " 'newrdrc.ru',\n",
              " 'www.stopugrozann.ru',\n",
              " 'mtskuklafest2021.ru',\n",
              " 'mastdomtrav.ru',\n",
              " 'сайдыы.рф',\n",
              " 'dental-aid.ru',\n",
              " 'fondln.ru',\n",
              " 'nadezhdaiopora.ru',\n",
              " 'uspeh-vsev.ru',\n",
              " 'nkosr48.ru',\n",
              " 'фбрд.рф',\n",
              " '15-teatr.ru',\n",
              " '15teatr.ru',\n",
              " 'ts-15.ru',\n",
              " 'avtoschool-plus.ru',\n",
              " 'promkadr18.ru',\n",
              " 'a-celr.ru',\n",
              " 'imcand.ru',\n",
              " 'mungazeta.ru',\n",
              " 'osmop.ru',\n",
              " 'slowfoodinrussia.ru',\n",
              " 'ninja96.ru',\n",
              " 'перваяакадемиямедиа.рф',\n",
              " 'помощь-придет.рф',\n",
              " 'museumartillery.ru',\n",
              " 'sintezdeti.ru',\n",
              " 'centrblag.ru',\n",
              " 'guideday.ru',\n",
              " 'день-гида.рф',\n",
              " 'помощь-заключенным.рф',\n",
              " 'nn-noc.ru',\n",
              " 'noc52.ru',\n",
              " 'нноц.рф',\n",
              " 'цифроваяплатформаноц.рф',\n",
              " 'cerkovmusic.ru',\n",
              " 'церковнаямузыка.рф',\n",
              " 'sport-dlia-vseh.ru',\n",
              " 'голос-свободы.рф',\n",
              " 'export-rzn.ru',\n",
              " 'rc-n.ru',\n",
              " 'ostrovok-priut.ru',\n",
              " 'противодействие-коррупции.рф',\n",
              " 'паракаратеолимп.рф',\n",
              " 'www.moocentrspektr.com',\n",
              " 'realhelptuva.ru',\n",
              " 'arcticmicroplastic.ru',\n",
              " 'orientir18.ru',\n",
              " 'giskuzbass.ru',\n",
              " 'fk-eysk.ru',\n",
              " 'dreamshuttle.ru',\n",
              " 'invaaist.ru',\n",
              " 'goodhearts.ru',\n",
              " 'nrnp.ru',\n",
              " 'rykapomoshi.ru',\n",
              " 'фонд-нсо.рф',\n",
              " 'opway.ru',\n",
              " 'timetobestrong.ru',\n",
              " 'sadovodchuv21.ru',\n",
              " 'свдд-детивсейстраны.рф',\n",
              " 'social-rf.ru',\n",
              " 'джаз3.рф',\n",
              " 'bfsidorov.ru',\n",
              " 'www.rukapomoshi42.ru',\n",
              " 'fond-razvitie.ru',\n",
              " 'lenfamily.ru',\n",
              " 'pravokazhdogo.ru',\n",
              " 'anocontrol.ru',\n",
              " 'soppurfo.ru',\n",
              " 'tltbox.ru',\n",
              " 'tulaprofi.ru',\n",
              " 'fond-imenikonova.ru',\n",
              " 'findsalvation.ru',\n",
              " 'bfrubystar.ru',\n",
              " 'fond-lukyasha.ru',\n",
              " 'dsmcf.ru',\n",
              " 'бфисс.рф',\n",
              " 'fpsr02.ru']"
            ]
          },
          "metadata": {},
          "execution_count": 58
        }
      ]
    },
    {
      "cell_type": "code",
      "source": [
        "len(unavailable_sites)"
      ],
      "metadata": {
        "colab": {
          "base_uri": "https://localhost:8080/"
        },
        "id": "XXSpaKViK8QH",
        "outputId": "8ddb0e5d-53b6-4cd8-b704-348fbf23dc0f"
      },
      "execution_count": null,
      "outputs": [
        {
          "output_type": "execute_result",
          "data": {
            "text/plain": [
              "146"
            ]
          },
          "metadata": {},
          "execution_count": 59
        }
      ]
    },
    {
      "cell_type": "markdown",
      "source": [
        "146 websites have invalid links"
      ],
      "metadata": {
        "id": "R3KWWFYKLBOq"
      }
    },
    {
      "cell_type": "markdown",
      "source": [
        "### Save data"
      ],
      "metadata": {
        "id": "pQA6jRjYJD_C"
      }
    },
    {
      "cell_type": "code",
      "source": [
        "concat_ngos.to_csv(\"ngos_hostings.csv\", encoding='utf-8')"
      ],
      "metadata": {
        "id": "wTDP1Iocj1kR"
      },
      "execution_count": null,
      "outputs": []
    },
    {
      "cell_type": "markdown",
      "source": [
        "### Second run just in case"
      ],
      "metadata": {
        "id": "ExZyvg5TtmRS"
      }
    },
    {
      "cell_type": "code",
      "source": [
        "concat_ngos = pd.read_csv(\"ngos_hostings_countries.csv\", encoding='utf-8')\n",
        "concat_ngos.head()"
      ],
      "metadata": {
        "colab": {
          "base_uri": "https://localhost:8080/",
          "height": 542
        },
        "id": "qPX9_Oyttq9u",
        "outputId": "88908628-32f7-4c51-a906-9d8c6e257b4e"
      },
      "execution_count": 3,
      "outputs": [
        {
          "output_type": "execute_result",
          "data": {
            "text/plain": [
              "   Unnamed: 0  Unnamed: 0.1           ogrn         website  bin_robots  \\\n",
              "0           0             0  1026800000666    profobr68.ru         1.0   \n",
              "1           1             1  1022900002861  проф-севмаш.рф         1.0   \n",
              "2           2             2  1025200008140      vdpor52.ru         1.0   \n",
              "3           3             3  1037739471220     orthonet.ru         0.0   \n",
              "4           4             4  1085200004450   vdpo-sarov.ru         1.0   \n",
              "\n",
              "   bin_sitemap  bin_fb  bin_vk  bin_ig  bin_ok  ...  \\\n",
              "0          1.0     0.0     0.0     0.0     0.0  ...   \n",
              "1          0.0     0.0     1.0     0.0     0.0  ...   \n",
              "2          1.0     0.0     0.0     0.0     0.0  ...   \n",
              "3          0.0     0.0     0.0     0.0     0.0  ...   \n",
              "4          1.0     0.0     1.0     0.0     0.0  ...   \n",
              "\n",
              "                                           shortName     regDate  \\\n",
              "0  ТАМБОВСКАЯ ОБЛАСТНАЯ ОРГАНИЗАЦИЯ ОБЩЕРОССИЙСКО...  1938-11-10   \n",
              "1                  МОО - ППО АО \"ПО \"СЕВМАШ\" СУДПРОФ  1942-03-15   \n",
              "2  НИЖЕГОРОДСКОЕ ОБЛАСТНОЕ ОТДЕЛЕНИЕ ВДПО, ВДПО Н...  1958-06-20   \n",
              "3                              СОЮЗ ПИСАТЕЛЕЙ РОССИИ  1958-12-07   \n",
              "4                                   САРОВСКОЕ \"ВДПО\"  1962-03-30   \n",
              "\n",
              "                                           mainOkved  \\\n",
              "0               Деятельность профессиональных союзов   \n",
              "1               Деятельность профессиональных союзов   \n",
              "2  Деятельность прочих общественных организаций, ...   \n",
              "3  Деятельность профессиональных членских организ...   \n",
              "4  Деятельность прочих общественных организаций, ...   \n",
              "\n",
              "                opfCombined  \\\n",
              "0   Профсоюзные организации   \n",
              "1   Профсоюзные организации   \n",
              "2  Общественные организации   \n",
              "3  Общественные организации   \n",
              "4  Общественные организации   \n",
              "\n",
              "                                       okvedCombined  \\\n",
              "0               Деятельность профессиональных союзов   \n",
              "1               Деятельность профессиональных союзов   \n",
              "2  Деятельность прочих общественных организаций, ...   \n",
              "3  Деятельность профессиональных членских организ...   \n",
              "4  Деятельность прочих общественных организаций, ...   \n",
              "\n",
              "                  vedSimple  websiteCreationDate  website_country  \\\n",
              "0                 Профсоюзы  2016-01-15 19:31:34           Russia   \n",
              "1                 Профсоюзы  2018-08-27 11:35:06           Russia   \n",
              "2  Общественные организации  2016-09-28 12:05:06           Russia   \n",
              "3                 Профсоюзы  2005-11-24 21:00:00           Russia   \n",
              "4  Общественные организации   2021-04-15 8:10:11           Russia   \n",
              "\n",
              "     website_hostname  website_isp  \n",
              "0  m2.wolf3.beget.com          NaN  \n",
              "1    vh134.timeweb.ru          NaN  \n",
              "2            websg.ru          NaN  \n",
              "3  unspecified.mtw.ru          NaN  \n",
              "4                 NaN          NaN  \n",
              "\n",
              "[5 rows x 32 columns]"
            ],
            "text/html": [
              "\n",
              "  <div id=\"df-b9e914f9-412f-4580-983f-e44614f60eb2\">\n",
              "    <div class=\"colab-df-container\">\n",
              "      <div>\n",
              "<style scoped>\n",
              "    .dataframe tbody tr th:only-of-type {\n",
              "        vertical-align: middle;\n",
              "    }\n",
              "\n",
              "    .dataframe tbody tr th {\n",
              "        vertical-align: top;\n",
              "    }\n",
              "\n",
              "    .dataframe thead th {\n",
              "        text-align: right;\n",
              "    }\n",
              "</style>\n",
              "<table border=\"1\" class=\"dataframe\">\n",
              "  <thead>\n",
              "    <tr style=\"text-align: right;\">\n",
              "      <th></th>\n",
              "      <th>Unnamed: 0</th>\n",
              "      <th>Unnamed: 0.1</th>\n",
              "      <th>ogrn</th>\n",
              "      <th>website</th>\n",
              "      <th>bin_robots</th>\n",
              "      <th>bin_sitemap</th>\n",
              "      <th>bin_fb</th>\n",
              "      <th>bin_vk</th>\n",
              "      <th>bin_ig</th>\n",
              "      <th>bin_ok</th>\n",
              "      <th>...</th>\n",
              "      <th>shortName</th>\n",
              "      <th>regDate</th>\n",
              "      <th>mainOkved</th>\n",
              "      <th>opfCombined</th>\n",
              "      <th>okvedCombined</th>\n",
              "      <th>vedSimple</th>\n",
              "      <th>websiteCreationDate</th>\n",
              "      <th>website_country</th>\n",
              "      <th>website_hostname</th>\n",
              "      <th>website_isp</th>\n",
              "    </tr>\n",
              "  </thead>\n",
              "  <tbody>\n",
              "    <tr>\n",
              "      <th>0</th>\n",
              "      <td>0</td>\n",
              "      <td>0</td>\n",
              "      <td>1026800000666</td>\n",
              "      <td>profobr68.ru</td>\n",
              "      <td>1.0</td>\n",
              "      <td>1.0</td>\n",
              "      <td>0.0</td>\n",
              "      <td>0.0</td>\n",
              "      <td>0.0</td>\n",
              "      <td>0.0</td>\n",
              "      <td>...</td>\n",
              "      <td>ТАМБОВСКАЯ ОБЛАСТНАЯ ОРГАНИЗАЦИЯ ОБЩЕРОССИЙСКО...</td>\n",
              "      <td>1938-11-10</td>\n",
              "      <td>Деятельность профессиональных союзов</td>\n",
              "      <td>Профсоюзные организации</td>\n",
              "      <td>Деятельность профессиональных союзов</td>\n",
              "      <td>Профсоюзы</td>\n",
              "      <td>2016-01-15 19:31:34</td>\n",
              "      <td>Russia</td>\n",
              "      <td>m2.wolf3.beget.com</td>\n",
              "      <td>NaN</td>\n",
              "    </tr>\n",
              "    <tr>\n",
              "      <th>1</th>\n",
              "      <td>1</td>\n",
              "      <td>1</td>\n",
              "      <td>1022900002861</td>\n",
              "      <td>проф-севмаш.рф</td>\n",
              "      <td>1.0</td>\n",
              "      <td>0.0</td>\n",
              "      <td>0.0</td>\n",
              "      <td>1.0</td>\n",
              "      <td>0.0</td>\n",
              "      <td>0.0</td>\n",
              "      <td>...</td>\n",
              "      <td>МОО - ППО АО \"ПО \"СЕВМАШ\" СУДПРОФ</td>\n",
              "      <td>1942-03-15</td>\n",
              "      <td>Деятельность профессиональных союзов</td>\n",
              "      <td>Профсоюзные организации</td>\n",
              "      <td>Деятельность профессиональных союзов</td>\n",
              "      <td>Профсоюзы</td>\n",
              "      <td>2018-08-27 11:35:06</td>\n",
              "      <td>Russia</td>\n",
              "      <td>vh134.timeweb.ru</td>\n",
              "      <td>NaN</td>\n",
              "    </tr>\n",
              "    <tr>\n",
              "      <th>2</th>\n",
              "      <td>2</td>\n",
              "      <td>2</td>\n",
              "      <td>1025200008140</td>\n",
              "      <td>vdpor52.ru</td>\n",
              "      <td>1.0</td>\n",
              "      <td>1.0</td>\n",
              "      <td>0.0</td>\n",
              "      <td>0.0</td>\n",
              "      <td>0.0</td>\n",
              "      <td>0.0</td>\n",
              "      <td>...</td>\n",
              "      <td>НИЖЕГОРОДСКОЕ ОБЛАСТНОЕ ОТДЕЛЕНИЕ ВДПО, ВДПО Н...</td>\n",
              "      <td>1958-06-20</td>\n",
              "      <td>Деятельность прочих общественных организаций, ...</td>\n",
              "      <td>Общественные организации</td>\n",
              "      <td>Деятельность прочих общественных организаций, ...</td>\n",
              "      <td>Общественные организации</td>\n",
              "      <td>2016-09-28 12:05:06</td>\n",
              "      <td>Russia</td>\n",
              "      <td>websg.ru</td>\n",
              "      <td>NaN</td>\n",
              "    </tr>\n",
              "    <tr>\n",
              "      <th>3</th>\n",
              "      <td>3</td>\n",
              "      <td>3</td>\n",
              "      <td>1037739471220</td>\n",
              "      <td>orthonet.ru</td>\n",
              "      <td>0.0</td>\n",
              "      <td>0.0</td>\n",
              "      <td>0.0</td>\n",
              "      <td>0.0</td>\n",
              "      <td>0.0</td>\n",
              "      <td>0.0</td>\n",
              "      <td>...</td>\n",
              "      <td>СОЮЗ ПИСАТЕЛЕЙ РОССИИ</td>\n",
              "      <td>1958-12-07</td>\n",
              "      <td>Деятельность профессиональных членских организ...</td>\n",
              "      <td>Общественные организации</td>\n",
              "      <td>Деятельность профессиональных членских организ...</td>\n",
              "      <td>Профсоюзы</td>\n",
              "      <td>2005-11-24 21:00:00</td>\n",
              "      <td>Russia</td>\n",
              "      <td>unspecified.mtw.ru</td>\n",
              "      <td>NaN</td>\n",
              "    </tr>\n",
              "    <tr>\n",
              "      <th>4</th>\n",
              "      <td>4</td>\n",
              "      <td>4</td>\n",
              "      <td>1085200004450</td>\n",
              "      <td>vdpo-sarov.ru</td>\n",
              "      <td>1.0</td>\n",
              "      <td>1.0</td>\n",
              "      <td>0.0</td>\n",
              "      <td>1.0</td>\n",
              "      <td>0.0</td>\n",
              "      <td>0.0</td>\n",
              "      <td>...</td>\n",
              "      <td>САРОВСКОЕ \"ВДПО\"</td>\n",
              "      <td>1962-03-30</td>\n",
              "      <td>Деятельность прочих общественных организаций, ...</td>\n",
              "      <td>Общественные организации</td>\n",
              "      <td>Деятельность прочих общественных организаций, ...</td>\n",
              "      <td>Общественные организации</td>\n",
              "      <td>2021-04-15 8:10:11</td>\n",
              "      <td>Russia</td>\n",
              "      <td>NaN</td>\n",
              "      <td>NaN</td>\n",
              "    </tr>\n",
              "  </tbody>\n",
              "</table>\n",
              "<p>5 rows × 32 columns</p>\n",
              "</div>\n",
              "      <button class=\"colab-df-convert\" onclick=\"convertToInteractive('df-b9e914f9-412f-4580-983f-e44614f60eb2')\"\n",
              "              title=\"Convert this dataframe to an interactive table.\"\n",
              "              style=\"display:none;\">\n",
              "        \n",
              "  <svg xmlns=\"http://www.w3.org/2000/svg\" height=\"24px\"viewBox=\"0 0 24 24\"\n",
              "       width=\"24px\">\n",
              "    <path d=\"M0 0h24v24H0V0z\" fill=\"none\"/>\n",
              "    <path d=\"M18.56 5.44l.94 2.06.94-2.06 2.06-.94-2.06-.94-.94-2.06-.94 2.06-2.06.94zm-11 1L8.5 8.5l.94-2.06 2.06-.94-2.06-.94L8.5 2.5l-.94 2.06-2.06.94zm10 10l.94 2.06.94-2.06 2.06-.94-2.06-.94-.94-2.06-.94 2.06-2.06.94z\"/><path d=\"M17.41 7.96l-1.37-1.37c-.4-.4-.92-.59-1.43-.59-.52 0-1.04.2-1.43.59L10.3 9.45l-7.72 7.72c-.78.78-.78 2.05 0 2.83L4 21.41c.39.39.9.59 1.41.59.51 0 1.02-.2 1.41-.59l7.78-7.78 2.81-2.81c.8-.78.8-2.07 0-2.86zM5.41 20L4 18.59l7.72-7.72 1.47 1.35L5.41 20z\"/>\n",
              "  </svg>\n",
              "      </button>\n",
              "      \n",
              "  <style>\n",
              "    .colab-df-container {\n",
              "      display:flex;\n",
              "      flex-wrap:wrap;\n",
              "      gap: 12px;\n",
              "    }\n",
              "\n",
              "    .colab-df-convert {\n",
              "      background-color: #E8F0FE;\n",
              "      border: none;\n",
              "      border-radius: 50%;\n",
              "      cursor: pointer;\n",
              "      display: none;\n",
              "      fill: #1967D2;\n",
              "      height: 32px;\n",
              "      padding: 0 0 0 0;\n",
              "      width: 32px;\n",
              "    }\n",
              "\n",
              "    .colab-df-convert:hover {\n",
              "      background-color: #E2EBFA;\n",
              "      box-shadow: 0px 1px 2px rgba(60, 64, 67, 0.3), 0px 1px 3px 1px rgba(60, 64, 67, 0.15);\n",
              "      fill: #174EA6;\n",
              "    }\n",
              "\n",
              "    [theme=dark] .colab-df-convert {\n",
              "      background-color: #3B4455;\n",
              "      fill: #D2E3FC;\n",
              "    }\n",
              "\n",
              "    [theme=dark] .colab-df-convert:hover {\n",
              "      background-color: #434B5C;\n",
              "      box-shadow: 0px 1px 3px 1px rgba(0, 0, 0, 0.15);\n",
              "      filter: drop-shadow(0px 1px 2px rgba(0, 0, 0, 0.3));\n",
              "      fill: #FFFFFF;\n",
              "    }\n",
              "  </style>\n",
              "\n",
              "      <script>\n",
              "        const buttonEl =\n",
              "          document.querySelector('#df-b9e914f9-412f-4580-983f-e44614f60eb2 button.colab-df-convert');\n",
              "        buttonEl.style.display =\n",
              "          google.colab.kernel.accessAllowed ? 'block' : 'none';\n",
              "\n",
              "        async function convertToInteractive(key) {\n",
              "          const element = document.querySelector('#df-b9e914f9-412f-4580-983f-e44614f60eb2');\n",
              "          const dataTable =\n",
              "            await google.colab.kernel.invokeFunction('convertToInteractive',\n",
              "                                                     [key], {});\n",
              "          if (!dataTable) return;\n",
              "\n",
              "          const docLinkHtml = 'Like what you see? Visit the ' +\n",
              "            '<a target=\"_blank\" href=https://colab.research.google.com/notebooks/data_table.ipynb>data table notebook</a>'\n",
              "            + ' to learn more about interactive tables.';\n",
              "          element.innerHTML = '';\n",
              "          dataTable['output_type'] = 'display_data';\n",
              "          await google.colab.output.renderOutput(dataTable, element);\n",
              "          const docLink = document.createElement('div');\n",
              "          docLink.innerHTML = docLinkHtml;\n",
              "          element.appendChild(docLink);\n",
              "        }\n",
              "      </script>\n",
              "    </div>\n",
              "  </div>\n",
              "  "
            ]
          },
          "metadata": {},
          "execution_count": 3
        }
      ]
    },
    {
      "cell_type": "code",
      "source": [
        "import socket\n",
        "from socket import gaierror\n",
        "\n",
        "\n",
        "for i, entry in enumerate(concat_ngos.itertuples()):\n",
        "  if isinstance(entry.website_country, float):\n",
        "    # Get IP address\n",
        "    try:\n",
        "      ip_address = socket.gethostbyname(entry.website)\n",
        "    except gaierror:\n",
        "      continue\n",
        "\n",
        "    print(i, entry.website)\n",
        "    country_handler = Country(ip_address)\n",
        "    country = country_handler.get_country(hostname=False)\n",
        "    print(country)\n",
        "\n",
        "    concat_ngos.at[i, \"website_country\"] = country"
      ],
      "metadata": {
        "colab": {
          "base_uri": "https://localhost:8080/"
        },
        "id": "2c7ipX1Mufak",
        "outputId": "2429c73b-957c-40de-ebff-21d9ebb8df30"
      },
      "execution_count": null,
      "outputs": [
        {
          "output_type": "stream",
          "name": "stdout",
          "text": [
            "336 www.mofk.net\n",
            "United States\n",
            "518 kimvestnik.ru\n",
            "Russian Federation\n",
            "521 tofpmp.ru\n",
            "Russian Federation\n",
            "524 intellectdm.ru\n",
            "Russian Federation\n",
            "528 мпи.рф\n",
            "Russian Federation\n",
            "682 no-vpered.ru\n",
            "Russian Federation\n",
            "685 bel-pobeda.ru\n",
            "Russian Federation\n",
            "686 znamya31.ru\n",
            "United States\n",
            "689 kurortcenter.ru\n",
            "Russian Federation\n",
            "696 vesti-m.ru\n",
            "Russian Federation\n",
            "698 empatiann.ru\n",
            "Russian Federation\n",
            "699 vdpo33.ru\n",
            "Russian Federation\n",
            "880 www.sefer.ru\n",
            "Russian Federation\n",
            "881 s-kub.ru\n",
            "Russian Federation\n",
            "884 astrakhancy.ru\n",
            "Russia\n",
            "1672 russkiebezrossii.ru\n",
            "Russian Federation\n",
            "2349 www.infars.ru\n",
            "Russian Federation\n",
            "2353 www.unitalm.ru\n",
            "Russian Federation\n",
            "2356 guic.ru\n",
            "Russian Federation\n",
            "2623 45led.ru\n",
            "Russian Federation\n",
            "2707 wogart.narod.ru\n",
            "Virgin Islands, British\n",
            "2708 anoavtoshkola.ru\n",
            "United States\n",
            "2712 basmania.ru\n",
            "Russia\n",
            "2716 vdpo-ku.com\n",
            "Israel\n",
            "2720 istokmw.ru\n",
            "Russian Federation\n",
            "2722 cnsio.ru\n",
            "United Kingdom\n",
            "2723 dlokean-khv.com\n",
            "Israel\n",
            "3032 bushido.ru\n",
            "United States\n",
            "3035 loovoi.usite.pro\n",
            "Russian Federation\n",
            "3804 academpark.com\n",
            "Russian Federation\n",
            "3805 моряки-белгородцы.рф\n",
            "Israel\n",
            "4113 waldorf-irkutsk.ru\n",
            "Russian Federation\n",
            "4117 www.cigarinfo.ru\n",
            "Russian Federation\n",
            "4122 vpcgranica.ru\n",
            "Israel\n",
            "4123 ratris.ru\n",
            "Russia\n",
            "4124 tatsyz.ru\n",
            "Russian Federation\n",
            "4129 public-health.ru\n",
            "Ukraine\n",
            "4649 pokolenie-tver.ru\n",
            "Russian Federation\n",
            "4654 ivbfs.ru\n",
            "Russian Federation\n",
            "4656 gto.ru\n",
            "Russian Federation\n",
            "5408 kroha31.ru\n",
            "Russian Federation\n",
            "5411 vld-invest.ru\n",
            "Russian Federation\n",
            "5416 ano-praktik.ru\n",
            "Russian Federation\n",
            "5419 deti-bf.ru\n",
            "Russian Federation\n",
            "5423 kurs-1c.ru\n",
            "Russian Federation\n",
            "5428 mkep.ru\n",
            "Russian Federation\n",
            "5433 bezdtp.ru\n",
            "Russian Federation\n",
            "5446 bg-srp.ru\n",
            "Russian Federation\n",
            "5447 spm33.ru\n",
            "Russian Federation\n",
            "5451 vestnik-prokurorperm.ru\n",
            "Russian Federation\n",
            "5452 гора-каратэ.рф\n",
            "Russian Federation\n",
            "5453 artfestivals.ru\n",
            "Russian Federation\n",
            "5455 prosveschenie.info\n",
            "United Kingdom\n",
            "5460 skrug37.ru\n",
            "Russia\n",
            "5465 ffk21.ru\n",
            "Russian Federation\n",
            "5466 ki-aikido.ru\n",
            "Russian Federation\n",
            "5473 fpprm13.ru\n",
            "Russian Federation\n",
            "5859 gokhv.ru\n",
            "Russian Federation\n",
            "5946 unionpoldon.ru\n",
            "Russian Federation\n",
            "5948 unionrad.ru\n",
            "Russian Federation\n",
            "5951 ecolife33.ru\n",
            "Russian Federation\n",
            "5952 jefs.ru\n",
            "Russian Federation\n",
            "5954 verifis.ru\n",
            "Russian Federation\n",
            "5957 nokra.ru\n",
            "United States\n",
            "5959 ipkgms.ru\n",
            "France\n",
            "5960 yarspas.ru\n",
            "Russian Federation\n",
            "5961 yagrazhdanin.ru\n",
            "United States\n",
            "5962 волмик.рф\n",
            "Germany\n",
            "5964 bbehtereva.ru\n",
            "Russian Federation\n",
            "6058 electroclaster.ru\n",
            "Russian Federation\n",
            "6059 bfsvetoch.ru\n",
            "Russian Federation\n",
            "6063 fppsk26.ru\n",
            "Russian Federation\n",
            "6066 bricsmoscow.ru\n",
            "Germany\n",
            "6073 rck89.ru\n",
            "Russian Federation\n",
            "6077 тогф.рф\n",
            "Russian Federation\n",
            "6081 s-vedomosti.ru\n",
            "Russia\n",
            "6084 isinbaeva-fund.com\n",
            "United States\n",
            "6113 horoshkola.ru\n",
            "Russia\n",
            "6123 bugex.ru\n",
            "Russian Federation\n",
            "6124 baikal-dialog.ru\n",
            "Russia\n",
            "6125 дом-дружбы03.рф\n",
            "Russia\n",
            "6127 oporakbr.ru\n",
            "Russian Federation\n",
            "6389 happydeti24.ru\n",
            "Russian Federation\n",
            "6403 trak-nvkz.ru\n",
            "Russian Federation\n",
            "6545 dpcprim.ru\n",
            "Russian Federation\n",
            "6546 семейный-парк.рф\n",
            "United States\n",
            "6548 дорогипобеды.рф\n",
            "Russian Federation\n",
            "6641 ppktdk.ru\n",
            "Israel\n",
            "6755 green-zoom.ru\n",
            "Russian Federation\n",
            "6756 samaranordic.com\n",
            "Israel\n",
            "6760 nochinadvolgoy.ru\n",
            "United Kingdom\n",
            "6912 cysticfibrosis.ru\n",
            "Russian Federation\n",
            "6913 sportclub88.ru\n",
            "Russian Federation\n",
            "6915 bel-roza.ru\n",
            "Russian Federation\n",
            "6920 fondmost.org\n",
            "United States\n",
            "6921 als-info.ru\n",
            "Russian Federation\n",
            "6922 give-world.com\n",
            "Russia\n",
            "6923 dobrodel-kuban.ru\n",
            "Germany\n",
            "7080 otirk.ru\n",
            "Russian Federation\n",
            "7081 ocean-msu.ru\n",
            "Russian Federation\n",
            "7088 scps-nsk.ru\n",
            "Germany\n",
            "7125 ano-mcdpo.ru\n",
            "Israel\n",
            "7230 shkolamil.ru\n",
            "Russian Federation\n",
            "7233 teplo-serdets.ru\n",
            "Russian Federation\n",
            "7385 intiu.ru\n",
            "Russian Federation\n",
            "7387 nti2035.ru\n",
            "Russia\n",
            "7390 opora82.ru\n",
            "Russian Federation\n",
            "7391 lubi-ludey.ru\n",
            "Russia\n",
            "7393 fondgs.ru\n",
            "Russian Federation\n",
            "7395 ppouvng.ru\n",
            "Russian Federation\n",
            "7396 sknastroenie.ru\n",
            "Russian Federation\n",
            "7397 fondexpert.ru\n",
            "Russian Federation\n",
            "7398 atomsforhumanity.ru\n",
            "Russian Federation\n",
            "7521 myrostrf.ru\n",
            "Russia\n",
            "7523 cxt-videokniga.ru\n",
            "Russian Federation\n",
            "7525 crimea-moscow.ru\n",
            "Russia\n",
            "7528 malyshbf.ru\n",
            "Russian Federation\n",
            "7529 rehabprofi.ru\n",
            "Israel\n",
            "7531 fedordobronravov.ru\n",
            "Russian Federation\n",
            "7535 нроо.рф\n",
            "Russian Federation\n",
            "7536 silverexpress.ru\n",
            "United Kingdom\n",
            "7537 xoroshix-nko.ru\n",
            "United Kingdom\n",
            "7538 zabota-i-ukhod.ru\n",
            "Russian Federation\n",
            "7539 моясемья34.рф\n",
            "United Kingdom\n",
            "7541 sdomado.ru\n",
            "Russian Federation\n",
            "7544 www.allianceforanimals.ru\n",
            "Russian Federation\n",
            "7546 fedskate.ru\n",
            "Russia\n",
            "7549 fsrbit.ru\n",
            "Russian Federation\n",
            "7686 turgeneff.ru\n",
            "Russian Federation\n",
            "7687 manepa.ru\n",
            "Russian Federation\n",
            "7688 лучнадежды.рф\n",
            "Russia\n",
            "7689 almetseasons.ru\n",
            "Russia\n",
            "7690 www.lightinhands.ru\n",
            "Germany\n",
            "7691 profsobranie.ru\n",
            "Russian Federation\n",
            "7692 arpot.ru\n",
            "Russia\n",
            "7694 export67.ru\n",
            "Russian Federation\n",
            "7695 fond.elitsy.ru\n",
            "Russian Federation\n",
            "7696 crkdomnadejd.ru\n",
            "Germany\n",
            "7699 project-initiative.ru\n",
            "United Kingdom\n",
            "7701 onmywings.ru\n",
            "Russian Federation\n",
            "7704 sirotstvynet.ru\n",
            "Russian Federation\n",
            "7708 franchise-norilsk.ru\n",
            "Russian Federation\n",
            "7709 intercurs.ru\n",
            "Russian Federation\n",
            "7845 rccpenza.ru\n",
            "Russian Federation\n",
            "7848 epona-hippotherapy.ru\n",
            "Russian Federation\n",
            "7849 dismas.ru\n",
            "Russian Federation\n",
            "8010 vestaplus86.ru\n",
            "Russian Federation\n",
            "8011 живуспортом.рф\n",
            "Russian Federation\n",
            "8012 hr-insider.ru\n",
            "Russia\n",
            "8014 ano-nadezhda.ru\n",
            "Israel\n",
            "8015 chyltys.ru\n",
            "Russia\n",
            "8016 dev-expoolimp.ru\n",
            "Russian Federation\n",
            "8017 kuzfond.ru\n",
            "Russian Federation\n",
            "8018 immasters.ru\n",
            "United States\n",
            "8019 www.plusr.ru\n",
            "Russian Federation\n",
            "8020 beliy-parohod.ru\n",
            "Russian Federation\n",
            "8022 soc38.ru\n",
            "Russian Federation\n",
            "8024 batalistneva.ru\n",
            "Russian Federation\n",
            "8026 gm-inginirium.ru\n",
            "United Kingdom\n",
            "8027 rosgonki.ru\n",
            "Russian Federation\n",
            "8177 fcasi.ru\n",
            "Canada\n",
            "8178 sofund.ru\n",
            "Russian Federation\n",
            "8180 svgb71.ru\n",
            "Russian Federation\n",
            "8184 fly-slon.ru\n",
            "Russian Federation\n",
            "8185 фондсодружество.рф\n",
            "Russian Federation\n",
            "8192 ulrgo.ru\n",
            "Russian Federation\n",
            "8307 бенди-татарстан.рф\n",
            "Russian Federation\n",
            "8308 openyourhearts.org\n",
            "Israel\n",
            "8309 standart-center.ru\n",
            "Russian Federation\n",
            "8311 educ-center.ru\n",
            "Russian Federation\n",
            "8317 redcross-auction.ru\n",
            "Russian Federation\n",
            "8321 trfl.ru\n",
            "Finland\n",
            "8323 nko-maximum.ru\n",
            "Russian Federation\n",
            "8324 russianspaniel.ru\n",
            "Russia\n",
            "8326 соцработник48.рф\n",
            "Russian Federation\n",
            "8327 dobroye-delo.ru\n",
            "Russian Federation\n",
            "8333 ano-cspsaulyk.ru\n",
            "Russian Federation\n",
            "8450 oppozs.ru\n",
            "Russian Federation\n",
            "8456 landoflife.ru\n",
            "United Kingdom\n",
            "8458 молцентрбрянск.рф\n",
            "Russian Federation\n",
            "8459 peer-partners.ru\n",
            "Russian Federation\n",
            "8460 my-krymchane.ru\n",
            "Russian Federation\n",
            "8461 dsluchik.ru\n",
            "Russian Federation\n",
            "8462 pantheum.ru\n",
            "Russian Federation\n",
            "8463 зашкольноепитание.рф\n",
            "Russian Federation\n",
            "8464 rvio61.ru\n",
            "Russian Federation\n",
            "8465 просто-живи.рф\n",
            "Russian Federation\n",
            "8466 priyut67.ru\n",
            "United States\n",
            "8467 wncf.ru\n",
            "United States\n",
            "8604 pro-raion.ru\n",
            "Russia\n",
            "8747 mfoprim.ru\n",
            "Russia\n",
            "8748 просодействие.рф\n",
            "Russia\n",
            "8750 export-rzn.ru\n",
            "Russian Federation\n",
            "8751 mb-62.ru\n",
            "Russian Federation\n",
            "8758 stranatvortsov.ru\n",
            "United States\n",
            "8872 sport-pokolenie.ru\n",
            "Russian Federation\n",
            "8874 наши-дети.org\n",
            "Russian Federation\n",
            "8876 torya.ru\n",
            "Russian Federation\n",
            "8877 manufactura-mi.ru\n",
            "Russia\n",
            "8878 toysmk.ru\n",
            "Russia\n",
            "8879 fond770.ru\n",
            "United Kingdom\n",
            "8883 yadlaries.ru\n",
            "Russian Federation\n",
            "8886 startum-dpo.ru\n",
            "Germany\n",
            "8891 uramkb.ru\n",
            "Israel\n",
            "8895 soc-help.ru\n",
            "Russian Federation\n",
            "8897 fondsg.ru\n",
            "Russian Federation\n",
            "8898 ano-rsi.ru\n",
            "Russian Federation\n",
            "8899 vpolyota.ru\n",
            "Russia\n",
            "8900 tvtambov.ru\n",
            "United States\n",
            "8901 pooofog.ru\n",
            "United Kingdom\n",
            "8903 фонд-гиппокамп.рф\n",
            "Russian Federation\n",
            "8905 gorodarb.ru\n",
            "United Kingdom\n",
            "8906 irgrb.ru\n",
            "United Kingdom\n",
            "8907 bfsapfir.ru\n",
            "United States\n",
            "8908 www.dobro-mami.ru\n",
            "Russian Federation\n",
            "8909 harmonyhomes.ru\n",
            "Russian Federation\n",
            "8910 fund-veles.ru\n",
            "United Kingdom\n",
            "8911 profifuture.ru\n",
            "Russian Federation\n",
            "8913 myvserasnye.ru\n",
            "Russia\n",
            "9024 vmestevpered.ru\n",
            "Russian Federation\n",
            "9027 murkosha.ru\n",
            "Russian Federation\n",
            "9030 nkofestival.ru\n",
            "United States\n",
            "9032 образованиеонлайн.рф\n",
            "Russian Federation\n",
            "9036 sa-fond.ru\n",
            "Russian Federation\n",
            "9038 aamos.ru\n",
            "Russian Federation\n",
            "9039 youngdesignspb.ru\n",
            "United Kingdom\n",
            "9045 www.opencityekb.ru\n",
            "United States\n",
            "9046 людиарктики.рф\n",
            "Russian Federation\n",
            "9048 ftim.ru\n",
            "Russian Federation\n",
            "9052 ano-orientir.ru\n",
            "Russian Federation\n",
            "9053 50gkhecokontrol.ru\n",
            "United Kingdom\n",
            "9055 whitegeneral.ru\n",
            "United States\n",
            "9056 opora-help.ru\n",
            "Russian Federation\n",
            "9057 opora-news.ru\n",
            "Russian Federation\n",
            "9058 angelvery.ru\n",
            "Russian Federation\n",
            "9059 aap-pro.ru\n",
            "United Kingdom\n",
            "9187 ark-in.ru\n",
            "Russian Federation\n",
            "9189 helpsocial.ru\n",
            "United Kingdom\n",
            "9190 krsk2019.ru\n",
            "Russian Federation\n",
            "9191 shkolapavlenko.ru\n",
            "United Kingdom\n",
            "9194 nocrb.ru\n",
            "United Kingdom\n",
            "9197 человекнапротив.рф\n",
            "Russian Federation\n",
            "9198 planetary-spb.ru\n",
            "Russian Federation\n",
            "9199 ocimt.ru\n",
            "Russian Federation\n",
            "9201 музейвоин.рф\n",
            "Russian Federation\n",
            "9203 центрфинансирования.рф\n",
            "Russia\n",
            "9204 spbsacad.ru\n",
            "United States\n",
            "9206 vremya-dobryh.ru\n",
            "Russian Federation\n",
            "9207 blagosfera7ya.ru\n",
            "Russia\n",
            "9208 dva-kryla.ru\n",
            "Russian Federation\n",
            "9209 godnauki.ru\n",
            "Russian Federation\n",
            "9210 nationalpriority.ru\n",
            "Russian Federation\n",
            "9211 nationalprojects.ru\n",
            "Russian Federation\n",
            "9215 tyvigre.ru\n",
            "Russian Federation\n",
            "9217 годнауки.рф\n",
            "Russian Federation\n",
            "9332 спбну.рф\n",
            "Russian Federation\n",
            "9335 vertigo-project.ru\n",
            "Russian Federation\n",
            "9336 delaydobro55.ru\n",
            "Russian Federation\n",
            "9337 papa-perm.ru\n",
            "Russian Federation\n",
            "9341 sds-shkola.ru\n",
            "Russian Federation\n",
            "9343 baltachlar.ru\n",
            "Russian Federation\n",
            "9345 mosmed-support.ru\n",
            "Russian Federation\n",
            "9351 neirodety.ru\n",
            "Russia\n",
            "9357 dogchance.tilda.ws\n",
            "Russian Federation\n",
            "9358 infradet.ru\n",
            "Russian Federation\n",
            "9360 diritc.ru\n",
            "Russian Federation\n",
            "9361 дмтк.рф\n",
            "Russian Federation\n",
            "9362 acro-dance.ru\n",
            "Russian Federation\n",
            "9364 preobrazhenskyil.ru\n",
            "Russian Federation\n",
            "9365 юнонапраздник.рф\n",
            "Russian Federation\n",
            "9370 анодполидер.рф\n",
            "Russian Federation\n",
            "9372 fond214ur.ru\n",
            "Russia\n",
            "9375 art-teach.ru\n",
            "Russian Federation\n",
            "9378 informpskov.ru\n",
            "Russia\n",
            "9510 vorotavsport.ru\n",
            "Russian Federation\n",
            "9515 цпв-гвардия.рф\n",
            "Russia\n",
            "9516 anorsi.ru\n",
            "Russian Federation\n",
            "9519 academiasport76.ru\n",
            "Russian Federation\n",
            "9520 agroturizm54.ru\n",
            "Germany\n",
            "9521 ipipm.ru\n",
            "United Kingdom\n",
            "9523 createdu.ru\n",
            "United Kingdom\n",
            "9525 бфн.рф\n",
            "Russia\n",
            "9526 rck51.ru\n",
            "Russia\n"
          ]
        }
      ]
    },
    {
      "cell_type": "code",
      "source": [
        "concat_ngos[concat_ngos[\"website\"] == \"www.mofk.net\"]"
      ],
      "metadata": {
        "colab": {
          "base_uri": "https://localhost:8080/",
          "height": 226
        },
        "id": "pHtbKqxuLEL7",
        "outputId": "cf8b8a76-4b9e-43b5-f412-227a05aced50"
      },
      "execution_count": null,
      "outputs": [
        {
          "output_type": "execute_result",
          "data": {
            "text/plain": [
              "     Unnamed: 0           ogrn       website  bin_robots  bin_sitemap  bin_fb  \\\n",
              "336         336  1027739651873  www.mofk.net         1.0          1.0     0.0   \n",
              "\n",
              "     bin_vk  bin_ig  bin_ok  bin_youtube  ...  shortName     regDate  \\\n",
              "336     0.0     0.0     0.0          0.0  ...        NaN  1992-02-10   \n",
              "\n",
              "      mainOkved         opfCombined  \\\n",
              "336  None, code  Общественные фонды   \n",
              "\n",
              "                                         okvedCombined  vedSimple  \\\n",
              "336  Деятельность профессиональных членских организ...  Профсоюзы   \n",
              "\n",
              "     websiteCreationDate  website_country  website_hostname website_isp  \n",
              "336  2017-01-03 19:33:54    United States               NaN         NaN  \n",
              "\n",
              "[1 rows x 31 columns]"
            ],
            "text/html": [
              "\n",
              "  <div id=\"df-3c2fb333-cfd1-4b5a-9811-4d75add628b8\">\n",
              "    <div class=\"colab-df-container\">\n",
              "      <div>\n",
              "<style scoped>\n",
              "    .dataframe tbody tr th:only-of-type {\n",
              "        vertical-align: middle;\n",
              "    }\n",
              "\n",
              "    .dataframe tbody tr th {\n",
              "        vertical-align: top;\n",
              "    }\n",
              "\n",
              "    .dataframe thead th {\n",
              "        text-align: right;\n",
              "    }\n",
              "</style>\n",
              "<table border=\"1\" class=\"dataframe\">\n",
              "  <thead>\n",
              "    <tr style=\"text-align: right;\">\n",
              "      <th></th>\n",
              "      <th>Unnamed: 0</th>\n",
              "      <th>ogrn</th>\n",
              "      <th>website</th>\n",
              "      <th>bin_robots</th>\n",
              "      <th>bin_sitemap</th>\n",
              "      <th>bin_fb</th>\n",
              "      <th>bin_vk</th>\n",
              "      <th>bin_ig</th>\n",
              "      <th>bin_ok</th>\n",
              "      <th>bin_youtube</th>\n",
              "      <th>...</th>\n",
              "      <th>shortName</th>\n",
              "      <th>regDate</th>\n",
              "      <th>mainOkved</th>\n",
              "      <th>opfCombined</th>\n",
              "      <th>okvedCombined</th>\n",
              "      <th>vedSimple</th>\n",
              "      <th>websiteCreationDate</th>\n",
              "      <th>website_country</th>\n",
              "      <th>website_hostname</th>\n",
              "      <th>website_isp</th>\n",
              "    </tr>\n",
              "  </thead>\n",
              "  <tbody>\n",
              "    <tr>\n",
              "      <th>336</th>\n",
              "      <td>336</td>\n",
              "      <td>1027739651873</td>\n",
              "      <td>www.mofk.net</td>\n",
              "      <td>1.0</td>\n",
              "      <td>1.0</td>\n",
              "      <td>0.0</td>\n",
              "      <td>0.0</td>\n",
              "      <td>0.0</td>\n",
              "      <td>0.0</td>\n",
              "      <td>0.0</td>\n",
              "      <td>...</td>\n",
              "      <td>NaN</td>\n",
              "      <td>1992-02-10</td>\n",
              "      <td>None, code</td>\n",
              "      <td>Общественные фонды</td>\n",
              "      <td>Деятельность профессиональных членских организ...</td>\n",
              "      <td>Профсоюзы</td>\n",
              "      <td>2017-01-03 19:33:54</td>\n",
              "      <td>United States</td>\n",
              "      <td>NaN</td>\n",
              "      <td>NaN</td>\n",
              "    </tr>\n",
              "  </tbody>\n",
              "</table>\n",
              "<p>1 rows × 31 columns</p>\n",
              "</div>\n",
              "      <button class=\"colab-df-convert\" onclick=\"convertToInteractive('df-3c2fb333-cfd1-4b5a-9811-4d75add628b8')\"\n",
              "              title=\"Convert this dataframe to an interactive table.\"\n",
              "              style=\"display:none;\">\n",
              "        \n",
              "  <svg xmlns=\"http://www.w3.org/2000/svg\" height=\"24px\"viewBox=\"0 0 24 24\"\n",
              "       width=\"24px\">\n",
              "    <path d=\"M0 0h24v24H0V0z\" fill=\"none\"/>\n",
              "    <path d=\"M18.56 5.44l.94 2.06.94-2.06 2.06-.94-2.06-.94-.94-2.06-.94 2.06-2.06.94zm-11 1L8.5 8.5l.94-2.06 2.06-.94-2.06-.94L8.5 2.5l-.94 2.06-2.06.94zm10 10l.94 2.06.94-2.06 2.06-.94-2.06-.94-.94-2.06-.94 2.06-2.06.94z\"/><path d=\"M17.41 7.96l-1.37-1.37c-.4-.4-.92-.59-1.43-.59-.52 0-1.04.2-1.43.59L10.3 9.45l-7.72 7.72c-.78.78-.78 2.05 0 2.83L4 21.41c.39.39.9.59 1.41.59.51 0 1.02-.2 1.41-.59l7.78-7.78 2.81-2.81c.8-.78.8-2.07 0-2.86zM5.41 20L4 18.59l7.72-7.72 1.47 1.35L5.41 20z\"/>\n",
              "  </svg>\n",
              "      </button>\n",
              "      \n",
              "  <style>\n",
              "    .colab-df-container {\n",
              "      display:flex;\n",
              "      flex-wrap:wrap;\n",
              "      gap: 12px;\n",
              "    }\n",
              "\n",
              "    .colab-df-convert {\n",
              "      background-color: #E8F0FE;\n",
              "      border: none;\n",
              "      border-radius: 50%;\n",
              "      cursor: pointer;\n",
              "      display: none;\n",
              "      fill: #1967D2;\n",
              "      height: 32px;\n",
              "      padding: 0 0 0 0;\n",
              "      width: 32px;\n",
              "    }\n",
              "\n",
              "    .colab-df-convert:hover {\n",
              "      background-color: #E2EBFA;\n",
              "      box-shadow: 0px 1px 2px rgba(60, 64, 67, 0.3), 0px 1px 3px 1px rgba(60, 64, 67, 0.15);\n",
              "      fill: #174EA6;\n",
              "    }\n",
              "\n",
              "    [theme=dark] .colab-df-convert {\n",
              "      background-color: #3B4455;\n",
              "      fill: #D2E3FC;\n",
              "    }\n",
              "\n",
              "    [theme=dark] .colab-df-convert:hover {\n",
              "      background-color: #434B5C;\n",
              "      box-shadow: 0px 1px 3px 1px rgba(0, 0, 0, 0.15);\n",
              "      filter: drop-shadow(0px 1px 2px rgba(0, 0, 0, 0.3));\n",
              "      fill: #FFFFFF;\n",
              "    }\n",
              "  </style>\n",
              "\n",
              "      <script>\n",
              "        const buttonEl =\n",
              "          document.querySelector('#df-3c2fb333-cfd1-4b5a-9811-4d75add628b8 button.colab-df-convert');\n",
              "        buttonEl.style.display =\n",
              "          google.colab.kernel.accessAllowed ? 'block' : 'none';\n",
              "\n",
              "        async function convertToInteractive(key) {\n",
              "          const element = document.querySelector('#df-3c2fb333-cfd1-4b5a-9811-4d75add628b8');\n",
              "          const dataTable =\n",
              "            await google.colab.kernel.invokeFunction('convertToInteractive',\n",
              "                                                     [key], {});\n",
              "          if (!dataTable) return;\n",
              "\n",
              "          const docLinkHtml = 'Like what you see? Visit the ' +\n",
              "            '<a target=\"_blank\" href=https://colab.research.google.com/notebooks/data_table.ipynb>data table notebook</a>'\n",
              "            + ' to learn more about interactive tables.';\n",
              "          element.innerHTML = '';\n",
              "          dataTable['output_type'] = 'display_data';\n",
              "          await google.colab.output.renderOutput(dataTable, element);\n",
              "          const docLink = document.createElement('div');\n",
              "          docLink.innerHTML = docLinkHtml;\n",
              "          element.appendChild(docLink);\n",
              "        }\n",
              "      </script>\n",
              "    </div>\n",
              "  </div>\n",
              "  "
            ]
          },
          "metadata": {},
          "execution_count": 30
        }
      ]
    },
    {
      "cell_type": "code",
      "source": [
        "concat_ngos.to_csv(\"ngos_hostings_2.csv\", encoding='utf-8')"
      ],
      "metadata": {
        "id": "Gq_sE5-XLKj7"
      },
      "execution_count": null,
      "outputs": []
    },
    {
      "cell_type": "markdown",
      "source": [
        "### testing (not nessesary to run)"
      ],
      "metadata": {
        "id": "w-UXqQdVJ-9M"
      }
    },
    {
      "cell_type": "code",
      "source": [
        "import ipinfo\n",
        "from util import access_token_ipinfo\n",
        "\n",
        "\n",
        "handler = ipinfo.getHandler(access_token_ipinfo)"
      ],
      "metadata": {
        "id": "gYIcymsXe1FP",
        "colab": {
          "base_uri": "https://localhost:8080/",
          "height": 374
        },
        "outputId": "ab0bdcc7-6184-4e85-e64a-96af971dc400"
      },
      "execution_count": 1,
      "outputs": [
        {
          "output_type": "error",
          "ename": "ModuleNotFoundError",
          "evalue": "ignored",
          "traceback": [
            "\u001b[0;31m---------------------------------------------------------------------------\u001b[0m",
            "\u001b[0;31mModuleNotFoundError\u001b[0m                       Traceback (most recent call last)",
            "\u001b[0;32m<ipython-input-1-4d1c6b50598b>\u001b[0m in \u001b[0;36m<module>\u001b[0;34m()\u001b[0m\n\u001b[0;32m----> 1\u001b[0;31m \u001b[0;32mimport\u001b[0m \u001b[0mipinfo\u001b[0m\u001b[0;34m\u001b[0m\u001b[0;34m\u001b[0m\u001b[0m\n\u001b[0m\u001b[1;32m      2\u001b[0m \u001b[0;32mfrom\u001b[0m \u001b[0mutil\u001b[0m \u001b[0;32mimport\u001b[0m \u001b[0maccess_token_ipinfo\u001b[0m\u001b[0;34m\u001b[0m\u001b[0;34m\u001b[0m\u001b[0m\n\u001b[1;32m      3\u001b[0m \u001b[0;34m\u001b[0m\u001b[0m\n\u001b[1;32m      4\u001b[0m \u001b[0;34m\u001b[0m\u001b[0m\n\u001b[1;32m      5\u001b[0m \u001b[0mhandler\u001b[0m \u001b[0;34m=\u001b[0m \u001b[0mipinfo\u001b[0m\u001b[0;34m.\u001b[0m\u001b[0mgetHandler\u001b[0m\u001b[0;34m(\u001b[0m\u001b[0maccess_token_ipinfo\u001b[0m\u001b[0;34m)\u001b[0m\u001b[0;34m\u001b[0m\u001b[0;34m\u001b[0m\u001b[0m\n",
            "\u001b[0;31mModuleNotFoundError\u001b[0m: No module named 'ipinfo'",
            "",
            "\u001b[0;31m---------------------------------------------------------------------------\u001b[0;32m\nNOTE: If your import is failing due to a missing package, you can\nmanually install dependencies using either !pip or !apt.\n\nTo view examples of installing some common dependencies, click the\n\"Open Examples\" button below.\n\u001b[0;31m---------------------------------------------------------------------------\u001b[0m\n"
          ],
          "errorDetails": {
            "actions": [
              {
                "action": "open_url",
                "actionText": "Open Examples",
                "url": "/notebooks/snippets/importing_libraries.ipynb"
              }
            ]
          }
        }
      ]
    },
    {
      "cell_type": "code",
      "source": [
        "#ip_address =\n",
        "details = handler.getDetails(\"194.58.90.161\")\n",
        "details.all"
      ],
      "metadata": {
        "colab": {
          "base_uri": "https://localhost:8080/"
        },
        "id": "pdzJybN4e5y6",
        "outputId": "644bce87-56ab-400f-c0e6-93e2ffc1f42e"
      },
      "execution_count": null,
      "outputs": [
        {
          "output_type": "execute_result",
          "data": {
            "text/plain": [
              "{'city': 'Moscow',\n",
              " 'country': 'RU',\n",
              " 'country_name': 'Russia',\n",
              " 'hostname': 'websg.ru',\n",
              " 'ip': '194.58.90.161',\n",
              " 'latitude': '55.7522',\n",
              " 'loc': '55.7522,37.6156',\n",
              " 'longitude': '37.6156',\n",
              " 'org': 'AS197695 Domain names registrar REG.RU, Ltd',\n",
              " 'postal': '101000',\n",
              " 'region': 'Moscow',\n",
              " 'timezone': 'Europe/Moscow'}"
            ]
          },
          "metadata": {},
          "execution_count": 23
        }
      ]
    },
    {
      "cell_type": "markdown",
      "source": [
        "Question: hostname is sometimes different from registrar/org.\n",
        "\n",
        "Answer: we need both"
      ],
      "metadata": {
        "id": "oVOWQkNLCpkC"
      }
    },
    {
      "cell_type": "code",
      "source": [
        "from pprint import pprint\n",
        "\n",
        "# test batch hosting check\n",
        "pprint(handler.getBatchDetails(['1.1.1.1','8.8.8.8','1.2.3.4/country']))"
      ],
      "metadata": {
        "colab": {
          "base_uri": "https://localhost:8080/"
        },
        "id": "YTYctFR8fuCn",
        "outputId": "ce82c7ce-7d55-4bbd-a375-4641f23e874b"
      },
      "execution_count": null,
      "outputs": [
        {
          "output_type": "stream",
          "name": "stdout",
          "text": [
            "{'1.1.1.1': {'anycast': True,\n",
            "             'city': 'Los Angeles',\n",
            "             'country': 'US',\n",
            "             'country_name': 'United States',\n",
            "             'hostname': 'one.one.one.one',\n",
            "             'ip': '1.1.1.1',\n",
            "             'latitude': '34.0522',\n",
            "             'loc': '34.0522,-118.2437',\n",
            "             'longitude': '-118.2437',\n",
            "             'org': 'AS13335 Cloudflare, Inc.',\n",
            "             'postal': '90076',\n",
            "             'region': 'California',\n",
            "             'timezone': 'America/Los_Angeles'},\n",
            " '1.2.3.4/country': 'AU',\n",
            " '8.8.8.8': {'anycast': True,\n",
            "             'city': 'Mountain View',\n",
            "             'country': 'US',\n",
            "             'country_name': 'United States',\n",
            "             'hostname': 'dns.google',\n",
            "             'ip': '8.8.8.8',\n",
            "             'latitude': '37.4056',\n",
            "             'loc': '37.4056,-122.0775',\n",
            "             'longitude': '-122.0775',\n",
            "             'org': 'AS15169 Google LLC',\n",
            "             'postal': '94043',\n",
            "             'region': 'California',\n",
            "             'timezone': 'America/Los_Angeles'}}\n"
          ]
        }
      ]
    }
  ]
}