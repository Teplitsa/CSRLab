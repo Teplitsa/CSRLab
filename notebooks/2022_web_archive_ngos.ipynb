{
  "cells": [
    {
      "cell_type": "markdown",
      "metadata": {
        "id": "yThfDGMrxKIq"
      },
      "source": [
        "# Adding NGOs we are researching to web archive\n",
        "\n",
        "Web archive allows to make snapshots of a web page and save it in its current state. We want to save all pages of each NGO website as a snapshot (also called memento in official docs https://archive.readme.io/docs/creating-a-snapshot). The snapshots are stored indefinetely, however, if the official owner of the website formally asks, a snapshot can be deleted from the web archive, although I suspect that not many people generally know about this.\n",
        "\n",
        "First step we load the data\n",
        "\n",
        "### Data"
      ]
    },
    {
      "cell_type": "code",
      "execution_count": 1,
      "metadata": {
        "id": "mcKv-DI32qzT"
      },
      "outputs": [],
      "source": [
        "import pandas as pd\n",
        "import requests, json, os\n",
        "from json.decoder import JSONDecodeError\n",
        "import json"
      ]
    },
    {
      "cell_type": "code",
      "execution_count": 2,
      "metadata": {
        "colab": {
          "base_uri": "https://localhost:8080/",
          "height": 305
        },
        "id": "mxfqPuMt0-e6",
        "outputId": "a6c666a8-4886-44b0-9482-e5d5eb0508c9"
      },
      "outputs": [
        {
          "output_type": "execute_result",
          "data": {
            "text/plain": [
              "               ogrn          website  bin_robots  bin_sitemap  bin_fb  bin_vk  \\\n",
              "9540  1217700385539    ngolikeyou.ru         1.0          1.0     1.0     1.0   \n",
              "9541  1214600009524         kcmol.ru         1.0          0.0     0.0     1.0   \n",
              "9542  1217700396330       gorneks.ru         1.0          1.0     0.0     0.0   \n",
              "9543  1213300006920   ano-nachalo.ru         1.0          0.0     0.0     0.0   \n",
              "9544  1212300052249  blagfond-zzh.ru         0.0          1.0     0.0     0.0   \n",
              "\n",
              "      bin_ig  bin_ok  bin_youtube  bin_tiktok  bin_donation  wcag_score  \\\n",
              "9540     1.0     0.0          1.0         0.0           1.0    0.884615   \n",
              "9541     1.0     0.0          0.0         0.0           1.0    0.812500   \n",
              "9542     0.0     0.0          0.0         0.0           0.0    0.934783   \n",
              "9543     0.0     0.0          0.0         0.0           0.0    0.896552   \n",
              "9544     0.0     0.0          0.0         0.0           1.0    1.000000   \n",
              "\n",
              "      mean_page_speed  bin_title  bin_headings  bin_mob_friendly  bin_ssl  \\\n",
              "9540         0.970000        1.0           0.0               1.0      NaN   \n",
              "9541         0.573333        1.0           1.0               1.0      0.0   \n",
              "9542         0.780000        1.0           0.0               NaN      1.0   \n",
              "9543         0.996667        1.0           1.0               NaN      0.0   \n",
              "9544         0.413333        1.0           1.0               NaN      1.0   \n",
              "\n",
              "      bin_socnet  \n",
              "9540    0.666667  \n",
              "9541    0.333333  \n",
              "9542    0.000000  \n",
              "9543    0.000000  \n",
              "9544    0.000000  "
            ],
            "text/html": [
              "\n",
              "  <div id=\"df-593002e0-22ca-495a-8487-8deb5f6e33d9\">\n",
              "    <div class=\"colab-df-container\">\n",
              "      <div>\n",
              "<style scoped>\n",
              "    .dataframe tbody tr th:only-of-type {\n",
              "        vertical-align: middle;\n",
              "    }\n",
              "\n",
              "    .dataframe tbody tr th {\n",
              "        vertical-align: top;\n",
              "    }\n",
              "\n",
              "    .dataframe thead th {\n",
              "        text-align: right;\n",
              "    }\n",
              "</style>\n",
              "<table border=\"1\" class=\"dataframe\">\n",
              "  <thead>\n",
              "    <tr style=\"text-align: right;\">\n",
              "      <th></th>\n",
              "      <th>ogrn</th>\n",
              "      <th>website</th>\n",
              "      <th>bin_robots</th>\n",
              "      <th>bin_sitemap</th>\n",
              "      <th>bin_fb</th>\n",
              "      <th>bin_vk</th>\n",
              "      <th>bin_ig</th>\n",
              "      <th>bin_ok</th>\n",
              "      <th>bin_youtube</th>\n",
              "      <th>bin_tiktok</th>\n",
              "      <th>bin_donation</th>\n",
              "      <th>wcag_score</th>\n",
              "      <th>mean_page_speed</th>\n",
              "      <th>bin_title</th>\n",
              "      <th>bin_headings</th>\n",
              "      <th>bin_mob_friendly</th>\n",
              "      <th>bin_ssl</th>\n",
              "      <th>bin_socnet</th>\n",
              "    </tr>\n",
              "  </thead>\n",
              "  <tbody>\n",
              "    <tr>\n",
              "      <th>9540</th>\n",
              "      <td>1217700385539</td>\n",
              "      <td>ngolikeyou.ru</td>\n",
              "      <td>1.0</td>\n",
              "      <td>1.0</td>\n",
              "      <td>1.0</td>\n",
              "      <td>1.0</td>\n",
              "      <td>1.0</td>\n",
              "      <td>0.0</td>\n",
              "      <td>1.0</td>\n",
              "      <td>0.0</td>\n",
              "      <td>1.0</td>\n",
              "      <td>0.884615</td>\n",
              "      <td>0.970000</td>\n",
              "      <td>1.0</td>\n",
              "      <td>0.0</td>\n",
              "      <td>1.0</td>\n",
              "      <td>NaN</td>\n",
              "      <td>0.666667</td>\n",
              "    </tr>\n",
              "    <tr>\n",
              "      <th>9541</th>\n",
              "      <td>1214600009524</td>\n",
              "      <td>kcmol.ru</td>\n",
              "      <td>1.0</td>\n",
              "      <td>0.0</td>\n",
              "      <td>0.0</td>\n",
              "      <td>1.0</td>\n",
              "      <td>1.0</td>\n",
              "      <td>0.0</td>\n",
              "      <td>0.0</td>\n",
              "      <td>0.0</td>\n",
              "      <td>1.0</td>\n",
              "      <td>0.812500</td>\n",
              "      <td>0.573333</td>\n",
              "      <td>1.0</td>\n",
              "      <td>1.0</td>\n",
              "      <td>1.0</td>\n",
              "      <td>0.0</td>\n",
              "      <td>0.333333</td>\n",
              "    </tr>\n",
              "    <tr>\n",
              "      <th>9542</th>\n",
              "      <td>1217700396330</td>\n",
              "      <td>gorneks.ru</td>\n",
              "      <td>1.0</td>\n",
              "      <td>1.0</td>\n",
              "      <td>0.0</td>\n",
              "      <td>0.0</td>\n",
              "      <td>0.0</td>\n",
              "      <td>0.0</td>\n",
              "      <td>0.0</td>\n",
              "      <td>0.0</td>\n",
              "      <td>0.0</td>\n",
              "      <td>0.934783</td>\n",
              "      <td>0.780000</td>\n",
              "      <td>1.0</td>\n",
              "      <td>0.0</td>\n",
              "      <td>NaN</td>\n",
              "      <td>1.0</td>\n",
              "      <td>0.000000</td>\n",
              "    </tr>\n",
              "    <tr>\n",
              "      <th>9543</th>\n",
              "      <td>1213300006920</td>\n",
              "      <td>ano-nachalo.ru</td>\n",
              "      <td>1.0</td>\n",
              "      <td>0.0</td>\n",
              "      <td>0.0</td>\n",
              "      <td>0.0</td>\n",
              "      <td>0.0</td>\n",
              "      <td>0.0</td>\n",
              "      <td>0.0</td>\n",
              "      <td>0.0</td>\n",
              "      <td>0.0</td>\n",
              "      <td>0.896552</td>\n",
              "      <td>0.996667</td>\n",
              "      <td>1.0</td>\n",
              "      <td>1.0</td>\n",
              "      <td>NaN</td>\n",
              "      <td>0.0</td>\n",
              "      <td>0.000000</td>\n",
              "    </tr>\n",
              "    <tr>\n",
              "      <th>9544</th>\n",
              "      <td>1212300052249</td>\n",
              "      <td>blagfond-zzh.ru</td>\n",
              "      <td>0.0</td>\n",
              "      <td>1.0</td>\n",
              "      <td>0.0</td>\n",
              "      <td>0.0</td>\n",
              "      <td>0.0</td>\n",
              "      <td>0.0</td>\n",
              "      <td>0.0</td>\n",
              "      <td>0.0</td>\n",
              "      <td>1.0</td>\n",
              "      <td>1.000000</td>\n",
              "      <td>0.413333</td>\n",
              "      <td>1.0</td>\n",
              "      <td>1.0</td>\n",
              "      <td>NaN</td>\n",
              "      <td>1.0</td>\n",
              "      <td>0.000000</td>\n",
              "    </tr>\n",
              "  </tbody>\n",
              "</table>\n",
              "</div>\n",
              "      <button class=\"colab-df-convert\" onclick=\"convertToInteractive('df-593002e0-22ca-495a-8487-8deb5f6e33d9')\"\n",
              "              title=\"Convert this dataframe to an interactive table.\"\n",
              "              style=\"display:none;\">\n",
              "        \n",
              "  <svg xmlns=\"http://www.w3.org/2000/svg\" height=\"24px\"viewBox=\"0 0 24 24\"\n",
              "       width=\"24px\">\n",
              "    <path d=\"M0 0h24v24H0V0z\" fill=\"none\"/>\n",
              "    <path d=\"M18.56 5.44l.94 2.06.94-2.06 2.06-.94-2.06-.94-.94-2.06-.94 2.06-2.06.94zm-11 1L8.5 8.5l.94-2.06 2.06-.94-2.06-.94L8.5 2.5l-.94 2.06-2.06.94zm10 10l.94 2.06.94-2.06 2.06-.94-2.06-.94-.94-2.06-.94 2.06-2.06.94z\"/><path d=\"M17.41 7.96l-1.37-1.37c-.4-.4-.92-.59-1.43-.59-.52 0-1.04.2-1.43.59L10.3 9.45l-7.72 7.72c-.78.78-.78 2.05 0 2.83L4 21.41c.39.39.9.59 1.41.59.51 0 1.02-.2 1.41-.59l7.78-7.78 2.81-2.81c.8-.78.8-2.07 0-2.86zM5.41 20L4 18.59l7.72-7.72 1.47 1.35L5.41 20z\"/>\n",
              "  </svg>\n",
              "      </button>\n",
              "      \n",
              "  <style>\n",
              "    .colab-df-container {\n",
              "      display:flex;\n",
              "      flex-wrap:wrap;\n",
              "      gap: 12px;\n",
              "    }\n",
              "\n",
              "    .colab-df-convert {\n",
              "      background-color: #E8F0FE;\n",
              "      border: none;\n",
              "      border-radius: 50%;\n",
              "      cursor: pointer;\n",
              "      display: none;\n",
              "      fill: #1967D2;\n",
              "      height: 32px;\n",
              "      padding: 0 0 0 0;\n",
              "      width: 32px;\n",
              "    }\n",
              "\n",
              "    .colab-df-convert:hover {\n",
              "      background-color: #E2EBFA;\n",
              "      box-shadow: 0px 1px 2px rgba(60, 64, 67, 0.3), 0px 1px 3px 1px rgba(60, 64, 67, 0.15);\n",
              "      fill: #174EA6;\n",
              "    }\n",
              "\n",
              "    [theme=dark] .colab-df-convert {\n",
              "      background-color: #3B4455;\n",
              "      fill: #D2E3FC;\n",
              "    }\n",
              "\n",
              "    [theme=dark] .colab-df-convert:hover {\n",
              "      background-color: #434B5C;\n",
              "      box-shadow: 0px 1px 3px 1px rgba(0, 0, 0, 0.15);\n",
              "      filter: drop-shadow(0px 1px 2px rgba(0, 0, 0, 0.3));\n",
              "      fill: #FFFFFF;\n",
              "    }\n",
              "  </style>\n",
              "\n",
              "      <script>\n",
              "        const buttonEl =\n",
              "          document.querySelector('#df-593002e0-22ca-495a-8487-8deb5f6e33d9 button.colab-df-convert');\n",
              "        buttonEl.style.display =\n",
              "          google.colab.kernel.accessAllowed ? 'block' : 'none';\n",
              "\n",
              "        async function convertToInteractive(key) {\n",
              "          const element = document.querySelector('#df-593002e0-22ca-495a-8487-8deb5f6e33d9');\n",
              "          const dataTable =\n",
              "            await google.colab.kernel.invokeFunction('convertToInteractive',\n",
              "                                                     [key], {});\n",
              "          if (!dataTable) return;\n",
              "\n",
              "          const docLinkHtml = 'Like what you see? Visit the ' +\n",
              "            '<a target=\"_blank\" href=https://colab.research.google.com/notebooks/data_table.ipynb>data table notebook</a>'\n",
              "            + ' to learn more about interactive tables.';\n",
              "          element.innerHTML = '';\n",
              "          dataTable['output_type'] = 'display_data';\n",
              "          await google.colab.output.renderOutput(dataTable, element);\n",
              "          const docLink = document.createElement('div');\n",
              "          docLink.innerHTML = docLinkHtml;\n",
              "          element.appendChild(docLink);\n",
              "        }\n",
              "      </script>\n",
              "    </div>\n",
              "  </div>\n",
              "  "
            ]
          },
          "metadata": {},
          "execution_count": 2
        }
      ],
      "source": [
        "data_url = \"https://raw.githubusercontent.com/Teplitsa/CSRLab/main/data/2022_lab_index_report.csv\"\n",
        "index_report_data = pd.read_csv(data_url, encoding='utf-8')\n",
        "index_report_data.tail()"
      ]
    },
    {
      "cell_type": "code",
      "execution_count": 3,
      "metadata": {
        "colab": {
          "base_uri": "https://localhost:8080/"
        },
        "id": "bXMmradXRswh",
        "outputId": "6953f9cf-a6f1-478b-ef26-2e5026156f48"
      },
      "outputs": [
        {
          "output_type": "execute_result",
          "data": {
            "text/plain": [
              "9545"
            ]
          },
          "metadata": {},
          "execution_count": 3
        }
      ],
      "source": [
        "len(index_report_data)"
      ]
    },
    {
      "cell_type": "code",
      "execution_count": 4,
      "metadata": {
        "colab": {
          "base_uri": "https://localhost:8080/",
          "height": 496
        },
        "id": "LzBQfQZA3usJ",
        "outputId": "9ad8f93d-41aa-47f3-fd01-9fc73ff40cde"
      },
      "outputs": [
        {
          "output_type": "execute_result",
          "data": {
            "text/plain": [
              "            ogrn         website             regionName  \\\n",
              "0  1026800000666    profobr68.ru     Тамбовская область   \n",
              "1  1022900002861  проф-севмаш.рф  Архангельская область   \n",
              "2  1025200008140      vdpor52.ru  Нижегородская область   \n",
              "3  1037739471220     orthonet.ru                 Москва   \n",
              "4  1085200004450   vdpo-sarov.ru  Нижегородская область   \n",
              "\n",
              "                minjustForm  \\\n",
              "0     Профессиональный союз   \n",
              "1     Профессиональный союз   \n",
              "2  Общественная организация   \n",
              "3  Общественная организация   \n",
              "4  Общественная организация   \n",
              "\n",
              "                                           shortName     regDate  \\\n",
              "0  ТАМБОВСКАЯ ОБЛАСТНАЯ ОРГАНИЗАЦИЯ ОБЩЕРОССИЙСКО...  1938-11-10   \n",
              "1                  МОО - ППО АО \"ПО \"СЕВМАШ\" СУДПРОФ  1942-03-15   \n",
              "2  НИЖЕГОРОДСКОЕ ОБЛАСТНОЕ ОТДЕЛЕНИЕ ВДПО, ВДПО Н...  1958-06-20   \n",
              "3                              СОЮЗ ПИСАТЕЛЕЙ РОССИИ  1958-12-07   \n",
              "4                                   САРОВСКОЕ \"ВДПО\"  1962-03-30   \n",
              "\n",
              "                                           mainOkved  \\\n",
              "0               Деятельность профессиональных союзов   \n",
              "1               Деятельность профессиональных союзов   \n",
              "2  Деятельность прочих общественных организаций, ...   \n",
              "3  Деятельность профессиональных членских организ...   \n",
              "4  Деятельность прочих общественных организаций, ...   \n",
              "\n",
              "                opfCombined  \\\n",
              "0   Профсоюзные организации   \n",
              "1   Профсоюзные организации   \n",
              "2  Общественные организации   \n",
              "3  Общественные организации   \n",
              "4  Общественные организации   \n",
              "\n",
              "                                       okvedCombined  \\\n",
              "0               Деятельность профессиональных союзов   \n",
              "1               Деятельность профессиональных союзов   \n",
              "2  Деятельность прочих общественных организаций, ...   \n",
              "3  Деятельность профессиональных членских организ...   \n",
              "4  Деятельность прочих общественных организаций, ...   \n",
              "\n",
              "                  vedSimple  websiteCreationDate  \n",
              "0                 Профсоюзы  2016-01-15 19:31:34  \n",
              "1                 Профсоюзы  2018-08-27 11:35:06  \n",
              "2  Общественные организации  2016-09-28 12:05:06  \n",
              "3                 Профсоюзы  2005-11-24 21:00:00  \n",
              "4  Общественные организации   2021-04-15 8:10:11  "
            ],
            "text/html": [
              "\n",
              "  <div id=\"df-e3a9a9d9-506d-44bb-a2b8-1956889586d1\">\n",
              "    <div class=\"colab-df-container\">\n",
              "      <div>\n",
              "<style scoped>\n",
              "    .dataframe tbody tr th:only-of-type {\n",
              "        vertical-align: middle;\n",
              "    }\n",
              "\n",
              "    .dataframe tbody tr th {\n",
              "        vertical-align: top;\n",
              "    }\n",
              "\n",
              "    .dataframe thead th {\n",
              "        text-align: right;\n",
              "    }\n",
              "</style>\n",
              "<table border=\"1\" class=\"dataframe\">\n",
              "  <thead>\n",
              "    <tr style=\"text-align: right;\">\n",
              "      <th></th>\n",
              "      <th>ogrn</th>\n",
              "      <th>website</th>\n",
              "      <th>regionName</th>\n",
              "      <th>minjustForm</th>\n",
              "      <th>shortName</th>\n",
              "      <th>regDate</th>\n",
              "      <th>mainOkved</th>\n",
              "      <th>opfCombined</th>\n",
              "      <th>okvedCombined</th>\n",
              "      <th>vedSimple</th>\n",
              "      <th>websiteCreationDate</th>\n",
              "    </tr>\n",
              "  </thead>\n",
              "  <tbody>\n",
              "    <tr>\n",
              "      <th>0</th>\n",
              "      <td>1026800000666</td>\n",
              "      <td>profobr68.ru</td>\n",
              "      <td>Тамбовская область</td>\n",
              "      <td>Профессиональный союз</td>\n",
              "      <td>ТАМБОВСКАЯ ОБЛАСТНАЯ ОРГАНИЗАЦИЯ ОБЩЕРОССИЙСКО...</td>\n",
              "      <td>1938-11-10</td>\n",
              "      <td>Деятельность профессиональных союзов</td>\n",
              "      <td>Профсоюзные организации</td>\n",
              "      <td>Деятельность профессиональных союзов</td>\n",
              "      <td>Профсоюзы</td>\n",
              "      <td>2016-01-15 19:31:34</td>\n",
              "    </tr>\n",
              "    <tr>\n",
              "      <th>1</th>\n",
              "      <td>1022900002861</td>\n",
              "      <td>проф-севмаш.рф</td>\n",
              "      <td>Архангельская область</td>\n",
              "      <td>Профессиональный союз</td>\n",
              "      <td>МОО - ППО АО \"ПО \"СЕВМАШ\" СУДПРОФ</td>\n",
              "      <td>1942-03-15</td>\n",
              "      <td>Деятельность профессиональных союзов</td>\n",
              "      <td>Профсоюзные организации</td>\n",
              "      <td>Деятельность профессиональных союзов</td>\n",
              "      <td>Профсоюзы</td>\n",
              "      <td>2018-08-27 11:35:06</td>\n",
              "    </tr>\n",
              "    <tr>\n",
              "      <th>2</th>\n",
              "      <td>1025200008140</td>\n",
              "      <td>vdpor52.ru</td>\n",
              "      <td>Нижегородская область</td>\n",
              "      <td>Общественная организация</td>\n",
              "      <td>НИЖЕГОРОДСКОЕ ОБЛАСТНОЕ ОТДЕЛЕНИЕ ВДПО, ВДПО Н...</td>\n",
              "      <td>1958-06-20</td>\n",
              "      <td>Деятельность прочих общественных организаций, ...</td>\n",
              "      <td>Общественные организации</td>\n",
              "      <td>Деятельность прочих общественных организаций, ...</td>\n",
              "      <td>Общественные организации</td>\n",
              "      <td>2016-09-28 12:05:06</td>\n",
              "    </tr>\n",
              "    <tr>\n",
              "      <th>3</th>\n",
              "      <td>1037739471220</td>\n",
              "      <td>orthonet.ru</td>\n",
              "      <td>Москва</td>\n",
              "      <td>Общественная организация</td>\n",
              "      <td>СОЮЗ ПИСАТЕЛЕЙ РОССИИ</td>\n",
              "      <td>1958-12-07</td>\n",
              "      <td>Деятельность профессиональных членских организ...</td>\n",
              "      <td>Общественные организации</td>\n",
              "      <td>Деятельность профессиональных членских организ...</td>\n",
              "      <td>Профсоюзы</td>\n",
              "      <td>2005-11-24 21:00:00</td>\n",
              "    </tr>\n",
              "    <tr>\n",
              "      <th>4</th>\n",
              "      <td>1085200004450</td>\n",
              "      <td>vdpo-sarov.ru</td>\n",
              "      <td>Нижегородская область</td>\n",
              "      <td>Общественная организация</td>\n",
              "      <td>САРОВСКОЕ \"ВДПО\"</td>\n",
              "      <td>1962-03-30</td>\n",
              "      <td>Деятельность прочих общественных организаций, ...</td>\n",
              "      <td>Общественные организации</td>\n",
              "      <td>Деятельность прочих общественных организаций, ...</td>\n",
              "      <td>Общественные организации</td>\n",
              "      <td>2021-04-15 8:10:11</td>\n",
              "    </tr>\n",
              "  </tbody>\n",
              "</table>\n",
              "</div>\n",
              "      <button class=\"colab-df-convert\" onclick=\"convertToInteractive('df-e3a9a9d9-506d-44bb-a2b8-1956889586d1')\"\n",
              "              title=\"Convert this dataframe to an interactive table.\"\n",
              "              style=\"display:none;\">\n",
              "        \n",
              "  <svg xmlns=\"http://www.w3.org/2000/svg\" height=\"24px\"viewBox=\"0 0 24 24\"\n",
              "       width=\"24px\">\n",
              "    <path d=\"M0 0h24v24H0V0z\" fill=\"none\"/>\n",
              "    <path d=\"M18.56 5.44l.94 2.06.94-2.06 2.06-.94-2.06-.94-.94-2.06-.94 2.06-2.06.94zm-11 1L8.5 8.5l.94-2.06 2.06-.94-2.06-.94L8.5 2.5l-.94 2.06-2.06.94zm10 10l.94 2.06.94-2.06 2.06-.94-2.06-.94-.94-2.06-.94 2.06-2.06.94z\"/><path d=\"M17.41 7.96l-1.37-1.37c-.4-.4-.92-.59-1.43-.59-.52 0-1.04.2-1.43.59L10.3 9.45l-7.72 7.72c-.78.78-.78 2.05 0 2.83L4 21.41c.39.39.9.59 1.41.59.51 0 1.02-.2 1.41-.59l7.78-7.78 2.81-2.81c.8-.78.8-2.07 0-2.86zM5.41 20L4 18.59l7.72-7.72 1.47 1.35L5.41 20z\"/>\n",
              "  </svg>\n",
              "      </button>\n",
              "      \n",
              "  <style>\n",
              "    .colab-df-container {\n",
              "      display:flex;\n",
              "      flex-wrap:wrap;\n",
              "      gap: 12px;\n",
              "    }\n",
              "\n",
              "    .colab-df-convert {\n",
              "      background-color: #E8F0FE;\n",
              "      border: none;\n",
              "      border-radius: 50%;\n",
              "      cursor: pointer;\n",
              "      display: none;\n",
              "      fill: #1967D2;\n",
              "      height: 32px;\n",
              "      padding: 0 0 0 0;\n",
              "      width: 32px;\n",
              "    }\n",
              "\n",
              "    .colab-df-convert:hover {\n",
              "      background-color: #E2EBFA;\n",
              "      box-shadow: 0px 1px 2px rgba(60, 64, 67, 0.3), 0px 1px 3px 1px rgba(60, 64, 67, 0.15);\n",
              "      fill: #174EA6;\n",
              "    }\n",
              "\n",
              "    [theme=dark] .colab-df-convert {\n",
              "      background-color: #3B4455;\n",
              "      fill: #D2E3FC;\n",
              "    }\n",
              "\n",
              "    [theme=dark] .colab-df-convert:hover {\n",
              "      background-color: #434B5C;\n",
              "      box-shadow: 0px 1px 3px 1px rgba(0, 0, 0, 0.15);\n",
              "      filter: drop-shadow(0px 1px 2px rgba(0, 0, 0, 0.3));\n",
              "      fill: #FFFFFF;\n",
              "    }\n",
              "  </style>\n",
              "\n",
              "      <script>\n",
              "        const buttonEl =\n",
              "          document.querySelector('#df-e3a9a9d9-506d-44bb-a2b8-1956889586d1 button.colab-df-convert');\n",
              "        buttonEl.style.display =\n",
              "          google.colab.kernel.accessAllowed ? 'block' : 'none';\n",
              "\n",
              "        async function convertToInteractive(key) {\n",
              "          const element = document.querySelector('#df-e3a9a9d9-506d-44bb-a2b8-1956889586d1');\n",
              "          const dataTable =\n",
              "            await google.colab.kernel.invokeFunction('convertToInteractive',\n",
              "                                                     [key], {});\n",
              "          if (!dataTable) return;\n",
              "\n",
              "          const docLinkHtml = 'Like what you see? Visit the ' +\n",
              "            '<a target=\"_blank\" href=https://colab.research.google.com/notebooks/data_table.ipynb>data table notebook</a>'\n",
              "            + ' to learn more about interactive tables.';\n",
              "          element.innerHTML = '';\n",
              "          dataTable['output_type'] = 'display_data';\n",
              "          await google.colab.output.renderOutput(dataTable, element);\n",
              "          const docLink = document.createElement('div');\n",
              "          docLink.innerHTML = docLinkHtml;\n",
              "          element.appendChild(docLink);\n",
              "        }\n",
              "      </script>\n",
              "    </div>\n",
              "  </div>\n",
              "  "
            ]
          },
          "metadata": {},
          "execution_count": 4
        }
      ],
      "source": [
        "data_url = \"https://raw.githubusercontent.com/Teplitsa/CSRLab/main/data/2022_lab_selected_ngos_data.csv\"\n",
        "selected_ngos_data = pd.read_csv(data_url, encoding='utf-8')\n",
        "selected_ngos_data.head()"
      ]
    },
    {
      "cell_type": "code",
      "execution_count": 5,
      "metadata": {
        "colab": {
          "base_uri": "https://localhost:8080/"
        },
        "id": "_wUttCU6RzXn",
        "outputId": "136f9c24-de3d-4547-a71f-8cfe922ec457"
      },
      "outputs": [
        {
          "output_type": "execute_result",
          "data": {
            "text/plain": [
              "9545"
            ]
          },
          "metadata": {},
          "execution_count": 5
        }
      ],
      "source": [
        "len(selected_ngos_data)"
      ]
    },
    {
      "cell_type": "markdown",
      "metadata": {
        "id": "2t-hF7DlR2-x"
      },
      "source": [
        "It the same dataset just with different columns. It's kind of strange that it is split into two dataframes, we are going to merge it in one based on two columns -- *website* and *ogrn*."
      ]
    },
    {
      "cell_type": "code",
      "execution_count": 6,
      "metadata": {
        "id": "AcbjATWlS9TJ"
      },
      "outputs": [],
      "source": [
        "concat_ngos = pd.merge(\n",
        "    index_report_data,\n",
        "    selected_ngos_data,\n",
        "    how=\"outer\",\n",
        "    on=[\"ogrn\", \"website\"],\n",
        "    sort=False,\n",
        "    left_index=False,\n",
        "    right_index=False,\n",
        ")"
      ]
    },
    {
      "cell_type": "code",
      "execution_count": 7,
      "metadata": {
        "colab": {
          "base_uri": "https://localhost:8080/",
          "height": 525
        },
        "id": "zjLfiroYVUE3",
        "outputId": "cb46febd-333c-4874-91e7-e0213fada8f0"
      },
      "outputs": [
        {
          "output_type": "execute_result",
          "data": {
            "text/plain": [
              "            ogrn         website  bin_robots  bin_sitemap  bin_fb  bin_vk  \\\n",
              "0  1026800000666    profobr68.ru         1.0          1.0     0.0     0.0   \n",
              "1  1022900002861  проф-севмаш.рф         1.0          0.0     0.0     1.0   \n",
              "2  1025200008140      vdpor52.ru         1.0          1.0     0.0     0.0   \n",
              "3  1037739471220     orthonet.ru         0.0          0.0     0.0     0.0   \n",
              "4  1085200004450   vdpo-sarov.ru         1.0          1.0     0.0     1.0   \n",
              "\n",
              "   bin_ig  bin_ok  bin_youtube  bin_tiktok  ...  bin_socnet  \\\n",
              "0     0.0     0.0          0.0         0.0  ...    0.000000   \n",
              "1     0.0     0.0          0.0         0.0  ...    0.166667   \n",
              "2     0.0     0.0          0.0         0.0  ...    0.000000   \n",
              "3     0.0     0.0          0.0         0.0  ...    0.000000   \n",
              "4     0.0     0.0          0.0         0.0  ...    0.166667   \n",
              "\n",
              "              regionName               minjustForm  \\\n",
              "0     Тамбовская область     Профессиональный союз   \n",
              "1  Архангельская область     Профессиональный союз   \n",
              "2  Нижегородская область  Общественная организация   \n",
              "3                 Москва  Общественная организация   \n",
              "4  Нижегородская область  Общественная организация   \n",
              "\n",
              "                                           shortName     regDate  \\\n",
              "0  ТАМБОВСКАЯ ОБЛАСТНАЯ ОРГАНИЗАЦИЯ ОБЩЕРОССИЙСКО...  1938-11-10   \n",
              "1                  МОО - ППО АО \"ПО \"СЕВМАШ\" СУДПРОФ  1942-03-15   \n",
              "2  НИЖЕГОРОДСКОЕ ОБЛАСТНОЕ ОТДЕЛЕНИЕ ВДПО, ВДПО Н...  1958-06-20   \n",
              "3                              СОЮЗ ПИСАТЕЛЕЙ РОССИИ  1958-12-07   \n",
              "4                                   САРОВСКОЕ \"ВДПО\"  1962-03-30   \n",
              "\n",
              "                                           mainOkved  \\\n",
              "0               Деятельность профессиональных союзов   \n",
              "1               Деятельность профессиональных союзов   \n",
              "2  Деятельность прочих общественных организаций, ...   \n",
              "3  Деятельность профессиональных членских организ...   \n",
              "4  Деятельность прочих общественных организаций, ...   \n",
              "\n",
              "                opfCombined  \\\n",
              "0   Профсоюзные организации   \n",
              "1   Профсоюзные организации   \n",
              "2  Общественные организации   \n",
              "3  Общественные организации   \n",
              "4  Общественные организации   \n",
              "\n",
              "                                       okvedCombined  \\\n",
              "0               Деятельность профессиональных союзов   \n",
              "1               Деятельность профессиональных союзов   \n",
              "2  Деятельность прочих общественных организаций, ...   \n",
              "3  Деятельность профессиональных членских организ...   \n",
              "4  Деятельность прочих общественных организаций, ...   \n",
              "\n",
              "                  vedSimple  websiteCreationDate  \n",
              "0                 Профсоюзы  2016-01-15 19:31:34  \n",
              "1                 Профсоюзы  2018-08-27 11:35:06  \n",
              "2  Общественные организации  2016-09-28 12:05:06  \n",
              "3                 Профсоюзы  2005-11-24 21:00:00  \n",
              "4  Общественные организации   2021-04-15 8:10:11  \n",
              "\n",
              "[5 rows x 27 columns]"
            ],
            "text/html": [
              "\n",
              "  <div id=\"df-6cb8f78e-6664-4867-8f4c-ae61d6127c99\">\n",
              "    <div class=\"colab-df-container\">\n",
              "      <div>\n",
              "<style scoped>\n",
              "    .dataframe tbody tr th:only-of-type {\n",
              "        vertical-align: middle;\n",
              "    }\n",
              "\n",
              "    .dataframe tbody tr th {\n",
              "        vertical-align: top;\n",
              "    }\n",
              "\n",
              "    .dataframe thead th {\n",
              "        text-align: right;\n",
              "    }\n",
              "</style>\n",
              "<table border=\"1\" class=\"dataframe\">\n",
              "  <thead>\n",
              "    <tr style=\"text-align: right;\">\n",
              "      <th></th>\n",
              "      <th>ogrn</th>\n",
              "      <th>website</th>\n",
              "      <th>bin_robots</th>\n",
              "      <th>bin_sitemap</th>\n",
              "      <th>bin_fb</th>\n",
              "      <th>bin_vk</th>\n",
              "      <th>bin_ig</th>\n",
              "      <th>bin_ok</th>\n",
              "      <th>bin_youtube</th>\n",
              "      <th>bin_tiktok</th>\n",
              "      <th>...</th>\n",
              "      <th>bin_socnet</th>\n",
              "      <th>regionName</th>\n",
              "      <th>minjustForm</th>\n",
              "      <th>shortName</th>\n",
              "      <th>regDate</th>\n",
              "      <th>mainOkved</th>\n",
              "      <th>opfCombined</th>\n",
              "      <th>okvedCombined</th>\n",
              "      <th>vedSimple</th>\n",
              "      <th>websiteCreationDate</th>\n",
              "    </tr>\n",
              "  </thead>\n",
              "  <tbody>\n",
              "    <tr>\n",
              "      <th>0</th>\n",
              "      <td>1026800000666</td>\n",
              "      <td>profobr68.ru</td>\n",
              "      <td>1.0</td>\n",
              "      <td>1.0</td>\n",
              "      <td>0.0</td>\n",
              "      <td>0.0</td>\n",
              "      <td>0.0</td>\n",
              "      <td>0.0</td>\n",
              "      <td>0.0</td>\n",
              "      <td>0.0</td>\n",
              "      <td>...</td>\n",
              "      <td>0.000000</td>\n",
              "      <td>Тамбовская область</td>\n",
              "      <td>Профессиональный союз</td>\n",
              "      <td>ТАМБОВСКАЯ ОБЛАСТНАЯ ОРГАНИЗАЦИЯ ОБЩЕРОССИЙСКО...</td>\n",
              "      <td>1938-11-10</td>\n",
              "      <td>Деятельность профессиональных союзов</td>\n",
              "      <td>Профсоюзные организации</td>\n",
              "      <td>Деятельность профессиональных союзов</td>\n",
              "      <td>Профсоюзы</td>\n",
              "      <td>2016-01-15 19:31:34</td>\n",
              "    </tr>\n",
              "    <tr>\n",
              "      <th>1</th>\n",
              "      <td>1022900002861</td>\n",
              "      <td>проф-севмаш.рф</td>\n",
              "      <td>1.0</td>\n",
              "      <td>0.0</td>\n",
              "      <td>0.0</td>\n",
              "      <td>1.0</td>\n",
              "      <td>0.0</td>\n",
              "      <td>0.0</td>\n",
              "      <td>0.0</td>\n",
              "      <td>0.0</td>\n",
              "      <td>...</td>\n",
              "      <td>0.166667</td>\n",
              "      <td>Архангельская область</td>\n",
              "      <td>Профессиональный союз</td>\n",
              "      <td>МОО - ППО АО \"ПО \"СЕВМАШ\" СУДПРОФ</td>\n",
              "      <td>1942-03-15</td>\n",
              "      <td>Деятельность профессиональных союзов</td>\n",
              "      <td>Профсоюзные организации</td>\n",
              "      <td>Деятельность профессиональных союзов</td>\n",
              "      <td>Профсоюзы</td>\n",
              "      <td>2018-08-27 11:35:06</td>\n",
              "    </tr>\n",
              "    <tr>\n",
              "      <th>2</th>\n",
              "      <td>1025200008140</td>\n",
              "      <td>vdpor52.ru</td>\n",
              "      <td>1.0</td>\n",
              "      <td>1.0</td>\n",
              "      <td>0.0</td>\n",
              "      <td>0.0</td>\n",
              "      <td>0.0</td>\n",
              "      <td>0.0</td>\n",
              "      <td>0.0</td>\n",
              "      <td>0.0</td>\n",
              "      <td>...</td>\n",
              "      <td>0.000000</td>\n",
              "      <td>Нижегородская область</td>\n",
              "      <td>Общественная организация</td>\n",
              "      <td>НИЖЕГОРОДСКОЕ ОБЛАСТНОЕ ОТДЕЛЕНИЕ ВДПО, ВДПО Н...</td>\n",
              "      <td>1958-06-20</td>\n",
              "      <td>Деятельность прочих общественных организаций, ...</td>\n",
              "      <td>Общественные организации</td>\n",
              "      <td>Деятельность прочих общественных организаций, ...</td>\n",
              "      <td>Общественные организации</td>\n",
              "      <td>2016-09-28 12:05:06</td>\n",
              "    </tr>\n",
              "    <tr>\n",
              "      <th>3</th>\n",
              "      <td>1037739471220</td>\n",
              "      <td>orthonet.ru</td>\n",
              "      <td>0.0</td>\n",
              "      <td>0.0</td>\n",
              "      <td>0.0</td>\n",
              "      <td>0.0</td>\n",
              "      <td>0.0</td>\n",
              "      <td>0.0</td>\n",
              "      <td>0.0</td>\n",
              "      <td>0.0</td>\n",
              "      <td>...</td>\n",
              "      <td>0.000000</td>\n",
              "      <td>Москва</td>\n",
              "      <td>Общественная организация</td>\n",
              "      <td>СОЮЗ ПИСАТЕЛЕЙ РОССИИ</td>\n",
              "      <td>1958-12-07</td>\n",
              "      <td>Деятельность профессиональных членских организ...</td>\n",
              "      <td>Общественные организации</td>\n",
              "      <td>Деятельность профессиональных членских организ...</td>\n",
              "      <td>Профсоюзы</td>\n",
              "      <td>2005-11-24 21:00:00</td>\n",
              "    </tr>\n",
              "    <tr>\n",
              "      <th>4</th>\n",
              "      <td>1085200004450</td>\n",
              "      <td>vdpo-sarov.ru</td>\n",
              "      <td>1.0</td>\n",
              "      <td>1.0</td>\n",
              "      <td>0.0</td>\n",
              "      <td>1.0</td>\n",
              "      <td>0.0</td>\n",
              "      <td>0.0</td>\n",
              "      <td>0.0</td>\n",
              "      <td>0.0</td>\n",
              "      <td>...</td>\n",
              "      <td>0.166667</td>\n",
              "      <td>Нижегородская область</td>\n",
              "      <td>Общественная организация</td>\n",
              "      <td>САРОВСКОЕ \"ВДПО\"</td>\n",
              "      <td>1962-03-30</td>\n",
              "      <td>Деятельность прочих общественных организаций, ...</td>\n",
              "      <td>Общественные организации</td>\n",
              "      <td>Деятельность прочих общественных организаций, ...</td>\n",
              "      <td>Общественные организации</td>\n",
              "      <td>2021-04-15 8:10:11</td>\n",
              "    </tr>\n",
              "  </tbody>\n",
              "</table>\n",
              "<p>5 rows × 27 columns</p>\n",
              "</div>\n",
              "      <button class=\"colab-df-convert\" onclick=\"convertToInteractive('df-6cb8f78e-6664-4867-8f4c-ae61d6127c99')\"\n",
              "              title=\"Convert this dataframe to an interactive table.\"\n",
              "              style=\"display:none;\">\n",
              "        \n",
              "  <svg xmlns=\"http://www.w3.org/2000/svg\" height=\"24px\"viewBox=\"0 0 24 24\"\n",
              "       width=\"24px\">\n",
              "    <path d=\"M0 0h24v24H0V0z\" fill=\"none\"/>\n",
              "    <path d=\"M18.56 5.44l.94 2.06.94-2.06 2.06-.94-2.06-.94-.94-2.06-.94 2.06-2.06.94zm-11 1L8.5 8.5l.94-2.06 2.06-.94-2.06-.94L8.5 2.5l-.94 2.06-2.06.94zm10 10l.94 2.06.94-2.06 2.06-.94-2.06-.94-.94-2.06-.94 2.06-2.06.94z\"/><path d=\"M17.41 7.96l-1.37-1.37c-.4-.4-.92-.59-1.43-.59-.52 0-1.04.2-1.43.59L10.3 9.45l-7.72 7.72c-.78.78-.78 2.05 0 2.83L4 21.41c.39.39.9.59 1.41.59.51 0 1.02-.2 1.41-.59l7.78-7.78 2.81-2.81c.8-.78.8-2.07 0-2.86zM5.41 20L4 18.59l7.72-7.72 1.47 1.35L5.41 20z\"/>\n",
              "  </svg>\n",
              "      </button>\n",
              "      \n",
              "  <style>\n",
              "    .colab-df-container {\n",
              "      display:flex;\n",
              "      flex-wrap:wrap;\n",
              "      gap: 12px;\n",
              "    }\n",
              "\n",
              "    .colab-df-convert {\n",
              "      background-color: #E8F0FE;\n",
              "      border: none;\n",
              "      border-radius: 50%;\n",
              "      cursor: pointer;\n",
              "      display: none;\n",
              "      fill: #1967D2;\n",
              "      height: 32px;\n",
              "      padding: 0 0 0 0;\n",
              "      width: 32px;\n",
              "    }\n",
              "\n",
              "    .colab-df-convert:hover {\n",
              "      background-color: #E2EBFA;\n",
              "      box-shadow: 0px 1px 2px rgba(60, 64, 67, 0.3), 0px 1px 3px 1px rgba(60, 64, 67, 0.15);\n",
              "      fill: #174EA6;\n",
              "    }\n",
              "\n",
              "    [theme=dark] .colab-df-convert {\n",
              "      background-color: #3B4455;\n",
              "      fill: #D2E3FC;\n",
              "    }\n",
              "\n",
              "    [theme=dark] .colab-df-convert:hover {\n",
              "      background-color: #434B5C;\n",
              "      box-shadow: 0px 1px 3px 1px rgba(0, 0, 0, 0.15);\n",
              "      filter: drop-shadow(0px 1px 2px rgba(0, 0, 0, 0.3));\n",
              "      fill: #FFFFFF;\n",
              "    }\n",
              "  </style>\n",
              "\n",
              "      <script>\n",
              "        const buttonEl =\n",
              "          document.querySelector('#df-6cb8f78e-6664-4867-8f4c-ae61d6127c99 button.colab-df-convert');\n",
              "        buttonEl.style.display =\n",
              "          google.colab.kernel.accessAllowed ? 'block' : 'none';\n",
              "\n",
              "        async function convertToInteractive(key) {\n",
              "          const element = document.querySelector('#df-6cb8f78e-6664-4867-8f4c-ae61d6127c99');\n",
              "          const dataTable =\n",
              "            await google.colab.kernel.invokeFunction('convertToInteractive',\n",
              "                                                     [key], {});\n",
              "          if (!dataTable) return;\n",
              "\n",
              "          const docLinkHtml = 'Like what you see? Visit the ' +\n",
              "            '<a target=\"_blank\" href=https://colab.research.google.com/notebooks/data_table.ipynb>data table notebook</a>'\n",
              "            + ' to learn more about interactive tables.';\n",
              "          element.innerHTML = '';\n",
              "          dataTable['output_type'] = 'display_data';\n",
              "          await google.colab.output.renderOutput(dataTable, element);\n",
              "          const docLink = document.createElement('div');\n",
              "          docLink.innerHTML = docLinkHtml;\n",
              "          element.appendChild(docLink);\n",
              "        }\n",
              "      </script>\n",
              "    </div>\n",
              "  </div>\n",
              "  "
            ]
          },
          "metadata": {},
          "execution_count": 7
        }
      ],
      "source": [
        "concat_ngos.head()"
      ]
    },
    {
      "cell_type": "code",
      "execution_count": 8,
      "metadata": {
        "colab": {
          "base_uri": "https://localhost:8080/"
        },
        "id": "5eIBrjYZVWwS",
        "outputId": "9255d689-1c9c-49bd-a286-2059637cbcfc"
      },
      "outputs": [
        {
          "output_type": "execute_result",
          "data": {
            "text/plain": [
              "9545"
            ]
          },
          "metadata": {},
          "execution_count": 8
        }
      ],
      "source": [
        "len(concat_ngos)"
      ]
    },
    {
      "cell_type": "markdown",
      "metadata": {
        "id": "yRAvLWJM9Ijy"
      },
      "source": [
        "The aim is to add a column in concat_ngos dataset with links to web archive snapshots.\n",
        "\n",
        "Steps:\n",
        "1. For all websites in our dataset check if they are available in web archive with the help of Wayback Availability JSON API\n",
        "2. Not archived -> make a snaphot, archive it now. Archived -> is the last snapshot within the last 6 months? -> If yes just get the last link, if no create new snapshot."
      ]
    },
    {
      "cell_type": "markdown",
      "metadata": {
        "id": "cPozk4puz22d"
      },
      "source": [
        "### Archive how to"
      ]
    },
    {
      "cell_type": "markdown",
      "metadata": {
        "id": "YjZ79S3Pzvag"
      },
      "source": [
        "`waybackpy` is for creating snapshots:"
      ]
    },
    {
      "cell_type": "code",
      "execution_count": 9,
      "metadata": {
        "colab": {
          "base_uri": "https://localhost:8080/"
        },
        "id": "25Wz9aCalSLy",
        "outputId": "7c9a2b9e-d78f-4219-99a8-274b0888b664"
      },
      "outputs": [
        {
          "output_type": "stream",
          "name": "stdout",
          "text": [
            "Looking in indexes: https://pypi.org/simple, https://us-python.pkg.dev/colab-wheels/public/simple/\n",
            "Collecting waybackpy\n",
            "  Downloading waybackpy-3.0.6-py3-none-any.whl (34 kB)\n",
            "Requirement already satisfied: click in /usr/local/lib/python3.7/dist-packages (from waybackpy) (7.1.2)\n",
            "Requirement already satisfied: urllib3 in /usr/local/lib/python3.7/dist-packages (from waybackpy) (1.24.3)\n",
            "Requirement already satisfied: requests in /usr/local/lib/python3.7/dist-packages (from waybackpy) (2.23.0)\n",
            "Requirement already satisfied: chardet<4,>=3.0.2 in /usr/local/lib/python3.7/dist-packages (from requests->waybackpy) (3.0.4)\n",
            "Requirement already satisfied: certifi>=2017.4.17 in /usr/local/lib/python3.7/dist-packages (from requests->waybackpy) (2022.6.15)\n",
            "Requirement already satisfied: idna<3,>=2.5 in /usr/local/lib/python3.7/dist-packages (from requests->waybackpy) (2.10)\n",
            "Installing collected packages: waybackpy\n",
            "Successfully installed waybackpy-3.0.6\n"
          ]
        }
      ],
      "source": [
        "!pip install waybackpy"
      ]
    },
    {
      "cell_type": "code",
      "execution_count": null,
      "metadata": {
        "colab": {
          "base_uri": "https://localhost:8080/",
          "height": 35
        },
        "id": "BC8XtacstP7v",
        "outputId": "a52adf2f-e872-4e57-9957-6e6163eee624"
      },
      "outputs": [
        {
          "data": {
            "application/vnd.google.colaboratory.intrinsic+json": {
              "type": "string"
            },
            "text/plain": [
              "'https://web.archive.org/web/20220621053655/https://ngolikeyou.ru/'"
            ]
          },
          "execution_count": 26,
          "metadata": {},
          "output_type": "execute_result"
        }
      ],
      "source": [
        "\"\"\" Uncomment this if you want to test how the api works\n",
        "# After this code you will see the mark on the website that today was created a\n",
        "# new snapshot for the unknown collection here https://web.archive.org/\n",
        "\n",
        "from waybackpy import WaybackMachineSaveAPI\n",
        "\n",
        "url = \"ngolikeyou.ru\"\n",
        "user_agent = \"Mozilla/5.0 (Windows NT 5.1; rv:40.0) Gecko/20100101 Firefox/40.0\"\n",
        "\n",
        "save_api = WaybackMachineSaveAPI(url, user_agent)\n",
        "save_api.save()\n",
        "save_api.cached_save\n",
        "\"\"\""
      ]
    },
    {
      "cell_type": "markdown",
      "metadata": {
        "id": "p_ZZOkP00wA-"
      },
      "source": [
        "Since web archive creates snapshots for a web page, not a web site, we need to get a sitemap and parse all pages for each website.\n",
        "\n",
        "There is a lib for that:"
      ]
    },
    {
      "cell_type": "code",
      "execution_count": 10,
      "metadata": {
        "colab": {
          "base_uri": "https://localhost:8080/"
        },
        "id": "AeOaLVSvX4tn",
        "outputId": "e9e25f6e-aec8-4fd6-ce56-572b8958ce71"
      },
      "outputs": [
        {
          "output_type": "stream",
          "name": "stdout",
          "text": [
            "Looking in indexes: https://pypi.org/simple, https://us-python.pkg.dev/colab-wheels/public/simple/\n",
            "Collecting ultimate-sitemap-parser\n",
            "  Downloading ultimate_sitemap_parser-0.5-py2.py3-none-any.whl (23 kB)\n",
            "Requirement already satisfied: requests>=2.2.1 in /usr/local/lib/python3.7/dist-packages (from ultimate-sitemap-parser) (2.23.0)\n",
            "Requirement already satisfied: python-dateutil<3.0.0,>=2.1 in /usr/local/lib/python3.7/dist-packages (from ultimate-sitemap-parser) (2.8.2)\n",
            "Requirement already satisfied: six>=1.5 in /usr/local/lib/python3.7/dist-packages (from python-dateutil<3.0.0,>=2.1->ultimate-sitemap-parser) (1.15.0)\n",
            "Requirement already satisfied: idna<3,>=2.5 in /usr/local/lib/python3.7/dist-packages (from requests>=2.2.1->ultimate-sitemap-parser) (2.10)\n",
            "Requirement already satisfied: chardet<4,>=3.0.2 in /usr/local/lib/python3.7/dist-packages (from requests>=2.2.1->ultimate-sitemap-parser) (3.0.4)\n",
            "Requirement already satisfied: urllib3!=1.25.0,!=1.25.1,<1.26,>=1.21.1 in /usr/local/lib/python3.7/dist-packages (from requests>=2.2.1->ultimate-sitemap-parser) (1.24.3)\n",
            "Requirement already satisfied: certifi>=2017.4.17 in /usr/local/lib/python3.7/dist-packages (from requests>=2.2.1->ultimate-sitemap-parser) (2022.6.15)\n",
            "Installing collected packages: ultimate-sitemap-parser\n",
            "Successfully installed ultimate-sitemap-parser-0.5\n"
          ]
        }
      ],
      "source": [
        "!pip install ultimate-sitemap-parser"
      ]
    },
    {
      "cell_type": "markdown",
      "metadata": {
        "id": "V-_G-4P7v1U5"
      },
      "source": [
        "Checking for snapshots is faster with command line GET requests than with the waybackpy library (about 10 times faster):"
      ]
    },
    {
      "cell_type": "code",
      "execution_count": 11,
      "metadata": {
        "colab": {
          "base_uri": "https://localhost:8080/",
          "height": 35
        },
        "id": "pqS7t3Tjo08_",
        "outputId": "757c7521-b898-4d96-f8ee-487ffc6aa4b3"
      },
      "outputs": [
        {
          "output_type": "execute_result",
          "data": {
            "text/plain": [
              "'20220623103945'"
            ],
            "application/vnd.google.colaboratory.intrinsic+json": {
              "type": "string"
            }
          },
          "metadata": {},
          "execution_count": 11
        }
      ],
      "source": [
        "# test example\n",
        "availability = !curl -X GET \"https://archive.org/wayback/available?url=http://vdpo-sarov.ru/\"\n",
        "json.loads(availability[0])['archived_snapshots']['closest']['timestamp']"
      ]
    },
    {
      "cell_type": "markdown",
      "metadata": {
        "id": "nRFMAnjKvPAu"
      },
      "source": [
        "One might think that making snapshots will also be faster this way, but unfortunately this method is disabled. The respecting server is down and gives 502 error\n",
        "\n",
        "Test:"
      ]
    },
    {
      "cell_type": "code",
      "execution_count": 12,
      "metadata": {
        "colab": {
          "base_uri": "https://localhost:8080/"
        },
        "id": "x75WTmOdqu9P",
        "outputId": "14a53e6c-d09b-4b5d-d98f-8ccd31498ff0"
      },
      "outputs": [
        {
          "output_type": "stream",
          "name": "stdout",
          "text": [
            "<html>\r\n",
            "<head><title>502 Bad Gateway</title></head>\r\n",
            "<body bgcolor=\"white\">\r\n",
            "<center><h1>502 Bad Gateway</h1></center>\r\n",
            "<hr><center>nginx/1.4.6 (Ubuntu)</center>\r\n",
            "</body>\r\n",
            "</html>\r\n"
          ]
        }
      ],
      "source": [
        "!curl -X POST -H \"Content-Type: application/json\" -d '{\"url\": \"http://vdpo-sarov.ru/tovari\", \"annotation\": {\"id\": \"ngos-archive\", \"message\": \"\"}}' https://pragma.archivelab.org"
      ]
    },
    {
      "cell_type": "markdown",
      "metadata": {
        "id": "Meep_mv61tLb"
      },
      "source": [
        "Another method is \"Save Page Now\" button through waybackpy lib. This button however allows no more than 15 requests per minute, otherwise it blocks the user for 5 minutes (the rule was implemented by wayback web archive in 2019)"
      ]
    },
    {
      "cell_type": "code",
      "execution_count": null,
      "metadata": {
        "id": "EWwJMee3yB7w"
      },
      "outputs": [],
      "source": [
        "# test\n",
        "def save_url(url):\n",
        "  save_api = WaybackMachineSaveAPI(url, user_agent)\n",
        "  snapshot = save_api.save()\n",
        "  return snapshot"
      ]
    },
    {
      "cell_type": "code",
      "execution_count": null,
      "metadata": {
        "colab": {
          "base_uri": "https://localhost:8080/"
        },
        "id": "Ibc7fdc51zSG",
        "outputId": "f400553b-d9b5-43b3-939f-1e41d8a077fb"
      },
      "outputs": [
        {
          "name": "stderr",
          "output_type": "stream",
          "text": [
            "  2%|▏         | 1/43 [00:21<14:58, 21.39s/it]"
          ]
        },
        {
          "name": "stdout",
          "output_type": "stream",
          "text": [
            "https://web.archive.org/web/20220621053655/https://ngolikeyou.ru/\n"
          ]
        },
        {
          "name": "stderr",
          "output_type": "stream",
          "text": [
            "\r  5%|▍         | 2/43 [00:42<14:23, 21.06s/it]"
          ]
        },
        {
          "name": "stdout",
          "output_type": "stream",
          "text": [
            "https://web.archive.org/web/20220621055932/https://ngolikeyou.ru/trening\n"
          ]
        },
        {
          "name": "stderr",
          "output_type": "stream",
          "text": [
            "\r  7%|▋         | 3/43 [01:02<13:57, 20.93s/it]"
          ]
        },
        {
          "name": "stdout",
          "output_type": "stream",
          "text": [
            "https://web.archive.org/web/20220621060001/https://ngolikeyou.ru/groups\n"
          ]
        },
        {
          "name": "stderr",
          "output_type": "stream",
          "text": [
            "\r  9%|▉         | 4/43 [01:25<13:54, 21.41s/it]"
          ]
        },
        {
          "name": "stdout",
          "output_type": "stream",
          "text": [
            "https://web.archive.org/web/20220621060023/https://ngolikeyou.ru/psy\n"
          ]
        },
        {
          "name": "stderr",
          "output_type": "stream",
          "text": [
            "\r 12%|█▏        | 5/43 [01:51<14:40, 23.16s/it]"
          ]
        },
        {
          "name": "stdout",
          "output_type": "stream",
          "text": [
            "https://web.archive.org/web/20220621060057/https://ngolikeyou.ru/donate\n"
          ]
        },
        {
          "name": "stderr",
          "output_type": "stream",
          "text": [
            "\r 14%|█▍        | 6/43 [02:13<14:05, 22.84s/it]"
          ]
        },
        {
          "name": "stdout",
          "output_type": "stream",
          "text": [
            "https://web.archive.org/web/20220621060129/https://ngolikeyou.ru/media\n"
          ]
        },
        {
          "name": "stderr",
          "output_type": "stream",
          "text": [
            "\r 16%|█▋        | 7/43 [02:34<13:21, 22.27s/it]"
          ]
        },
        {
          "name": "stdout",
          "output_type": "stream",
          "text": [
            "https://web.archive.org/web/20220621060201/https://ngolikeyou.ru/annual_report\n"
          ]
        },
        {
          "name": "stderr",
          "output_type": "stream",
          "text": [
            "\r 19%|█▊        | 8/43 [02:57<13:08, 22.53s/it]"
          ]
        },
        {
          "name": "stdout",
          "output_type": "stream",
          "text": [
            "https://web.archive.org/web/20220621060227/https://ngolikeyou.ru/news\n"
          ]
        },
        {
          "name": "stderr",
          "output_type": "stream",
          "text": [
            "\r 21%|██        | 9/43 [03:22<13:13, 23.33s/it]"
          ]
        },
        {
          "name": "stdout",
          "output_type": "stream",
          "text": [
            "https://web.archive.org/web/20220621065613/https://ngolikeyou.ru/tpost/tpabkefri1-otchyot-o-deyatelnosti-v-2021-godu\n"
          ]
        },
        {
          "name": "stderr",
          "output_type": "stream",
          "text": [
            "\r 23%|██▎       | 10/43 [03:57<14:48, 26.91s/it]"
          ]
        },
        {
          "name": "stdout",
          "output_type": "stream",
          "text": [
            "https://web.archive.org/web/20220621065649/https://ngolikeyou.ru/tpost/llgg6njkt1-pryamoi-efir-vsyo-o-bipolyarnom-rasstroi\n"
          ]
        },
        {
          "name": "stderr",
          "output_type": "stream",
          "text": [
            "\r 26%|██▌       | 11/43 [04:21<13:47, 25.85s/it]"
          ]
        },
        {
          "name": "stdout",
          "output_type": "stream",
          "text": [
            "https://web.archive.org/web/20220621065712/https://ngolikeyou.ru/tpost/lddlsrfuj1-pryamoi-efir-mifi-v-farmakoterapii-bipol\n"
          ]
        },
        {
          "name": "stderr",
          "output_type": "stream",
          "text": [
            "\r 28%|██▊       | 12/43 [05:49<23:10, 44.85s/it]"
          ]
        },
        {
          "name": "stdout",
          "output_type": "stream",
          "text": [
            "https://web.archive.org/web/20220621065841/https://ngolikeyou.ru/tpost/rcn3nghfp1-pryamoi-efir-kak-naiti-spetsialista-psih\n"
          ]
        },
        {
          "name": "stderr",
          "output_type": "stream",
          "text": [
            "\r 30%|███       | 13/43 [06:15<19:31, 39.07s/it]"
          ]
        },
        {
          "name": "stdout",
          "output_type": "stream",
          "text": [
            "https://web.archive.org/web/20220621065905/https://ngolikeyou.ru/tpost/7keu99jd91-pryamoi-efir-subdepressiya-chto-delat\n"
          ]
        },
        {
          "name": "stderr",
          "output_type": "stream",
          "text": [
            "\r 33%|███▎      | 14/43 [07:02<20:06, 41.62s/it]"
          ]
        },
        {
          "name": "stdout",
          "output_type": "stream",
          "text": [
            "https://web.archive.org/web/20220621065955/https://ngolikeyou.ru/tpost/syln3by991-pryamoi-efir-rpp-i-psihicheskie-zaboleva\n"
          ]
        },
        {
          "name": "stderr",
          "output_type": "stream",
          "text": [
            "\r 35%|███▍      | 15/43 [07:33<17:50, 38.23s/it]"
          ]
        },
        {
          "name": "stdout",
          "output_type": "stream",
          "text": [
            "https://web.archive.org/web/20220621070024/https://ngolikeyou.ru/tpost/5m2pge30l1-pryamoi-efir-suitsid-kak-pomoch-sebe-i-b\n"
          ]
        },
        {
          "name": "stderr",
          "output_type": "stream",
          "text": [
            "\r 37%|███▋      | 16/43 [08:01<15:51, 35.24s/it]"
          ]
        },
        {
          "name": "stdout",
          "output_type": "stream",
          "text": [
            "https://web.archive.org/web/20220621070057/https://ngolikeyou.ru/tpost/sgu42gig11-mi-zapustili-gruppu-podderzhki-dlya-lyud\n"
          ]
        },
        {
          "name": "stderr",
          "output_type": "stream",
          "text": [
            "\r 40%|███▉      | 17/43 [08:53<17:30, 40.39s/it]"
          ]
        },
        {
          "name": "stdout",
          "output_type": "stream",
          "text": [
            "https://web.archive.org/web/20220621070146/https://ngolikeyou.ru/tpost/4258bj5lp1-otkrilas-gruppa-podderzhki-dlya-lyudei-s\n"
          ]
        },
        {
          "name": "stderr",
          "output_type": "stream",
          "text": [
            "\r 42%|████▏     | 18/43 [09:33<16:41, 40.06s/it]"
          ]
        },
        {
          "name": "stdout",
          "output_type": "stream",
          "text": [
            "https://web.archive.org/web/20220621070225/https://ngolikeyou.ru/tpost/oki2yenjg1-startoval-nabor-na-trening-navikov-regul\n"
          ]
        },
        {
          "name": "stderr",
          "output_type": "stream",
          "text": [
            "\r 44%|████▍     | 19/43 [10:02<14:47, 36.96s/it]"
          ]
        },
        {
          "name": "stdout",
          "output_type": "stream",
          "text": [
            "https://web.archive.org/web/20220621070252/https://ngolikeyou.ru/tpost/ehnha01ob1-pryamoi-efir-psihicheskoe-rasstroistvo-i\n"
          ]
        },
        {
          "name": "stderr",
          "output_type": "stream",
          "text": [
            "\r 47%|████▋     | 20/43 [12:01<23:33, 61.46s/it]"
          ]
        },
        {
          "name": "stdout",
          "output_type": "stream",
          "text": [
            "https://web.archive.org/web/20220621070455/https://ngolikeyou.ru/tpost/lg4637njr1-v-novosibirske-otkrilas-gruppa-ravnoi-po\n"
          ]
        },
        {
          "name": "stderr",
          "output_type": "stream",
          "text": [
            "\r 49%|████▉     | 21/43 [12:55<21:44, 59.28s/it]"
          ]
        },
        {
          "name": "stdout",
          "output_type": "stream",
          "text": [
            "https://web.archive.org/web/20220621070548/https://ngolikeyou.ru/tpost/rvimp2itx1-zanyatie-po-art-terapii-dlya-vseh-zhelay\n"
          ]
        },
        {
          "name": "stderr",
          "output_type": "stream",
          "text": [
            "\r 51%|█████     | 22/43 [13:20<17:05, 48.83s/it]"
          ]
        },
        {
          "name": "stdout",
          "output_type": "stream",
          "text": [
            "https://web.archive.org/web/20220621070611/https://ngolikeyou.ru/tpost/f6t8c19281-mi-otkrili-ano-kak-ti\n"
          ]
        },
        {
          "name": "stderr",
          "output_type": "stream",
          "text": [
            "\r 53%|█████▎    | 23/43 [14:00<15:24, 46.25s/it]"
          ]
        },
        {
          "name": "stdout",
          "output_type": "stream",
          "text": [
            "https://web.archive.org/web/20220621070656/https://ngolikeyou.ru/tpost/iklx2zaep1-1000-podpischikov-na-youtube\n"
          ]
        },
        {
          "name": "stderr",
          "output_type": "stream",
          "text": [
            "\r 56%|█████▌    | 24/43 [14:52<15:14, 48.15s/it]"
          ]
        },
        {
          "name": "stdout",
          "output_type": "stream",
          "text": [
            "https://web.archive.org/web/20220621070746/https://ngolikeyou.ru/tpost/y9773x0st1-gruppa-podderzhki-dlya-lyudei-s-bar-otkr\n"
          ]
        },
        {
          "name": "stderr",
          "output_type": "stream",
          "text": [
            "\r 58%|█████▊    | 25/43 [15:40<14:25, 48.08s/it]"
          ]
        },
        {
          "name": "stdout",
          "output_type": "stream",
          "text": [
            "https://web.archive.org/web/20220621070831/https://ngolikeyou.ru/tpost/rags4jcdh1-pryamoi-efir-gipomaniya-chto-eto\n"
          ]
        },
        {
          "name": "stderr",
          "output_type": "stream",
          "text": [
            "\r 60%|██████    | 26/43 [16:00<11:10, 39.44s/it]"
          ]
        },
        {
          "name": "stdout",
          "output_type": "stream",
          "text": [
            "https://web.archive.org/web/20220621070857/https://ngolikeyou.ru/tpost/2ae2dhvbj1-kruglii-stol-bipolyarnoe-rasstroistvo-vr\n"
          ]
        },
        {
          "name": "stderr",
          "output_type": "stream",
          "text": [
            "\r 63%|██████▎   | 27/43 [17:17<13:34, 50.91s/it]"
          ]
        },
        {
          "name": "stdout",
          "output_type": "stream",
          "text": [
            "https://web.archive.org/web/20220621071011/https://ngolikeyou.ru/tpost/h42vvn8gl1-vishlo-metodicheskoe-posobie-po-sozdaniy\n"
          ]
        },
        {
          "name": "stderr",
          "output_type": "stream",
          "text": [
            "\r 65%|██████▌   | 28/43 [17:43<10:50, 43.39s/it]"
          ]
        },
        {
          "name": "stdout",
          "output_type": "stream",
          "text": [
            "https://web.archive.org/web/20220621071035/https://ngolikeyou.ru/tpost/520nf0lo71-efiri-o-beremennosti-i-materinstve-pri-p\n"
          ]
        },
        {
          "name": "stderr",
          "output_type": "stream",
          "text": [
            "\r 67%|██████▋   | 29/43 [18:53<11:59, 51.37s/it]"
          ]
        },
        {
          "name": "stdout",
          "output_type": "stream",
          "text": [
            "https://web.archive.org/web/20220621071147/https://ngolikeyou.ru/tpost/d6jb7l0u81-pryamoi-efir-kak-bit-s-blizkim\n"
          ]
        },
        {
          "name": "stderr",
          "output_type": "stream",
          "text": [
            "\r 70%|██████▉   | 30/43 [19:51<11:32, 53.24s/it]"
          ]
        },
        {
          "name": "stdout",
          "output_type": "stream",
          "text": [
            "https://web.archive.org/web/20220621071246/https://ngolikeyou.ru/tpost/ytyx2bao81-efir-pravda-i-mifi-ob-invalidnosti-pri-p\n"
          ]
        },
        {
          "name": "stderr",
          "output_type": "stream",
          "text": [
            "\r 72%|███████▏  | 31/43 [20:16<08:57, 44.82s/it]"
          ]
        },
        {
          "name": "stdout",
          "output_type": "stream",
          "text": [
            "https://web.archive.org/web/20220621071308/https://ngolikeyou.ru/tpost/mm4gsoba91-efir-pravda-i-mifi-ob-uchyote\n"
          ]
        },
        {
          "name": "stderr",
          "output_type": "stream",
          "text": [
            "\r 74%|███████▍  | 32/43 [21:27<09:40, 52.74s/it]"
          ]
        },
        {
          "name": "stdout",
          "output_type": "stream",
          "text": [
            "https://web.archive.org/web/20220621071415/https://ngolikeyou.ru/tpost/0cvd8660y1-kruglii-stol-psihicheskoe-zdorove-v-epoh\n"
          ]
        },
        {
          "name": "stderr",
          "output_type": "stream",
          "text": [
            "\r 77%|███████▋  | 33/43 [21:55<07:32, 45.25s/it]"
          ]
        },
        {
          "name": "stdout",
          "output_type": "stream",
          "text": [
            "https://web.archive.org/web/20220621071447/https://ngolikeyou.ru/tpost/1c29z5ja81-alyona-shibarshina-prinyala-uchastie-v-v\n"
          ]
        },
        {
          "name": "stderr",
          "output_type": "stream",
          "text": [
            "\r 79%|███████▉  | 34/43 [22:52<07:19, 48.82s/it]"
          ]
        },
        {
          "name": "stdout",
          "output_type": "stream",
          "text": [
            "https://web.archive.org/web/20220621071547/https://ngolikeyou.ru/tpost/v9jnix7x91-otkrit-nabor-v-gruppu-po-art-terapii-v-m\n"
          ]
        },
        {
          "name": "stderr",
          "output_type": "stream",
          "text": [
            "\r 81%|████████▏ | 35/43 [23:38<06:24, 48.02s/it]"
          ]
        },
        {
          "name": "stdout",
          "output_type": "stream",
          "text": [
            "https://web.archive.org/web/20220621071627/https://ngolikeyou.ru/tpost/k69zx508a1-efir-kak-spravitsya-s-emotsiyami-kogda-k\n"
          ]
        },
        {
          "name": "stderr",
          "output_type": "stream",
          "text": [
            "\r 84%|████████▎ | 36/43 [25:09<07:06, 60.96s/it]"
          ]
        },
        {
          "name": "stdout",
          "output_type": "stream",
          "text": [
            "https://web.archive.org/web/20220621071749/https://ngolikeyou.ru/tpost/8f19i77gl1-otkritoe-zanyatie-po-art-terapii-ob-emot\n"
          ]
        },
        {
          "name": "stderr",
          "output_type": "stream",
          "text": [
            "\r 86%|████████▌ | 37/43 [25:35<05:02, 50.43s/it]"
          ]
        },
        {
          "name": "stdout",
          "output_type": "stream",
          "text": [
            "https://web.archive.org/web/20220621071827/https://ngolikeyou.ru/tpost/leyn8loks1-literaturnii-master-klass-v-ekaterinburg\n"
          ]
        },
        {
          "name": "stderr",
          "output_type": "stream",
          "text": [
            "\r 88%|████████▊ | 38/43 [25:55<03:25, 41.08s/it]"
          ]
        },
        {
          "name": "stdout",
          "output_type": "stream",
          "text": [
            "https://web.archive.org/web/20220621071852/https://ngolikeyou.ru/tpost/6vfu8sd6z1-art-terapiya-v-ekaterinburge\n"
          ]
        },
        {
          "name": "stderr",
          "output_type": "stream",
          "text": [
            "\r 91%|█████████ | 39/43 [26:17<02:22, 35.54s/it]"
          ]
        },
        {
          "name": "stdout",
          "output_type": "stream",
          "text": [
            "https://web.archive.org/web/20220621071914/https://ngolikeyou.ru/tpost/gxiu1r1g51-seriya-strimov-vstrechi-s-psihologom\n"
          ]
        },
        {
          "name": "stderr",
          "output_type": "stream",
          "text": [
            "\r 93%|█████████▎| 40/43 [26:42<01:37, 32.45s/it]"
          ]
        },
        {
          "name": "stdout",
          "output_type": "stream",
          "text": [
            "https://web.archive.org/web/20220621071935/https://ngolikeyou.ru/tpost/iil8b4f6x1-kak-mi-risovali-mukoi-i-vodoi\n"
          ]
        },
        {
          "name": "stderr",
          "output_type": "stream",
          "text": [
            "\r 95%|█████████▌| 41/43 [27:07<01:00, 30.05s/it]"
          ]
        },
        {
          "name": "stdout",
          "output_type": "stream",
          "text": [
            "https://web.archive.org/web/20220621071957/https://ngolikeyou.ru/tpost/30dfzgjdu1-otkrit-nabor-na-trening-dlya-veduschih-g\n"
          ]
        },
        {
          "name": "stderr",
          "output_type": "stream",
          "text": [
            "\r 98%|█████████▊| 42/43 [27:43<00:31, 31.98s/it]"
          ]
        },
        {
          "name": "stdout",
          "output_type": "stream",
          "text": [
            "https://web.archive.org/web/20220621072034/https://ngolikeyou.ru/tpost/lb4eta0cl1-zavershilsya-ocherednoi-trening-dlya-ved\n"
          ]
        },
        {
          "name": "stderr",
          "output_type": "stream",
          "text": [
            "100%|██████████| 43/43 [28:11<00:00, 39.33s/it]"
          ]
        },
        {
          "name": "stdout",
          "output_type": "stream",
          "text": [
            "https://web.archive.org/web/20220621072103/https://ngolikeyou.ru/tpost/fcsuhbjug1-zakonchilsya-pervii-kurs-po-art-terapii\n"
          ]
        },
        {
          "name": "stderr",
          "output_type": "stream",
          "text": [
            "\n"
          ]
        }
      ],
      "source": [
        "# test\n",
        "from tqdm import tqdm\n",
        "from random import randint\n",
        "from time import sleep\n",
        "\n",
        "for url in tqdm(urls):\n",
        "  sleep(randint(10,15))\n",
        "  print(save_url(url))"
      ]
    },
    {
      "cell_type": "markdown",
      "metadata": {
        "id": "4I4EMP1KxC27"
      },
      "source": [
        "## Archive all"
      ]
    },
    {
      "cell_type": "code",
      "execution_count": 63,
      "metadata": {
        "id": "3bv9-NZXJPUz"
      },
      "outputs": [],
      "source": [
        "from waybackpy import WaybackMachineSaveAPI\n",
        "from tqdm import tqdm\n",
        "from random import randint\n",
        "from time import sleep\n",
        "from usp.tree import sitemap_tree_for_homepage\n",
        "from usp.exceptions import SitemapException\n",
        "from datetime import date\n",
        "from dateutil import relativedelta\n",
        "import re\n",
        "\n",
        "\n",
        "\n",
        "def get_urls_from_sitemap(original_url: str) -> list:\n",
        "  tree = sitemap_tree_for_homepage(original_url)\n",
        "  urls = [page.url for page in tree.all_pages() if page.url.startswith(original_url)]\n",
        "  return urls\n",
        "\n",
        "\n",
        "def how_many_months_ago(snap_timestamp: str) -> int:\n",
        "  # `snap_timestamp` looks kind of like this '20220323172342'\n",
        "  current = date.today()\n",
        "  snap_date = date(int(snap_timestamp[:4]),  # year\n",
        "                   int(snap_timestamp[4:6]),  # month\n",
        "                   int(snap_timestamp[6:8]))  # day\n",
        "\n",
        "  r = relativedelta.relativedelta(current, snap_date)\n",
        "  months_difference = (r.years * 12) + r.months\n",
        "  return abs(months_difference)\n",
        "\n",
        "\n",
        "def find_existing_snapshot(original_url: str) -> str:\n",
        "  # check if the url is available on wayback machine in web archive\n",
        "  availability = !curl -X GET {\"https://archive.org/wayback/available?url=\" + original_url}\n",
        "\n",
        "  try:\n",
        "    response = json.loads(availability[0])\n",
        "  except JSONDecodeError:\n",
        "    print(availability)\n",
        "    return None\n",
        "\n",
        "  if response[\"archived_snapshots\"] != {}:\n",
        "    snapshot = response[\"archived_snapshots\"][\"closest\"]\n",
        "    snap_timestamp = snapshot[\"timestamp\"]\n",
        "    # the last snapshot is made in the last half a year\n",
        "    if how_many_months_ago(snap_timestamp) <= 6:\n",
        "      return snapshot[\"url\"]\n",
        "    else:  # if the last snapshot is older than half a year it is not good enough for us\n",
        "      return None\n",
        "  else:  # case when there are no snapshots at all\n",
        "    return None\n",
        "\n",
        "\n",
        "def save_page_now(url: str) -> str:\n",
        "  user_agent = \"Mozilla/5.0 (Windows NT 5.1; rv:40.0) Gecko/20100101 Firefox/40.0\"\n",
        "  save_api = WaybackMachineSaveAPI(url, user_agent)\n",
        "  snapshot = save_api.save()\n",
        "  sleep(4.5)\n",
        "  return snapshot\n",
        "\n",
        "\n",
        "def create_snaps(urls: list) -> list:\n",
        "  snaps = []\n",
        "  for url in tqdm(urls):\n",
        "    web_archive_snap = find_existing_snapshot(url)\n",
        "    if not web_archive_snap:\n",
        "      new_snap = save_page_now(url)\n",
        "      snaps.append(new_snap)\n",
        "    else:\n",
        "      snaps.append(web_archive_snap)\n",
        "  return snaps\n",
        "\n",
        "\n",
        "def has_cyrillic(text):\n",
        "  return bool(re.search('[а-яА-Я]', text))\n",
        "\n",
        "\n",
        "def get_all_urls(entry, original_url: str) -> list:\n",
        "\n",
        "  if entry.bin_ssl == 1.0:\n",
        "    orig_url = \"https://\" + original_url + \"/\"\n",
        "    urls = get_urls_from_sitemap(orig_url)\n",
        "  else:\n",
        "    orig_url = \"http://\" + original_url + \"/\"\n",
        "    urls = get_urls_from_sitemap(orig_url)\n",
        "  if not urls:  # if there is no sitemap\n",
        "    urls = [orig_url]\n",
        "  \n",
        "  return urls"
      ]
    },
    {
      "cell_type": "markdown",
      "metadata": {
        "id": "tLSvfciX5nFw"
      },
      "source": [
        "Now we can create a column where we save the snapshot urls. But we need to do it in bulks, because we need save the data to csv file from time to time."
      ]
    },
    {
      "cell_type": "code",
      "execution_count": 14,
      "metadata": {
        "id": "dLWZyzFu5dul"
      },
      "outputs": [],
      "source": [
        "concat_ngos[\"webarchive_snapshots\"] = \"\" * len(concat_ngos)"
      ]
    },
    {
      "cell_type": "code",
      "execution_count": null,
      "metadata": {
        "colab": {
          "base_uri": "https://localhost:8080/",
          "height": 974
        },
        "id": "pcQHZvh3CFN7",
        "outputId": "f8efd7a1-858c-4af9-d632-61977d18765f"
      },
      "outputs": [
        {
          "data": {
            "text/html": [
              "\n",
              "  <div id=\"df-8935fd7e-78a6-4e98-bf75-1ea5d7b79f9c\">\n",
              "    <div class=\"colab-df-container\">\n",
              "      <div>\n",
              "<style scoped>\n",
              "    .dataframe tbody tr th:only-of-type {\n",
              "        vertical-align: middle;\n",
              "    }\n",
              "\n",
              "    .dataframe tbody tr th {\n",
              "        vertical-align: top;\n",
              "    }\n",
              "\n",
              "    .dataframe thead th {\n",
              "        text-align: right;\n",
              "    }\n",
              "</style>\n",
              "<table border=\"1\" class=\"dataframe\">\n",
              "  <thead>\n",
              "    <tr style=\"text-align: right;\">\n",
              "      <th></th>\n",
              "      <th>ogrn</th>\n",
              "      <th>website</th>\n",
              "      <th>bin_robots</th>\n",
              "      <th>bin_sitemap</th>\n",
              "      <th>bin_fb</th>\n",
              "      <th>bin_vk</th>\n",
              "      <th>bin_ig</th>\n",
              "      <th>bin_ok</th>\n",
              "      <th>bin_youtube</th>\n",
              "      <th>bin_tiktok</th>\n",
              "      <th>...</th>\n",
              "      <th>regionName</th>\n",
              "      <th>minjustForm</th>\n",
              "      <th>shortName</th>\n",
              "      <th>regDate</th>\n",
              "      <th>mainOkved</th>\n",
              "      <th>opfCombined</th>\n",
              "      <th>okvedCombined</th>\n",
              "      <th>vedSimple</th>\n",
              "      <th>websiteCreationDate</th>\n",
              "      <th>webarchive_snapshots</th>\n",
              "    </tr>\n",
              "  </thead>\n",
              "  <tbody>\n",
              "    <tr>\n",
              "      <th>0</th>\n",
              "      <td>1026800000666</td>\n",
              "      <td>profobr68.ru</td>\n",
              "      <td>1.0</td>\n",
              "      <td>1.0</td>\n",
              "      <td>0.0</td>\n",
              "      <td>0.0</td>\n",
              "      <td>0.0</td>\n",
              "      <td>0.0</td>\n",
              "      <td>0.0</td>\n",
              "      <td>0.0</td>\n",
              "      <td>...</td>\n",
              "      <td>Тамбовская область</td>\n",
              "      <td>Профессиональный союз</td>\n",
              "      <td>ТАМБОВСКАЯ ОБЛАСТНАЯ ОРГАНИЗАЦИЯ ОБЩЕРОССИЙСКО...</td>\n",
              "      <td>1938-11-10</td>\n",
              "      <td>Деятельность профессиональных союзов</td>\n",
              "      <td>Профсоюзные организации</td>\n",
              "      <td>Деятельность профессиональных союзов</td>\n",
              "      <td>Профсоюзы</td>\n",
              "      <td>2016-01-15 19:31:34</td>\n",
              "      <td></td>\n",
              "    </tr>\n",
              "    <tr>\n",
              "      <th>2</th>\n",
              "      <td>1025200008140</td>\n",
              "      <td>vdpor52.ru</td>\n",
              "      <td>1.0</td>\n",
              "      <td>1.0</td>\n",
              "      <td>0.0</td>\n",
              "      <td>0.0</td>\n",
              "      <td>0.0</td>\n",
              "      <td>0.0</td>\n",
              "      <td>0.0</td>\n",
              "      <td>0.0</td>\n",
              "      <td>...</td>\n",
              "      <td>Нижегородская область</td>\n",
              "      <td>Общественная организация</td>\n",
              "      <td>НИЖЕГОРОДСКОЕ ОБЛАСТНОЕ ОТДЕЛЕНИЕ ВДПО, ВДПО Н...</td>\n",
              "      <td>1958-06-20</td>\n",
              "      <td>Деятельность прочих общественных организаций, ...</td>\n",
              "      <td>Общественные организации</td>\n",
              "      <td>Деятельность прочих общественных организаций, ...</td>\n",
              "      <td>Общественные организации</td>\n",
              "      <td>2016-09-28 12:05:06</td>\n",
              "      <td></td>\n",
              "    </tr>\n",
              "    <tr>\n",
              "      <th>4</th>\n",
              "      <td>1085200004450</td>\n",
              "      <td>vdpo-sarov.ru</td>\n",
              "      <td>1.0</td>\n",
              "      <td>1.0</td>\n",
              "      <td>0.0</td>\n",
              "      <td>1.0</td>\n",
              "      <td>0.0</td>\n",
              "      <td>0.0</td>\n",
              "      <td>0.0</td>\n",
              "      <td>0.0</td>\n",
              "      <td>...</td>\n",
              "      <td>Нижегородская область</td>\n",
              "      <td>Общественная организация</td>\n",
              "      <td>САРОВСКОЕ \"ВДПО\"</td>\n",
              "      <td>1962-03-30</td>\n",
              "      <td>Деятельность прочих общественных организаций, ...</td>\n",
              "      <td>Общественные организации</td>\n",
              "      <td>Деятельность прочих общественных организаций, ...</td>\n",
              "      <td>Общественные организации</td>\n",
              "      <td>2021-04-15 8:10:11</td>\n",
              "      <td></td>\n",
              "    </tr>\n",
              "    <tr>\n",
              "      <th>10</th>\n",
              "      <td>1027700270861</td>\n",
              "      <td>www.ujmos.ru</td>\n",
              "      <td>1.0</td>\n",
              "      <td>1.0</td>\n",
              "      <td>0.0</td>\n",
              "      <td>0.0</td>\n",
              "      <td>0.0</td>\n",
              "      <td>0.0</td>\n",
              "      <td>0.0</td>\n",
              "      <td>0.0</td>\n",
              "      <td>...</td>\n",
              "      <td>Москва</td>\n",
              "      <td>Общественная организация</td>\n",
              "      <td>РОО \"СЖМ\", СЖМ</td>\n",
              "      <td>1977-04-23</td>\n",
              "      <td>Деятельность прочих общественных организаций, ...</td>\n",
              "      <td>Общественные организации</td>\n",
              "      <td>Деятельность прочих общественных организаций, ...</td>\n",
              "      <td>Общественные организации</td>\n",
              "      <td>2006-09-13 20:00:00</td>\n",
              "      <td></td>\n",
              "    </tr>\n",
              "    <tr>\n",
              "      <th>13</th>\n",
              "      <td>1033918500285</td>\n",
              "      <td>chessfed39.ru</td>\n",
              "      <td>1.0</td>\n",
              "      <td>1.0</td>\n",
              "      <td>0.0</td>\n",
              "      <td>0.0</td>\n",
              "      <td>0.0</td>\n",
              "      <td>0.0</td>\n",
              "      <td>0.0</td>\n",
              "      <td>0.0</td>\n",
              "      <td>...</td>\n",
              "      <td>Калининградская область</td>\n",
              "      <td>Общественная организация</td>\n",
              "      <td>КООО \"ШАХМАТНАЯ ФЕДЕРАЦИЯ\"</td>\n",
              "      <td>1984-02-16</td>\n",
              "      <td>Деятельность прочих общественных организаций, ...</td>\n",
              "      <td>Общественные организации</td>\n",
              "      <td>Деятельность прочих общественных организаций, ...</td>\n",
              "      <td>Общественные организации</td>\n",
              "      <td>2019-12-05 13:43:18</td>\n",
              "      <td></td>\n",
              "    </tr>\n",
              "    <tr>\n",
              "      <th>...</th>\n",
              "      <td>...</td>\n",
              "      <td>...</td>\n",
              "      <td>...</td>\n",
              "      <td>...</td>\n",
              "      <td>...</td>\n",
              "      <td>...</td>\n",
              "      <td>...</td>\n",
              "      <td>...</td>\n",
              "      <td>...</td>\n",
              "      <td>...</td>\n",
              "      <td>...</td>\n",
              "      <td>...</td>\n",
              "      <td>...</td>\n",
              "      <td>...</td>\n",
              "      <td>...</td>\n",
              "      <td>...</td>\n",
              "      <td>...</td>\n",
              "      <td>...</td>\n",
              "      <td>...</td>\n",
              "      <td>...</td>\n",
              "      <td>...</td>\n",
              "    </tr>\n",
              "    <tr>\n",
              "      <th>9500</th>\n",
              "      <td>1218600002840</td>\n",
              "      <td>gran-i.ru</td>\n",
              "      <td>0.0</td>\n",
              "      <td>1.0</td>\n",
              "      <td>0.0</td>\n",
              "      <td>0.0</td>\n",
              "      <td>0.0</td>\n",
              "      <td>0.0</td>\n",
              "      <td>0.0</td>\n",
              "      <td>0.0</td>\n",
              "      <td>...</td>\n",
              "      <td>Ханты-Мансийский автономный округ - Югра</td>\n",
              "      <td>Автономная некоммерческая организация</td>\n",
              "      <td>АНО «ГРАНИ»</td>\n",
              "      <td>2021-03-16</td>\n",
              "      <td>Деятельность библиотек и архивов</td>\n",
              "      <td>Автономные некоммерческие организации</td>\n",
              "      <td>Деятельность библиотек и архивов</td>\n",
              "      <td>Издательство</td>\n",
              "      <td>2021-07-01 7:25:53</td>\n",
              "      <td></td>\n",
              "    </tr>\n",
              "    <tr>\n",
              "      <th>9505</th>\n",
              "      <td>1211800004998</td>\n",
              "      <td>www.ushinsky-iro.ru</td>\n",
              "      <td>1.0</td>\n",
              "      <td>1.0</td>\n",
              "      <td>0.0</td>\n",
              "      <td>0.0</td>\n",
              "      <td>0.0</td>\n",
              "      <td>0.0</td>\n",
              "      <td>0.0</td>\n",
              "      <td>0.0</td>\n",
              "      <td>...</td>\n",
              "      <td>Удмуртская республика</td>\n",
              "      <td>Автономная некоммерческая организация</td>\n",
              "      <td>ИНСТИТУТ РАЗВИТИЯ ОБРАЗОВАНИЯ ИМ. К. Д. УШИНСКОГО</td>\n",
              "      <td>2021-03-18</td>\n",
              "      <td>Образование профессиональное дополнительное</td>\n",
              "      <td>Автономные некоммерческие организации</td>\n",
              "      <td>Образование профессиональное дополнительное</td>\n",
              "      <td>Образование</td>\n",
              "      <td>2021-03-07 10:18:03</td>\n",
              "      <td></td>\n",
              "    </tr>\n",
              "    <tr>\n",
              "      <th>9506</th>\n",
              "      <td>1217800042460</td>\n",
              "      <td>innovationcentre.ru</td>\n",
              "      <td>1.0</td>\n",
              "      <td>1.0</td>\n",
              "      <td>0.0</td>\n",
              "      <td>0.0</td>\n",
              "      <td>0.0</td>\n",
              "      <td>0.0</td>\n",
              "      <td>0.0</td>\n",
              "      <td>0.0</td>\n",
              "      <td>...</td>\n",
              "      <td>Санкт-Петербург</td>\n",
              "      <td>Автономная некоммерческая организация</td>\n",
              "      <td>АНО ЦЕНТР РАЗВИТИЯ \"ИННОВАЦИЯ\"</td>\n",
              "      <td>2021-03-19</td>\n",
              "      <td>Предоставление прочих социальных услуг без обе...</td>\n",
              "      <td>Автономные некоммерческие организации</td>\n",
              "      <td>Предоставление прочих социальных услуг без обе...</td>\n",
              "      <td>Социальная работа</td>\n",
              "      <td>2021-05-23 18:25:03</td>\n",
              "      <td></td>\n",
              "    </tr>\n",
              "    <tr>\n",
              "      <th>9527</th>\n",
              "      <td>1216600028897</td>\n",
              "      <td>прознания.рф</td>\n",
              "      <td>1.0</td>\n",
              "      <td>1.0</td>\n",
              "      <td>0.0</td>\n",
              "      <td>0.0</td>\n",
              "      <td>1.0</td>\n",
              "      <td>0.0</td>\n",
              "      <td>0.0</td>\n",
              "      <td>0.0</td>\n",
              "      <td>...</td>\n",
              "      <td>Свердловская область</td>\n",
              "      <td>Автономная некоммерческая организация</td>\n",
              "      <td>АНО ДПО \"ПРОЗНАНИЯ\"</td>\n",
              "      <td>2021-05-13</td>\n",
              "      <td>Образование профессиональное дополнительное</td>\n",
              "      <td>Автономные некоммерческие организации</td>\n",
              "      <td>Образование профессиональное дополнительное</td>\n",
              "      <td>Образование</td>\n",
              "      <td>2021-09-20 8:21:31</td>\n",
              "      <td></td>\n",
              "    </tr>\n",
              "    <tr>\n",
              "      <th>9540</th>\n",
              "      <td>1217700385539</td>\n",
              "      <td>ngolikeyou.ru</td>\n",
              "      <td>1.0</td>\n",
              "      <td>1.0</td>\n",
              "      <td>1.0</td>\n",
              "      <td>1.0</td>\n",
              "      <td>1.0</td>\n",
              "      <td>0.0</td>\n",
              "      <td>1.0</td>\n",
              "      <td>0.0</td>\n",
              "      <td>...</td>\n",
              "      <td>Москва</td>\n",
              "      <td>NaN</td>\n",
              "      <td>АНО ЦЕНТР СИСТЕМНОЙ ПОДДЕРЖКИ ДЛЯ ЛЮДЕЙ С ПСИХ...</td>\n",
              "      <td>2021-08-18</td>\n",
              "      <td>Предоставление прочих социальных услуг без обе...</td>\n",
              "      <td>Автономные некоммерческие организации</td>\n",
              "      <td>Автономные некоммерческие организации</td>\n",
              "      <td>АНО</td>\n",
              "      <td>2021-08-17 15:54:57</td>\n",
              "      <td></td>\n",
              "    </tr>\n",
              "  </tbody>\n",
              "</table>\n",
              "<p>2113 rows × 28 columns</p>\n",
              "</div>\n",
              "      <button class=\"colab-df-convert\" onclick=\"convertToInteractive('df-8935fd7e-78a6-4e98-bf75-1ea5d7b79f9c')\"\n",
              "              title=\"Convert this dataframe to an interactive table.\"\n",
              "              style=\"display:none;\">\n",
              "        \n",
              "  <svg xmlns=\"http://www.w3.org/2000/svg\" height=\"24px\"viewBox=\"0 0 24 24\"\n",
              "       width=\"24px\">\n",
              "    <path d=\"M0 0h24v24H0V0z\" fill=\"none\"/>\n",
              "    <path d=\"M18.56 5.44l.94 2.06.94-2.06 2.06-.94-2.06-.94-.94-2.06-.94 2.06-2.06.94zm-11 1L8.5 8.5l.94-2.06 2.06-.94-2.06-.94L8.5 2.5l-.94 2.06-2.06.94zm10 10l.94 2.06.94-2.06 2.06-.94-2.06-.94-.94-2.06-.94 2.06-2.06.94z\"/><path d=\"M17.41 7.96l-1.37-1.37c-.4-.4-.92-.59-1.43-.59-.52 0-1.04.2-1.43.59L10.3 9.45l-7.72 7.72c-.78.78-.78 2.05 0 2.83L4 21.41c.39.39.9.59 1.41.59.51 0 1.02-.2 1.41-.59l7.78-7.78 2.81-2.81c.8-.78.8-2.07 0-2.86zM5.41 20L4 18.59l7.72-7.72 1.47 1.35L5.41 20z\"/>\n",
              "  </svg>\n",
              "      </button>\n",
              "      \n",
              "  <style>\n",
              "    .colab-df-container {\n",
              "      display:flex;\n",
              "      flex-wrap:wrap;\n",
              "      gap: 12px;\n",
              "    }\n",
              "\n",
              "    .colab-df-convert {\n",
              "      background-color: #E8F0FE;\n",
              "      border: none;\n",
              "      border-radius: 50%;\n",
              "      cursor: pointer;\n",
              "      display: none;\n",
              "      fill: #1967D2;\n",
              "      height: 32px;\n",
              "      padding: 0 0 0 0;\n",
              "      width: 32px;\n",
              "    }\n",
              "\n",
              "    .colab-df-convert:hover {\n",
              "      background-color: #E2EBFA;\n",
              "      box-shadow: 0px 1px 2px rgba(60, 64, 67, 0.3), 0px 1px 3px 1px rgba(60, 64, 67, 0.15);\n",
              "      fill: #174EA6;\n",
              "    }\n",
              "\n",
              "    [theme=dark] .colab-df-convert {\n",
              "      background-color: #3B4455;\n",
              "      fill: #D2E3FC;\n",
              "    }\n",
              "\n",
              "    [theme=dark] .colab-df-convert:hover {\n",
              "      background-color: #434B5C;\n",
              "      box-shadow: 0px 1px 3px 1px rgba(0, 0, 0, 0.15);\n",
              "      filter: drop-shadow(0px 1px 2px rgba(0, 0, 0, 0.3));\n",
              "      fill: #FFFFFF;\n",
              "    }\n",
              "  </style>\n",
              "\n",
              "      <script>\n",
              "        const buttonEl =\n",
              "          document.querySelector('#df-8935fd7e-78a6-4e98-bf75-1ea5d7b79f9c button.colab-df-convert');\n",
              "        buttonEl.style.display =\n",
              "          google.colab.kernel.accessAllowed ? 'block' : 'none';\n",
              "\n",
              "        async function convertToInteractive(key) {\n",
              "          const element = document.querySelector('#df-8935fd7e-78a6-4e98-bf75-1ea5d7b79f9c');\n",
              "          const dataTable =\n",
              "            await google.colab.kernel.invokeFunction('convertToInteractive',\n",
              "                                                     [key], {});\n",
              "          if (!dataTable) return;\n",
              "\n",
              "          const docLinkHtml = 'Like what you see? Visit the ' +\n",
              "            '<a target=\"_blank\" href=https://colab.research.google.com/notebooks/data_table.ipynb>data table notebook</a>'\n",
              "            + ' to learn more about interactive tables.';\n",
              "          element.innerHTML = '';\n",
              "          dataTable['output_type'] = 'display_data';\n",
              "          await google.colab.output.renderOutput(dataTable, element);\n",
              "          const docLink = document.createElement('div');\n",
              "          docLink.innerHTML = docLinkHtml;\n",
              "          element.appendChild(docLink);\n",
              "        }\n",
              "      </script>\n",
              "    </div>\n",
              "  </div>\n",
              "  "
            ],
            "text/plain": [
              "               ogrn              website  bin_robots  bin_sitemap  bin_fb  \\\n",
              "0     1026800000666         profobr68.ru         1.0          1.0     0.0   \n",
              "2     1025200008140           vdpor52.ru         1.0          1.0     0.0   \n",
              "4     1085200004450        vdpo-sarov.ru         1.0          1.0     0.0   \n",
              "10    1027700270861         www.ujmos.ru         1.0          1.0     0.0   \n",
              "13    1033918500285        chessfed39.ru         1.0          1.0     0.0   \n",
              "...             ...                  ...         ...          ...     ...   \n",
              "9500  1218600002840            gran-i.ru         0.0          1.0     0.0   \n",
              "9505  1211800004998  www.ushinsky-iro.ru         1.0          1.0     0.0   \n",
              "9506  1217800042460  innovationcentre.ru         1.0          1.0     0.0   \n",
              "9527  1216600028897         прознания.рф         1.0          1.0     0.0   \n",
              "9540  1217700385539        ngolikeyou.ru         1.0          1.0     1.0   \n",
              "\n",
              "      bin_vk  bin_ig  bin_ok  bin_youtube  bin_tiktok  ...  \\\n",
              "0        0.0     0.0     0.0          0.0         0.0  ...   \n",
              "2        0.0     0.0     0.0          0.0         0.0  ...   \n",
              "4        1.0     0.0     0.0          0.0         0.0  ...   \n",
              "10       0.0     0.0     0.0          0.0         0.0  ...   \n",
              "13       0.0     0.0     0.0          0.0         0.0  ...   \n",
              "...      ...     ...     ...          ...         ...  ...   \n",
              "9500     0.0     0.0     0.0          0.0         0.0  ...   \n",
              "9505     0.0     0.0     0.0          0.0         0.0  ...   \n",
              "9506     0.0     0.0     0.0          0.0         0.0  ...   \n",
              "9527     0.0     1.0     0.0          0.0         0.0  ...   \n",
              "9540     1.0     1.0     0.0          1.0         0.0  ...   \n",
              "\n",
              "                                    regionName  \\\n",
              "0                           Тамбовская область   \n",
              "2                        Нижегородская область   \n",
              "4                        Нижегородская область   \n",
              "10                                      Москва   \n",
              "13                     Калининградская область   \n",
              "...                                        ...   \n",
              "9500  Ханты-Мансийский автономный округ - Югра   \n",
              "9505                     Удмуртская республика   \n",
              "9506                           Санкт-Петербург   \n",
              "9527                      Свердловская область   \n",
              "9540                                    Москва   \n",
              "\n",
              "                                minjustForm  \\\n",
              "0                     Профессиональный союз   \n",
              "2                  Общественная организация   \n",
              "4                  Общественная организация   \n",
              "10                 Общественная организация   \n",
              "13                 Общественная организация   \n",
              "...                                     ...   \n",
              "9500  Автономная некоммерческая организация   \n",
              "9505  Автономная некоммерческая организация   \n",
              "9506  Автономная некоммерческая организация   \n",
              "9527  Автономная некоммерческая организация   \n",
              "9540                                    NaN   \n",
              "\n",
              "                                              shortName     regDate  \\\n",
              "0     ТАМБОВСКАЯ ОБЛАСТНАЯ ОРГАНИЗАЦИЯ ОБЩЕРОССИЙСКО...  1938-11-10   \n",
              "2     НИЖЕГОРОДСКОЕ ОБЛАСТНОЕ ОТДЕЛЕНИЕ ВДПО, ВДПО Н...  1958-06-20   \n",
              "4                                      САРОВСКОЕ \"ВДПО\"  1962-03-30   \n",
              "10                                       РОО \"СЖМ\", СЖМ  1977-04-23   \n",
              "13                           КООО \"ШАХМАТНАЯ ФЕДЕРАЦИЯ\"  1984-02-16   \n",
              "...                                                 ...         ...   \n",
              "9500                                        АНО «ГРАНИ»  2021-03-16   \n",
              "9505  ИНСТИТУТ РАЗВИТИЯ ОБРАЗОВАНИЯ ИМ. К. Д. УШИНСКОГО  2021-03-18   \n",
              "9506                     АНО ЦЕНТР РАЗВИТИЯ \"ИННОВАЦИЯ\"  2021-03-19   \n",
              "9527                                АНО ДПО \"ПРОЗНАНИЯ\"  2021-05-13   \n",
              "9540  АНО ЦЕНТР СИСТЕМНОЙ ПОДДЕРЖКИ ДЛЯ ЛЮДЕЙ С ПСИХ...  2021-08-18   \n",
              "\n",
              "                                              mainOkved  \\\n",
              "0                  Деятельность профессиональных союзов   \n",
              "2     Деятельность прочих общественных организаций, ...   \n",
              "4     Деятельность прочих общественных организаций, ...   \n",
              "10    Деятельность прочих общественных организаций, ...   \n",
              "13    Деятельность прочих общественных организаций, ...   \n",
              "...                                                 ...   \n",
              "9500                   Деятельность библиотек и архивов   \n",
              "9505        Образование профессиональное дополнительное   \n",
              "9506  Предоставление прочих социальных услуг без обе...   \n",
              "9527        Образование профессиональное дополнительное   \n",
              "9540  Предоставление прочих социальных услуг без обе...   \n",
              "\n",
              "                                opfCombined  \\\n",
              "0                   Профсоюзные организации   \n",
              "2                  Общественные организации   \n",
              "4                  Общественные организации   \n",
              "10                 Общественные организации   \n",
              "13                 Общественные организации   \n",
              "...                                     ...   \n",
              "9500  Автономные некоммерческие организации   \n",
              "9505  Автономные некоммерческие организации   \n",
              "9506  Автономные некоммерческие организации   \n",
              "9527  Автономные некоммерческие организации   \n",
              "9540  Автономные некоммерческие организации   \n",
              "\n",
              "                                          okvedCombined  \\\n",
              "0                  Деятельность профессиональных союзов   \n",
              "2     Деятельность прочих общественных организаций, ...   \n",
              "4     Деятельность прочих общественных организаций, ...   \n",
              "10    Деятельность прочих общественных организаций, ...   \n",
              "13    Деятельность прочих общественных организаций, ...   \n",
              "...                                                 ...   \n",
              "9500                   Деятельность библиотек и архивов   \n",
              "9505        Образование профессиональное дополнительное   \n",
              "9506  Предоставление прочих социальных услуг без обе...   \n",
              "9527        Образование профессиональное дополнительное   \n",
              "9540              Автономные некоммерческие организации   \n",
              "\n",
              "                     vedSimple  websiteCreationDate webarchive_snapshots  \n",
              "0                    Профсоюзы  2016-01-15 19:31:34                       \n",
              "2     Общественные организации  2016-09-28 12:05:06                       \n",
              "4     Общественные организации   2021-04-15 8:10:11                       \n",
              "10    Общественные организации  2006-09-13 20:00:00                       \n",
              "13    Общественные организации  2019-12-05 13:43:18                       \n",
              "...                        ...                  ...                  ...  \n",
              "9500              Издательство   2021-07-01 7:25:53                       \n",
              "9505               Образование  2021-03-07 10:18:03                       \n",
              "9506         Социальная работа  2021-05-23 18:25:03                       \n",
              "9527               Образование   2021-09-20 8:21:31                       \n",
              "9540                       АНО  2021-08-17 15:54:57                       \n",
              "\n",
              "[2113 rows x 28 columns]"
            ]
          },
          "execution_count": 117,
          "metadata": {},
          "output_type": "execute_result"
        }
      ],
      "source": [
        "# test\n",
        "# А может такое быть что ssl нет, а сайтмап есть?\n",
        "concat_ngos[(concat_ngos[\"bin_ssl\"] != 1.0) & (concat_ngos[\"bin_sitemap\"] == 1.0)]"
      ]
    },
    {
      "cell_type": "code",
      "execution_count": 64,
      "metadata": {
        "colab": {
          "base_uri": "https://localhost:8080/",
          "height": 1000
        },
        "id": "BlJAyJye7aqZ",
        "outputId": "75442069-5e85-493d-fb80-ce523c9c9642"
      },
      "outputs": [
        {
          "output_type": "stream",
          "name": "stderr",
          "text": [
            "2022-06-23 21:21:04,774 INFO usp.fetch_parse [61/MainThread]: Fetching level 0 sitemap from http://profobr68.ru/robots.txt...\n",
            "2022-06-23 21:21:04,777 INFO usp.helpers [61/MainThread]: Fetching URL http://profobr68.ru/robots.txt...\n",
            "2022-06-23 21:21:05,262 INFO usp.fetch_parse [61/MainThread]: Parsing sitemap from URL http://profobr68.ru/robots.txt...\n",
            "2022-06-23 21:21:05,266 INFO usp.fetch_parse [61/MainThread]: Fetching level 0 sitemap from http://profobr68.ru/sitemap.xml...\n",
            "2022-06-23 21:21:05,269 INFO usp.helpers [61/MainThread]: Fetching URL http://profobr68.ru/sitemap.xml...\n",
            "2022-06-23 21:21:05,911 INFO usp.fetch_parse [61/MainThread]: Parsing sitemap from URL http://profobr68.ru/sitemap.xml...\n",
            "2022-06-23 21:21:05,914 INFO usp.fetch_parse [61/MainThread]: Fetching level 1 sitemap from http://profobr68.ru/post-sitemap.xml...\n",
            "2022-06-23 21:21:05,918 INFO usp.helpers [61/MainThread]: Fetching URL http://profobr68.ru/post-sitemap.xml...\n",
            "2022-06-23 21:21:08,046 INFO usp.fetch_parse [61/MainThread]: Parsing sitemap from URL http://profobr68.ru/post-sitemap.xml...\n",
            "2022-06-23 21:21:08,143 INFO usp.fetch_parse [61/MainThread]: Fetching level 1 sitemap from http://profobr68.ru/page-sitemap.xml...\n",
            "2022-06-23 21:21:08,145 INFO usp.helpers [61/MainThread]: Fetching URL http://profobr68.ru/page-sitemap.xml...\n",
            "2022-06-23 21:21:08,800 INFO usp.fetch_parse [61/MainThread]: Parsing sitemap from URL http://profobr68.ru/page-sitemap.xml...\n",
            "2022-06-23 21:21:08,814 INFO usp.fetch_parse [61/MainThread]: Fetching level 1 sitemap from http://profobr68.ru/post_format-sitemap.xml...\n",
            "2022-06-23 21:21:08,816 INFO usp.helpers [61/MainThread]: Fetching URL http://profobr68.ru/post_format-sitemap.xml...\n",
            "2022-06-23 21:21:09,316 INFO usp.fetch_parse [61/MainThread]: Parsing sitemap from URL http://profobr68.ru/post_format-sitemap.xml...\n",
            "2022-06-23 21:21:09,320 INFO usp.fetch_parse [61/MainThread]: Fetching level 0 sitemap from http://profobr68.ru/sitemap.xml.gz...\n",
            "2022-06-23 21:21:09,322 INFO usp.helpers [61/MainThread]: Fetching URL http://profobr68.ru/sitemap.xml.gz...\n",
            "2022-06-23 21:21:09,808 ERROR usp.helpers [61/MainThread]: Unable to gunzip response <usp.web_client.requests_client.RequestsWebClientSuccessResponse object at 0x7f6984608230>, maybe it's a non-gzipped sitemap: Unable to gunzip data: Not a gzipped file (b'<?')\n",
            "2022-06-23 21:21:09,810 INFO usp.fetch_parse [61/MainThread]: Parsing sitemap from URL http://profobr68.ru/sitemap.xml.gz...\n",
            "2022-06-23 21:21:09,813 INFO usp.fetch_parse [61/MainThread]: Fetching level 1 sitemap from http://profobr68.ru/post-sitemap.xml...\n",
            "2022-06-23 21:21:09,816 INFO usp.helpers [61/MainThread]: Fetching URL http://profobr68.ru/post-sitemap.xml...\n",
            "2022-06-23 21:21:12,018 INFO usp.fetch_parse [61/MainThread]: Parsing sitemap from URL http://profobr68.ru/post-sitemap.xml...\n",
            "2022-06-23 21:21:12,111 INFO usp.fetch_parse [61/MainThread]: Fetching level 1 sitemap from http://profobr68.ru/page-sitemap.xml...\n",
            "2022-06-23 21:21:12,114 INFO usp.helpers [61/MainThread]: Fetching URL http://profobr68.ru/page-sitemap.xml...\n",
            "2022-06-23 21:21:12,817 INFO usp.fetch_parse [61/MainThread]: Parsing sitemap from URL http://profobr68.ru/page-sitemap.xml...\n",
            "2022-06-23 21:21:12,831 INFO usp.fetch_parse [61/MainThread]: Fetching level 1 sitemap from http://profobr68.ru/post_format-sitemap.xml...\n",
            "2022-06-23 21:21:12,833 INFO usp.helpers [61/MainThread]: Fetching URL http://profobr68.ru/post_format-sitemap.xml...\n",
            "2022-06-23 21:21:13,334 INFO usp.fetch_parse [61/MainThread]: Parsing sitemap from URL http://profobr68.ru/post_format-sitemap.xml...\n",
            "2022-06-23 21:21:13,338 INFO usp.fetch_parse [61/MainThread]: Fetching level 0 sitemap from http://profobr68.ru/sitemap/sitemap-index.xml...\n",
            "2022-06-23 21:21:13,342 INFO usp.helpers [61/MainThread]: Fetching URL http://profobr68.ru/sitemap/sitemap-index.xml...\n",
            "2022-06-23 21:21:13,901 WARNING usp.helpers [61/MainThread]: Request for URL http://profobr68.ru/sitemap/sitemap-index.xml failed: 404 Not Found\n",
            "2022-06-23 21:21:13,903 INFO usp.helpers [61/MainThread]: Not retrying for URL http://profobr68.ru/sitemap/sitemap-index.xml\n",
            "2022-06-23 21:21:13,905 INFO usp.fetch_parse [61/MainThread]: Fetching level 0 sitemap from http://profobr68.ru/sitemap_index.xml.gz...\n",
            "2022-06-23 21:21:13,909 INFO usp.helpers [61/MainThread]: Fetching URL http://profobr68.ru/sitemap_index.xml.gz...\n",
            "2022-06-23 21:21:14,384 WARNING usp.helpers [61/MainThread]: Request for URL http://profobr68.ru/sitemap_index.xml.gz failed: 404 Not Found\n",
            "2022-06-23 21:21:14,386 INFO usp.helpers [61/MainThread]: Not retrying for URL http://profobr68.ru/sitemap_index.xml.gz\n",
            "2022-06-23 21:21:14,388 INFO usp.fetch_parse [61/MainThread]: Fetching level 0 sitemap from http://profobr68.ru/sitemap_index.xml...\n",
            "2022-06-23 21:21:14,389 INFO usp.helpers [61/MainThread]: Fetching URL http://profobr68.ru/sitemap_index.xml...\n",
            "2022-06-23 21:21:14,923 WARNING usp.helpers [61/MainThread]: Request for URL http://profobr68.ru/sitemap_index.xml failed: 404 Not Found\n",
            "2022-06-23 21:21:14,924 INFO usp.helpers [61/MainThread]: Not retrying for URL http://profobr68.ru/sitemap_index.xml\n",
            "2022-06-23 21:21:14,926 INFO usp.fetch_parse [61/MainThread]: Fetching level 0 sitemap from http://profobr68.ru/.sitemap.xml...\n",
            "2022-06-23 21:21:14,927 INFO usp.helpers [61/MainThread]: Fetching URL http://profobr68.ru/.sitemap.xml...\n",
            "2022-06-23 21:21:15,486 WARNING usp.helpers [61/MainThread]: Request for URL http://profobr68.ru/.sitemap.xml failed: 404 Not Found\n",
            "2022-06-23 21:21:15,488 INFO usp.helpers [61/MainThread]: Not retrying for URL http://profobr68.ru/.sitemap.xml\n",
            "2022-06-23 21:21:15,492 INFO usp.fetch_parse [61/MainThread]: Fetching level 0 sitemap from http://profobr68.ru/admin/config/search/xmlsitemap...\n",
            "2022-06-23 21:21:15,493 INFO usp.helpers [61/MainThread]: Fetching URL http://profobr68.ru/admin/config/search/xmlsitemap...\n",
            "2022-06-23 21:21:16,065 WARNING usp.helpers [61/MainThread]: Request for URL http://profobr68.ru/admin/config/search/xmlsitemap failed: 404 Not Found\n",
            "2022-06-23 21:21:16,067 INFO usp.helpers [61/MainThread]: Not retrying for URL http://profobr68.ru/admin/config/search/xmlsitemap\n",
            "2022-06-23 21:21:16,070 INFO usp.fetch_parse [61/MainThread]: Fetching level 0 sitemap from http://profobr68.ru/sitemap-index.xml.gz...\n",
            "2022-06-23 21:21:16,072 INFO usp.helpers [61/MainThread]: Fetching URL http://profobr68.ru/sitemap-index.xml.gz...\n",
            "2022-06-23 21:21:16,542 WARNING usp.helpers [61/MainThread]: Request for URL http://profobr68.ru/sitemap-index.xml.gz failed: 404 Not Found\n",
            "2022-06-23 21:21:16,543 INFO usp.helpers [61/MainThread]: Not retrying for URL http://profobr68.ru/sitemap-index.xml.gz\n",
            "2022-06-23 21:21:16,544 INFO usp.fetch_parse [61/MainThread]: Fetching level 0 sitemap from http://profobr68.ru/sitemap...\n",
            "2022-06-23 21:21:16,546 INFO usp.helpers [61/MainThread]: Fetching URL http://profobr68.ru/sitemap...\n",
            "2022-06-23 21:21:17,111 WARNING usp.helpers [61/MainThread]: Request for URL http://profobr68.ru/sitemap failed: 404 Not Found\n",
            "2022-06-23 21:21:17,112 INFO usp.helpers [61/MainThread]: Not retrying for URL http://profobr68.ru/sitemap\n",
            "2022-06-23 21:21:17,114 INFO usp.fetch_parse [61/MainThread]: Fetching level 0 sitemap from http://profobr68.ru/sitemap-index.xml...\n",
            "2022-06-23 21:21:17,115 INFO usp.helpers [61/MainThread]: Fetching URL http://profobr68.ru/sitemap-index.xml...\n",
            "2022-06-23 21:21:17,698 WARNING usp.helpers [61/MainThread]: Request for URL http://profobr68.ru/sitemap-index.xml failed: 404 Not Found\n",
            "2022-06-23 21:21:17,700 INFO usp.helpers [61/MainThread]: Not retrying for URL http://profobr68.ru/sitemap-index.xml\n",
            "  5%|▌         | 48/958 [20:24<6:27:02, 25.52s/it]\n"
          ]
        },
        {
          "output_type": "error",
          "ename": "TooManyRequestsError",
          "evalue": "ignored",
          "traceback": [
            "\u001b[0;31m---------------------------------------------------------------------------\u001b[0m",
            "\u001b[0;31mTooManyRequestsError\u001b[0m                      Traceback (most recent call last)",
            "\u001b[0;32m<ipython-input-64-fd902929d083>\u001b[0m in \u001b[0;36m<module>\u001b[0;34m()\u001b[0m\n\u001b[1;32m      6\u001b[0m \u001b[0;34m\u001b[0m\u001b[0m\n\u001b[1;32m      7\u001b[0m   \u001b[0murls\u001b[0m \u001b[0;34m=\u001b[0m \u001b[0mget_all_urls\u001b[0m\u001b[0;34m(\u001b[0m\u001b[0mentry\u001b[0m\u001b[0;34m,\u001b[0m \u001b[0moriginal_url\u001b[0m\u001b[0;34m)\u001b[0m\u001b[0;34m\u001b[0m\u001b[0;34m\u001b[0m\u001b[0m\n\u001b[0;32m----> 8\u001b[0;31m   \u001b[0msnaps\u001b[0m \u001b[0;34m=\u001b[0m \u001b[0mcreate_snaps\u001b[0m\u001b[0;34m(\u001b[0m\u001b[0murls\u001b[0m\u001b[0;34m)\u001b[0m\u001b[0;34m\u001b[0m\u001b[0;34m\u001b[0m\u001b[0m\n\u001b[0m\u001b[1;32m      9\u001b[0m \u001b[0;34m\u001b[0m\u001b[0m\n\u001b[1;32m     10\u001b[0m   \u001b[0;31m# save web archive links to the dataset\u001b[0m\u001b[0;34m\u001b[0m\u001b[0;34m\u001b[0m\u001b[0;34m\u001b[0m\u001b[0m\n",
            "\u001b[0;32m<ipython-input-63-f2d2ab4d3a51>\u001b[0m in \u001b[0;36mcreate_snaps\u001b[0;34m(urls)\u001b[0m\n\u001b[1;32m     64\u001b[0m     \u001b[0mweb_archive_snap\u001b[0m \u001b[0;34m=\u001b[0m \u001b[0mfind_existing_snapshot\u001b[0m\u001b[0;34m(\u001b[0m\u001b[0murl\u001b[0m\u001b[0;34m)\u001b[0m\u001b[0;34m\u001b[0m\u001b[0;34m\u001b[0m\u001b[0m\n\u001b[1;32m     65\u001b[0m     \u001b[0;32mif\u001b[0m \u001b[0;32mnot\u001b[0m \u001b[0mweb_archive_snap\u001b[0m\u001b[0;34m:\u001b[0m\u001b[0;34m\u001b[0m\u001b[0;34m\u001b[0m\u001b[0m\n\u001b[0;32m---> 66\u001b[0;31m       \u001b[0mnew_snap\u001b[0m \u001b[0;34m=\u001b[0m \u001b[0msave_page_now\u001b[0m\u001b[0;34m(\u001b[0m\u001b[0murl\u001b[0m\u001b[0;34m)\u001b[0m\u001b[0;34m\u001b[0m\u001b[0;34m\u001b[0m\u001b[0m\n\u001b[0m\u001b[1;32m     67\u001b[0m       \u001b[0msnaps\u001b[0m\u001b[0;34m.\u001b[0m\u001b[0mappend\u001b[0m\u001b[0;34m(\u001b[0m\u001b[0mnew_snap\u001b[0m\u001b[0;34m)\u001b[0m\u001b[0;34m\u001b[0m\u001b[0;34m\u001b[0m\u001b[0m\n\u001b[1;32m     68\u001b[0m     \u001b[0;32melse\u001b[0m\u001b[0;34m:\u001b[0m\u001b[0;34m\u001b[0m\u001b[0;34m\u001b[0m\u001b[0m\n",
            "\u001b[0;32m<ipython-input-63-f2d2ab4d3a51>\u001b[0m in \u001b[0;36msave_page_now\u001b[0;34m(url)\u001b[0m\n\u001b[1;32m     54\u001b[0m   \u001b[0muser_agent\u001b[0m \u001b[0;34m=\u001b[0m \u001b[0;34m\"Mozilla/5.0 (Windows NT 5.1; rv:40.0) Gecko/20100101 Firefox/40.0\"\u001b[0m\u001b[0;34m\u001b[0m\u001b[0;34m\u001b[0m\u001b[0m\n\u001b[1;32m     55\u001b[0m   \u001b[0msave_api\u001b[0m \u001b[0;34m=\u001b[0m \u001b[0mWaybackMachineSaveAPI\u001b[0m\u001b[0;34m(\u001b[0m\u001b[0murl\u001b[0m\u001b[0;34m,\u001b[0m \u001b[0muser_agent\u001b[0m\u001b[0;34m)\u001b[0m\u001b[0;34m\u001b[0m\u001b[0;34m\u001b[0m\u001b[0m\n\u001b[0;32m---> 56\u001b[0;31m   \u001b[0msnapshot\u001b[0m \u001b[0;34m=\u001b[0m \u001b[0msave_api\u001b[0m\u001b[0;34m.\u001b[0m\u001b[0msave\u001b[0m\u001b[0;34m(\u001b[0m\u001b[0;34m)\u001b[0m\u001b[0;34m\u001b[0m\u001b[0;34m\u001b[0m\u001b[0m\n\u001b[0m\u001b[1;32m     57\u001b[0m   \u001b[0msleep\u001b[0m\u001b[0;34m(\u001b[0m\u001b[0;36m4.5\u001b[0m\u001b[0;34m)\u001b[0m\u001b[0;34m\u001b[0m\u001b[0;34m\u001b[0m\u001b[0m\n\u001b[1;32m     58\u001b[0m   \u001b[0;32mreturn\u001b[0m \u001b[0msnapshot\u001b[0m\u001b[0;34m\u001b[0m\u001b[0;34m\u001b[0m\u001b[0m\n",
            "\u001b[0;32m/usr/local/lib/python3.7/dist-packages/waybackpy/save_api.py\u001b[0m in \u001b[0;36msave\u001b[0;34m(self)\u001b[0m\n\u001b[1;32m    208\u001b[0m                 \u001b[0mself\u001b[0m\u001b[0;34m.\u001b[0m\u001b[0msleep\u001b[0m\u001b[0;34m(\u001b[0m\u001b[0mtries\u001b[0m\u001b[0;34m)\u001b[0m\u001b[0;34m\u001b[0m\u001b[0;34m\u001b[0m\u001b[0m\n\u001b[1;32m    209\u001b[0m \u001b[0;34m\u001b[0m\u001b[0m\n\u001b[0;32m--> 210\u001b[0;31m             \u001b[0mself\u001b[0m\u001b[0;34m.\u001b[0m\u001b[0mget_save_request_headers\u001b[0m\u001b[0;34m(\u001b[0m\u001b[0;34m)\u001b[0m\u001b[0;34m\u001b[0m\u001b[0;34m\u001b[0m\u001b[0m\n\u001b[0m\u001b[1;32m    211\u001b[0m             \u001b[0mself\u001b[0m\u001b[0;34m.\u001b[0m\u001b[0msaved_archive\u001b[0m \u001b[0;34m=\u001b[0m \u001b[0mself\u001b[0m\u001b[0;34m.\u001b[0m\u001b[0marchive_url_parser\u001b[0m\u001b[0;34m(\u001b[0m\u001b[0;34m)\u001b[0m\u001b[0;34m\u001b[0m\u001b[0;34m\u001b[0m\u001b[0m\n\u001b[1;32m    212\u001b[0m \u001b[0;34m\u001b[0m\u001b[0m\n",
            "\u001b[0;32m/usr/local/lib/python3.7/dist-packages/waybackpy/save_api.py\u001b[0m in \u001b[0;36mget_save_request_headers\u001b[0;34m(self)\u001b[0m\n\u001b[1;32m     98\u001b[0m             \u001b[0;31m# see https://github.com/akamhy/waybackpy/issues/97\u001b[0m\u001b[0;34m\u001b[0m\u001b[0;34m\u001b[0m\u001b[0;34m\u001b[0m\u001b[0m\n\u001b[1;32m     99\u001b[0m             raise TooManyRequestsError(\n\u001b[0;32m--> 100\u001b[0;31m                 \u001b[0;34mf\"Can not save '{self.url}'. \"\u001b[0m\u001b[0;34m\u001b[0m\u001b[0;34m\u001b[0m\u001b[0m\n\u001b[0m\u001b[1;32m    101\u001b[0m                 \u001b[0;34mf\"Save request refused by the server. \"\u001b[0m\u001b[0;34m\u001b[0m\u001b[0;34m\u001b[0m\u001b[0m\n\u001b[1;32m    102\u001b[0m                 \u001b[0;34mf\"Save Page Now limits saving 15 URLs per minutes. \"\u001b[0m\u001b[0;34m\u001b[0m\u001b[0;34m\u001b[0m\u001b[0m\n",
            "\u001b[0;31mTooManyRequestsError\u001b[0m: Can not save 'http://profobr68.ru/v-tambove-proshel-vserossijskij-seminar-soveshhanie-texnicheskix-glavnyx-texnicheskix-inspektorov-truda-profsoyuza-rabotnikov-narodnogo-obrazovaniya-i-nauki/'. Save request refused by the server. Save Page Now limits saving 15 URLs per minutes. Try waiting for 5 minutes and then try again."
          ]
        }
      ],
      "source": [
        "i = 0\n",
        "for entry in concat_ngos.iloc[:50].itertuples():\n",
        "  original_url = entry.website\n",
        "  if has_cyrillic(original_url):\n",
        "    original_url = original_url.encode('idna').decode('utf-8')\n",
        "\n",
        "  urls = get_all_urls(entry, original_url)\n",
        "  snaps = create_snaps(urls)\n",
        "\n",
        "  # save web archive links to the dataset\n",
        "  concat_ngos.at[i, \"webarchive_snapshots\"] = snaps\n",
        "  \n",
        "  i += 1\n"
      ]
    },
    {
      "cell_type": "markdown",
      "source": [
        "Notes:\n",
        "\n",
        "- 'https://prgura.ru/' throws TooManyRequests error algthough it is literally just one page, it's index is 60. It seems that domain name has changed, and makes a redirect or smth like that (???), maybe this is the reason"
      ],
      "metadata": {
        "id": "2jSTD5VQ1sMT"
      }
    },
    {
      "cell_type": "code",
      "execution_count": 51,
      "metadata": {
        "colab": {
          "base_uri": "https://localhost:8080/"
        },
        "id": "YW5plFKLkuR2",
        "outputId": "0922d55a-16d5-41ad-df3f-4a48cc65d38f"
      },
      "outputs": [
        {
          "output_type": "execute_result",
          "data": {
            "text/plain": [
              "0"
            ]
          },
          "metadata": {},
          "execution_count": 51
        }
      ],
      "source": [
        "i"
      ]
    },
    {
      "cell_type": "code",
      "execution_count": null,
      "metadata": {
        "colab": {
          "base_uri": "https://localhost:8080/",
          "height": 35
        },
        "id": "sG80P6GikwQ6",
        "outputId": "cdd0245c-0072-4db6-9e4e-cde05aa2d9df"
      },
      "outputs": [
        {
          "data": {
            "application/vnd.google.colaboratory.intrinsic+json": {
              "type": "string"
            },
            "text/plain": [
              "'ring'"
            ]
          },
          "execution_count": 83,
          "metadata": {},
          "output_type": "execute_result"
        }
      ],
      "source": [
        "a = \"string\"\n",
        "a[2:]"
      ]
    },
    {
      "cell_type": "code",
      "source": [
        "concat_ngos.iloc[13].webarchive_snapshots"
      ],
      "metadata": {
        "colab": {
          "base_uri": "https://localhost:8080/"
        },
        "id": "CrwCvmhkHMq9",
        "outputId": "affedec8-f6f7-418d-8dc1-351bf4b401ba"
      },
      "execution_count": 45,
      "outputs": [
        {
          "output_type": "execute_result",
          "data": {
            "text/plain": [
              "['http://web.archive.org/web/20220324190836/http://chessfed39.ru/',\n",
              " 'http://web.archive.org/web/20220324190836/http://chessfed39.ru/',\n",
              " 'http://web.archive.org/web/20220324190836/http://chessfed39.ru/',\n",
              " 'http://web.archive.org/web/20220324190836/http://chessfed39.ru/',\n",
              " 'http://web.archive.org/web/20220324190836/http://chessfed39.ru/',\n",
              " 'http://web.archive.org/web/20220324190836/http://chessfed39.ru/',\n",
              " 'http://web.archive.org/web/20220324190836/http://chessfed39.ru/',\n",
              " 'http://web.archive.org/web/20220324190836/http://chessfed39.ru/',\n",
              " 'http://web.archive.org/web/20220324190836/http://chessfed39.ru/',\n",
              " 'http://web.archive.org/web/20220324190836/http://chessfed39.ru/',\n",
              " 'http://web.archive.org/web/20220324190836/http://chessfed39.ru/',\n",
              " 'http://web.archive.org/web/20220324190836/http://chessfed39.ru/',\n",
              " 'http://web.archive.org/web/20220324190836/http://chessfed39.ru/',\n",
              " 'http://web.archive.org/web/20220324190836/http://chessfed39.ru/',\n",
              " 'http://web.archive.org/web/20220324190836/http://chessfed39.ru/',\n",
              " 'http://web.archive.org/web/20220324190836/http://chessfed39.ru/',\n",
              " 'http://web.archive.org/web/20220324190836/http://chessfed39.ru/',\n",
              " 'http://web.archive.org/web/20220324190836/http://chessfed39.ru/',\n",
              " 'http://web.archive.org/web/20220324190836/http://chessfed39.ru/',\n",
              " 'http://web.archive.org/web/20220324190836/http://chessfed39.ru/',\n",
              " 'http://web.archive.org/web/20220324190836/http://chessfed39.ru/',\n",
              " 'http://web.archive.org/web/20220324190836/http://chessfed39.ru/',\n",
              " 'http://web.archive.org/web/20220324190836/http://chessfed39.ru/',\n",
              " 'http://web.archive.org/web/20220324190836/http://chessfed39.ru/',\n",
              " 'http://web.archive.org/web/20220324190836/http://chessfed39.ru/',\n",
              " 'http://web.archive.org/web/20220324190836/http://chessfed39.ru/',\n",
              " 'http://web.archive.org/web/20220324190836/http://chessfed39.ru/',\n",
              " 'http://web.archive.org/web/20220324190836/http://chessfed39.ru/',\n",
              " 'http://web.archive.org/web/20220324190836/http://chessfed39.ru/',\n",
              " 'http://web.archive.org/web/20220324190836/http://chessfed39.ru/',\n",
              " 'http://web.archive.org/web/20220324190836/http://chessfed39.ru/',\n",
              " 'http://web.archive.org/web/20220324190836/http://chessfed39.ru/',\n",
              " 'http://web.archive.org/web/20220324190836/http://chessfed39.ru/',\n",
              " 'http://web.archive.org/web/20220324190836/http://chessfed39.ru/',\n",
              " 'http://web.archive.org/web/20220324190836/http://chessfed39.ru/',\n",
              " 'http://web.archive.org/web/20220324190836/http://chessfed39.ru/',\n",
              " 'http://web.archive.org/web/20220324190836/http://chessfed39.ru/',\n",
              " 'http://web.archive.org/web/20220324190836/http://chessfed39.ru/',\n",
              " 'http://web.archive.org/web/20220324190836/http://chessfed39.ru/',\n",
              " 'http://web.archive.org/web/20220324190836/http://chessfed39.ru/',\n",
              " 'http://web.archive.org/web/20220324190836/http://chessfed39.ru/',\n",
              " 'http://web.archive.org/web/20220324190836/http://chessfed39.ru/',\n",
              " 'http://web.archive.org/web/20220324190836/http://chessfed39.ru/',\n",
              " 'http://web.archive.org/web/20220324190836/http://chessfed39.ru/',\n",
              " 'http://web.archive.org/web/20220324190836/http://chessfed39.ru/',\n",
              " 'http://web.archive.org/web/20220324190836/http://chessfed39.ru/',\n",
              " 'http://web.archive.org/web/20220324190836/http://chessfed39.ru/',\n",
              " 'http://web.archive.org/web/20220324190836/http://chessfed39.ru/',\n",
              " 'http://web.archive.org/web/20220324190836/http://chessfed39.ru/',\n",
              " 'http://web.archive.org/web/20220324190836/http://chessfed39.ru/',\n",
              " 'http://web.archive.org/web/20220324190836/http://chessfed39.ru/',\n",
              " 'http://web.archive.org/web/20220324190836/http://chessfed39.ru/',\n",
              " 'http://web.archive.org/web/20220324190836/http://chessfed39.ru/',\n",
              " 'http://web.archive.org/web/20220324190836/http://chessfed39.ru/',\n",
              " 'http://web.archive.org/web/20220324190836/http://chessfed39.ru/',\n",
              " 'http://web.archive.org/web/20220324190836/http://chessfed39.ru/',\n",
              " 'http://web.archive.org/web/20220324190836/http://chessfed39.ru/',\n",
              " 'http://web.archive.org/web/20220324190836/http://chessfed39.ru/',\n",
              " 'http://web.archive.org/web/20220324190836/http://chessfed39.ru/',\n",
              " 'http://web.archive.org/web/20220324190836/http://chessfed39.ru/',\n",
              " 'http://web.archive.org/web/20220324190836/http://chessfed39.ru/',\n",
              " 'http://web.archive.org/web/20220324190836/http://chessfed39.ru/',\n",
              " 'http://web.archive.org/web/20220324190836/http://chessfed39.ru/',\n",
              " 'http://web.archive.org/web/20220324190836/http://chessfed39.ru/',\n",
              " 'http://web.archive.org/web/20220324190836/http://chessfed39.ru/',\n",
              " 'http://web.archive.org/web/20220324190836/http://chessfed39.ru/',\n",
              " 'http://web.archive.org/web/20220324190836/http://chessfed39.ru/',\n",
              " 'http://web.archive.org/web/20220324190836/http://chessfed39.ru/',\n",
              " 'http://web.archive.org/web/20220324190836/http://chessfed39.ru/',\n",
              " 'http://web.archive.org/web/20220324190836/http://chessfed39.ru/',\n",
              " 'http://web.archive.org/web/20220324190836/http://chessfed39.ru/',\n",
              " 'http://web.archive.org/web/20220324190836/http://chessfed39.ru/',\n",
              " 'http://web.archive.org/web/20220324190836/http://chessfed39.ru/',\n",
              " 'http://web.archive.org/web/20220324190836/http://chessfed39.ru/',\n",
              " 'http://web.archive.org/web/20220324190836/http://chessfed39.ru/',\n",
              " 'http://web.archive.org/web/20220324190836/http://chessfed39.ru/',\n",
              " 'http://web.archive.org/web/20220324190836/http://chessfed39.ru/',\n",
              " 'http://web.archive.org/web/20220324190836/http://chessfed39.ru/',\n",
              " 'http://web.archive.org/web/20220324190836/http://chessfed39.ru/',\n",
              " 'http://web.archive.org/web/20220324190836/http://chessfed39.ru/',\n",
              " 'http://web.archive.org/web/20220324190836/http://chessfed39.ru/',\n",
              " 'http://web.archive.org/web/20220324190836/http://chessfed39.ru/',\n",
              " 'http://web.archive.org/web/20220324190836/http://chessfed39.ru/',\n",
              " 'http://web.archive.org/web/20220324190836/http://chessfed39.ru/',\n",
              " 'http://web.archive.org/web/20220324190836/http://chessfed39.ru/',\n",
              " 'http://web.archive.org/web/20220324190836/http://chessfed39.ru/',\n",
              " 'http://web.archive.org/web/20220324190836/http://chessfed39.ru/',\n",
              " 'http://web.archive.org/web/20220324190836/http://chessfed39.ru/',\n",
              " 'http://web.archive.org/web/20220324190836/http://chessfed39.ru/',\n",
              " 'http://web.archive.org/web/20220324190836/http://chessfed39.ru/',\n",
              " 'http://web.archive.org/web/20220324190836/http://chessfed39.ru/',\n",
              " 'http://web.archive.org/web/20220324190836/http://chessfed39.ru/',\n",
              " 'http://web.archive.org/web/20220324190836/http://chessfed39.ru/',\n",
              " 'http://web.archive.org/web/20220324190836/http://chessfed39.ru/',\n",
              " 'http://web.archive.org/web/20220324190836/http://chessfed39.ru/',\n",
              " 'http://web.archive.org/web/20220324190836/http://chessfed39.ru/',\n",
              " 'http://web.archive.org/web/20220324190836/http://chessfed39.ru/',\n",
              " 'http://web.archive.org/web/20220324190836/http://chessfed39.ru/',\n",
              " 'http://web.archive.org/web/20220324190836/http://chessfed39.ru/',\n",
              " 'http://web.archive.org/web/20220324190836/http://chessfed39.ru/',\n",
              " 'http://web.archive.org/web/20220324190836/http://chessfed39.ru/',\n",
              " 'http://web.archive.org/web/20220324190836/http://chessfed39.ru/',\n",
              " 'http://web.archive.org/web/20220324190836/http://chessfed39.ru/',\n",
              " 'http://web.archive.org/web/20220324190836/http://chessfed39.ru/',\n",
              " 'http://web.archive.org/web/20220324190836/http://chessfed39.ru/',\n",
              " 'http://web.archive.org/web/20220324190836/http://chessfed39.ru/',\n",
              " 'http://web.archive.org/web/20220324190836/http://chessfed39.ru/',\n",
              " 'http://web.archive.org/web/20220324190836/http://chessfed39.ru/',\n",
              " 'http://web.archive.org/web/20220324190836/http://chessfed39.ru/',\n",
              " 'http://web.archive.org/web/20220324190836/http://chessfed39.ru/',\n",
              " 'http://web.archive.org/web/20220324190836/http://chessfed39.ru/',\n",
              " 'http://web.archive.org/web/20220324190836/http://chessfed39.ru/',\n",
              " 'http://web.archive.org/web/20220324190836/http://chessfed39.ru/',\n",
              " 'http://web.archive.org/web/20220324190836/http://chessfed39.ru/',\n",
              " 'http://web.archive.org/web/20220324190836/http://chessfed39.ru/',\n",
              " 'http://web.archive.org/web/20220324190836/http://chessfed39.ru/',\n",
              " 'http://web.archive.org/web/20220324190836/http://chessfed39.ru/',\n",
              " 'http://web.archive.org/web/20220324190836/http://chessfed39.ru/',\n",
              " 'http://web.archive.org/web/20220324190836/http://chessfed39.ru/',\n",
              " 'http://web.archive.org/web/20220324190836/http://chessfed39.ru/',\n",
              " 'http://web.archive.org/web/20220324190836/http://chessfed39.ru/',\n",
              " 'http://web.archive.org/web/20220324190836/http://chessfed39.ru/',\n",
              " 'http://web.archive.org/web/20220324190836/http://chessfed39.ru/',\n",
              " 'http://web.archive.org/web/20220324190836/http://chessfed39.ru/',\n",
              " 'http://web.archive.org/web/20220324190836/http://chessfed39.ru/',\n",
              " 'http://web.archive.org/web/20220324190836/http://chessfed39.ru/',\n",
              " 'http://web.archive.org/web/20220324190836/http://chessfed39.ru/',\n",
              " 'http://web.archive.org/web/20220324190836/http://chessfed39.ru/',\n",
              " 'http://web.archive.org/web/20220324190836/http://chessfed39.ru/',\n",
              " 'http://web.archive.org/web/20220324190836/http://chessfed39.ru/',\n",
              " 'http://web.archive.org/web/20220324190836/http://chessfed39.ru/',\n",
              " 'http://web.archive.org/web/20220324190836/http://chessfed39.ru/',\n",
              " 'http://web.archive.org/web/20220324190836/http://chessfed39.ru/',\n",
              " 'http://web.archive.org/web/20220324190836/http://chessfed39.ru/',\n",
              " 'http://web.archive.org/web/20220324190836/http://chessfed39.ru/',\n",
              " 'http://web.archive.org/web/20220324190836/http://chessfed39.ru/',\n",
              " 'http://web.archive.org/web/20220324190836/http://chessfed39.ru/',\n",
              " 'http://web.archive.org/web/20220324190836/http://chessfed39.ru/',\n",
              " 'http://web.archive.org/web/20220324190836/http://chessfed39.ru/',\n",
              " 'http://web.archive.org/web/20220324190836/http://chessfed39.ru/',\n",
              " 'http://web.archive.org/web/20220324190836/http://chessfed39.ru/']"
            ]
          },
          "metadata": {},
          "execution_count": 45
        }
      ]
    },
    {
      "cell_type": "markdown",
      "metadata": {
        "id": "knK8lvonHeY7"
      },
      "source": [
        "### Save the data"
      ]
    },
    {
      "cell_type": "code",
      "execution_count": null,
      "metadata": {
        "id": "pl6IlUFCHdx_"
      },
      "outputs": [],
      "source": [
        "concat_ngos.iloc[:50].to_csv(\"ngos_archived_99.csv\", encoding=\"utf-8\")"
      ]
    },
    {
      "cell_type": "code",
      "execution_count": null,
      "metadata": {
        "id": "BXciv_HvEuua"
      },
      "outputs": [],
      "source": [
        ""
      ]
    },
    {
      "cell_type": "code",
      "execution_count": null,
      "metadata": {
        "id": "f9uQCMqbEuxj"
      },
      "outputs": [],
      "source": [
        ""
      ]
    },
    {
      "cell_type": "code",
      "execution_count": null,
      "metadata": {
        "id": "446zCOl6Eu0X"
      },
      "outputs": [],
      "source": [
        ""
      ]
    },
    {
      "cell_type": "code",
      "execution_count": null,
      "metadata": {
        "id": "obPYX9RcEu3d"
      },
      "outputs": [],
      "source": [
        ""
      ]
    },
    {
      "cell_type": "code",
      "execution_count": null,
      "metadata": {
        "id": "r2TOeg6yEu6O"
      },
      "outputs": [],
      "source": [
        ""
      ]
    },
    {
      "cell_type": "code",
      "execution_count": null,
      "metadata": {
        "id": "sL12KHWgEu9A"
      },
      "outputs": [],
      "source": [
        ""
      ]
    },
    {
      "cell_type": "code",
      "execution_count": null,
      "metadata": {
        "id": "MD2bkf6FEvAF"
      },
      "outputs": [],
      "source": [
        ""
      ]
    },
    {
      "cell_type": "code",
      "execution_count": null,
      "metadata": {
        "id": "D0K1yWJayOLB"
      },
      "outputs": [],
      "source": [
        ""
      ]
    },
    {
      "cell_type": "markdown",
      "metadata": {
        "id": "WIPPeUJr5zck"
      },
      "source": [
        "ngolikeyou.ru потыкала руками. В вебархиве появляется меньше чем через полгода после создания. В 2022 фигурирует уже активнее, какие-то автоматические роботы вебархива его находят и автоматические роботы какого-то russian-web"
      ]
    },
    {
      "cell_type": "code",
      "execution_count": null,
      "metadata": {
        "colab": {
          "base_uri": "https://localhost:8080/",
          "height": 214
        },
        "id": "HYxQjUdv4-ZW",
        "outputId": "72dc07ef-4cce-4d6d-d46e-2e4f07076f60"
      },
      "outputs": [
        {
          "data": {
            "text/html": [
              "\n",
              "  <div id=\"df-2471302b-a73a-47ba-b642-f881b6fc3216\">\n",
              "    <div class=\"colab-df-container\">\n",
              "      <div>\n",
              "<style scoped>\n",
              "    .dataframe tbody tr th:only-of-type {\n",
              "        vertical-align: middle;\n",
              "    }\n",
              "\n",
              "    .dataframe tbody tr th {\n",
              "        vertical-align: top;\n",
              "    }\n",
              "\n",
              "    .dataframe thead th {\n",
              "        text-align: right;\n",
              "    }\n",
              "</style>\n",
              "<table border=\"1\" class=\"dataframe\">\n",
              "  <thead>\n",
              "    <tr style=\"text-align: right;\">\n",
              "      <th></th>\n",
              "      <th>ogrn</th>\n",
              "      <th>website</th>\n",
              "      <th>regionName</th>\n",
              "      <th>minjustForm</th>\n",
              "      <th>shortName</th>\n",
              "      <th>regDate</th>\n",
              "      <th>mainOkved</th>\n",
              "      <th>opfCombined</th>\n",
              "      <th>okvedCombined</th>\n",
              "      <th>vedSimple</th>\n",
              "      <th>websiteCreationDate</th>\n",
              "    </tr>\n",
              "  </thead>\n",
              "  <tbody>\n",
              "    <tr>\n",
              "      <th>9540</th>\n",
              "      <td>1217700385539</td>\n",
              "      <td>ngolikeyou.ru</td>\n",
              "      <td>Москва</td>\n",
              "      <td>NaN</td>\n",
              "      <td>АНО ЦЕНТР СИСТЕМНОЙ ПОДДЕРЖКИ ДЛЯ ЛЮДЕЙ С ПСИХ...</td>\n",
              "      <td>2021-08-18</td>\n",
              "      <td>Предоставление прочих социальных услуг без обе...</td>\n",
              "      <td>Автономные некоммерческие организации</td>\n",
              "      <td>Автономные некоммерческие организации</td>\n",
              "      <td>АНО</td>\n",
              "      <td>2021-08-17 15:54:57</td>\n",
              "    </tr>\n",
              "  </tbody>\n",
              "</table>\n",
              "</div>\n",
              "      <button class=\"colab-df-convert\" onclick=\"convertToInteractive('df-2471302b-a73a-47ba-b642-f881b6fc3216')\"\n",
              "              title=\"Convert this dataframe to an interactive table.\"\n",
              "              style=\"display:none;\">\n",
              "        \n",
              "  <svg xmlns=\"http://www.w3.org/2000/svg\" height=\"24px\"viewBox=\"0 0 24 24\"\n",
              "       width=\"24px\">\n",
              "    <path d=\"M0 0h24v24H0V0z\" fill=\"none\"/>\n",
              "    <path d=\"M18.56 5.44l.94 2.06.94-2.06 2.06-.94-2.06-.94-.94-2.06-.94 2.06-2.06.94zm-11 1L8.5 8.5l.94-2.06 2.06-.94-2.06-.94L8.5 2.5l-.94 2.06-2.06.94zm10 10l.94 2.06.94-2.06 2.06-.94-2.06-.94-.94-2.06-.94 2.06-2.06.94z\"/><path d=\"M17.41 7.96l-1.37-1.37c-.4-.4-.92-.59-1.43-.59-.52 0-1.04.2-1.43.59L10.3 9.45l-7.72 7.72c-.78.78-.78 2.05 0 2.83L4 21.41c.39.39.9.59 1.41.59.51 0 1.02-.2 1.41-.59l7.78-7.78 2.81-2.81c.8-.78.8-2.07 0-2.86zM5.41 20L4 18.59l7.72-7.72 1.47 1.35L5.41 20z\"/>\n",
              "  </svg>\n",
              "      </button>\n",
              "      \n",
              "  <style>\n",
              "    .colab-df-container {\n",
              "      display:flex;\n",
              "      flex-wrap:wrap;\n",
              "      gap: 12px;\n",
              "    }\n",
              "\n",
              "    .colab-df-convert {\n",
              "      background-color: #E8F0FE;\n",
              "      border: none;\n",
              "      border-radius: 50%;\n",
              "      cursor: pointer;\n",
              "      display: none;\n",
              "      fill: #1967D2;\n",
              "      height: 32px;\n",
              "      padding: 0 0 0 0;\n",
              "      width: 32px;\n",
              "    }\n",
              "\n",
              "    .colab-df-convert:hover {\n",
              "      background-color: #E2EBFA;\n",
              "      box-shadow: 0px 1px 2px rgba(60, 64, 67, 0.3), 0px 1px 3px 1px rgba(60, 64, 67, 0.15);\n",
              "      fill: #174EA6;\n",
              "    }\n",
              "\n",
              "    [theme=dark] .colab-df-convert {\n",
              "      background-color: #3B4455;\n",
              "      fill: #D2E3FC;\n",
              "    }\n",
              "\n",
              "    [theme=dark] .colab-df-convert:hover {\n",
              "      background-color: #434B5C;\n",
              "      box-shadow: 0px 1px 3px 1px rgba(0, 0, 0, 0.15);\n",
              "      filter: drop-shadow(0px 1px 2px rgba(0, 0, 0, 0.3));\n",
              "      fill: #FFFFFF;\n",
              "    }\n",
              "  </style>\n",
              "\n",
              "      <script>\n",
              "        const buttonEl =\n",
              "          document.querySelector('#df-2471302b-a73a-47ba-b642-f881b6fc3216 button.colab-df-convert');\n",
              "        buttonEl.style.display =\n",
              "          google.colab.kernel.accessAllowed ? 'block' : 'none';\n",
              "\n",
              "        async function convertToInteractive(key) {\n",
              "          const element = document.querySelector('#df-2471302b-a73a-47ba-b642-f881b6fc3216');\n",
              "          const dataTable =\n",
              "            await google.colab.kernel.invokeFunction('convertToInteractive',\n",
              "                                                     [key], {});\n",
              "          if (!dataTable) return;\n",
              "\n",
              "          const docLinkHtml = 'Like what you see? Visit the ' +\n",
              "            '<a target=\"_blank\" href=https://colab.research.google.com/notebooks/data_table.ipynb>data table notebook</a>'\n",
              "            + ' to learn more about interactive tables.';\n",
              "          element.innerHTML = '';\n",
              "          dataTable['output_type'] = 'display_data';\n",
              "          await google.colab.output.renderOutput(dataTable, element);\n",
              "          const docLink = document.createElement('div');\n",
              "          docLink.innerHTML = docLinkHtml;\n",
              "          element.appendChild(docLink);\n",
              "        }\n",
              "      </script>\n",
              "    </div>\n",
              "  </div>\n",
              "  "
            ],
            "text/plain": [
              "               ogrn        website regionName minjustForm  \\\n",
              "9540  1217700385539  ngolikeyou.ru     Москва         NaN   \n",
              "\n",
              "                                              shortName     regDate  \\\n",
              "9540  АНО ЦЕНТР СИСТЕМНОЙ ПОДДЕРЖКИ ДЛЯ ЛЮДЕЙ С ПСИХ...  2021-08-18   \n",
              "\n",
              "                                              mainOkved  \\\n",
              "9540  Предоставление прочих социальных услуг без обе...   \n",
              "\n",
              "                                opfCombined  \\\n",
              "9540  Автономные некоммерческие организации   \n",
              "\n",
              "                              okvedCombined vedSimple  websiteCreationDate  \n",
              "9540  Автономные некоммерческие организации       АНО  2021-08-17 15:54:57  "
            ]
          },
          "execution_count": 8,
          "metadata": {},
          "output_type": "execute_result"
        }
      ],
      "source": [
        "selected_ngos_data[selected_ngos_data['website'] == 'ngolikeyou.ru']"
      ]
    },
    {
      "cell_type": "code",
      "execution_count": null,
      "metadata": {
        "colab": {
          "base_uri": "https://localhost:8080/"
        },
        "id": "mgnsgOVeDDw9",
        "outputId": "b7896963-f4a8-4bc1-cd15-2f47a5ba28f7"
      },
      "outputs": [
        {
          "name": "stdout",
          "output_type": "stream",
          "text": [
            "Enter your Archive.org credentials below to configure 'ia'.\n",
            "\n",
            "Email address: anna.klezovich24@gmail.com\n",
            "Password: \n",
            "\n",
            "Config saved to: /root/.config/internetarchive/ia.ini\n"
          ]
        }
      ],
      "source": [
        "!ia configure"
      ]
    },
    {
      "cell_type": "code",
      "execution_count": null,
      "metadata": {
        "colab": {
          "base_uri": "https://localhost:8080/",
          "height": 363
        },
        "id": "gECHQUgXAy3b",
        "outputId": "514e6317-648a-467a-9806-4ca90aa9e9db"
      },
      "outputs": [
        {
          "ename": "AttributeError",
          "evalue": "ignored",
          "output_type": "error",
          "traceback": [
            "\u001b[0;31m---------------------------------------------------------------------------\u001b[0m",
            "\u001b[0;31mAttributeError\u001b[0m                            Traceback (most recent call last)",
            "\u001b[0;32m<ipython-input-19-da46f56395cd>\u001b[0m in \u001b[0;36m<module>\u001b[0;34m()\u001b[0m\n\u001b[1;32m      1\u001b[0m \u001b[0;32mimport\u001b[0m \u001b[0minternetarchive\u001b[0m \u001b[0;32mas\u001b[0m \u001b[0mia\u001b[0m\u001b[0;34m\u001b[0m\u001b[0;34m\u001b[0m\u001b[0m\n\u001b[1;32m      2\u001b[0m \u001b[0;34m\u001b[0m\u001b[0m\n\u001b[0;32m----> 3\u001b[0;31m \u001b[0mia\u001b[0m\u001b[0;34m.\u001b[0m\u001b[0mdownload\u001b[0m\u001b[0;34m(\u001b[0m\u001b[0;34m'ngolikeyou.ru'\u001b[0m\u001b[0;34m)\u001b[0m\u001b[0;34m\u001b[0m\u001b[0;34m\u001b[0m\u001b[0m\n\u001b[0m",
            "\u001b[0;32m/usr/local/lib/python3.7/dist-packages/internetarchive/api.py\u001b[0m in \u001b[0;36mdownload\u001b[0;34m(identifier, files, formats, glob_pattern, dry_run, verbose, ignore_existing, checksum, destdir, no_directory, retries, item_index, ignore_errors, on_the_fly, return_responses, no_change_timestamp, **get_item_kwargs)\u001b[0m\n\u001b[1;32m    356\u001b[0m     \u001b[0;34m:\u001b[0m\u001b[0mreturns\u001b[0m\u001b[0;34m:\u001b[0m \u001b[0mA\u001b[0m \u001b[0mlist\u001b[0m \u001b[0mRequests\u001b[0m \u001b[0;32mif\u001b[0m \u001b[0mdebug\u001b[0m \u001b[0;32melse\u001b[0m \u001b[0ma\u001b[0m \u001b[0mlist\u001b[0m \u001b[0mof\u001b[0m \u001b[0mResponses\u001b[0m\u001b[0;34m.\u001b[0m\u001b[0;34m\u001b[0m\u001b[0;34m\u001b[0m\u001b[0m\n\u001b[1;32m    357\u001b[0m     \"\"\"\n\u001b[0;32m--> 358\u001b[0;31m     \u001b[0mitem\u001b[0m \u001b[0;34m=\u001b[0m \u001b[0mget_item\u001b[0m\u001b[0;34m(\u001b[0m\u001b[0midentifier\u001b[0m\u001b[0;34m,\u001b[0m \u001b[0;34m**\u001b[0m\u001b[0mget_item_kwargs\u001b[0m\u001b[0;34m)\u001b[0m\u001b[0;34m\u001b[0m\u001b[0;34m\u001b[0m\u001b[0m\n\u001b[0m\u001b[1;32m    359\u001b[0m     r = item.download(\n\u001b[1;32m    360\u001b[0m         \u001b[0mfiles\u001b[0m\u001b[0;34m=\u001b[0m\u001b[0mfiles\u001b[0m\u001b[0;34m,\u001b[0m\u001b[0;34m\u001b[0m\u001b[0;34m\u001b[0m\u001b[0m\n",
            "\u001b[0;32m/usr/local/lib/python3.7/dist-packages/internetarchive/api.py\u001b[0m in \u001b[0;36mget_item\u001b[0;34m(identifier, config, config_file, archive_session, debug, http_adapter_kwargs, request_kwargs)\u001b[0m\n\u001b[1;32m    118\u001b[0m     \"\"\"\n\u001b[1;32m    119\u001b[0m     \u001b[0;32mif\u001b[0m \u001b[0;32mnot\u001b[0m \u001b[0marchive_session\u001b[0m\u001b[0;34m:\u001b[0m\u001b[0;34m\u001b[0m\u001b[0;34m\u001b[0m\u001b[0m\n\u001b[0;32m--> 120\u001b[0;31m         \u001b[0marchive_session\u001b[0m \u001b[0;34m=\u001b[0m \u001b[0mget_session\u001b[0m\u001b[0;34m(\u001b[0m\u001b[0mconfig\u001b[0m\u001b[0;34m,\u001b[0m \u001b[0mconfig_file\u001b[0m\u001b[0;34m,\u001b[0m \u001b[0mdebug\u001b[0m\u001b[0;34m,\u001b[0m \u001b[0mhttp_adapter_kwargs\u001b[0m\u001b[0;34m)\u001b[0m\u001b[0;34m\u001b[0m\u001b[0;34m\u001b[0m\u001b[0m\n\u001b[0m\u001b[1;32m    121\u001b[0m     \u001b[0;32mreturn\u001b[0m \u001b[0marchive_session\u001b[0m\u001b[0;34m.\u001b[0m\u001b[0mget_item\u001b[0m\u001b[0;34m(\u001b[0m\u001b[0midentifier\u001b[0m\u001b[0;34m,\u001b[0m \u001b[0mrequest_kwargs\u001b[0m\u001b[0;34m=\u001b[0m\u001b[0mrequest_kwargs\u001b[0m\u001b[0;34m)\u001b[0m\u001b[0;34m\u001b[0m\u001b[0;34m\u001b[0m\u001b[0m\n\u001b[1;32m    122\u001b[0m \u001b[0;34m\u001b[0m\u001b[0m\n",
            "\u001b[0;32m/usr/local/lib/python3.7/dist-packages/internetarchive/api.py\u001b[0m in \u001b[0;36mget_session\u001b[0;34m(config, config_file, debug, http_adapter_kwargs)\u001b[0m\n\u001b[1;32m     78\u001b[0m         \u001b[0;34m'ia311234'\u001b[0m\u001b[0;34m\u001b[0m\u001b[0;34m\u001b[0m\u001b[0m\n\u001b[1;32m     79\u001b[0m     \"\"\"\n\u001b[0;32m---> 80\u001b[0;31m     \u001b[0;32mreturn\u001b[0m \u001b[0msession\u001b[0m\u001b[0;34m.\u001b[0m\u001b[0mArchiveSession\u001b[0m\u001b[0;34m(\u001b[0m\u001b[0mconfig\u001b[0m\u001b[0;34m,\u001b[0m \u001b[0mconfig_file\u001b[0m \u001b[0;32mor\u001b[0m \u001b[0;34m\"\"\u001b[0m\u001b[0;34m,\u001b[0m \u001b[0mdebug\u001b[0m\u001b[0;34m,\u001b[0m \u001b[0mhttp_adapter_kwargs\u001b[0m\u001b[0;34m)\u001b[0m\u001b[0;34m\u001b[0m\u001b[0;34m\u001b[0m\u001b[0m\n\u001b[0m\u001b[1;32m     81\u001b[0m \u001b[0;34m\u001b[0m\u001b[0m\n\u001b[1;32m     82\u001b[0m \u001b[0;34m\u001b[0m\u001b[0m\n",
            "\u001b[0;32m/usr/local/lib/python3.7/dist-packages/internetarchive/session.py\u001b[0m in \u001b[0;36m__init__\u001b[0;34m(self, config, config_file, debug, http_adapter_kwargs)\u001b[0m\n\u001b[1;32m    126\u001b[0m         \u001b[0mself\u001b[0m\u001b[0;34m.\u001b[0m\u001b[0mheaders\u001b[0m\u001b[0;34m.\u001b[0m\u001b[0mupdate\u001b[0m\u001b[0;34m(\u001b[0m\u001b[0;34m{\u001b[0m\u001b[0;34m'Connection'\u001b[0m\u001b[0;34m:\u001b[0m \u001b[0;34m'close'\u001b[0m\u001b[0;34m}\u001b[0m\u001b[0;34m)\u001b[0m\u001b[0;34m\u001b[0m\u001b[0;34m\u001b[0m\u001b[0m\n\u001b[1;32m    127\u001b[0m \u001b[0;34m\u001b[0m\u001b[0m\n\u001b[0;32m--> 128\u001b[0;31m         \u001b[0mself\u001b[0m\u001b[0;34m.\u001b[0m\u001b[0mmount_http_adapter\u001b[0m\u001b[0;34m(\u001b[0m\u001b[0;34m)\u001b[0m\u001b[0;34m\u001b[0m\u001b[0;34m\u001b[0m\u001b[0m\n\u001b[0m\u001b[1;32m    129\u001b[0m \u001b[0;34m\u001b[0m\u001b[0m\n\u001b[1;32m    130\u001b[0m         \u001b[0mlogging_config\u001b[0m \u001b[0;34m=\u001b[0m \u001b[0mself\u001b[0m\u001b[0;34m.\u001b[0m\u001b[0mconfig\u001b[0m\u001b[0;34m.\u001b[0m\u001b[0mget\u001b[0m\u001b[0;34m(\u001b[0m\u001b[0;34m'logging'\u001b[0m\u001b[0;34m,\u001b[0m \u001b[0;34m{\u001b[0m\u001b[0;34m}\u001b[0m\u001b[0;34m)\u001b[0m\u001b[0;34m\u001b[0m\u001b[0;34m\u001b[0m\u001b[0m\n",
            "\u001b[0;32m/usr/local/lib/python3.7/dist-packages/internetarchive/session.py\u001b[0m in \u001b[0;36mmount_http_adapter\u001b[0;34m(self, protocol, max_retries, status_forcelist, host)\u001b[0m\n\u001b[1;32m    182\u001b[0m                                 \u001b[0mread\u001b[0m\u001b[0;34m=\u001b[0m\u001b[0mmax_retries\u001b[0m\u001b[0;34m,\u001b[0m\u001b[0;34m\u001b[0m\u001b[0;34m\u001b[0m\u001b[0m\n\u001b[1;32m    183\u001b[0m                                 \u001b[0mredirect\u001b[0m\u001b[0;34m=\u001b[0m\u001b[0;32mFalse\u001b[0m\u001b[0;34m,\u001b[0m\u001b[0;34m\u001b[0m\u001b[0;34m\u001b[0m\u001b[0m\n\u001b[0;32m--> 184\u001b[0;31m                                 \u001b[0mallowed_methods\u001b[0m\u001b[0;34m=\u001b[0m\u001b[0mRetry\u001b[0m\u001b[0;34m.\u001b[0m\u001b[0mDEFAULT_ALLOWED_METHODS\u001b[0m\u001b[0;34m,\u001b[0m\u001b[0;34m\u001b[0m\u001b[0;34m\u001b[0m\u001b[0m\n\u001b[0m\u001b[1;32m    185\u001b[0m                                 \u001b[0mstatus_forcelist\u001b[0m\u001b[0;34m=\u001b[0m\u001b[0mstatus_forcelist\u001b[0m\u001b[0;34m,\u001b[0m\u001b[0;34m\u001b[0m\u001b[0;34m\u001b[0m\u001b[0m\n\u001b[1;32m    186\u001b[0m                                 backoff_factor=1)\n",
            "\u001b[0;31mAttributeError\u001b[0m: type object 'Retry' has no attribute 'DEFAULT_ALLOWED_METHODS'"
          ]
        }
      ],
      "source": [
        "import internetarchive as ia\n",
        "\n",
        "ia.download('ngolikeyou.ru')\n"
      ]
    },
    {
      "cell_type": "code",
      "execution_count": null,
      "metadata": {
        "colab": {
          "base_uri": "https://localhost:8080/",
          "height": 762
        },
        "id": "fr3ss-gkDlti",
        "outputId": "76dc343b-0adb-478e-ba32-d28c14798d2f"
      },
      "outputs": [
        {
          "ename": "AttributeError",
          "evalue": "ignored",
          "output_type": "error",
          "traceback": [
            "\u001b[0;31m---------------------------------------------------------------------------\u001b[0m",
            "\u001b[0;31mAttributeError\u001b[0m                            Traceback (most recent call last)",
            "\u001b[0;32m<ipython-input-27-ed588e0b8da5>\u001b[0m in \u001b[0;36m<module>\u001b[0;34m()\u001b[0m\n\u001b[0;32m----> 1\u001b[0;31m \u001b[0mitem\u001b[0m \u001b[0;34m=\u001b[0m \u001b[0mia\u001b[0m\u001b[0;34m.\u001b[0m\u001b[0mget_item\u001b[0m\u001b[0;34m(\u001b[0m\u001b[0;34m'lettertowilliaml00doug'\u001b[0m\u001b[0;34m)\u001b[0m\u001b[0;34m\u001b[0m\u001b[0;34m\u001b[0m\u001b[0m\n\u001b[0m\u001b[1;32m      2\u001b[0m \u001b[0mitem\u001b[0m\u001b[0;34m.\u001b[0m\u001b[0mdownload\u001b[0m\u001b[0;34m(\u001b[0m\u001b[0;34m)\u001b[0m\u001b[0;34m\u001b[0m\u001b[0;34m\u001b[0m\u001b[0m\n",
            "\u001b[0;32m/usr/local/lib/python3.7/dist-packages/internetarchive/api.py\u001b[0m in \u001b[0;36mget_item\u001b[0;34m(identifier, config, config_file, archive_session, debug, http_adapter_kwargs, request_kwargs)\u001b[0m\n\u001b[1;32m    118\u001b[0m     \"\"\"\n\u001b[1;32m    119\u001b[0m     \u001b[0;32mif\u001b[0m \u001b[0;32mnot\u001b[0m \u001b[0marchive_session\u001b[0m\u001b[0;34m:\u001b[0m\u001b[0;34m\u001b[0m\u001b[0;34m\u001b[0m\u001b[0m\n\u001b[0;32m--> 120\u001b[0;31m         \u001b[0marchive_session\u001b[0m \u001b[0;34m=\u001b[0m \u001b[0mget_session\u001b[0m\u001b[0;34m(\u001b[0m\u001b[0mconfig\u001b[0m\u001b[0;34m,\u001b[0m \u001b[0mconfig_file\u001b[0m\u001b[0;34m,\u001b[0m \u001b[0mdebug\u001b[0m\u001b[0;34m,\u001b[0m \u001b[0mhttp_adapter_kwargs\u001b[0m\u001b[0;34m)\u001b[0m\u001b[0;34m\u001b[0m\u001b[0;34m\u001b[0m\u001b[0m\n\u001b[0m\u001b[1;32m    121\u001b[0m     \u001b[0;32mreturn\u001b[0m \u001b[0marchive_session\u001b[0m\u001b[0;34m.\u001b[0m\u001b[0mget_item\u001b[0m\u001b[0;34m(\u001b[0m\u001b[0midentifier\u001b[0m\u001b[0;34m,\u001b[0m \u001b[0mrequest_kwargs\u001b[0m\u001b[0;34m=\u001b[0m\u001b[0mrequest_kwargs\u001b[0m\u001b[0;34m)\u001b[0m\u001b[0;34m\u001b[0m\u001b[0;34m\u001b[0m\u001b[0m\n\u001b[1;32m    122\u001b[0m \u001b[0;34m\u001b[0m\u001b[0m\n",
            "\u001b[0;32m/usr/local/lib/python3.7/dist-packages/internetarchive/api.py\u001b[0m in \u001b[0;36mget_session\u001b[0;34m(config, config_file, debug, http_adapter_kwargs)\u001b[0m\n\u001b[1;32m     78\u001b[0m         \u001b[0;34m'ia311234'\u001b[0m\u001b[0;34m\u001b[0m\u001b[0;34m\u001b[0m\u001b[0m\n\u001b[1;32m     79\u001b[0m     \"\"\"\n\u001b[0;32m---> 80\u001b[0;31m     \u001b[0;32mreturn\u001b[0m \u001b[0msession\u001b[0m\u001b[0;34m.\u001b[0m\u001b[0mArchiveSession\u001b[0m\u001b[0;34m(\u001b[0m\u001b[0mconfig\u001b[0m\u001b[0;34m,\u001b[0m \u001b[0mconfig_file\u001b[0m \u001b[0;32mor\u001b[0m \u001b[0;34m\"\"\u001b[0m\u001b[0;34m,\u001b[0m \u001b[0mdebug\u001b[0m\u001b[0;34m,\u001b[0m \u001b[0mhttp_adapter_kwargs\u001b[0m\u001b[0;34m)\u001b[0m\u001b[0;34m\u001b[0m\u001b[0;34m\u001b[0m\u001b[0m\n\u001b[0m\u001b[1;32m     81\u001b[0m \u001b[0;34m\u001b[0m\u001b[0m\n\u001b[1;32m     82\u001b[0m \u001b[0;34m\u001b[0m\u001b[0m\n",
            "\u001b[0;32m/usr/local/lib/python3.7/dist-packages/internetarchive/session.py\u001b[0m in \u001b[0;36m__init__\u001b[0;34m(self, config, config_file, debug, http_adapter_kwargs)\u001b[0m\n\u001b[1;32m    126\u001b[0m         \u001b[0mself\u001b[0m\u001b[0;34m.\u001b[0m\u001b[0mheaders\u001b[0m\u001b[0;34m.\u001b[0m\u001b[0mupdate\u001b[0m\u001b[0;34m(\u001b[0m\u001b[0;34m{\u001b[0m\u001b[0;34m'Connection'\u001b[0m\u001b[0;34m:\u001b[0m \u001b[0;34m'close'\u001b[0m\u001b[0;34m}\u001b[0m\u001b[0;34m)\u001b[0m\u001b[0;34m\u001b[0m\u001b[0;34m\u001b[0m\u001b[0m\n\u001b[1;32m    127\u001b[0m \u001b[0;34m\u001b[0m\u001b[0m\n\u001b[0;32m--> 128\u001b[0;31m         \u001b[0mself\u001b[0m\u001b[0;34m.\u001b[0m\u001b[0mmount_http_adapter\u001b[0m\u001b[0;34m(\u001b[0m\u001b[0;34m)\u001b[0m\u001b[0;34m\u001b[0m\u001b[0;34m\u001b[0m\u001b[0m\n\u001b[0m\u001b[1;32m    129\u001b[0m \u001b[0;34m\u001b[0m\u001b[0m\n\u001b[1;32m    130\u001b[0m         \u001b[0mlogging_config\u001b[0m \u001b[0;34m=\u001b[0m \u001b[0mself\u001b[0m\u001b[0;34m.\u001b[0m\u001b[0mconfig\u001b[0m\u001b[0;34m.\u001b[0m\u001b[0mget\u001b[0m\u001b[0;34m(\u001b[0m\u001b[0;34m'logging'\u001b[0m\u001b[0;34m,\u001b[0m \u001b[0;34m{\u001b[0m\u001b[0;34m}\u001b[0m\u001b[0;34m)\u001b[0m\u001b[0;34m\u001b[0m\u001b[0;34m\u001b[0m\u001b[0m\n",
            "\u001b[0;32m/usr/local/lib/python3.7/dist-packages/internetarchive/session.py\u001b[0m in \u001b[0;36mmount_http_adapter\u001b[0;34m(self, protocol, max_retries, status_forcelist, host)\u001b[0m\n\u001b[1;32m    182\u001b[0m                                 \u001b[0mread\u001b[0m\u001b[0;34m=\u001b[0m\u001b[0mmax_retries\u001b[0m\u001b[0;34m,\u001b[0m\u001b[0;34m\u001b[0m\u001b[0;34m\u001b[0m\u001b[0m\n\u001b[1;32m    183\u001b[0m                                 \u001b[0mredirect\u001b[0m\u001b[0;34m=\u001b[0m\u001b[0;32mFalse\u001b[0m\u001b[0;34m,\u001b[0m\u001b[0;34m\u001b[0m\u001b[0;34m\u001b[0m\u001b[0m\n\u001b[0;32m--> 184\u001b[0;31m                                 \u001b[0mallowed_methods\u001b[0m\u001b[0;34m=\u001b[0m\u001b[0mRetry\u001b[0m\u001b[0;34m.\u001b[0m\u001b[0mDEFAULT_ALLOWED_METHODS\u001b[0m\u001b[0;34m,\u001b[0m\u001b[0;34m\u001b[0m\u001b[0;34m\u001b[0m\u001b[0m\n\u001b[0m\u001b[1;32m    185\u001b[0m                                 \u001b[0mstatus_forcelist\u001b[0m\u001b[0;34m=\u001b[0m\u001b[0mstatus_forcelist\u001b[0m\u001b[0;34m,\u001b[0m\u001b[0;34m\u001b[0m\u001b[0;34m\u001b[0m\u001b[0m\n\u001b[1;32m    186\u001b[0m                                 backoff_factor=1)\n",
            "\u001b[0;31mAttributeError\u001b[0m: type object 'Retry' has no attribute 'DEFAULT_ALLOWED_METHODS'"
          ]
        }
      ],
      "source": [
        "item = ia.get_item('lettertowilliaml00doug')\n",
        "item.download()"
      ]
    },
    {
      "cell_type": "code",
      "execution_count": null,
      "metadata": {
        "colab": {
          "base_uri": "https://localhost:8080/"
        },
        "id": "WPtzjFFyFbfg",
        "outputId": "f676d6e1-64cf-4a59-8b8a-f3702645269c"
      },
      "outputs": [
        {
          "name": "stdout",
          "output_type": "stream",
          "text": [
            "Looking in indexes: https://pypi.org/simple, https://us-python.pkg.dev/colab-wheels/public/simple/\n",
            "Collecting pymarc\n",
            "  Downloading pymarc-4.2.0.tar.gz (230 kB)\n",
            "\u001b[K     |████████████████████████████████| 230 kB 4.2 MB/s \n",
            "\u001b[?25hBuilding wheels for collected packages: pymarc\n",
            "  Building wheel for pymarc (setup.py) ... \u001b[?25l\u001b[?25hdone\n",
            "  Created wheel for pymarc: filename=pymarc-4.2.0-py3-none-any.whl size=155332 sha256=3923c947e5ec024bfe261453b3b2b0359af9359337d282581cf02197acbdb9bc\n",
            "  Stored in directory: /root/.cache/pip/wheels/35/c1/bc/7cbc19ab89d8fea276e17106de1231e299f0bbe73135610515\n",
            "Successfully built pymarc\n",
            "Installing collected packages: pymarc\n",
            "Successfully installed pymarc-4.2.0\n"
          ]
        }
      ],
      "source": [
        "!sudo pip install pymarc"
      ]
    },
    {
      "cell_type": "code",
      "execution_count": null,
      "metadata": {
        "colab": {
          "base_uri": "https://localhost:8080/",
          "height": 35
        },
        "id": "73ayi7gtsqWY",
        "outputId": "e89ff3a9-f207-45bd-b048-9fdc46037f2f"
      },
      "outputs": [
        {
          "data": {
            "application/vnd.google.colaboratory.intrinsic+json": {
              "type": "string"
            },
            "text/plain": [
              "'https://web.archive.org/web/20220618064446/https://github.com/'"
            ]
          },
          "execution_count": 2,
          "metadata": {},
          "output_type": "execute_result"
        }
      ],
      "source": [
        "from waybackpy import WaybackMachineSaveAPI\n",
        "\n",
        "url = \"https://github.com\"\n",
        "user_agent = \"Mozilla/5.0 (Windows NT 5.1; rv:40.0) Gecko/20100101 Firefox/40.0\"\n",
        "\n",
        "save_api = WaybackMachineSaveAPI(url, user_agent)\n",
        "save_api.save()"
      ]
    },
    {
      "cell_type": "code",
      "execution_count": null,
      "metadata": {
        "colab": {
          "base_uri": "https://localhost:8080/"
        },
        "id": "7BSlYLe2sxlH",
        "outputId": "c27c69c5-930a-4ec9-e53f-ca9859959312"
      },
      "outputs": [
        {
          "data": {
            "text/plain": [
              "True"
            ]
          },
          "execution_count": 3,
          "metadata": {},
          "output_type": "execute_result"
        }
      ],
      "source": [
        "save_api.cached_save"
      ]
    },
    {
      "cell_type": "code",
      "execution_count": null,
      "metadata": {
        "colab": {
          "base_uri": "https://localhost:8080/"
        },
        "id": "ewl8tusUs6in",
        "outputId": "46e046e7-9e44-4645-d4ba-a18bcf74c927"
      },
      "outputs": [
        {
          "data": {
            "text/plain": [
              "datetime.datetime(2022, 6, 18, 6, 44, 46)"
            ]
          },
          "execution_count": 5,
          "metadata": {},
          "output_type": "execute_result"
        }
      ],
      "source": [
        "save_api.timestamp()"
      ]
    },
    {
      "cell_type": "code",
      "execution_count": null,
      "metadata": {
        "id": "RSIa8Vb07hbb"
      },
      "outputs": [],
      "source": [
        "import requests\n",
        "import json\n",
        "import re\n",
        "from fake_useragent import UserAgent\n",
        "from datetime import datetime"
      ]
    },
    {
      "cell_type": "code",
      "execution_count": null,
      "metadata": {
        "id": "KwhtgVik7v1C"
      },
      "outputs": [],
      "source": [
        "url = \"ngolikeyou.ru\"\n",
        "ua = UserAgent()\n",
        "headers = {\"user-agent\": ua.chrome}\n",
        "\n",
        "timestamp = datetime.now().timestamp()\n",
        "#wburl = \"https://archive.org/wayback/available?url=\" + url + \"&timestamp=\" + str(timestamp)"
      ]
    },
    {
      "cell_type": "code",
      "execution_count": null,
      "metadata": {
        "colab": {
          "base_uri": "https://localhost:8080/"
        },
        "id": "hnRaBgYd8Q3t",
        "outputId": "82fff85c-e45d-4597-d73b-38cbaddcbf9a"
      },
      "outputs": [
        {
          "data": {
            "text/plain": [
              "{'archived_snapshots': {},\n",
              " 'timestamp': '1655541196.058648',\n",
              " 'url': 'ngolikeyou.ru'}"
            ]
          },
          "execution_count": 28,
          "metadata": {},
          "output_type": "execute_result"
        }
      ],
      "source": [
        "data"
      ]
    },
    {
      "cell_type": "code",
      "execution_count": null,
      "metadata": {
        "colab": {
          "base_uri": "https://localhost:8080/",
          "height": 374
        },
        "id": "vup1tL458McV",
        "outputId": "dd2a2df4-8429-424f-e62d-06413049b061"
      },
      "outputs": [
        {
          "ename": "TypeError",
          "evalue": "ignored",
          "output_type": "error",
          "traceback": [
            "\u001b[0;31m---------------------------------------------------------------------------\u001b[0m",
            "\u001b[0;31mTypeError\u001b[0m                                 Traceback (most recent call last)",
            "\u001b[0;32m<ipython-input-19-ca33a0b6e976>\u001b[0m in \u001b[0;36m<module>\u001b[0;34m()\u001b[0m\n\u001b[0;32m----> 1\u001b[0;31m \u001b[0mgeturl\u001b[0m \u001b[0;34m=\u001b[0m \u001b[0mjson\u001b[0m\u001b[0;34m.\u001b[0m\u001b[0mloads\u001b[0m\u001b[0;34m(\u001b[0m\u001b[0mdata\u001b[0m\u001b[0;34m)\u001b[0m\u001b[0;34m\u001b[0m\u001b[0;34m\u001b[0m\u001b[0m\n\u001b[0m\u001b[1;32m      2\u001b[0m \u001b[0;34m\u001b[0m\u001b[0m\n\u001b[1;32m      3\u001b[0m \u001b[0;32mtry\u001b[0m\u001b[0;34m:\u001b[0m\u001b[0;34m\u001b[0m\u001b[0;34m\u001b[0m\u001b[0m\n\u001b[1;32m      4\u001b[0m     \u001b[0mwayback\u001b[0m \u001b[0;34m=\u001b[0m \u001b[0mgeturl\u001b[0m\u001b[0;34m[\u001b[0m\u001b[0;34m'archived_snapshots'\u001b[0m\u001b[0;34m]\u001b[0m\u001b[0;34m[\u001b[0m\u001b[0;34m'closest'\u001b[0m\u001b[0;34m]\u001b[0m\u001b[0;34m[\u001b[0m\u001b[0;34m'url'\u001b[0m\u001b[0;34m]\u001b[0m\u001b[0;34m\u001b[0m\u001b[0;34m\u001b[0m\u001b[0m\n\u001b[1;32m      5\u001b[0m \u001b[0;32mexcept\u001b[0m\u001b[0;34m:\u001b[0m\u001b[0;34m\u001b[0m\u001b[0;34m\u001b[0m\u001b[0m\n",
            "\u001b[0;32m/usr/lib/python3.7/json/__init__.py\u001b[0m in \u001b[0;36mloads\u001b[0;34m(s, encoding, cls, object_hook, parse_float, parse_int, parse_constant, object_pairs_hook, **kw)\u001b[0m\n\u001b[1;32m    339\u001b[0m     \u001b[0;32melse\u001b[0m\u001b[0;34m:\u001b[0m\u001b[0;34m\u001b[0m\u001b[0;34m\u001b[0m\u001b[0m\n\u001b[1;32m    340\u001b[0m         \u001b[0;32mif\u001b[0m \u001b[0;32mnot\u001b[0m \u001b[0misinstance\u001b[0m\u001b[0;34m(\u001b[0m\u001b[0ms\u001b[0m\u001b[0;34m,\u001b[0m \u001b[0;34m(\u001b[0m\u001b[0mbytes\u001b[0m\u001b[0;34m,\u001b[0m \u001b[0mbytearray\u001b[0m\u001b[0;34m)\u001b[0m\u001b[0;34m)\u001b[0m\u001b[0;34m:\u001b[0m\u001b[0;34m\u001b[0m\u001b[0;34m\u001b[0m\u001b[0m\n\u001b[0;32m--> 341\u001b[0;31m             raise TypeError(f'the JSON object must be str, bytes or bytearray, '\n\u001b[0m\u001b[1;32m    342\u001b[0m                             f'not {s.__class__.__name__}')\n\u001b[1;32m    343\u001b[0m         \u001b[0ms\u001b[0m \u001b[0;34m=\u001b[0m \u001b[0ms\u001b[0m\u001b[0;34m.\u001b[0m\u001b[0mdecode\u001b[0m\u001b[0;34m(\u001b[0m\u001b[0mdetect_encoding\u001b[0m\u001b[0;34m(\u001b[0m\u001b[0ms\u001b[0m\u001b[0;34m)\u001b[0m\u001b[0;34m,\u001b[0m \u001b[0;34m'surrogatepass'\u001b[0m\u001b[0;34m)\u001b[0m\u001b[0;34m\u001b[0m\u001b[0;34m\u001b[0m\u001b[0m\n",
            "\u001b[0;31mTypeError\u001b[0m: the JSON object must be str, bytes or bytearray, not dict"
          ]
        }
      ],
      "source": [
        "geturl = json.loads(data)\n",
        "\n",
        "try:\n",
        "    wayback = geturl['archived_snapshots']['closest']['url']\n",
        "except:\n",
        "    wayback = \"n/a\"\n",
        "    print(\"No snapshot URL returned\")"
      ]
    }
  ],
  "metadata": {
    "colab": {
      "collapsed_sections": [],
      "name": "web_archive_ngos.ipynb",
      "provenance": []
    },
    "kernelspec": {
      "display_name": "Python 3",
      "name": "python3"
    },
    "language_info": {
      "name": "python"
    }
  },
  "nbformat": 4,
  "nbformat_minor": 0
}